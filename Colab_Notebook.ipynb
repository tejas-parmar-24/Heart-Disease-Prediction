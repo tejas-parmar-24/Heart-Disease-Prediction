{
  "cells": [
    {
      "cell_type": "markdown",
      "source": [
        "# Importing Libraries"
      ],
      "metadata": {
        "id": "KFNVkdfij76K"
      }
    },
    {
      "cell_type": "code",
      "execution_count": null,
      "metadata": {
        "id": "Jj8y6P9Dx5YA"
      },
      "outputs": [],
      "source": [
        "import pandas as pd\n",
        "import numpy as np\n",
        "\n",
        "from sklearn.model_selection import train_test_split\n",
        "from sklearn.metrics import accuracy_score\n",
        "from sklearn.model_selection import cross_val_score\n",
        "from sklearn.naive_bayes import GaussianNB\n",
        "from sklearn.svm import SVC\n",
        "\n",
        "from sklearn.tree import DecisionTreeClassifier\n",
        "from sklearn.tree import plot_tree\n",
        "import matplotlib.pyplot as plt\n",
        "\n",
        "from sklearn.ensemble import RandomForestClassifier\n",
        "\n",
        "from xgboost import XGBClassifier\n",
        "from sklearn.neighbors import KNeighborsClassifier\n",
        "\n",
        "from sklearn.ensemble import AdaBoostClassifier\n",
        "\n",
        "from sklearn.model_selection import GridSearchCV\n",
        "from sklearn.model_selection import RandomizedSearchCV\n",
        "\n",
        "\n",
        "from sklearn.preprocessing import OneHotEncoder,OrdinalEncoder,StandardScaler\n",
        "from sklearn.compose import make_column_transformer\n",
        "from sklearn import set_config\n",
        "from sklearn.pipeline import make_pipeline\n",
        "from sklearn.metrics import roc_auc_score\n",
        "from sklearn.ensemble import VotingClassifier\n",
        "\n",
        "import plotly.express as px\n",
        "from matplotlib.gridspec import GridSpec\n",
        "import seaborn as sns"
      ]
    },
    {
      "cell_type": "markdown",
      "source": [
        "# Dataset"
      ],
      "metadata": {
        "id": "KeLz_AvgkDnq"
      }
    },
    {
      "cell_type": "code",
      "execution_count": null,
      "metadata": {
        "id": "oxRMrhFCx5YJ"
      },
      "outputs": [],
      "source": [
        "df=pd.read_csv(\"heart.csv\")"
      ]
    },
    {
      "cell_type": "code",
      "execution_count": null,
      "metadata": {
        "id": "mgvDr0eXx5YL"
      },
      "outputs": [],
      "source": [
        "data=df.copy()"
      ]
    },
    {
      "cell_type": "code",
      "execution_count": null,
      "metadata": {
        "id": "qG5vq-OAx5YN",
        "outputId": "036e1ede-2d28-48f3-b2c4-919a50504b6e"
      },
      "outputs": [
        {
          "name": "stdout",
          "output_type": "stream",
          "text": [
            "There are 918 observations and 12 columns in the dataset\n"
          ]
        }
      ],
      "source": [
        "print(\"There are\", df.shape[0], \"observations and\", df.shape[1], \"columns in the dataset\")\n"
      ]
    },
    {
      "cell_type": "code",
      "execution_count": null,
      "metadata": {
        "id": "pfyZ4oDHx5YP",
        "outputId": "f190a767-ae9b-44ba-8b8b-cdf0b4d59bda"
      },
      "outputs": [
        {
          "name": "stdout",
          "output_type": "stream",
          "text": [
            "<class 'pandas.core.frame.DataFrame'>\n",
            "RangeIndex: 918 entries, 0 to 917\n",
            "Data columns (total 12 columns):\n",
            " #   Column          Non-Null Count  Dtype  \n",
            "---  ------          --------------  -----  \n",
            " 0   Age             918 non-null    int64  \n",
            " 1   Sex             918 non-null    object \n",
            " 2   ChestPainType   918 non-null    object \n",
            " 3   RestingBP       918 non-null    int64  \n",
            " 4   Cholesterol     918 non-null    int64  \n",
            " 5   FastingBS       918 non-null    int64  \n",
            " 6   RestingECG      918 non-null    object \n",
            " 7   MaxHR           918 non-null    int64  \n",
            " 8   ExerciseAngina  918 non-null    object \n",
            " 9   Oldpeak         918 non-null    float64\n",
            " 10  ST_Slope        918 non-null    object \n",
            " 11  HeartDisease    918 non-null    int64  \n",
            "dtypes: float64(1), int64(6), object(5)\n",
            "memory usage: 86.2+ KB\n"
          ]
        }
      ],
      "source": [
        "df.info()"
      ]
    },
    {
      "cell_type": "markdown",
      "metadata": {
        "id": "ekeu8W60yMKx"
      },
      "source": [
        "Data Visualisation"
      ]
    },
    {
      "cell_type": "code",
      "execution_count": null,
      "metadata": {
        "id": "fdzQgvJIyLO7",
        "outputId": "2e864f41-d0e3-401e-f76f-128b89cc0050"
      },
      "outputs": [
        {
          "data": {
            "text/html": [
              "<style type=\"text/css\">\n",
              "#T_e32ea_row0_col0, #T_e32ea_row1_col0, #T_e32ea_row2_col0, #T_e32ea_row3_col0, #T_e32ea_row3_col1, #T_e32ea_row3_col2, #T_e32ea_row3_col4, #T_e32ea_row3_col5, #T_e32ea_row3_col6, #T_e32ea_row3_col7, #T_e32ea_row4_col0, #T_e32ea_row5_col0, #T_e32ea_row5_col1, #T_e32ea_row5_col3, #T_e32ea_row5_col4, #T_e32ea_row5_col5, #T_e32ea_row6_col0, #T_e32ea_row6_col1, #T_e32ea_row6_col2, #T_e32ea_row6_col4, #T_e32ea_row6_col6, #T_e32ea_row6_col7 {\n",
              "  background-color: #f7fbff;\n",
              "  color: #000000;\n",
              "}\n",
              "#T_e32ea_row0_col1 {\n",
              "  background-color: #c1d9ed;\n",
              "  color: #000000;\n",
              "}\n",
              "#T_e32ea_row0_col2 {\n",
              "  background-color: #e7f0fa;\n",
              "  color: #000000;\n",
              "}\n",
              "#T_e32ea_row0_col3 {\n",
              "  background-color: #6fb0d7;\n",
              "  color: #f1f1f1;\n",
              "}\n",
              "#T_e32ea_row0_col4 {\n",
              "  background-color: #bfd8ed;\n",
              "  color: #000000;\n",
              "}\n",
              "#T_e32ea_row0_col5 {\n",
              "  background-color: #c8dcf0;\n",
              "  color: #000000;\n",
              "}\n",
              "#T_e32ea_row0_col6 {\n",
              "  background-color: #cbdef1;\n",
              "  color: #000000;\n",
              "}\n",
              "#T_e32ea_row0_col7 {\n",
              "  background-color: #deebf7;\n",
              "  color: #000000;\n",
              "}\n",
              "#T_e32ea_row1_col1 {\n",
              "  background-color: #3787c0;\n",
              "  color: #f1f1f1;\n",
              "}\n",
              "#T_e32ea_row1_col2 {\n",
              "  background-color: #d6e6f4;\n",
              "  color: #000000;\n",
              "}\n",
              "#T_e32ea_row1_col3, #T_e32ea_row2_col3, #T_e32ea_row3_col3, #T_e32ea_row6_col3 {\n",
              "  background-color: #eff6fc;\n",
              "  color: #000000;\n",
              "}\n",
              "#T_e32ea_row1_col4, #T_e32ea_row4_col4 {\n",
              "  background-color: #3080bd;\n",
              "  color: #f1f1f1;\n",
              "}\n",
              "#T_e32ea_row1_col5, #T_e32ea_row4_col6 {\n",
              "  background-color: #4f9bcb;\n",
              "  color: #f1f1f1;\n",
              "}\n",
              "#T_e32ea_row1_col6 {\n",
              "  background-color: #63a8d3;\n",
              "  color: #f1f1f1;\n",
              "}\n",
              "#T_e32ea_row1_col7 {\n",
              "  background-color: #add0e6;\n",
              "  color: #000000;\n",
              "}\n",
              "#T_e32ea_row2_col1, #T_e32ea_row2_col2, #T_e32ea_row2_col4, #T_e32ea_row2_col5, #T_e32ea_row2_col6, #T_e32ea_row2_col7, #T_e32ea_row4_col3 {\n",
              "  background-color: #08306b;\n",
              "  color: #f1f1f1;\n",
              "}\n",
              "#T_e32ea_row4_col1 {\n",
              "  background-color: #3181bd;\n",
              "  color: #f1f1f1;\n",
              "}\n",
              "#T_e32ea_row4_col2 {\n",
              "  background-color: #cadef0;\n",
              "  color: #000000;\n",
              "}\n",
              "#T_e32ea_row4_col5 {\n",
              "  background-color: #4493c7;\n",
              "  color: #f1f1f1;\n",
              "}\n",
              "#T_e32ea_row4_col7 {\n",
              "  background-color: #abd0e6;\n",
              "  color: #000000;\n",
              "}\n",
              "#T_e32ea_row5_col2, #T_e32ea_row5_col6, #T_e32ea_row6_col5 {\n",
              "  background-color: #f6faff;\n",
              "  color: #000000;\n",
              "}\n",
              "#T_e32ea_row5_col7 {\n",
              "  background-color: #f5fafe;\n",
              "  color: #000000;\n",
              "}\n",
              "</style>\n",
              "<table id=\"T_e32ea_\">\n",
              "  <thead>\n",
              "    <tr>\n",
              "      <th class=\"blank level0\" >&nbsp;</th>\n",
              "      <th class=\"col_heading level0 col0\" >count</th>\n",
              "      <th class=\"col_heading level0 col1\" >mean</th>\n",
              "      <th class=\"col_heading level0 col2\" >std</th>\n",
              "      <th class=\"col_heading level0 col3\" >min</th>\n",
              "      <th class=\"col_heading level0 col4\" >25%</th>\n",
              "      <th class=\"col_heading level0 col5\" >50%</th>\n",
              "      <th class=\"col_heading level0 col6\" >75%</th>\n",
              "      <th class=\"col_heading level0 col7\" >max</th>\n",
              "    </tr>\n",
              "  </thead>\n",
              "  <tbody>\n",
              "    <tr>\n",
              "      <th id=\"T_e32ea_level0_row0\" class=\"row_heading level0 row0\" >Age</th>\n",
              "      <td id=\"T_e32ea_row0_col0\" class=\"data row0 col0\" >918.000000</td>\n",
              "      <td id=\"T_e32ea_row0_col1\" class=\"data row0 col1\" >53.510893</td>\n",
              "      <td id=\"T_e32ea_row0_col2\" class=\"data row0 col2\" >9.432617</td>\n",
              "      <td id=\"T_e32ea_row0_col3\" class=\"data row0 col3\" >28.000000</td>\n",
              "      <td id=\"T_e32ea_row0_col4\" class=\"data row0 col4\" >47.000000</td>\n",
              "      <td id=\"T_e32ea_row0_col5\" class=\"data row0 col5\" >54.000000</td>\n",
              "      <td id=\"T_e32ea_row0_col6\" class=\"data row0 col6\" >60.000000</td>\n",
              "      <td id=\"T_e32ea_row0_col7\" class=\"data row0 col7\" >77.000000</td>\n",
              "    </tr>\n",
              "    <tr>\n",
              "      <th id=\"T_e32ea_level0_row1\" class=\"row_heading level0 row1\" >RestingBP</th>\n",
              "      <td id=\"T_e32ea_row1_col0\" class=\"data row1 col0\" >918.000000</td>\n",
              "      <td id=\"T_e32ea_row1_col1\" class=\"data row1 col1\" >132.396514</td>\n",
              "      <td id=\"T_e32ea_row1_col2\" class=\"data row1 col2\" >18.514154</td>\n",
              "      <td id=\"T_e32ea_row1_col3\" class=\"data row1 col3\" >0.000000</td>\n",
              "      <td id=\"T_e32ea_row1_col4\" class=\"data row1 col4\" >120.000000</td>\n",
              "      <td id=\"T_e32ea_row1_col5\" class=\"data row1 col5\" >130.000000</td>\n",
              "      <td id=\"T_e32ea_row1_col6\" class=\"data row1 col6\" >140.000000</td>\n",
              "      <td id=\"T_e32ea_row1_col7\" class=\"data row1 col7\" >200.000000</td>\n",
              "    </tr>\n",
              "    <tr>\n",
              "      <th id=\"T_e32ea_level0_row2\" class=\"row_heading level0 row2\" >Cholesterol</th>\n",
              "      <td id=\"T_e32ea_row2_col0\" class=\"data row2 col0\" >918.000000</td>\n",
              "      <td id=\"T_e32ea_row2_col1\" class=\"data row2 col1\" >198.799564</td>\n",
              "      <td id=\"T_e32ea_row2_col2\" class=\"data row2 col2\" >109.384145</td>\n",
              "      <td id=\"T_e32ea_row2_col3\" class=\"data row2 col3\" >0.000000</td>\n",
              "      <td id=\"T_e32ea_row2_col4\" class=\"data row2 col4\" >173.250000</td>\n",
              "      <td id=\"T_e32ea_row2_col5\" class=\"data row2 col5\" >223.000000</td>\n",
              "      <td id=\"T_e32ea_row2_col6\" class=\"data row2 col6\" >267.000000</td>\n",
              "      <td id=\"T_e32ea_row2_col7\" class=\"data row2 col7\" >603.000000</td>\n",
              "    </tr>\n",
              "    <tr>\n",
              "      <th id=\"T_e32ea_level0_row3\" class=\"row_heading level0 row3\" >FastingBS</th>\n",
              "      <td id=\"T_e32ea_row3_col0\" class=\"data row3 col0\" >918.000000</td>\n",
              "      <td id=\"T_e32ea_row3_col1\" class=\"data row3 col1\" >0.233115</td>\n",
              "      <td id=\"T_e32ea_row3_col2\" class=\"data row3 col2\" >0.423046</td>\n",
              "      <td id=\"T_e32ea_row3_col3\" class=\"data row3 col3\" >0.000000</td>\n",
              "      <td id=\"T_e32ea_row3_col4\" class=\"data row3 col4\" >0.000000</td>\n",
              "      <td id=\"T_e32ea_row3_col5\" class=\"data row3 col5\" >0.000000</td>\n",
              "      <td id=\"T_e32ea_row3_col6\" class=\"data row3 col6\" >0.000000</td>\n",
              "      <td id=\"T_e32ea_row3_col7\" class=\"data row3 col7\" >1.000000</td>\n",
              "    </tr>\n",
              "    <tr>\n",
              "      <th id=\"T_e32ea_level0_row4\" class=\"row_heading level0 row4\" >MaxHR</th>\n",
              "      <td id=\"T_e32ea_row4_col0\" class=\"data row4 col0\" >918.000000</td>\n",
              "      <td id=\"T_e32ea_row4_col1\" class=\"data row4 col1\" >136.809368</td>\n",
              "      <td id=\"T_e32ea_row4_col2\" class=\"data row4 col2\" >25.460334</td>\n",
              "      <td id=\"T_e32ea_row4_col3\" class=\"data row4 col3\" >60.000000</td>\n",
              "      <td id=\"T_e32ea_row4_col4\" class=\"data row4 col4\" >120.000000</td>\n",
              "      <td id=\"T_e32ea_row4_col5\" class=\"data row4 col5\" >138.000000</td>\n",
              "      <td id=\"T_e32ea_row4_col6\" class=\"data row4 col6\" >156.000000</td>\n",
              "      <td id=\"T_e32ea_row4_col7\" class=\"data row4 col7\" >202.000000</td>\n",
              "    </tr>\n",
              "    <tr>\n",
              "      <th id=\"T_e32ea_level0_row5\" class=\"row_heading level0 row5\" >Oldpeak</th>\n",
              "      <td id=\"T_e32ea_row5_col0\" class=\"data row5 col0\" >918.000000</td>\n",
              "      <td id=\"T_e32ea_row5_col1\" class=\"data row5 col1\" >0.887364</td>\n",
              "      <td id=\"T_e32ea_row5_col2\" class=\"data row5 col2\" >1.066570</td>\n",
              "      <td id=\"T_e32ea_row5_col3\" class=\"data row5 col3\" >-2.600000</td>\n",
              "      <td id=\"T_e32ea_row5_col4\" class=\"data row5 col4\" >0.000000</td>\n",
              "      <td id=\"T_e32ea_row5_col5\" class=\"data row5 col5\" >0.600000</td>\n",
              "      <td id=\"T_e32ea_row5_col6\" class=\"data row5 col6\" >1.500000</td>\n",
              "      <td id=\"T_e32ea_row5_col7\" class=\"data row5 col7\" >6.200000</td>\n",
              "    </tr>\n",
              "    <tr>\n",
              "      <th id=\"T_e32ea_level0_row6\" class=\"row_heading level0 row6\" >HeartDisease</th>\n",
              "      <td id=\"T_e32ea_row6_col0\" class=\"data row6 col0\" >918.000000</td>\n",
              "      <td id=\"T_e32ea_row6_col1\" class=\"data row6 col1\" >0.553377</td>\n",
              "      <td id=\"T_e32ea_row6_col2\" class=\"data row6 col2\" >0.497414</td>\n",
              "      <td id=\"T_e32ea_row6_col3\" class=\"data row6 col3\" >0.000000</td>\n",
              "      <td id=\"T_e32ea_row6_col4\" class=\"data row6 col4\" >0.000000</td>\n",
              "      <td id=\"T_e32ea_row6_col5\" class=\"data row6 col5\" >1.000000</td>\n",
              "      <td id=\"T_e32ea_row6_col6\" class=\"data row6 col6\" >1.000000</td>\n",
              "      <td id=\"T_e32ea_row6_col7\" class=\"data row6 col7\" >1.000000</td>\n",
              "    </tr>\n",
              "  </tbody>\n",
              "</table>\n"
            ],
            "text/plain": [
              "<pandas.io.formats.style.Styler at 0x2395de5e1c0>"
            ]
          },
          "execution_count": 6,
          "metadata": {},
          "output_type": "execute_result"
        }
      ],
      "source": [
        "df.describe().T.style.background_gradient(cmap = \"Blues\")"
      ]
    },
    {
      "cell_type": "code",
      "execution_count": null,
      "metadata": {
        "id": "tws4AriPyTXT",
        "outputId": "bfe5eeb6-aae4-4827-b1a1-09c90e25bb72"
      },
      "outputs": [
        {
          "data": {
            "text/html": [
              "<div>\n",
              "<style scoped>\n",
              "    .dataframe tbody tr th:only-of-type {\n",
              "        vertical-align: middle;\n",
              "    }\n",
              "\n",
              "    .dataframe tbody tr th {\n",
              "        vertical-align: top;\n",
              "    }\n",
              "\n",
              "    .dataframe thead th {\n",
              "        text-align: right;\n",
              "    }\n",
              "</style>\n",
              "<table border=\"1\" class=\"dataframe\">\n",
              "  <thead>\n",
              "    <tr style=\"text-align: right;\">\n",
              "      <th></th>\n",
              "      <th>count</th>\n",
              "      <th>unique</th>\n",
              "      <th>top</th>\n",
              "      <th>freq</th>\n",
              "    </tr>\n",
              "  </thead>\n",
              "  <tbody>\n",
              "    <tr>\n",
              "      <th>Sex</th>\n",
              "      <td>918</td>\n",
              "      <td>2</td>\n",
              "      <td>M</td>\n",
              "      <td>725</td>\n",
              "    </tr>\n",
              "    <tr>\n",
              "      <th>ChestPainType</th>\n",
              "      <td>918</td>\n",
              "      <td>4</td>\n",
              "      <td>ASY</td>\n",
              "      <td>496</td>\n",
              "    </tr>\n",
              "    <tr>\n",
              "      <th>RestingECG</th>\n",
              "      <td>918</td>\n",
              "      <td>3</td>\n",
              "      <td>Normal</td>\n",
              "      <td>552</td>\n",
              "    </tr>\n",
              "    <tr>\n",
              "      <th>ExerciseAngina</th>\n",
              "      <td>918</td>\n",
              "      <td>2</td>\n",
              "      <td>N</td>\n",
              "      <td>547</td>\n",
              "    </tr>\n",
              "    <tr>\n",
              "      <th>ST_Slope</th>\n",
              "      <td>918</td>\n",
              "      <td>3</td>\n",
              "      <td>Flat</td>\n",
              "      <td>460</td>\n",
              "    </tr>\n",
              "  </tbody>\n",
              "</table>\n",
              "</div>"
            ],
            "text/plain": [
              "               count unique     top freq\n",
              "Sex              918      2       M  725\n",
              "ChestPainType    918      4     ASY  496\n",
              "RestingECG       918      3  Normal  552\n",
              "ExerciseAngina   918      2       N  547\n",
              "ST_Slope         918      3    Flat  460"
            ]
          },
          "execution_count": 7,
          "metadata": {},
          "output_type": "execute_result"
        }
      ],
      "source": [
        "df.describe(include = ['object']).T"
      ]
    },
    {
      "cell_type": "code",
      "execution_count": null,
      "metadata": {
        "id": "XDTP1GZbyeSc",
        "outputId": "f7426419-bedf-420e-dd75-d861a6837dd4"
      },
      "outputs": [
        {
          "data": {
            "application/vnd.plotly.v1+json": {
              "config": {
                "plotlyServerURL": "https://plot.ly"
              },
              "data": [
                {
                  "coloraxis": "coloraxis",
                  "hovertemplate": "x: %{x}<br>y: %{y}<br>color: %{z}<extra></extra>",
                  "name": "0",
                  "type": "heatmap",
                  "x": [
                    "Age",
                    "RestingBP",
                    "Cholesterol",
                    "FastingBS",
                    "MaxHR",
                    "Oldpeak",
                    "HeartDisease"
                  ],
                  "xaxis": "x",
                  "y": [
                    "Age",
                    "RestingBP",
                    "Cholesterol",
                    "FastingBS",
                    "MaxHR",
                    "Oldpeak",
                    "HeartDisease"
                  ],
                  "yaxis": "y",
                  "z": [
                    [
                      1,
                      0.2543993561515428,
                      -0.09528177118121824,
                      0.19803906586674333,
                      -0.3820446750319701,
                      0.25861153601875636,
                      0.2820385058189964
                    ],
                    [
                      0.2543993561515428,
                      1,
                      0.10089294207709164,
                      0.07019333570992349,
                      -0.11213499711298038,
                      0.16480304317138791,
                      0.10758898037140385
                    ],
                    [
                      -0.09528177118121824,
                      0.10089294207709164,
                      1,
                      -0.2609743277657631,
                      0.23579240300238535,
                      0.050148109140803906,
                      -0.2327406389270114
                    ],
                    [
                      0.19803906586674333,
                      0.07019333570992349,
                      -0.2609743277657631,
                      1,
                      -0.1314384913934405,
                      0.05269786028732148,
                      0.26729118611029784
                    ],
                    [
                      -0.3820446750319701,
                      -0.11213499711298038,
                      0.23579240300238535,
                      -0.1314384913934405,
                      1,
                      -0.1606905500499244,
                      -0.4004207694631906
                    ],
                    [
                      0.25861153601875636,
                      0.16480304317138791,
                      0.050148109140803906,
                      0.05269786028732148,
                      -0.1606905500499244,
                      1,
                      0.40395072206288607
                    ],
                    [
                      0.2820385058189964,
                      0.10758898037140385,
                      -0.2327406389270114,
                      0.26729118611029784,
                      -0.4004207694631906,
                      0.40395072206288607,
                      1
                    ]
                  ]
                }
              ],
              "layout": {
                "coloraxis": {
                  "colorscale": [
                    [
                      0,
                      "#0d0887"
                    ],
                    [
                      0.1111111111111111,
                      "#46039f"
                    ],
                    [
                      0.2222222222222222,
                      "#7201a8"
                    ],
                    [
                      0.3333333333333333,
                      "#9c179e"
                    ],
                    [
                      0.4444444444444444,
                      "#bd3786"
                    ],
                    [
                      0.5555555555555556,
                      "#d8576b"
                    ],
                    [
                      0.6666666666666666,
                      "#ed7953"
                    ],
                    [
                      0.7777777777777778,
                      "#fb9f3a"
                    ],
                    [
                      0.8888888888888888,
                      "#fdca26"
                    ],
                    [
                      1,
                      "#f0f921"
                    ]
                  ]
                },
                "height": 500,
                "template": {
                  "data": {
                    "bar": [
                      {
                        "error_x": {
                          "color": "#2a3f5f"
                        },
                        "error_y": {
                          "color": "#2a3f5f"
                        },
                        "marker": {
                          "line": {
                            "color": "#E5ECF6",
                            "width": 0.5
                          },
                          "pattern": {
                            "fillmode": "overlay",
                            "size": 10,
                            "solidity": 0.2
                          }
                        },
                        "type": "bar"
                      }
                    ],
                    "barpolar": [
                      {
                        "marker": {
                          "line": {
                            "color": "#E5ECF6",
                            "width": 0.5
                          },
                          "pattern": {
                            "fillmode": "overlay",
                            "size": 10,
                            "solidity": 0.2
                          }
                        },
                        "type": "barpolar"
                      }
                    ],
                    "carpet": [
                      {
                        "aaxis": {
                          "endlinecolor": "#2a3f5f",
                          "gridcolor": "white",
                          "linecolor": "white",
                          "minorgridcolor": "white",
                          "startlinecolor": "#2a3f5f"
                        },
                        "baxis": {
                          "endlinecolor": "#2a3f5f",
                          "gridcolor": "white",
                          "linecolor": "white",
                          "minorgridcolor": "white",
                          "startlinecolor": "#2a3f5f"
                        },
                        "type": "carpet"
                      }
                    ],
                    "choropleth": [
                      {
                        "colorbar": {
                          "outlinewidth": 0,
                          "ticks": ""
                        },
                        "type": "choropleth"
                      }
                    ],
                    "contour": [
                      {
                        "colorbar": {
                          "outlinewidth": 0,
                          "ticks": ""
                        },
                        "colorscale": [
                          [
                            0,
                            "#0d0887"
                          ],
                          [
                            0.1111111111111111,
                            "#46039f"
                          ],
                          [
                            0.2222222222222222,
                            "#7201a8"
                          ],
                          [
                            0.3333333333333333,
                            "#9c179e"
                          ],
                          [
                            0.4444444444444444,
                            "#bd3786"
                          ],
                          [
                            0.5555555555555556,
                            "#d8576b"
                          ],
                          [
                            0.6666666666666666,
                            "#ed7953"
                          ],
                          [
                            0.7777777777777778,
                            "#fb9f3a"
                          ],
                          [
                            0.8888888888888888,
                            "#fdca26"
                          ],
                          [
                            1,
                            "#f0f921"
                          ]
                        ],
                        "type": "contour"
                      }
                    ],
                    "contourcarpet": [
                      {
                        "colorbar": {
                          "outlinewidth": 0,
                          "ticks": ""
                        },
                        "type": "contourcarpet"
                      }
                    ],
                    "heatmap": [
                      {
                        "colorbar": {
                          "outlinewidth": 0,
                          "ticks": ""
                        },
                        "colorscale": [
                          [
                            0,
                            "#0d0887"
                          ],
                          [
                            0.1111111111111111,
                            "#46039f"
                          ],
                          [
                            0.2222222222222222,
                            "#7201a8"
                          ],
                          [
                            0.3333333333333333,
                            "#9c179e"
                          ],
                          [
                            0.4444444444444444,
                            "#bd3786"
                          ],
                          [
                            0.5555555555555556,
                            "#d8576b"
                          ],
                          [
                            0.6666666666666666,
                            "#ed7953"
                          ],
                          [
                            0.7777777777777778,
                            "#fb9f3a"
                          ],
                          [
                            0.8888888888888888,
                            "#fdca26"
                          ],
                          [
                            1,
                            "#f0f921"
                          ]
                        ],
                        "type": "heatmap"
                      }
                    ],
                    "heatmapgl": [
                      {
                        "colorbar": {
                          "outlinewidth": 0,
                          "ticks": ""
                        },
                        "colorscale": [
                          [
                            0,
                            "#0d0887"
                          ],
                          [
                            0.1111111111111111,
                            "#46039f"
                          ],
                          [
                            0.2222222222222222,
                            "#7201a8"
                          ],
                          [
                            0.3333333333333333,
                            "#9c179e"
                          ],
                          [
                            0.4444444444444444,
                            "#bd3786"
                          ],
                          [
                            0.5555555555555556,
                            "#d8576b"
                          ],
                          [
                            0.6666666666666666,
                            "#ed7953"
                          ],
                          [
                            0.7777777777777778,
                            "#fb9f3a"
                          ],
                          [
                            0.8888888888888888,
                            "#fdca26"
                          ],
                          [
                            1,
                            "#f0f921"
                          ]
                        ],
                        "type": "heatmapgl"
                      }
                    ],
                    "histogram": [
                      {
                        "marker": {
                          "pattern": {
                            "fillmode": "overlay",
                            "size": 10,
                            "solidity": 0.2
                          }
                        },
                        "type": "histogram"
                      }
                    ],
                    "histogram2d": [
                      {
                        "colorbar": {
                          "outlinewidth": 0,
                          "ticks": ""
                        },
                        "colorscale": [
                          [
                            0,
                            "#0d0887"
                          ],
                          [
                            0.1111111111111111,
                            "#46039f"
                          ],
                          [
                            0.2222222222222222,
                            "#7201a8"
                          ],
                          [
                            0.3333333333333333,
                            "#9c179e"
                          ],
                          [
                            0.4444444444444444,
                            "#bd3786"
                          ],
                          [
                            0.5555555555555556,
                            "#d8576b"
                          ],
                          [
                            0.6666666666666666,
                            "#ed7953"
                          ],
                          [
                            0.7777777777777778,
                            "#fb9f3a"
                          ],
                          [
                            0.8888888888888888,
                            "#fdca26"
                          ],
                          [
                            1,
                            "#f0f921"
                          ]
                        ],
                        "type": "histogram2d"
                      }
                    ],
                    "histogram2dcontour": [
                      {
                        "colorbar": {
                          "outlinewidth": 0,
                          "ticks": ""
                        },
                        "colorscale": [
                          [
                            0,
                            "#0d0887"
                          ],
                          [
                            0.1111111111111111,
                            "#46039f"
                          ],
                          [
                            0.2222222222222222,
                            "#7201a8"
                          ],
                          [
                            0.3333333333333333,
                            "#9c179e"
                          ],
                          [
                            0.4444444444444444,
                            "#bd3786"
                          ],
                          [
                            0.5555555555555556,
                            "#d8576b"
                          ],
                          [
                            0.6666666666666666,
                            "#ed7953"
                          ],
                          [
                            0.7777777777777778,
                            "#fb9f3a"
                          ],
                          [
                            0.8888888888888888,
                            "#fdca26"
                          ],
                          [
                            1,
                            "#f0f921"
                          ]
                        ],
                        "type": "histogram2dcontour"
                      }
                    ],
                    "mesh3d": [
                      {
                        "colorbar": {
                          "outlinewidth": 0,
                          "ticks": ""
                        },
                        "type": "mesh3d"
                      }
                    ],
                    "parcoords": [
                      {
                        "line": {
                          "colorbar": {
                            "outlinewidth": 0,
                            "ticks": ""
                          }
                        },
                        "type": "parcoords"
                      }
                    ],
                    "pie": [
                      {
                        "automargin": true,
                        "type": "pie"
                      }
                    ],
                    "scatter": [
                      {
                        "fillpattern": {
                          "fillmode": "overlay",
                          "size": 10,
                          "solidity": 0.2
                        },
                        "type": "scatter"
                      }
                    ],
                    "scatter3d": [
                      {
                        "line": {
                          "colorbar": {
                            "outlinewidth": 0,
                            "ticks": ""
                          }
                        },
                        "marker": {
                          "colorbar": {
                            "outlinewidth": 0,
                            "ticks": ""
                          }
                        },
                        "type": "scatter3d"
                      }
                    ],
                    "scattercarpet": [
                      {
                        "marker": {
                          "colorbar": {
                            "outlinewidth": 0,
                            "ticks": ""
                          }
                        },
                        "type": "scattercarpet"
                      }
                    ],
                    "scattergeo": [
                      {
                        "marker": {
                          "colorbar": {
                            "outlinewidth": 0,
                            "ticks": ""
                          }
                        },
                        "type": "scattergeo"
                      }
                    ],
                    "scattergl": [
                      {
                        "marker": {
                          "colorbar": {
                            "outlinewidth": 0,
                            "ticks": ""
                          }
                        },
                        "type": "scattergl"
                      }
                    ],
                    "scattermapbox": [
                      {
                        "marker": {
                          "colorbar": {
                            "outlinewidth": 0,
                            "ticks": ""
                          }
                        },
                        "type": "scattermapbox"
                      }
                    ],
                    "scatterpolar": [
                      {
                        "marker": {
                          "colorbar": {
                            "outlinewidth": 0,
                            "ticks": ""
                          }
                        },
                        "type": "scatterpolar"
                      }
                    ],
                    "scatterpolargl": [
                      {
                        "marker": {
                          "colorbar": {
                            "outlinewidth": 0,
                            "ticks": ""
                          }
                        },
                        "type": "scatterpolargl"
                      }
                    ],
                    "scatterternary": [
                      {
                        "marker": {
                          "colorbar": {
                            "outlinewidth": 0,
                            "ticks": ""
                          }
                        },
                        "type": "scatterternary"
                      }
                    ],
                    "surface": [
                      {
                        "colorbar": {
                          "outlinewidth": 0,
                          "ticks": ""
                        },
                        "colorscale": [
                          [
                            0,
                            "#0d0887"
                          ],
                          [
                            0.1111111111111111,
                            "#46039f"
                          ],
                          [
                            0.2222222222222222,
                            "#7201a8"
                          ],
                          [
                            0.3333333333333333,
                            "#9c179e"
                          ],
                          [
                            0.4444444444444444,
                            "#bd3786"
                          ],
                          [
                            0.5555555555555556,
                            "#d8576b"
                          ],
                          [
                            0.6666666666666666,
                            "#ed7953"
                          ],
                          [
                            0.7777777777777778,
                            "#fb9f3a"
                          ],
                          [
                            0.8888888888888888,
                            "#fdca26"
                          ],
                          [
                            1,
                            "#f0f921"
                          ]
                        ],
                        "type": "surface"
                      }
                    ],
                    "table": [
                      {
                        "cells": {
                          "fill": {
                            "color": "#EBF0F8"
                          },
                          "line": {
                            "color": "white"
                          }
                        },
                        "header": {
                          "fill": {
                            "color": "#C8D4E3"
                          },
                          "line": {
                            "color": "white"
                          }
                        },
                        "type": "table"
                      }
                    ]
                  },
                  "layout": {
                    "annotationdefaults": {
                      "arrowcolor": "#2a3f5f",
                      "arrowhead": 0,
                      "arrowwidth": 1
                    },
                    "autotypenumbers": "strict",
                    "coloraxis": {
                      "colorbar": {
                        "outlinewidth": 0,
                        "ticks": ""
                      }
                    },
                    "colorscale": {
                      "diverging": [
                        [
                          0,
                          "#8e0152"
                        ],
                        [
                          0.1,
                          "#c51b7d"
                        ],
                        [
                          0.2,
                          "#de77ae"
                        ],
                        [
                          0.3,
                          "#f1b6da"
                        ],
                        [
                          0.4,
                          "#fde0ef"
                        ],
                        [
                          0.5,
                          "#f7f7f7"
                        ],
                        [
                          0.6,
                          "#e6f5d0"
                        ],
                        [
                          0.7,
                          "#b8e186"
                        ],
                        [
                          0.8,
                          "#7fbc41"
                        ],
                        [
                          0.9,
                          "#4d9221"
                        ],
                        [
                          1,
                          "#276419"
                        ]
                      ],
                      "sequential": [
                        [
                          0,
                          "#0d0887"
                        ],
                        [
                          0.1111111111111111,
                          "#46039f"
                        ],
                        [
                          0.2222222222222222,
                          "#7201a8"
                        ],
                        [
                          0.3333333333333333,
                          "#9c179e"
                        ],
                        [
                          0.4444444444444444,
                          "#bd3786"
                        ],
                        [
                          0.5555555555555556,
                          "#d8576b"
                        ],
                        [
                          0.6666666666666666,
                          "#ed7953"
                        ],
                        [
                          0.7777777777777778,
                          "#fb9f3a"
                        ],
                        [
                          0.8888888888888888,
                          "#fdca26"
                        ],
                        [
                          1,
                          "#f0f921"
                        ]
                      ],
                      "sequentialminus": [
                        [
                          0,
                          "#0d0887"
                        ],
                        [
                          0.1111111111111111,
                          "#46039f"
                        ],
                        [
                          0.2222222222222222,
                          "#7201a8"
                        ],
                        [
                          0.3333333333333333,
                          "#9c179e"
                        ],
                        [
                          0.4444444444444444,
                          "#bd3786"
                        ],
                        [
                          0.5555555555555556,
                          "#d8576b"
                        ],
                        [
                          0.6666666666666666,
                          "#ed7953"
                        ],
                        [
                          0.7777777777777778,
                          "#fb9f3a"
                        ],
                        [
                          0.8888888888888888,
                          "#fdca26"
                        ],
                        [
                          1,
                          "#f0f921"
                        ]
                      ]
                    },
                    "colorway": [
                      "#636efa",
                      "#EF553B",
                      "#00cc96",
                      "#ab63fa",
                      "#FFA15A",
                      "#19d3f3",
                      "#FF6692",
                      "#B6E880",
                      "#FF97FF",
                      "#FECB52"
                    ],
                    "font": {
                      "color": "#2a3f5f"
                    },
                    "geo": {
                      "bgcolor": "white",
                      "lakecolor": "white",
                      "landcolor": "#E5ECF6",
                      "showlakes": true,
                      "showland": true,
                      "subunitcolor": "white"
                    },
                    "hoverlabel": {
                      "align": "left"
                    },
                    "hovermode": "closest",
                    "mapbox": {
                      "style": "light"
                    },
                    "paper_bgcolor": "white",
                    "plot_bgcolor": "#E5ECF6",
                    "polar": {
                      "angularaxis": {
                        "gridcolor": "white",
                        "linecolor": "white",
                        "ticks": ""
                      },
                      "bgcolor": "#E5ECF6",
                      "radialaxis": {
                        "gridcolor": "white",
                        "linecolor": "white",
                        "ticks": ""
                      }
                    },
                    "scene": {
                      "xaxis": {
                        "backgroundcolor": "#E5ECF6",
                        "gridcolor": "white",
                        "gridwidth": 2,
                        "linecolor": "white",
                        "showbackground": true,
                        "ticks": "",
                        "zerolinecolor": "white"
                      },
                      "yaxis": {
                        "backgroundcolor": "#E5ECF6",
                        "gridcolor": "white",
                        "gridwidth": 2,
                        "linecolor": "white",
                        "showbackground": true,
                        "ticks": "",
                        "zerolinecolor": "white"
                      },
                      "zaxis": {
                        "backgroundcolor": "#E5ECF6",
                        "gridcolor": "white",
                        "gridwidth": 2,
                        "linecolor": "white",
                        "showbackground": true,
                        "ticks": "",
                        "zerolinecolor": "white"
                      }
                    },
                    "shapedefaults": {
                      "line": {
                        "color": "#2a3f5f"
                      }
                    },
                    "ternary": {
                      "aaxis": {
                        "gridcolor": "white",
                        "linecolor": "white",
                        "ticks": ""
                      },
                      "baxis": {
                        "gridcolor": "white",
                        "linecolor": "white",
                        "ticks": ""
                      },
                      "bgcolor": "#E5ECF6",
                      "caxis": {
                        "gridcolor": "white",
                        "linecolor": "white",
                        "ticks": ""
                      }
                    },
                    "title": {
                      "x": 0.05
                    },
                    "xaxis": {
                      "automargin": true,
                      "gridcolor": "white",
                      "linecolor": "white",
                      "ticks": "",
                      "title": {
                        "standoff": 15
                      },
                      "zerolinecolor": "white",
                      "zerolinewidth": 2
                    },
                    "yaxis": {
                      "automargin": true,
                      "gridcolor": "white",
                      "linecolor": "white",
                      "ticks": "",
                      "title": {
                        "standoff": 15
                      },
                      "zerolinecolor": "white",
                      "zerolinewidth": 2
                    }
                  }
                },
                "title": {
                  "text": "Correlation Plot of the Heart Failure Prediction"
                },
                "width": 500,
                "xaxis": {
                  "anchor": "y",
                  "constrain": "domain",
                  "domain": [
                    0,
                    1
                  ],
                  "scaleanchor": "y"
                },
                "yaxis": {
                  "anchor": "x",
                  "autorange": "reversed",
                  "constrain": "domain",
                  "domain": [
                    0,
                    1
                  ]
                }
              }
            }
          },
          "metadata": {},
          "output_type": "display_data"
        }
      ],
      "source": [
        "px.imshow(df.corr(),title=\"Correlation Plot of the Heart Failure Prediction\",width=500, height=500)"
      ]
    },
    {
      "cell_type": "code",
      "execution_count": null,
      "metadata": {
        "id": "tlvJRE9Pyq0C",
        "outputId": "2e3fec72-74a6-4451-b8d8-8f71d96896b3"
      },
      "outputs": [
        {
          "data": {
            "application/vnd.plotly.v1+json": {
              "config": {
                "plotlyServerURL": "https://plot.ly"
              },
              "data": [
                {
                  "alignmentgroup": "True",
                  "bingroup": "x",
                  "hovertemplate": "Sex=%{x}<br>count=%{y}<extra></extra>",
                  "legendgroup": "",
                  "marker": {
                    "color": "#636efa",
                    "pattern": {
                      "shape": ""
                    }
                  },
                  "name": "",
                  "offsetgroup": "",
                  "orientation": "v",
                  "showlegend": false,
                  "type": "histogram",
                  "x": [
                    "M",
                    "F",
                    "M",
                    "F",
                    "M",
                    "M",
                    "F",
                    "M",
                    "M",
                    "F",
                    "F",
                    "M",
                    "M",
                    "M",
                    "F",
                    "F",
                    "M",
                    "F",
                    "M",
                    "M",
                    "F",
                    "M",
                    "F",
                    "M",
                    "M",
                    "M",
                    "M",
                    "M",
                    "F",
                    "M",
                    "M",
                    "M",
                    "M",
                    "M",
                    "F",
                    "M",
                    "M",
                    "F",
                    "F",
                    "F",
                    "F",
                    "F",
                    "M",
                    "M",
                    "M",
                    "M",
                    "M",
                    "M",
                    "M",
                    "M",
                    "M",
                    "F",
                    "M",
                    "F",
                    "F",
                    "F",
                    "M",
                    "M",
                    "M",
                    "M",
                    "M",
                    "F",
                    "M",
                    "M",
                    "F",
                    "F",
                    "F",
                    "M",
                    "M",
                    "M",
                    "M",
                    "M",
                    "M",
                    "F",
                    "M",
                    "M",
                    "M",
                    "F",
                    "M",
                    "M",
                    "M",
                    "M",
                    "M",
                    "M",
                    "M",
                    "M",
                    "M",
                    "F",
                    "M",
                    "M",
                    "F",
                    "M",
                    "F",
                    "M",
                    "F",
                    "M",
                    "M",
                    "M",
                    "M",
                    "M",
                    "M",
                    "M",
                    "F",
                    "M",
                    "M",
                    "M",
                    "F",
                    "M",
                    "M",
                    "M",
                    "F",
                    "M",
                    "M",
                    "M",
                    "F",
                    "F",
                    "M",
                    "F",
                    "F",
                    "M",
                    "F",
                    "F",
                    "M",
                    "F",
                    "M",
                    "M",
                    "F",
                    "F",
                    "F",
                    "M",
                    "M",
                    "M",
                    "M",
                    "M",
                    "F",
                    "M",
                    "F",
                    "M",
                    "M",
                    "M",
                    "M",
                    "M",
                    "M",
                    "M",
                    "F",
                    "M",
                    "M",
                    "F",
                    "M",
                    "M",
                    "M",
                    "M",
                    "M",
                    "M",
                    "M",
                    "M",
                    "M",
                    "M",
                    "M",
                    "M",
                    "M",
                    "M",
                    "M",
                    "M",
                    "F",
                    "M",
                    "M",
                    "M",
                    "M",
                    "M",
                    "M",
                    "M",
                    "M",
                    "M",
                    "M",
                    "M",
                    "M",
                    "M",
                    "M",
                    "F",
                    "M",
                    "M",
                    "M",
                    "M",
                    "F",
                    "M",
                    "M",
                    "M",
                    "F",
                    "M",
                    "M",
                    "M",
                    "M",
                    "M",
                    "F",
                    "F",
                    "M",
                    "M",
                    "M",
                    "F",
                    "M",
                    "M",
                    "M",
                    "F",
                    "M",
                    "M",
                    "M",
                    "M",
                    "M",
                    "M",
                    "M",
                    "F",
                    "M",
                    "F",
                    "M",
                    "F",
                    "M",
                    "M",
                    "M",
                    "M",
                    "M",
                    "F",
                    "F",
                    "M",
                    "M",
                    "M",
                    "M",
                    "M",
                    "M",
                    "F",
                    "M",
                    "M",
                    "F",
                    "M",
                    "F",
                    "M",
                    "M",
                    "M",
                    "M",
                    "M",
                    "M",
                    "M",
                    "M",
                    "F",
                    "M",
                    "M",
                    "M",
                    "M",
                    "M",
                    "M",
                    "M",
                    "M",
                    "M",
                    "M",
                    "M",
                    "F",
                    "F",
                    "M",
                    "F",
                    "F",
                    "M",
                    "F",
                    "M",
                    "M",
                    "M",
                    "M",
                    "M",
                    "M",
                    "M",
                    "F",
                    "M",
                    "F",
                    "M",
                    "M",
                    "F",
                    "M",
                    "M",
                    "M",
                    "F",
                    "F",
                    "M",
                    "M",
                    "F",
                    "F",
                    "M",
                    "F",
                    "M",
                    "M",
                    "F",
                    "M",
                    "M",
                    "F",
                    "M",
                    "M",
                    "M",
                    "M",
                    "M",
                    "M",
                    "M",
                    "M",
                    "M",
                    "M",
                    "M",
                    "F",
                    "M",
                    "F",
                    "M",
                    "M",
                    "M",
                    "M",
                    "M",
                    "M",
                    "M",
                    "M",
                    "M",
                    "M",
                    "M",
                    "M",
                    "M",
                    "M",
                    "M",
                    "M",
                    "F",
                    "M",
                    "M",
                    "M",
                    "M",
                    "M",
                    "M",
                    "M",
                    "M",
                    "M",
                    "M",
                    "M",
                    "M",
                    "M",
                    "M",
                    "M",
                    "M",
                    "F",
                    "M",
                    "M",
                    "M",
                    "M",
                    "M",
                    "M",
                    "M",
                    "M",
                    "M",
                    "M",
                    "M",
                    "M",
                    "M",
                    "M",
                    "M",
                    "M",
                    "M",
                    "M",
                    "M",
                    "M",
                    "M",
                    "M",
                    "M",
                    "M",
                    "M",
                    "F",
                    "M",
                    "M",
                    "M",
                    "M",
                    "M",
                    "M",
                    "M",
                    "M",
                    "M",
                    "F",
                    "M",
                    "M",
                    "M",
                    "M",
                    "M",
                    "M",
                    "M",
                    "F",
                    "M",
                    "M",
                    "M",
                    "M",
                    "M",
                    "M",
                    "M",
                    "M",
                    "M",
                    "M",
                    "M",
                    "M",
                    "F",
                    "M",
                    "M",
                    "M",
                    "F",
                    "M",
                    "M",
                    "M",
                    "M",
                    "M",
                    "M",
                    "M",
                    "M",
                    "M",
                    "M",
                    "M",
                    "M",
                    "M",
                    "M",
                    "F",
                    "M",
                    "M",
                    "M",
                    "M",
                    "M",
                    "M",
                    "M",
                    "M",
                    "M",
                    "M",
                    "M",
                    "M",
                    "M",
                    "M",
                    "M",
                    "M",
                    "M",
                    "M",
                    "M",
                    "M",
                    "M",
                    "M",
                    "M",
                    "M",
                    "M",
                    "M",
                    "M",
                    "M",
                    "M",
                    "M",
                    "M",
                    "M",
                    "M",
                    "M",
                    "M",
                    "M",
                    "M",
                    "M",
                    "M",
                    "M",
                    "M",
                    "M",
                    "M",
                    "M",
                    "M",
                    "M",
                    "M",
                    "M",
                    "M",
                    "M",
                    "M",
                    "F",
                    "M",
                    "M",
                    "M",
                    "M",
                    "M",
                    "M",
                    "M",
                    "M",
                    "M",
                    "M",
                    "M",
                    "M",
                    "M",
                    "M",
                    "M",
                    "M",
                    "M",
                    "M",
                    "M",
                    "M",
                    "M",
                    "M",
                    "M",
                    "M",
                    "M",
                    "M",
                    "M",
                    "F",
                    "M",
                    "M",
                    "M",
                    "M",
                    "M",
                    "M",
                    "M",
                    "M",
                    "M",
                    "M",
                    "M",
                    "M",
                    "M",
                    "M",
                    "M",
                    "M",
                    "M",
                    "M",
                    "M",
                    "M",
                    "M",
                    "M",
                    "M",
                    "M",
                    "M",
                    "M",
                    "M",
                    "M",
                    "M",
                    "M",
                    "M",
                    "M",
                    "M",
                    "M",
                    "M",
                    "M",
                    "M",
                    "M",
                    "M",
                    "M",
                    "M",
                    "M",
                    "M",
                    "M",
                    "M",
                    "M",
                    "F",
                    "M",
                    "F",
                    "M",
                    "M",
                    "M",
                    "M",
                    "M",
                    "M",
                    "M",
                    "M",
                    "M",
                    "M",
                    "M",
                    "M",
                    "M",
                    "M",
                    "M",
                    "M",
                    "M",
                    "M",
                    "M",
                    "M",
                    "M",
                    "M",
                    "M",
                    "M",
                    "M",
                    "M",
                    "M",
                    "M",
                    "M",
                    "M",
                    "M",
                    "M",
                    "M",
                    "M",
                    "M",
                    "M",
                    "M",
                    "M",
                    "M",
                    "M",
                    "M",
                    "M",
                    "M",
                    "M",
                    "M",
                    "M",
                    "M",
                    "M",
                    "M",
                    "M",
                    "M",
                    "M",
                    "M",
                    "M",
                    "M",
                    "M",
                    "M",
                    "M",
                    "M",
                    "M",
                    "F",
                    "M",
                    "M",
                    "M",
                    "M",
                    "F",
                    "M",
                    "M",
                    "M",
                    "M",
                    "M",
                    "F",
                    "M",
                    "M",
                    "F",
                    "M",
                    "M",
                    "M",
                    "M",
                    "F",
                    "M",
                    "M",
                    "M",
                    "M",
                    "F",
                    "F",
                    "M",
                    "M",
                    "M",
                    "M",
                    "M",
                    "M",
                    "M",
                    "M",
                    "F",
                    "F",
                    "F",
                    "F",
                    "M",
                    "F",
                    "M",
                    "M",
                    "F",
                    "M",
                    "M",
                    "M",
                    "M",
                    "M",
                    "M",
                    "M",
                    "M",
                    "F",
                    "M",
                    "M",
                    "M",
                    "M",
                    "M",
                    "M",
                    "M",
                    "F",
                    "M",
                    "M",
                    "F",
                    "F",
                    "F",
                    "F",
                    "M",
                    "F",
                    "F",
                    "M",
                    "M",
                    "F",
                    "M",
                    "F",
                    "M",
                    "M",
                    "M",
                    "F",
                    "F",
                    "M",
                    "M",
                    "F",
                    "M",
                    "F",
                    "F",
                    "M",
                    "M",
                    "F",
                    "F",
                    "M",
                    "M",
                    "M",
                    "M",
                    "M",
                    "M",
                    "M",
                    "M",
                    "M",
                    "F",
                    "M",
                    "M",
                    "F",
                    "M",
                    "M",
                    "M",
                    "M",
                    "M",
                    "M",
                    "F",
                    "F",
                    "F",
                    "M",
                    "F",
                    "M",
                    "M",
                    "M",
                    "M",
                    "F",
                    "M",
                    "F",
                    "F",
                    "M",
                    "F",
                    "F",
                    "M",
                    "F",
                    "M",
                    "F",
                    "F",
                    "M",
                    "M",
                    "M",
                    "M",
                    "F",
                    "M",
                    "F",
                    "M",
                    "F",
                    "M",
                    "M",
                    "F",
                    "M",
                    "M",
                    "M",
                    "M",
                    "F",
                    "F",
                    "M",
                    "F",
                    "M",
                    "M",
                    "M",
                    "M",
                    "M",
                    "M",
                    "M",
                    "M",
                    "M",
                    "M",
                    "F",
                    "M",
                    "F",
                    "F",
                    "F",
                    "F",
                    "F",
                    "M",
                    "M",
                    "M",
                    "F",
                    "M",
                    "F",
                    "M",
                    "M",
                    "M",
                    "F",
                    "F",
                    "M",
                    "F",
                    "M",
                    "M",
                    "M",
                    "M",
                    "F",
                    "M",
                    "F",
                    "M",
                    "M",
                    "M",
                    "M",
                    "M",
                    "F",
                    "M",
                    "F",
                    "M",
                    "M",
                    "M",
                    "M",
                    "F",
                    "M",
                    "M",
                    "M",
                    "M",
                    "M",
                    "M",
                    "F",
                    "F",
                    "F",
                    "F",
                    "M",
                    "M",
                    "M",
                    "M",
                    "M",
                    "M",
                    "M",
                    "F",
                    "M",
                    "M",
                    "M",
                    "M",
                    "M",
                    "F",
                    "M",
                    "M",
                    "F",
                    "F",
                    "M",
                    "M",
                    "M",
                    "M",
                    "M",
                    "M",
                    "M",
                    "F",
                    "M",
                    "F",
                    "F",
                    "F",
                    "M",
                    "F",
                    "M",
                    "M",
                    "M",
                    "M",
                    "F",
                    "F",
                    "M",
                    "M",
                    "M",
                    "M",
                    "M",
                    "F",
                    "F",
                    "F",
                    "M",
                    "M",
                    "F",
                    "M",
                    "M",
                    "M",
                    "M",
                    "M",
                    "M",
                    "M",
                    "F",
                    "M",
                    "M",
                    "M",
                    "M",
                    "F",
                    "M",
                    "M",
                    "M",
                    "M",
                    "M",
                    "M",
                    "F",
                    "M",
                    "M",
                    "F",
                    "M",
                    "M",
                    "M",
                    "M",
                    "M",
                    "F",
                    "F",
                    "M",
                    "F",
                    "M",
                    "M",
                    "F",
                    "M",
                    "M",
                    "M",
                    "F",
                    "M",
                    "M",
                    "M",
                    "M",
                    "F",
                    "M",
                    "M",
                    "F",
                    "M",
                    "M",
                    "F",
                    "M",
                    "M",
                    "M",
                    "F",
                    "M"
                  ],
                  "xaxis": "x",
                  "yaxis": "y"
                }
              ],
              "layout": {
                "barmode": "relative",
                "height": 450,
                "legend": {
                  "tracegroupgap": 0
                },
                "template": {
                  "data": {
                    "bar": [
                      {
                        "error_x": {
                          "color": "#2a3f5f"
                        },
                        "error_y": {
                          "color": "#2a3f5f"
                        },
                        "marker": {
                          "line": {
                            "color": "#E5ECF6",
                            "width": 0.5
                          },
                          "pattern": {
                            "fillmode": "overlay",
                            "size": 10,
                            "solidity": 0.2
                          }
                        },
                        "type": "bar"
                      }
                    ],
                    "barpolar": [
                      {
                        "marker": {
                          "line": {
                            "color": "#E5ECF6",
                            "width": 0.5
                          },
                          "pattern": {
                            "fillmode": "overlay",
                            "size": 10,
                            "solidity": 0.2
                          }
                        },
                        "type": "barpolar"
                      }
                    ],
                    "carpet": [
                      {
                        "aaxis": {
                          "endlinecolor": "#2a3f5f",
                          "gridcolor": "white",
                          "linecolor": "white",
                          "minorgridcolor": "white",
                          "startlinecolor": "#2a3f5f"
                        },
                        "baxis": {
                          "endlinecolor": "#2a3f5f",
                          "gridcolor": "white",
                          "linecolor": "white",
                          "minorgridcolor": "white",
                          "startlinecolor": "#2a3f5f"
                        },
                        "type": "carpet"
                      }
                    ],
                    "choropleth": [
                      {
                        "colorbar": {
                          "outlinewidth": 0,
                          "ticks": ""
                        },
                        "type": "choropleth"
                      }
                    ],
                    "contour": [
                      {
                        "colorbar": {
                          "outlinewidth": 0,
                          "ticks": ""
                        },
                        "colorscale": [
                          [
                            0,
                            "#0d0887"
                          ],
                          [
                            0.1111111111111111,
                            "#46039f"
                          ],
                          [
                            0.2222222222222222,
                            "#7201a8"
                          ],
                          [
                            0.3333333333333333,
                            "#9c179e"
                          ],
                          [
                            0.4444444444444444,
                            "#bd3786"
                          ],
                          [
                            0.5555555555555556,
                            "#d8576b"
                          ],
                          [
                            0.6666666666666666,
                            "#ed7953"
                          ],
                          [
                            0.7777777777777778,
                            "#fb9f3a"
                          ],
                          [
                            0.8888888888888888,
                            "#fdca26"
                          ],
                          [
                            1,
                            "#f0f921"
                          ]
                        ],
                        "type": "contour"
                      }
                    ],
                    "contourcarpet": [
                      {
                        "colorbar": {
                          "outlinewidth": 0,
                          "ticks": ""
                        },
                        "type": "contourcarpet"
                      }
                    ],
                    "heatmap": [
                      {
                        "colorbar": {
                          "outlinewidth": 0,
                          "ticks": ""
                        },
                        "colorscale": [
                          [
                            0,
                            "#0d0887"
                          ],
                          [
                            0.1111111111111111,
                            "#46039f"
                          ],
                          [
                            0.2222222222222222,
                            "#7201a8"
                          ],
                          [
                            0.3333333333333333,
                            "#9c179e"
                          ],
                          [
                            0.4444444444444444,
                            "#bd3786"
                          ],
                          [
                            0.5555555555555556,
                            "#d8576b"
                          ],
                          [
                            0.6666666666666666,
                            "#ed7953"
                          ],
                          [
                            0.7777777777777778,
                            "#fb9f3a"
                          ],
                          [
                            0.8888888888888888,
                            "#fdca26"
                          ],
                          [
                            1,
                            "#f0f921"
                          ]
                        ],
                        "type": "heatmap"
                      }
                    ],
                    "heatmapgl": [
                      {
                        "colorbar": {
                          "outlinewidth": 0,
                          "ticks": ""
                        },
                        "colorscale": [
                          [
                            0,
                            "#0d0887"
                          ],
                          [
                            0.1111111111111111,
                            "#46039f"
                          ],
                          [
                            0.2222222222222222,
                            "#7201a8"
                          ],
                          [
                            0.3333333333333333,
                            "#9c179e"
                          ],
                          [
                            0.4444444444444444,
                            "#bd3786"
                          ],
                          [
                            0.5555555555555556,
                            "#d8576b"
                          ],
                          [
                            0.6666666666666666,
                            "#ed7953"
                          ],
                          [
                            0.7777777777777778,
                            "#fb9f3a"
                          ],
                          [
                            0.8888888888888888,
                            "#fdca26"
                          ],
                          [
                            1,
                            "#f0f921"
                          ]
                        ],
                        "type": "heatmapgl"
                      }
                    ],
                    "histogram": [
                      {
                        "marker": {
                          "pattern": {
                            "fillmode": "overlay",
                            "size": 10,
                            "solidity": 0.2
                          }
                        },
                        "type": "histogram"
                      }
                    ],
                    "histogram2d": [
                      {
                        "colorbar": {
                          "outlinewidth": 0,
                          "ticks": ""
                        },
                        "colorscale": [
                          [
                            0,
                            "#0d0887"
                          ],
                          [
                            0.1111111111111111,
                            "#46039f"
                          ],
                          [
                            0.2222222222222222,
                            "#7201a8"
                          ],
                          [
                            0.3333333333333333,
                            "#9c179e"
                          ],
                          [
                            0.4444444444444444,
                            "#bd3786"
                          ],
                          [
                            0.5555555555555556,
                            "#d8576b"
                          ],
                          [
                            0.6666666666666666,
                            "#ed7953"
                          ],
                          [
                            0.7777777777777778,
                            "#fb9f3a"
                          ],
                          [
                            0.8888888888888888,
                            "#fdca26"
                          ],
                          [
                            1,
                            "#f0f921"
                          ]
                        ],
                        "type": "histogram2d"
                      }
                    ],
                    "histogram2dcontour": [
                      {
                        "colorbar": {
                          "outlinewidth": 0,
                          "ticks": ""
                        },
                        "colorscale": [
                          [
                            0,
                            "#0d0887"
                          ],
                          [
                            0.1111111111111111,
                            "#46039f"
                          ],
                          [
                            0.2222222222222222,
                            "#7201a8"
                          ],
                          [
                            0.3333333333333333,
                            "#9c179e"
                          ],
                          [
                            0.4444444444444444,
                            "#bd3786"
                          ],
                          [
                            0.5555555555555556,
                            "#d8576b"
                          ],
                          [
                            0.6666666666666666,
                            "#ed7953"
                          ],
                          [
                            0.7777777777777778,
                            "#fb9f3a"
                          ],
                          [
                            0.8888888888888888,
                            "#fdca26"
                          ],
                          [
                            1,
                            "#f0f921"
                          ]
                        ],
                        "type": "histogram2dcontour"
                      }
                    ],
                    "mesh3d": [
                      {
                        "colorbar": {
                          "outlinewidth": 0,
                          "ticks": ""
                        },
                        "type": "mesh3d"
                      }
                    ],
                    "parcoords": [
                      {
                        "line": {
                          "colorbar": {
                            "outlinewidth": 0,
                            "ticks": ""
                          }
                        },
                        "type": "parcoords"
                      }
                    ],
                    "pie": [
                      {
                        "automargin": true,
                        "type": "pie"
                      }
                    ],
                    "scatter": [
                      {
                        "fillpattern": {
                          "fillmode": "overlay",
                          "size": 10,
                          "solidity": 0.2
                        },
                        "type": "scatter"
                      }
                    ],
                    "scatter3d": [
                      {
                        "line": {
                          "colorbar": {
                            "outlinewidth": 0,
                            "ticks": ""
                          }
                        },
                        "marker": {
                          "colorbar": {
                            "outlinewidth": 0,
                            "ticks": ""
                          }
                        },
                        "type": "scatter3d"
                      }
                    ],
                    "scattercarpet": [
                      {
                        "marker": {
                          "colorbar": {
                            "outlinewidth": 0,
                            "ticks": ""
                          }
                        },
                        "type": "scattercarpet"
                      }
                    ],
                    "scattergeo": [
                      {
                        "marker": {
                          "colorbar": {
                            "outlinewidth": 0,
                            "ticks": ""
                          }
                        },
                        "type": "scattergeo"
                      }
                    ],
                    "scattergl": [
                      {
                        "marker": {
                          "colorbar": {
                            "outlinewidth": 0,
                            "ticks": ""
                          }
                        },
                        "type": "scattergl"
                      }
                    ],
                    "scattermapbox": [
                      {
                        "marker": {
                          "colorbar": {
                            "outlinewidth": 0,
                            "ticks": ""
                          }
                        },
                        "type": "scattermapbox"
                      }
                    ],
                    "scatterpolar": [
                      {
                        "marker": {
                          "colorbar": {
                            "outlinewidth": 0,
                            "ticks": ""
                          }
                        },
                        "type": "scatterpolar"
                      }
                    ],
                    "scatterpolargl": [
                      {
                        "marker": {
                          "colorbar": {
                            "outlinewidth": 0,
                            "ticks": ""
                          }
                        },
                        "type": "scatterpolargl"
                      }
                    ],
                    "scatterternary": [
                      {
                        "marker": {
                          "colorbar": {
                            "outlinewidth": 0,
                            "ticks": ""
                          }
                        },
                        "type": "scatterternary"
                      }
                    ],
                    "surface": [
                      {
                        "colorbar": {
                          "outlinewidth": 0,
                          "ticks": ""
                        },
                        "colorscale": [
                          [
                            0,
                            "#0d0887"
                          ],
                          [
                            0.1111111111111111,
                            "#46039f"
                          ],
                          [
                            0.2222222222222222,
                            "#7201a8"
                          ],
                          [
                            0.3333333333333333,
                            "#9c179e"
                          ],
                          [
                            0.4444444444444444,
                            "#bd3786"
                          ],
                          [
                            0.5555555555555556,
                            "#d8576b"
                          ],
                          [
                            0.6666666666666666,
                            "#ed7953"
                          ],
                          [
                            0.7777777777777778,
                            "#fb9f3a"
                          ],
                          [
                            0.8888888888888888,
                            "#fdca26"
                          ],
                          [
                            1,
                            "#f0f921"
                          ]
                        ],
                        "type": "surface"
                      }
                    ],
                    "table": [
                      {
                        "cells": {
                          "fill": {
                            "color": "#EBF0F8"
                          },
                          "line": {
                            "color": "white"
                          }
                        },
                        "header": {
                          "fill": {
                            "color": "#C8D4E3"
                          },
                          "line": {
                            "color": "white"
                          }
                        },
                        "type": "table"
                      }
                    ]
                  },
                  "layout": {
                    "annotationdefaults": {
                      "arrowcolor": "#2a3f5f",
                      "arrowhead": 0,
                      "arrowwidth": 1
                    },
                    "autotypenumbers": "strict",
                    "coloraxis": {
                      "colorbar": {
                        "outlinewidth": 0,
                        "ticks": ""
                      }
                    },
                    "colorscale": {
                      "diverging": [
                        [
                          0,
                          "#8e0152"
                        ],
                        [
                          0.1,
                          "#c51b7d"
                        ],
                        [
                          0.2,
                          "#de77ae"
                        ],
                        [
                          0.3,
                          "#f1b6da"
                        ],
                        [
                          0.4,
                          "#fde0ef"
                        ],
                        [
                          0.5,
                          "#f7f7f7"
                        ],
                        [
                          0.6,
                          "#e6f5d0"
                        ],
                        [
                          0.7,
                          "#b8e186"
                        ],
                        [
                          0.8,
                          "#7fbc41"
                        ],
                        [
                          0.9,
                          "#4d9221"
                        ],
                        [
                          1,
                          "#276419"
                        ]
                      ],
                      "sequential": [
                        [
                          0,
                          "#0d0887"
                        ],
                        [
                          0.1111111111111111,
                          "#46039f"
                        ],
                        [
                          0.2222222222222222,
                          "#7201a8"
                        ],
                        [
                          0.3333333333333333,
                          "#9c179e"
                        ],
                        [
                          0.4444444444444444,
                          "#bd3786"
                        ],
                        [
                          0.5555555555555556,
                          "#d8576b"
                        ],
                        [
                          0.6666666666666666,
                          "#ed7953"
                        ],
                        [
                          0.7777777777777778,
                          "#fb9f3a"
                        ],
                        [
                          0.8888888888888888,
                          "#fdca26"
                        ],
                        [
                          1,
                          "#f0f921"
                        ]
                      ],
                      "sequentialminus": [
                        [
                          0,
                          "#0d0887"
                        ],
                        [
                          0.1111111111111111,
                          "#46039f"
                        ],
                        [
                          0.2222222222222222,
                          "#7201a8"
                        ],
                        [
                          0.3333333333333333,
                          "#9c179e"
                        ],
                        [
                          0.4444444444444444,
                          "#bd3786"
                        ],
                        [
                          0.5555555555555556,
                          "#d8576b"
                        ],
                        [
                          0.6666666666666666,
                          "#ed7953"
                        ],
                        [
                          0.7777777777777778,
                          "#fb9f3a"
                        ],
                        [
                          0.8888888888888888,
                          "#fdca26"
                        ],
                        [
                          1,
                          "#f0f921"
                        ]
                      ]
                    },
                    "colorway": [
                      "#636efa",
                      "#EF553B",
                      "#00cc96",
                      "#ab63fa",
                      "#FFA15A",
                      "#19d3f3",
                      "#FF6692",
                      "#B6E880",
                      "#FF97FF",
                      "#FECB52"
                    ],
                    "font": {
                      "color": "#2a3f5f"
                    },
                    "geo": {
                      "bgcolor": "white",
                      "lakecolor": "white",
                      "landcolor": "#E5ECF6",
                      "showlakes": true,
                      "showland": true,
                      "subunitcolor": "white"
                    },
                    "hoverlabel": {
                      "align": "left"
                    },
                    "hovermode": "closest",
                    "mapbox": {
                      "style": "light"
                    },
                    "paper_bgcolor": "white",
                    "plot_bgcolor": "#E5ECF6",
                    "polar": {
                      "angularaxis": {
                        "gridcolor": "white",
                        "linecolor": "white",
                        "ticks": ""
                      },
                      "bgcolor": "#E5ECF6",
                      "radialaxis": {
                        "gridcolor": "white",
                        "linecolor": "white",
                        "ticks": ""
                      }
                    },
                    "scene": {
                      "xaxis": {
                        "backgroundcolor": "#E5ECF6",
                        "gridcolor": "white",
                        "gridwidth": 2,
                        "linecolor": "white",
                        "showbackground": true,
                        "ticks": "",
                        "zerolinecolor": "white"
                      },
                      "yaxis": {
                        "backgroundcolor": "#E5ECF6",
                        "gridcolor": "white",
                        "gridwidth": 2,
                        "linecolor": "white",
                        "showbackground": true,
                        "ticks": "",
                        "zerolinecolor": "white"
                      },
                      "zaxis": {
                        "backgroundcolor": "#E5ECF6",
                        "gridcolor": "white",
                        "gridwidth": 2,
                        "linecolor": "white",
                        "showbackground": true,
                        "ticks": "",
                        "zerolinecolor": "white"
                      }
                    },
                    "shapedefaults": {
                      "line": {
                        "color": "#2a3f5f"
                      }
                    },
                    "ternary": {
                      "aaxis": {
                        "gridcolor": "white",
                        "linecolor": "white",
                        "ticks": ""
                      },
                      "baxis": {
                        "gridcolor": "white",
                        "linecolor": "white",
                        "ticks": ""
                      },
                      "bgcolor": "#E5ECF6",
                      "caxis": {
                        "gridcolor": "white",
                        "linecolor": "white",
                        "ticks": ""
                      }
                    },
                    "title": {
                      "x": 0.05
                    },
                    "xaxis": {
                      "automargin": true,
                      "gridcolor": "white",
                      "linecolor": "white",
                      "ticks": "",
                      "title": {
                        "standoff": 15
                      },
                      "zerolinecolor": "white",
                      "zerolinewidth": 2
                    },
                    "yaxis": {
                      "automargin": true,
                      "gridcolor": "white",
                      "linecolor": "white",
                      "ticks": "",
                      "title": {
                        "standoff": 15
                      },
                      "zerolinecolor": "white",
                      "zerolinewidth": 2
                    }
                  }
                },
                "title": {
                  "text": "Ratio of male and female in the Data"
                },
                "width": 450,
                "xaxis": {
                  "anchor": "y",
                  "domain": [
                    0,
                    1
                  ],
                  "title": {
                    "text": "Sex"
                  }
                },
                "yaxis": {
                  "anchor": "x",
                  "domain": [
                    0,
                    1
                  ],
                  "title": {
                    "text": "count"
                  }
                }
              }
            }
          },
          "metadata": {},
          "output_type": "display_data"
        }
      ],
      "source": [
        "fig=px.histogram(df, x=\"Sex\", hover_data=df.columns, title=\"Ratio of male and female in the Data\",width=450, height=450)\n",
        "fig.show()"
      ]
    },
    {
      "cell_type": "code",
      "execution_count": null,
      "metadata": {
        "id": "uNaBxKBbyxNa",
        "outputId": "eb51cc8b-6694-460b-ee1b-e17f0a683e91"
      },
      "outputs": [
        {
          "data": {
            "application/vnd.plotly.v1+json": {
              "config": {
                "plotlyServerURL": "https://plot.ly"
              },
              "data": [
                {
                  "alignmentgroup": "True",
                  "bingroup": "x",
                  "hovertemplate": "Sex=M<br>HeartDisease=%{x}<br>count=%{y}<extra></extra>",
                  "legendgroup": "M",
                  "marker": {
                    "color": "#636efa",
                    "pattern": {
                      "shape": ""
                    }
                  },
                  "name": "M",
                  "offsetgroup": "M",
                  "orientation": "v",
                  "showlegend": true,
                  "type": "histogram",
                  "x": [
                    0,
                    0,
                    0,
                    0,
                    0,
                    1,
                    1,
                    0,
                    1,
                    1,
                    1,
                    1,
                    0,
                    1,
                    0,
                    0,
                    0,
                    0,
                    0,
                    1,
                    0,
                    1,
                    1,
                    0,
                    1,
                    0,
                    0,
                    1,
                    0,
                    0,
                    0,
                    0,
                    1,
                    1,
                    0,
                    1,
                    1,
                    0,
                    1,
                    0,
                    0,
                    1,
                    0,
                    1,
                    0,
                    1,
                    0,
                    1,
                    1,
                    0,
                    1,
                    0,
                    1,
                    0,
                    0,
                    1,
                    0,
                    1,
                    1,
                    1,
                    1,
                    0,
                    0,
                    1,
                    1,
                    0,
                    0,
                    0,
                    0,
                    1,
                    0,
                    1,
                    1,
                    0,
                    0,
                    0,
                    0,
                    1,
                    0,
                    0,
                    1,
                    1,
                    0,
                    0,
                    0,
                    0,
                    0,
                    1,
                    1,
                    1,
                    1,
                    0,
                    1,
                    1,
                    1,
                    1,
                    1,
                    0,
                    0,
                    0,
                    0,
                    1,
                    0,
                    0,
                    0,
                    0,
                    0,
                    1,
                    1,
                    0,
                    1,
                    0,
                    1,
                    1,
                    0,
                    0,
                    1,
                    1,
                    0,
                    0,
                    0,
                    0,
                    0,
                    0,
                    0,
                    1,
                    1,
                    1,
                    0,
                    0,
                    1,
                    0,
                    1,
                    0,
                    1,
                    0,
                    1,
                    1,
                    0,
                    0,
                    0,
                    0,
                    0,
                    0,
                    1,
                    0,
                    0,
                    0,
                    0,
                    0,
                    0,
                    1,
                    0,
                    1,
                    1,
                    0,
                    1,
                    1,
                    0,
                    0,
                    0,
                    1,
                    0,
                    0,
                    1,
                    0,
                    1,
                    0,
                    0,
                    0,
                    0,
                    0,
                    1,
                    1,
                    1,
                    1,
                    0,
                    1,
                    1,
                    1,
                    0,
                    1,
                    1,
                    1,
                    1,
                    1,
                    1,
                    0,
                    0,
                    1,
                    0,
                    0,
                    1,
                    1,
                    1,
                    0,
                    1,
                    0,
                    1,
                    0,
                    1,
                    0,
                    0,
                    1,
                    1,
                    0,
                    1,
                    0,
                    0,
                    0,
                    0,
                    0,
                    0,
                    1,
                    1,
                    1,
                    1,
                    1,
                    1,
                    1,
                    1,
                    0,
                    1,
                    1,
                    1,
                    0,
                    1,
                    1,
                    0,
                    1,
                    1,
                    1,
                    0,
                    1,
                    1,
                    1,
                    1,
                    1,
                    1,
                    1,
                    1,
                    1,
                    1,
                    0,
                    1,
                    1,
                    1,
                    1,
                    1,
                    0,
                    1,
                    1,
                    1,
                    0,
                    1,
                    1,
                    1,
                    1,
                    1,
                    1,
                    1,
                    1,
                    1,
                    1,
                    1,
                    1,
                    1,
                    1,
                    1,
                    1,
                    1,
                    1,
                    1,
                    1,
                    1,
                    1,
                    1,
                    1,
                    1,
                    1,
                    0,
                    1,
                    1,
                    1,
                    1,
                    1,
                    1,
                    1,
                    1,
                    1,
                    1,
                    1,
                    1,
                    1,
                    1,
                    1,
                    1,
                    1,
                    1,
                    1,
                    1,
                    1,
                    1,
                    1,
                    1,
                    1,
                    1,
                    1,
                    1,
                    1,
                    1,
                    1,
                    1,
                    1,
                    1,
                    1,
                    1,
                    1,
                    1,
                    1,
                    1,
                    1,
                    1,
                    1,
                    1,
                    1,
                    1,
                    0,
                    1,
                    1,
                    0,
                    0,
                    1,
                    0,
                    1,
                    1,
                    0,
                    1,
                    1,
                    1,
                    1,
                    0,
                    1,
                    1,
                    0,
                    0,
                    1,
                    1,
                    1,
                    0,
                    1,
                    1,
                    1,
                    1,
                    1,
                    1,
                    1,
                    1,
                    1,
                    1,
                    1,
                    1,
                    1,
                    0,
                    1,
                    0,
                    1,
                    1,
                    1,
                    0,
                    1,
                    1,
                    1,
                    0,
                    1,
                    0,
                    1,
                    1,
                    0,
                    1,
                    1,
                    1,
                    1,
                    0,
                    1,
                    0,
                    1,
                    1,
                    1,
                    1,
                    1,
                    1,
                    1,
                    1,
                    1,
                    0,
                    1,
                    0,
                    1,
                    1,
                    1,
                    1,
                    1,
                    1,
                    0,
                    1,
                    1,
                    1,
                    1,
                    1,
                    1,
                    0,
                    1,
                    1,
                    1,
                    0,
                    1,
                    1,
                    0,
                    1,
                    0,
                    1,
                    1,
                    0,
                    1,
                    1,
                    1,
                    1,
                    0,
                    1,
                    1,
                    1,
                    0,
                    0,
                    1,
                    0,
                    1,
                    1,
                    1,
                    1,
                    1,
                    1,
                    1,
                    1,
                    1,
                    1,
                    1,
                    0,
                    1,
                    1,
                    1,
                    0,
                    1,
                    1,
                    1,
                    0,
                    1,
                    0,
                    1,
                    1,
                    0,
                    1,
                    0,
                    1,
                    1,
                    1,
                    0,
                    0,
                    0,
                    1,
                    1,
                    1,
                    0,
                    1,
                    1,
                    1,
                    1,
                    1,
                    1,
                    1,
                    1,
                    1,
                    1,
                    1,
                    1,
                    1,
                    1,
                    1,
                    1,
                    0,
                    1,
                    1,
                    1,
                    0,
                    1,
                    1,
                    0,
                    0,
                    1,
                    1,
                    1,
                    1,
                    1,
                    0,
                    1,
                    1,
                    0,
                    1,
                    1,
                    1,
                    0,
                    1,
                    1,
                    1,
                    1,
                    0,
                    1,
                    0,
                    1,
                    1,
                    1,
                    0,
                    0,
                    1,
                    1,
                    1,
                    0,
                    0,
                    0,
                    1,
                    1,
                    1,
                    0,
                    0,
                    1,
                    0,
                    0,
                    0,
                    1,
                    1,
                    0,
                    1,
                    1,
                    1,
                    1,
                    1,
                    0,
                    0,
                    1,
                    0,
                    0,
                    1,
                    0,
                    1,
                    1,
                    1,
                    1,
                    0,
                    1,
                    1,
                    0,
                    0,
                    0,
                    1,
                    0,
                    1,
                    1,
                    0,
                    1,
                    0,
                    0,
                    1,
                    1,
                    1,
                    0,
                    0,
                    0,
                    0,
                    0,
                    1,
                    0,
                    1,
                    1,
                    1,
                    1,
                    0,
                    1,
                    1,
                    1,
                    1,
                    1,
                    0,
                    1,
                    0,
                    0,
                    1,
                    1,
                    1,
                    1,
                    1,
                    0,
                    1,
                    0,
                    1,
                    1,
                    0,
                    1,
                    0,
                    1,
                    0,
                    1,
                    0,
                    1,
                    0,
                    1,
                    1,
                    1,
                    1,
                    1,
                    0,
                    1,
                    0,
                    0,
                    1,
                    0,
                    1,
                    0,
                    0,
                    1,
                    0,
                    1,
                    1,
                    0,
                    1,
                    1,
                    1,
                    0,
                    0,
                    1,
                    0,
                    0,
                    1,
                    0,
                    1,
                    0,
                    1,
                    0,
                    1,
                    0,
                    1,
                    0,
                    1,
                    1,
                    1,
                    1,
                    0,
                    0,
                    1,
                    0,
                    1,
                    0,
                    1,
                    0,
                    0,
                    0,
                    0,
                    1,
                    1,
                    0,
                    1,
                    0,
                    0,
                    1,
                    0,
                    1,
                    0,
                    1,
                    0,
                    0,
                    1,
                    0,
                    1,
                    1,
                    1,
                    1,
                    1,
                    0,
                    1,
                    0,
                    0,
                    0,
                    1,
                    1,
                    0,
                    1,
                    1,
                    0,
                    1,
                    0,
                    0,
                    0,
                    1,
                    0,
                    1,
                    1,
                    1,
                    0,
                    1,
                    1,
                    0,
                    0,
                    1,
                    1,
                    0,
                    0,
                    0,
                    1,
                    1,
                    1,
                    0,
                    1,
                    1,
                    1,
                    1,
                    0
                  ],
                  "xaxis": "x",
                  "yaxis": "y"
                },
                {
                  "alignmentgroup": "True",
                  "bingroup": "x",
                  "hovertemplate": "Sex=F<br>HeartDisease=%{x}<br>count=%{y}<extra></extra>",
                  "legendgroup": "F",
                  "marker": {
                    "color": "#EF553B",
                    "pattern": {
                      "shape": ""
                    }
                  },
                  "name": "F",
                  "offsetgroup": "F",
                  "orientation": "v",
                  "showlegend": true,
                  "type": "histogram",
                  "x": [
                    1,
                    1,
                    0,
                    0,
                    0,
                    0,
                    0,
                    0,
                    0,
                    0,
                    0,
                    0,
                    0,
                    0,
                    0,
                    0,
                    1,
                    1,
                    0,
                    0,
                    0,
                    0,
                    0,
                    0,
                    0,
                    0,
                    0,
                    0,
                    0,
                    0,
                    0,
                    1,
                    0,
                    0,
                    0,
                    1,
                    1,
                    0,
                    1,
                    0,
                    1,
                    0,
                    0,
                    0,
                    0,
                    0,
                    1,
                    0,
                    0,
                    0,
                    0,
                    0,
                    0,
                    0,
                    0,
                    0,
                    1,
                    0,
                    0,
                    1,
                    0,
                    0,
                    0,
                    0,
                    0,
                    0,
                    0,
                    0,
                    0,
                    0,
                    0,
                    0,
                    0,
                    0,
                    0,
                    0,
                    0,
                    0,
                    0,
                    0,
                    1,
                    1,
                    1,
                    1,
                    1,
                    1,
                    1,
                    1,
                    1,
                    1,
                    0,
                    1,
                    1,
                    0,
                    0,
                    1,
                    0,
                    0,
                    1,
                    0,
                    0,
                    0,
                    0,
                    0,
                    0,
                    0,
                    0,
                    0,
                    1,
                    0,
                    0,
                    0,
                    0,
                    0,
                    1,
                    1,
                    0,
                    1,
                    0,
                    0,
                    0,
                    0,
                    0,
                    0,
                    0,
                    1,
                    0,
                    0,
                    0,
                    0,
                    1,
                    0,
                    1,
                    1,
                    0,
                    0,
                    1,
                    0,
                    0,
                    0,
                    0,
                    1,
                    0,
                    0,
                    0,
                    0,
                    0,
                    0,
                    0,
                    0,
                    0,
                    1,
                    1,
                    0,
                    0,
                    0,
                    0,
                    1,
                    1,
                    0,
                    0,
                    0,
                    0,
                    0,
                    0,
                    0,
                    0,
                    0,
                    0,
                    0,
                    1,
                    1,
                    0,
                    1,
                    1,
                    0,
                    0,
                    1,
                    0,
                    0,
                    0,
                    0,
                    0,
                    0,
                    0,
                    0,
                    0,
                    1,
                    1,
                    0,
                    1,
                    1,
                    1
                  ],
                  "xaxis": "x",
                  "yaxis": "y"
                }
              ],
              "layout": {
                "barmode": "group",
                "height": 500,
                "legend": {
                  "title": {
                    "text": "Sex"
                  },
                  "tracegroupgap": 0
                },
                "template": {
                  "data": {
                    "bar": [
                      {
                        "error_x": {
                          "color": "#2a3f5f"
                        },
                        "error_y": {
                          "color": "#2a3f5f"
                        },
                        "marker": {
                          "line": {
                            "color": "#E5ECF6",
                            "width": 0.5
                          },
                          "pattern": {
                            "fillmode": "overlay",
                            "size": 10,
                            "solidity": 0.2
                          }
                        },
                        "type": "bar"
                      }
                    ],
                    "barpolar": [
                      {
                        "marker": {
                          "line": {
                            "color": "#E5ECF6",
                            "width": 0.5
                          },
                          "pattern": {
                            "fillmode": "overlay",
                            "size": 10,
                            "solidity": 0.2
                          }
                        },
                        "type": "barpolar"
                      }
                    ],
                    "carpet": [
                      {
                        "aaxis": {
                          "endlinecolor": "#2a3f5f",
                          "gridcolor": "white",
                          "linecolor": "white",
                          "minorgridcolor": "white",
                          "startlinecolor": "#2a3f5f"
                        },
                        "baxis": {
                          "endlinecolor": "#2a3f5f",
                          "gridcolor": "white",
                          "linecolor": "white",
                          "minorgridcolor": "white",
                          "startlinecolor": "#2a3f5f"
                        },
                        "type": "carpet"
                      }
                    ],
                    "choropleth": [
                      {
                        "colorbar": {
                          "outlinewidth": 0,
                          "ticks": ""
                        },
                        "type": "choropleth"
                      }
                    ],
                    "contour": [
                      {
                        "colorbar": {
                          "outlinewidth": 0,
                          "ticks": ""
                        },
                        "colorscale": [
                          [
                            0,
                            "#0d0887"
                          ],
                          [
                            0.1111111111111111,
                            "#46039f"
                          ],
                          [
                            0.2222222222222222,
                            "#7201a8"
                          ],
                          [
                            0.3333333333333333,
                            "#9c179e"
                          ],
                          [
                            0.4444444444444444,
                            "#bd3786"
                          ],
                          [
                            0.5555555555555556,
                            "#d8576b"
                          ],
                          [
                            0.6666666666666666,
                            "#ed7953"
                          ],
                          [
                            0.7777777777777778,
                            "#fb9f3a"
                          ],
                          [
                            0.8888888888888888,
                            "#fdca26"
                          ],
                          [
                            1,
                            "#f0f921"
                          ]
                        ],
                        "type": "contour"
                      }
                    ],
                    "contourcarpet": [
                      {
                        "colorbar": {
                          "outlinewidth": 0,
                          "ticks": ""
                        },
                        "type": "contourcarpet"
                      }
                    ],
                    "heatmap": [
                      {
                        "colorbar": {
                          "outlinewidth": 0,
                          "ticks": ""
                        },
                        "colorscale": [
                          [
                            0,
                            "#0d0887"
                          ],
                          [
                            0.1111111111111111,
                            "#46039f"
                          ],
                          [
                            0.2222222222222222,
                            "#7201a8"
                          ],
                          [
                            0.3333333333333333,
                            "#9c179e"
                          ],
                          [
                            0.4444444444444444,
                            "#bd3786"
                          ],
                          [
                            0.5555555555555556,
                            "#d8576b"
                          ],
                          [
                            0.6666666666666666,
                            "#ed7953"
                          ],
                          [
                            0.7777777777777778,
                            "#fb9f3a"
                          ],
                          [
                            0.8888888888888888,
                            "#fdca26"
                          ],
                          [
                            1,
                            "#f0f921"
                          ]
                        ],
                        "type": "heatmap"
                      }
                    ],
                    "heatmapgl": [
                      {
                        "colorbar": {
                          "outlinewidth": 0,
                          "ticks": ""
                        },
                        "colorscale": [
                          [
                            0,
                            "#0d0887"
                          ],
                          [
                            0.1111111111111111,
                            "#46039f"
                          ],
                          [
                            0.2222222222222222,
                            "#7201a8"
                          ],
                          [
                            0.3333333333333333,
                            "#9c179e"
                          ],
                          [
                            0.4444444444444444,
                            "#bd3786"
                          ],
                          [
                            0.5555555555555556,
                            "#d8576b"
                          ],
                          [
                            0.6666666666666666,
                            "#ed7953"
                          ],
                          [
                            0.7777777777777778,
                            "#fb9f3a"
                          ],
                          [
                            0.8888888888888888,
                            "#fdca26"
                          ],
                          [
                            1,
                            "#f0f921"
                          ]
                        ],
                        "type": "heatmapgl"
                      }
                    ],
                    "histogram": [
                      {
                        "marker": {
                          "pattern": {
                            "fillmode": "overlay",
                            "size": 10,
                            "solidity": 0.2
                          }
                        },
                        "type": "histogram"
                      }
                    ],
                    "histogram2d": [
                      {
                        "colorbar": {
                          "outlinewidth": 0,
                          "ticks": ""
                        },
                        "colorscale": [
                          [
                            0,
                            "#0d0887"
                          ],
                          [
                            0.1111111111111111,
                            "#46039f"
                          ],
                          [
                            0.2222222222222222,
                            "#7201a8"
                          ],
                          [
                            0.3333333333333333,
                            "#9c179e"
                          ],
                          [
                            0.4444444444444444,
                            "#bd3786"
                          ],
                          [
                            0.5555555555555556,
                            "#d8576b"
                          ],
                          [
                            0.6666666666666666,
                            "#ed7953"
                          ],
                          [
                            0.7777777777777778,
                            "#fb9f3a"
                          ],
                          [
                            0.8888888888888888,
                            "#fdca26"
                          ],
                          [
                            1,
                            "#f0f921"
                          ]
                        ],
                        "type": "histogram2d"
                      }
                    ],
                    "histogram2dcontour": [
                      {
                        "colorbar": {
                          "outlinewidth": 0,
                          "ticks": ""
                        },
                        "colorscale": [
                          [
                            0,
                            "#0d0887"
                          ],
                          [
                            0.1111111111111111,
                            "#46039f"
                          ],
                          [
                            0.2222222222222222,
                            "#7201a8"
                          ],
                          [
                            0.3333333333333333,
                            "#9c179e"
                          ],
                          [
                            0.4444444444444444,
                            "#bd3786"
                          ],
                          [
                            0.5555555555555556,
                            "#d8576b"
                          ],
                          [
                            0.6666666666666666,
                            "#ed7953"
                          ],
                          [
                            0.7777777777777778,
                            "#fb9f3a"
                          ],
                          [
                            0.8888888888888888,
                            "#fdca26"
                          ],
                          [
                            1,
                            "#f0f921"
                          ]
                        ],
                        "type": "histogram2dcontour"
                      }
                    ],
                    "mesh3d": [
                      {
                        "colorbar": {
                          "outlinewidth": 0,
                          "ticks": ""
                        },
                        "type": "mesh3d"
                      }
                    ],
                    "parcoords": [
                      {
                        "line": {
                          "colorbar": {
                            "outlinewidth": 0,
                            "ticks": ""
                          }
                        },
                        "type": "parcoords"
                      }
                    ],
                    "pie": [
                      {
                        "automargin": true,
                        "type": "pie"
                      }
                    ],
                    "scatter": [
                      {
                        "fillpattern": {
                          "fillmode": "overlay",
                          "size": 10,
                          "solidity": 0.2
                        },
                        "type": "scatter"
                      }
                    ],
                    "scatter3d": [
                      {
                        "line": {
                          "colorbar": {
                            "outlinewidth": 0,
                            "ticks": ""
                          }
                        },
                        "marker": {
                          "colorbar": {
                            "outlinewidth": 0,
                            "ticks": ""
                          }
                        },
                        "type": "scatter3d"
                      }
                    ],
                    "scattercarpet": [
                      {
                        "marker": {
                          "colorbar": {
                            "outlinewidth": 0,
                            "ticks": ""
                          }
                        },
                        "type": "scattercarpet"
                      }
                    ],
                    "scattergeo": [
                      {
                        "marker": {
                          "colorbar": {
                            "outlinewidth": 0,
                            "ticks": ""
                          }
                        },
                        "type": "scattergeo"
                      }
                    ],
                    "scattergl": [
                      {
                        "marker": {
                          "colorbar": {
                            "outlinewidth": 0,
                            "ticks": ""
                          }
                        },
                        "type": "scattergl"
                      }
                    ],
                    "scattermapbox": [
                      {
                        "marker": {
                          "colorbar": {
                            "outlinewidth": 0,
                            "ticks": ""
                          }
                        },
                        "type": "scattermapbox"
                      }
                    ],
                    "scatterpolar": [
                      {
                        "marker": {
                          "colorbar": {
                            "outlinewidth": 0,
                            "ticks": ""
                          }
                        },
                        "type": "scatterpolar"
                      }
                    ],
                    "scatterpolargl": [
                      {
                        "marker": {
                          "colorbar": {
                            "outlinewidth": 0,
                            "ticks": ""
                          }
                        },
                        "type": "scatterpolargl"
                      }
                    ],
                    "scatterternary": [
                      {
                        "marker": {
                          "colorbar": {
                            "outlinewidth": 0,
                            "ticks": ""
                          }
                        },
                        "type": "scatterternary"
                      }
                    ],
                    "surface": [
                      {
                        "colorbar": {
                          "outlinewidth": 0,
                          "ticks": ""
                        },
                        "colorscale": [
                          [
                            0,
                            "#0d0887"
                          ],
                          [
                            0.1111111111111111,
                            "#46039f"
                          ],
                          [
                            0.2222222222222222,
                            "#7201a8"
                          ],
                          [
                            0.3333333333333333,
                            "#9c179e"
                          ],
                          [
                            0.4444444444444444,
                            "#bd3786"
                          ],
                          [
                            0.5555555555555556,
                            "#d8576b"
                          ],
                          [
                            0.6666666666666666,
                            "#ed7953"
                          ],
                          [
                            0.7777777777777778,
                            "#fb9f3a"
                          ],
                          [
                            0.8888888888888888,
                            "#fdca26"
                          ],
                          [
                            1,
                            "#f0f921"
                          ]
                        ],
                        "type": "surface"
                      }
                    ],
                    "table": [
                      {
                        "cells": {
                          "fill": {
                            "color": "#EBF0F8"
                          },
                          "line": {
                            "color": "white"
                          }
                        },
                        "header": {
                          "fill": {
                            "color": "#C8D4E3"
                          },
                          "line": {
                            "color": "white"
                          }
                        },
                        "type": "table"
                      }
                    ]
                  },
                  "layout": {
                    "annotationdefaults": {
                      "arrowcolor": "#2a3f5f",
                      "arrowhead": 0,
                      "arrowwidth": 1
                    },
                    "autotypenumbers": "strict",
                    "coloraxis": {
                      "colorbar": {
                        "outlinewidth": 0,
                        "ticks": ""
                      }
                    },
                    "colorscale": {
                      "diverging": [
                        [
                          0,
                          "#8e0152"
                        ],
                        [
                          0.1,
                          "#c51b7d"
                        ],
                        [
                          0.2,
                          "#de77ae"
                        ],
                        [
                          0.3,
                          "#f1b6da"
                        ],
                        [
                          0.4,
                          "#fde0ef"
                        ],
                        [
                          0.5,
                          "#f7f7f7"
                        ],
                        [
                          0.6,
                          "#e6f5d0"
                        ],
                        [
                          0.7,
                          "#b8e186"
                        ],
                        [
                          0.8,
                          "#7fbc41"
                        ],
                        [
                          0.9,
                          "#4d9221"
                        ],
                        [
                          1,
                          "#276419"
                        ]
                      ],
                      "sequential": [
                        [
                          0,
                          "#0d0887"
                        ],
                        [
                          0.1111111111111111,
                          "#46039f"
                        ],
                        [
                          0.2222222222222222,
                          "#7201a8"
                        ],
                        [
                          0.3333333333333333,
                          "#9c179e"
                        ],
                        [
                          0.4444444444444444,
                          "#bd3786"
                        ],
                        [
                          0.5555555555555556,
                          "#d8576b"
                        ],
                        [
                          0.6666666666666666,
                          "#ed7953"
                        ],
                        [
                          0.7777777777777778,
                          "#fb9f3a"
                        ],
                        [
                          0.8888888888888888,
                          "#fdca26"
                        ],
                        [
                          1,
                          "#f0f921"
                        ]
                      ],
                      "sequentialminus": [
                        [
                          0,
                          "#0d0887"
                        ],
                        [
                          0.1111111111111111,
                          "#46039f"
                        ],
                        [
                          0.2222222222222222,
                          "#7201a8"
                        ],
                        [
                          0.3333333333333333,
                          "#9c179e"
                        ],
                        [
                          0.4444444444444444,
                          "#bd3786"
                        ],
                        [
                          0.5555555555555556,
                          "#d8576b"
                        ],
                        [
                          0.6666666666666666,
                          "#ed7953"
                        ],
                        [
                          0.7777777777777778,
                          "#fb9f3a"
                        ],
                        [
                          0.8888888888888888,
                          "#fdca26"
                        ],
                        [
                          1,
                          "#f0f921"
                        ]
                      ]
                    },
                    "colorway": [
                      "#636efa",
                      "#EF553B",
                      "#00cc96",
                      "#ab63fa",
                      "#FFA15A",
                      "#19d3f3",
                      "#FF6692",
                      "#B6E880",
                      "#FF97FF",
                      "#FECB52"
                    ],
                    "font": {
                      "color": "#2a3f5f"
                    },
                    "geo": {
                      "bgcolor": "white",
                      "lakecolor": "white",
                      "landcolor": "#E5ECF6",
                      "showlakes": true,
                      "showland": true,
                      "subunitcolor": "white"
                    },
                    "hoverlabel": {
                      "align": "left"
                    },
                    "hovermode": "closest",
                    "mapbox": {
                      "style": "light"
                    },
                    "paper_bgcolor": "white",
                    "plot_bgcolor": "#E5ECF6",
                    "polar": {
                      "angularaxis": {
                        "gridcolor": "white",
                        "linecolor": "white",
                        "ticks": ""
                      },
                      "bgcolor": "#E5ECF6",
                      "radialaxis": {
                        "gridcolor": "white",
                        "linecolor": "white",
                        "ticks": ""
                      }
                    },
                    "scene": {
                      "xaxis": {
                        "backgroundcolor": "#E5ECF6",
                        "gridcolor": "white",
                        "gridwidth": 2,
                        "linecolor": "white",
                        "showbackground": true,
                        "ticks": "",
                        "zerolinecolor": "white"
                      },
                      "yaxis": {
                        "backgroundcolor": "#E5ECF6",
                        "gridcolor": "white",
                        "gridwidth": 2,
                        "linecolor": "white",
                        "showbackground": true,
                        "ticks": "",
                        "zerolinecolor": "white"
                      },
                      "zaxis": {
                        "backgroundcolor": "#E5ECF6",
                        "gridcolor": "white",
                        "gridwidth": 2,
                        "linecolor": "white",
                        "showbackground": true,
                        "ticks": "",
                        "zerolinecolor": "white"
                      }
                    },
                    "shapedefaults": {
                      "line": {
                        "color": "#2a3f5f"
                      }
                    },
                    "ternary": {
                      "aaxis": {
                        "gridcolor": "white",
                        "linecolor": "white",
                        "ticks": ""
                      },
                      "baxis": {
                        "gridcolor": "white",
                        "linecolor": "white",
                        "ticks": ""
                      },
                      "bgcolor": "#E5ECF6",
                      "caxis": {
                        "gridcolor": "white",
                        "linecolor": "white",
                        "ticks": ""
                      }
                    },
                    "title": {
                      "x": 0.05
                    },
                    "xaxis": {
                      "automargin": true,
                      "gridcolor": "white",
                      "linecolor": "white",
                      "ticks": "",
                      "title": {
                        "standoff": 15
                      },
                      "zerolinecolor": "white",
                      "zerolinewidth": 2
                    },
                    "yaxis": {
                      "automargin": true,
                      "gridcolor": "white",
                      "linecolor": "white",
                      "ticks": "",
                      "title": {
                        "standoff": 15
                      },
                      "zerolinecolor": "white",
                      "zerolinewidth": 2
                    }
                  }
                },
                "title": {
                  "text": "Distribution of Heart Diseases"
                },
                "width": 500,
                "xaxis": {
                  "anchor": "y",
                  "domain": [
                    0,
                    1
                  ],
                  "title": {
                    "text": "HeartDisease"
                  }
                },
                "yaxis": {
                  "anchor": "x",
                  "domain": [
                    0,
                    1
                  ],
                  "title": {
                    "text": "count"
                  }
                }
              }
            }
          },
          "metadata": {},
          "output_type": "display_data"
        }
      ],
      "source": [
        "# Shows the Distribution of Heat Diseases with respect to male and female\n",
        "fig=px.histogram(df, x=\"HeartDisease\", color=\"Sex\", hover_data=df.columns, title=\"Distribution of Heart Diseases\", barmode=\"group\",width=500, height=500)\n",
        "fig.show()"
      ]
    },
    {
      "cell_type": "code",
      "execution_count": null,
      "metadata": {
        "id": "9KYOQP-jy3yj",
        "outputId": "39b5c962-9360-436b-f13c-fd943f8c69c0"
      },
      "outputs": [
        {
          "data": {
            "text/plain": [
              "<AxesSubplot:xlabel='Age'>"
            ]
          },
          "execution_count": 11,
          "metadata": {},
          "output_type": "execute_result"
        },
        {
          "data": {
            "image/png": "[encoded data removed]",
            "text/plain": [
              "<Figure size 864x504 with 2 Axes>"
            ]
          },
          "metadata": {
            "needs_background": "light"
          },
          "output_type": "display_data"
        }
      ],
      "source": [
        "fig = plt.figure(figsize=(12, 7))\n",
        "grid = GridSpec(nrows=2, ncols=1, figure=fig)\n",
        "color = 'lightblue'\n",
        "\n",
        "ax0 = fig.add_subplot(grid[0, :])\n",
        "ax0.set_title(f'Histogram and BoxPlot of Age')\n",
        "sns.histplot(df['Age'], ax=ax0, color=color)\n",
        "\n",
        "ax1 = fig.add_subplot(grid[1, :])\n",
        "plt.axis('off')\n",
        "sns.boxplot(x=df['Age'], ax=ax1, color=color)"
      ]
    },
    {
      "cell_type": "code",
      "execution_count": null,
      "metadata": {
        "id": "IQY9pqd9zLuy",
        "outputId": "f1ea8f24-2da8-4d86-94d9-d904c1bd26b2"
      },
      "outputs": [
        {
          "data": {
            "application/vnd.plotly.v1+json": {
              "config": {
                "plotlyServerURL": "https://plot.ly"
              },
              "data": [
                {
                  "alignmentgroup": "True",
                  "bingroup": "x",
                  "hovertemplate": "HeartDisease=0<br>ChestPainType=%{x}<br>count=%{y}<extra></extra>",
                  "legendgroup": "0",
                  "marker": {
                    "color": "#636efa",
                    "pattern": {
                      "shape": ""
                    }
                  },
                  "name": "0",
                  "offsetgroup": "0",
                  "orientation": "v",
                  "showlegend": true,
                  "type": "histogram",
                  "x": [
                    "ATA",
                    "ATA",
                    "NAP",
                    "NAP",
                    "ATA",
                    "ATA",
                    "ATA",
                    "NAP",
                    "ATA",
                    "NAP",
                    "ATA",
                    "ATA",
                    "TA",
                    "ATA",
                    "ATA",
                    "NAP",
                    "NAP",
                    "ASY",
                    "ATA",
                    "ATA",
                    "ATA",
                    "NAP",
                    "ATA",
                    "ATA",
                    "ATA",
                    "ATA",
                    "ASY",
                    "ATA",
                    "ATA",
                    "NAP",
                    "NAP",
                    "ASY",
                    "ATA",
                    "NAP",
                    "ATA",
                    "ATA",
                    "ASY",
                    "ATA",
                    "ASY",
                    "ATA",
                    "NAP",
                    "ASY",
                    "ATA",
                    "ATA",
                    "ASY",
                    "ATA",
                    "ASY",
                    "ATA",
                    "ASY",
                    "NAP",
                    "ASY",
                    "ATA",
                    "NAP",
                    "ATA",
                    "ATA",
                    "ATA",
                    "ASY",
                    "ATA",
                    "ASY",
                    "ATA",
                    "NAP",
                    "ATA",
                    "NAP",
                    "ASY",
                    "ATA",
                    "ASY",
                    "ATA",
                    "ASY",
                    "ATA",
                    "ASY",
                    "ATA",
                    "ATA",
                    "ASY",
                    "ATA",
                    "NAP",
                    "TA",
                    "NAP",
                    "ASY",
                    "ATA",
                    "ATA",
                    "ATA",
                    "ASY",
                    "ATA",
                    "NAP",
                    "NAP",
                    "ASY",
                    "ATA",
                    "ATA",
                    "ASY",
                    "ASY",
                    "ATA",
                    "ATA",
                    "ATA",
                    "ATA",
                    "ATA",
                    "ATA",
                    "ASY",
                    "ATA",
                    "ASY",
                    "ATA",
                    "ATA",
                    "ATA",
                    "ATA",
                    "ATA",
                    "ASY",
                    "NAP",
                    "ATA",
                    "NAP",
                    "ATA",
                    "NAP",
                    "ATA",
                    "NAP",
                    "ASY",
                    "ATA",
                    "ASY",
                    "ATA",
                    "ATA",
                    "ASY",
                    "ASY",
                    "ATA",
                    "ATA",
                    "NAP",
                    "ATA",
                    "TA",
                    "ASY",
                    "ATA",
                    "TA",
                    "TA",
                    "NAP",
                    "NAP",
                    "ATA",
                    "ATA",
                    "ASY",
                    "ATA",
                    "ATA",
                    "NAP",
                    "NAP",
                    "TA",
                    "NAP",
                    "ATA",
                    "ATA",
                    "NAP",
                    "NAP",
                    "ATA",
                    "NAP",
                    "ATA",
                    "ASY",
                    "ASY",
                    "NAP",
                    "ATA",
                    "ASY",
                    "ATA",
                    "ATA",
                    "ATA",
                    "ATA",
                    "TA",
                    "ASY",
                    "ATA",
                    "NAP",
                    "ATA",
                    "NAP",
                    "NAP",
                    "ATA",
                    "ATA",
                    "ATA",
                    "ATA",
                    "ATA",
                    "NAP",
                    "ASY",
                    "ATA",
                    "NAP",
                    "ATA",
                    "NAP",
                    "ASY",
                    "ATA",
                    "NAP",
                    "NAP",
                    "ATA",
                    "ASY",
                    "NAP",
                    "ASY",
                    "ATA",
                    "ATA",
                    "ATA",
                    "NAP",
                    "ATA",
                    "ASY",
                    "ATA",
                    "ATA",
                    "ASY",
                    "ASY",
                    "NAP",
                    "NAP",
                    "NAP",
                    "NAP",
                    "ASY",
                    "NAP",
                    "NAP",
                    "NAP",
                    "ATA",
                    "ASY",
                    "ASY",
                    "ASY",
                    "NAP",
                    "ASY",
                    "ASY",
                    "ASY",
                    "ASY",
                    "NAP",
                    "ATA",
                    "ATA",
                    "ATA",
                    "ASY",
                    "ATA",
                    "TA",
                    "ASY",
                    "ASY",
                    "NAP",
                    "ASY",
                    "NAP",
                    "NAP",
                    "ASY",
                    "ASY",
                    "NAP",
                    "ATA",
                    "ASY",
                    "ATA",
                    "ASY",
                    "TA",
                    "NAP",
                    "NAP",
                    "ASY",
                    "NAP",
                    "ATA",
                    "ASY",
                    "ASY",
                    "NAP",
                    "NAP",
                    "ATA",
                    "ASY",
                    "NAP",
                    "ASY",
                    "NAP",
                    "ASY",
                    "TA",
                    "ASY",
                    "NAP",
                    "ASY",
                    "ATA",
                    "ASY",
                    "ASY",
                    "ASY",
                    "NAP",
                    "ASY",
                    "ASY",
                    "TA",
                    "TA",
                    "ATA",
                    "ASY",
                    "ASY",
                    "ATA",
                    "NAP",
                    "ASY",
                    "NAP",
                    "NAP",
                    "ASY",
                    "NAP",
                    "NAP",
                    "ASY",
                    "ASY",
                    "NAP",
                    "ATA",
                    "NAP",
                    "ATA",
                    "NAP",
                    "ATA",
                    "ATA",
                    "ATA",
                    "NAP",
                    "NAP",
                    "NAP",
                    "TA",
                    "TA",
                    "ASY",
                    "NAP",
                    "ASY",
                    "ATA",
                    "NAP",
                    "ASY",
                    "ASY",
                    "NAP",
                    "NAP",
                    "ATA",
                    "NAP",
                    "ASY",
                    "TA",
                    "ATA",
                    "TA",
                    "ATA",
                    "ATA",
                    "ASY",
                    "NAP",
                    "ATA",
                    "NAP",
                    "ASY",
                    "NAP",
                    "ATA",
                    "ATA",
                    "NAP",
                    "ATA",
                    "ATA",
                    "TA",
                    "NAP",
                    "NAP",
                    "NAP",
                    "NAP",
                    "ATA",
                    "ASY",
                    "NAP",
                    "NAP",
                    "NAP",
                    "ATA",
                    "ASY",
                    "ASY",
                    "TA",
                    "NAP",
                    "NAP",
                    "NAP",
                    "NAP",
                    "ASY",
                    "NAP",
                    "ATA",
                    "ATA",
                    "TA",
                    "ATA",
                    "ASY",
                    "ASY",
                    "ASY",
                    "NAP",
                    "ASY",
                    "TA",
                    "NAP",
                    "TA",
                    "NAP",
                    "NAP",
                    "ASY",
                    "NAP",
                    "NAP",
                    "ASY",
                    "ASY",
                    "ASY",
                    "ATA",
                    "NAP",
                    "ATA",
                    "ASY",
                    "NAP",
                    "TA",
                    "NAP",
                    "TA",
                    "NAP",
                    "NAP",
                    "NAP",
                    "NAP",
                    "NAP",
                    "ATA",
                    "ATA",
                    "NAP",
                    "NAP",
                    "NAP",
                    "ATA",
                    "NAP",
                    "ASY",
                    "ATA",
                    "TA",
                    "TA",
                    "ASY",
                    "NAP",
                    "ASY",
                    "NAP",
                    "ATA",
                    "NAP",
                    "ASY",
                    "NAP",
                    "NAP",
                    "ATA",
                    "NAP",
                    "NAP",
                    "ATA",
                    "NAP",
                    "ASY",
                    "NAP",
                    "ATA",
                    "NAP",
                    "ATA",
                    "ATA",
                    "ASY",
                    "NAP",
                    "NAP",
                    "TA",
                    "NAP",
                    "NAP",
                    "ASY",
                    "NAP",
                    "ATA",
                    "ATA",
                    "ATA",
                    "ATA",
                    "ATA",
                    "ATA",
                    "NAP"
                  ],
                  "xaxis": "x",
                  "yaxis": "y"
                },
                {
                  "alignmentgroup": "True",
                  "bingroup": "x",
                  "hovertemplate": "HeartDisease=1<br>ChestPainType=%{x}<br>count=%{y}<extra></extra>",
                  "legendgroup": "1",
                  "marker": {
                    "color": "#EF553B",
                    "pattern": {
                      "shape": ""
                    }
                  },
                  "name": "1",
                  "offsetgroup": "1",
                  "orientation": "v",
                  "showlegend": true,
                  "type": "histogram",
                  "x": [
                    "NAP",
                    "ASY",
                    "ASY",
                    "ATA",
                    "ASY",
                    "ASY",
                    "ASY",
                    "ATA",
                    "ATA",
                    "NAP",
                    "ASY",
                    "ASY",
                    "ASY",
                    "NAP",
                    "ASY",
                    "ASY",
                    "ASY",
                    "ASY",
                    "ASY",
                    "NAP",
                    "ASY",
                    "ASY",
                    "ASY",
                    "ATA",
                    "ASY",
                    "ASY",
                    "ASY",
                    "ASY",
                    "ASY",
                    "ASY",
                    "ASY",
                    "ASY",
                    "TA",
                    "ASY",
                    "ASY",
                    "ASY",
                    "ASY",
                    "ASY",
                    "ASY",
                    "ASY",
                    "ASY",
                    "ASY",
                    "ASY",
                    "TA",
                    "NAP",
                    "ATA",
                    "ASY",
                    "ASY",
                    "ASY",
                    "NAP",
                    "ASY",
                    "ASY",
                    "ASY",
                    "ASY",
                    "ASY",
                    "ATA",
                    "ASY",
                    "ASY",
                    "ASY",
                    "ASY",
                    "ASY",
                    "ASY",
                    "TA",
                    "ASY",
                    "ASY",
                    "ASY",
                    "ASY",
                    "ASY",
                    "ASY",
                    "NAP",
                    "ASY",
                    "ASY",
                    "ASY",
                    "ATA",
                    "ASY",
                    "ASY",
                    "NAP",
                    "ASY",
                    "ASY",
                    "ASY",
                    "ASY",
                    "ASY",
                    "ASY",
                    "ASY",
                    "TA",
                    "ASY",
                    "ASY",
                    "ASY",
                    "ATA",
                    "ASY",
                    "NAP",
                    "ASY",
                    "ASY",
                    "ASY",
                    "ASY",
                    "ASY",
                    "ASY",
                    "ASY",
                    "ASY",
                    "NAP",
                    "ASY",
                    "ASY",
                    "ASY",
                    "NAP",
                    "ASY",
                    "ASY",
                    "ASY",
                    "TA",
                    "ASY",
                    "ASY",
                    "ASY",
                    "ASY",
                    "ASY",
                    "ASY",
                    "ASY",
                    "ASY",
                    "ASY",
                    "ASY",
                    "ASY",
                    "ASY",
                    "ASY",
                    "ASY",
                    "ASY",
                    "ASY",
                    "ATA",
                    "NAP",
                    "ASY",
                    "ASY",
                    "ASY",
                    "NAP",
                    "ASY",
                    "ASY",
                    "ASY",
                    "ASY",
                    "ASY",
                    "ASY",
                    "ASY",
                    "ASY",
                    "NAP",
                    "ASY",
                    "ASY",
                    "ASY",
                    "TA",
                    "ASY",
                    "ASY",
                    "ASY",
                    "ASY",
                    "ASY",
                    "ASY",
                    "ASY",
                    "ASY",
                    "ASY",
                    "ASY",
                    "ASY",
                    "ASY",
                    "ASY",
                    "ASY",
                    "ASY",
                    "ASY",
                    "ASY",
                    "ASY",
                    "TA",
                    "ASY",
                    "ATA",
                    "NAP",
                    "NAP",
                    "NAP",
                    "ASY",
                    "NAP",
                    "ASY",
                    "ASY",
                    "ASY",
                    "ASY",
                    "ASY",
                    "ASY",
                    "ASY",
                    "ASY",
                    "ASY",
                    "ASY",
                    "ASY",
                    "NAP",
                    "NAP",
                    "ASY",
                    "ASY",
                    "ASY",
                    "ASY",
                    "ASY",
                    "ASY",
                    "ASY",
                    "ASY",
                    "ASY",
                    "ASY",
                    "ASY",
                    "ASY",
                    "ASY",
                    "ASY",
                    "ASY",
                    "ASY",
                    "ASY",
                    "ASY",
                    "ASY",
                    "TA",
                    "ASY",
                    "ASY",
                    "NAP",
                    "ASY",
                    "ASY",
                    "ASY",
                    "ASY",
                    "NAP",
                    "ASY",
                    "ASY",
                    "ASY",
                    "ASY",
                    "NAP",
                    "ASY",
                    "ASY",
                    "ASY",
                    "NAP",
                    "ASY",
                    "ASY",
                    "ASY",
                    "ASY",
                    "ASY",
                    "ASY",
                    "NAP",
                    "ATA",
                    "ASY",
                    "ASY",
                    "NAP",
                    "ASY",
                    "ASY",
                    "ASY",
                    "ASY",
                    "ASY",
                    "NAP",
                    "NAP",
                    "ASY",
                    "ASY",
                    "ASY",
                    "ASY",
                    "NAP",
                    "ASY",
                    "ASY",
                    "ASY",
                    "NAP",
                    "NAP",
                    "ASY",
                    "ASY",
                    "ASY",
                    "NAP",
                    "ASY",
                    "ASY",
                    "ASY",
                    "ASY",
                    "ASY",
                    "NAP",
                    "NAP",
                    "ASY",
                    "ASY",
                    "ASY",
                    "ASY",
                    "NAP",
                    "ASY",
                    "ASY",
                    "ASY",
                    "NAP",
                    "ATA",
                    "NAP",
                    "TA",
                    "ASY",
                    "ASY",
                    "ATA",
                    "ASY",
                    "ASY",
                    "NAP",
                    "ASY",
                    "TA",
                    "NAP",
                    "ASY",
                    "ASY",
                    "ASY",
                    "ASY",
                    "ASY",
                    "ASY",
                    "ASY",
                    "ASY",
                    "ASY",
                    "NAP",
                    "ASY",
                    "ASY",
                    "ASY",
                    "ASY",
                    "TA",
                    "ASY",
                    "NAP",
                    "ASY",
                    "NAP",
                    "ASY",
                    "ASY",
                    "ASY",
                    "ASY",
                    "ASY",
                    "NAP",
                    "ASY",
                    "ASY",
                    "ASY",
                    "ASY",
                    "ASY",
                    "ASY",
                    "ASY",
                    "NAP",
                    "ASY",
                    "ASY",
                    "NAP",
                    "NAP",
                    "ASY",
                    "ASY",
                    "NAP",
                    "TA",
                    "ASY",
                    "ASY",
                    "NAP",
                    "TA",
                    "NAP",
                    "NAP",
                    "NAP",
                    "ASY",
                    "ASY",
                    "ASY",
                    "ASY",
                    "ASY",
                    "ASY",
                    "ASY",
                    "ASY",
                    "ASY",
                    "ASY",
                    "ASY",
                    "ASY",
                    "ASY",
                    "ASY",
                    "ASY",
                    "ASY",
                    "ASY",
                    "ASY",
                    "ASY",
                    "ASY",
                    "ASY",
                    "ATA",
                    "ASY",
                    "ASY",
                    "NAP",
                    "ASY",
                    "ASY",
                    "ASY",
                    "ASY",
                    "ASY",
                    "ASY",
                    "ASY",
                    "NAP",
                    "NAP",
                    "ASY",
                    "ASY",
                    "ASY",
                    "ASY",
                    "ASY",
                    "ASY",
                    "ASY",
                    "ATA",
                    "ASY",
                    "ATA",
                    "NAP",
                    "ASY",
                    "ASY",
                    "ASY",
                    "TA",
                    "ASY",
                    "ASY",
                    "ASY",
                    "NAP",
                    "NAP",
                    "ASY",
                    "ASY",
                    "ASY",
                    "ASY",
                    "TA",
                    "ASY",
                    "NAP",
                    "NAP",
                    "ASY",
                    "ATA",
                    "ASY",
                    "ASY",
                    "ASY",
                    "ASY",
                    "ATA",
                    "ASY",
                    "ASY",
                    "ATA",
                    "NAP",
                    "ASY",
                    "ASY",
                    "ASY",
                    "ASY",
                    "ASY",
                    "ASY",
                    "ASY",
                    "ASY",
                    "ASY",
                    "ASY",
                    "ASY",
                    "ASY",
                    "ASY",
                    "ASY",
                    "ASY",
                    "ASY",
                    "ASY",
                    "ASY",
                    "ASY",
                    "ASY",
                    "ASY",
                    "ASY",
                    "ASY",
                    "NAP",
                    "ASY",
                    "ASY",
                    "ASY",
                    "ASY",
                    "ASY",
                    "ASY",
                    "ASY",
                    "ASY",
                    "ASY",
                    "NAP",
                    "ATA",
                    "ASY",
                    "ASY",
                    "ASY",
                    "NAP",
                    "ASY",
                    "ASY",
                    "TA",
                    "ASY",
                    "ASY",
                    "TA",
                    "NAP",
                    "ASY",
                    "ASY",
                    "ASY",
                    "NAP",
                    "ASY",
                    "ASY",
                    "ASY",
                    "ASY",
                    "NAP",
                    "ASY",
                    "ASY",
                    "ASY",
                    "ASY",
                    "ASY",
                    "ASY",
                    "ASY",
                    "NAP",
                    "TA",
                    "ASY",
                    "ASY",
                    "ASY",
                    "ASY",
                    "NAP",
                    "ASY",
                    "ASY",
                    "ASY",
                    "ASY",
                    "ASY",
                    "ASY",
                    "NAP",
                    "ASY",
                    "ASY",
                    "ASY",
                    "NAP",
                    "ASY",
                    "ASY",
                    "ASY",
                    "ASY",
                    "NAP",
                    "ASY",
                    "ATA",
                    "ATA",
                    "ASY",
                    "ASY",
                    "ASY",
                    "TA",
                    "ATA",
                    "ASY",
                    "ASY",
                    "ASY",
                    "ASY",
                    "ASY",
                    "NAP",
                    "ASY",
                    "ASY",
                    "ASY",
                    "ASY",
                    "ASY",
                    "TA",
                    "ASY",
                    "ASY",
                    "ATA"
                  ],
                  "xaxis": "x",
                  "yaxis": "y"
                }
              ],
              "layout": {
                "barmode": "relative",
                "height": 500,
                "legend": {
                  "title": {
                    "text": "HeartDisease"
                  },
                  "tracegroupgap": 0
                },
                "template": {
                  "data": {
                    "bar": [
                      {
                        "error_x": {
                          "color": "#2a3f5f"
                        },
                        "error_y": {
                          "color": "#2a3f5f"
                        },
                        "marker": {
                          "line": {
                            "color": "#E5ECF6",
                            "width": 0.5
                          },
                          "pattern": {
                            "fillmode": "overlay",
                            "size": 10,
                            "solidity": 0.2
                          }
                        },
                        "type": "bar"
                      }
                    ],
                    "barpolar": [
                      {
                        "marker": {
                          "line": {
                            "color": "#E5ECF6",
                            "width": 0.5
                          },
                          "pattern": {
                            "fillmode": "overlay",
                            "size": 10,
                            "solidity": 0.2
                          }
                        },
                        "type": "barpolar"
                      }
                    ],
                    "carpet": [
                      {
                        "aaxis": {
                          "endlinecolor": "#2a3f5f",
                          "gridcolor": "white",
                          "linecolor": "white",
                          "minorgridcolor": "white",
                          "startlinecolor": "#2a3f5f"
                        },
                        "baxis": {
                          "endlinecolor": "#2a3f5f",
                          "gridcolor": "white",
                          "linecolor": "white",
                          "minorgridcolor": "white",
                          "startlinecolor": "#2a3f5f"
                        },
                        "type": "carpet"
                      }
                    ],
                    "choropleth": [
                      {
                        "colorbar": {
                          "outlinewidth": 0,
                          "ticks": ""
                        },
                        "type": "choropleth"
                      }
                    ],
                    "contour": [
                      {
                        "colorbar": {
                          "outlinewidth": 0,
                          "ticks": ""
                        },
                        "colorscale": [
                          [
                            0,
                            "#0d0887"
                          ],
                          [
                            0.1111111111111111,
                            "#46039f"
                          ],
                          [
                            0.2222222222222222,
                            "#7201a8"
                          ],
                          [
                            0.3333333333333333,
                            "#9c179e"
                          ],
                          [
                            0.4444444444444444,
                            "#bd3786"
                          ],
                          [
                            0.5555555555555556,
                            "#d8576b"
                          ],
                          [
                            0.6666666666666666,
                            "#ed7953"
                          ],
                          [
                            0.7777777777777778,
                            "#fb9f3a"
                          ],
                          [
                            0.8888888888888888,
                            "#fdca26"
                          ],
                          [
                            1,
                            "#f0f921"
                          ]
                        ],
                        "type": "contour"
                      }
                    ],
                    "contourcarpet": [
                      {
                        "colorbar": {
                          "outlinewidth": 0,
                          "ticks": ""
                        },
                        "type": "contourcarpet"
                      }
                    ],
                    "heatmap": [
                      {
                        "colorbar": {
                          "outlinewidth": 0,
                          "ticks": ""
                        },
                        "colorscale": [
                          [
                            0,
                            "#0d0887"
                          ],
                          [
                            0.1111111111111111,
                            "#46039f"
                          ],
                          [
                            0.2222222222222222,
                            "#7201a8"
                          ],
                          [
                            0.3333333333333333,
                            "#9c179e"
                          ],
                          [
                            0.4444444444444444,
                            "#bd3786"
                          ],
                          [
                            0.5555555555555556,
                            "#d8576b"
                          ],
                          [
                            0.6666666666666666,
                            "#ed7953"
                          ],
                          [
                            0.7777777777777778,
                            "#fb9f3a"
                          ],
                          [
                            0.8888888888888888,
                            "#fdca26"
                          ],
                          [
                            1,
                            "#f0f921"
                          ]
                        ],
                        "type": "heatmap"
                      }
                    ],
                    "heatmapgl": [
                      {
                        "colorbar": {
                          "outlinewidth": 0,
                          "ticks": ""
                        },
                        "colorscale": [
                          [
                            0,
                            "#0d0887"
                          ],
                          [
                            0.1111111111111111,
                            "#46039f"
                          ],
                          [
                            0.2222222222222222,
                            "#7201a8"
                          ],
                          [
                            0.3333333333333333,
                            "#9c179e"
                          ],
                          [
                            0.4444444444444444,
                            "#bd3786"
                          ],
                          [
                            0.5555555555555556,
                            "#d8576b"
                          ],
                          [
                            0.6666666666666666,
                            "#ed7953"
                          ],
                          [
                            0.7777777777777778,
                            "#fb9f3a"
                          ],
                          [
                            0.8888888888888888,
                            "#fdca26"
                          ],
                          [
                            1,
                            "#f0f921"
                          ]
                        ],
                        "type": "heatmapgl"
                      }
                    ],
                    "histogram": [
                      {
                        "marker": {
                          "pattern": {
                            "fillmode": "overlay",
                            "size": 10,
                            "solidity": 0.2
                          }
                        },
                        "type": "histogram"
                      }
                    ],
                    "histogram2d": [
                      {
                        "colorbar": {
                          "outlinewidth": 0,
                          "ticks": ""
                        },
                        "colorscale": [
                          [
                            0,
                            "#0d0887"
                          ],
                          [
                            0.1111111111111111,
                            "#46039f"
                          ],
                          [
                            0.2222222222222222,
                            "#7201a8"
                          ],
                          [
                            0.3333333333333333,
                            "#9c179e"
                          ],
                          [
                            0.4444444444444444,
                            "#bd3786"
                          ],
                          [
                            0.5555555555555556,
                            "#d8576b"
                          ],
                          [
                            0.6666666666666666,
                            "#ed7953"
                          ],
                          [
                            0.7777777777777778,
                            "#fb9f3a"
                          ],
                          [
                            0.8888888888888888,
                            "#fdca26"
                          ],
                          [
                            1,
                            "#f0f921"
                          ]
                        ],
                        "type": "histogram2d"
                      }
                    ],
                    "histogram2dcontour": [
                      {
                        "colorbar": {
                          "outlinewidth": 0,
                          "ticks": ""
                        },
                        "colorscale": [
                          [
                            0,
                            "#0d0887"
                          ],
                          [
                            0.1111111111111111,
                            "#46039f"
                          ],
                          [
                            0.2222222222222222,
                            "#7201a8"
                          ],
                          [
                            0.3333333333333333,
                            "#9c179e"
                          ],
                          [
                            0.4444444444444444,
                            "#bd3786"
                          ],
                          [
                            0.5555555555555556,
                            "#d8576b"
                          ],
                          [
                            0.6666666666666666,
                            "#ed7953"
                          ],
                          [
                            0.7777777777777778,
                            "#fb9f3a"
                          ],
                          [
                            0.8888888888888888,
                            "#fdca26"
                          ],
                          [
                            1,
                            "#f0f921"
                          ]
                        ],
                        "type": "histogram2dcontour"
                      }
                    ],
                    "mesh3d": [
                      {
                        "colorbar": {
                          "outlinewidth": 0,
                          "ticks": ""
                        },
                        "type": "mesh3d"
                      }
                    ],
                    "parcoords": [
                      {
                        "line": {
                          "colorbar": {
                            "outlinewidth": 0,
                            "ticks": ""
                          }
                        },
                        "type": "parcoords"
                      }
                    ],
                    "pie": [
                      {
                        "automargin": true,
                        "type": "pie"
                      }
                    ],
                    "scatter": [
                      {
                        "fillpattern": {
                          "fillmode": "overlay",
                          "size": 10,
                          "solidity": 0.2
                        },
                        "type": "scatter"
                      }
                    ],
                    "scatter3d": [
                      {
                        "line": {
                          "colorbar": {
                            "outlinewidth": 0,
                            "ticks": ""
                          }
                        },
                        "marker": {
                          "colorbar": {
                            "outlinewidth": 0,
                            "ticks": ""
                          }
                        },
                        "type": "scatter3d"
                      }
                    ],
                    "scattercarpet": [
                      {
                        "marker": {
                          "colorbar": {
                            "outlinewidth": 0,
                            "ticks": ""
                          }
                        },
                        "type": "scattercarpet"
                      }
                    ],
                    "scattergeo": [
                      {
                        "marker": {
                          "colorbar": {
                            "outlinewidth": 0,
                            "ticks": ""
                          }
                        },
                        "type": "scattergeo"
                      }
                    ],
                    "scattergl": [
                      {
                        "marker": {
                          "colorbar": {
                            "outlinewidth": 0,
                            "ticks": ""
                          }
                        },
                        "type": "scattergl"
                      }
                    ],
                    "scattermapbox": [
                      {
                        "marker": {
                          "colorbar": {
                            "outlinewidth": 0,
                            "ticks": ""
                          }
                        },
                        "type": "scattermapbox"
                      }
                    ],
                    "scatterpolar": [
                      {
                        "marker": {
                          "colorbar": {
                            "outlinewidth": 0,
                            "ticks": ""
                          }
                        },
                        "type": "scatterpolar"
                      }
                    ],
                    "scatterpolargl": [
                      {
                        "marker": {
                          "colorbar": {
                            "outlinewidth": 0,
                            "ticks": ""
                          }
                        },
                        "type": "scatterpolargl"
                      }
                    ],
                    "scatterternary": [
                      {
                        "marker": {
                          "colorbar": {
                            "outlinewidth": 0,
                            "ticks": ""
                          }
                        },
                        "type": "scatterternary"
                      }
                    ],
                    "surface": [
                      {
                        "colorbar": {
                          "outlinewidth": 0,
                          "ticks": ""
                        },
                        "colorscale": [
                          [
                            0,
                            "#0d0887"
                          ],
                          [
                            0.1111111111111111,
                            "#46039f"
                          ],
                          [
                            0.2222222222222222,
                            "#7201a8"
                          ],
                          [
                            0.3333333333333333,
                            "#9c179e"
                          ],
                          [
                            0.4444444444444444,
                            "#bd3786"
                          ],
                          [
                            0.5555555555555556,
                            "#d8576b"
                          ],
                          [
                            0.6666666666666666,
                            "#ed7953"
                          ],
                          [
                            0.7777777777777778,
                            "#fb9f3a"
                          ],
                          [
                            0.8888888888888888,
                            "#fdca26"
                          ],
                          [
                            1,
                            "#f0f921"
                          ]
                        ],
                        "type": "surface"
                      }
                    ],
                    "table": [
                      {
                        "cells": {
                          "fill": {
                            "color": "#EBF0F8"
                          },
                          "line": {
                            "color": "white"
                          }
                        },
                        "header": {
                          "fill": {
                            "color": "#C8D4E3"
                          },
                          "line": {
                            "color": "white"
                          }
                        },
                        "type": "table"
                      }
                    ]
                  },
                  "layout": {
                    "annotationdefaults": {
                      "arrowcolor": "#2a3f5f",
                      "arrowhead": 0,
                      "arrowwidth": 1
                    },
                    "autotypenumbers": "strict",
                    "coloraxis": {
                      "colorbar": {
                        "outlinewidth": 0,
                        "ticks": ""
                      }
                    },
                    "colorscale": {
                      "diverging": [
                        [
                          0,
                          "#8e0152"
                        ],
                        [
                          0.1,
                          "#c51b7d"
                        ],
                        [
                          0.2,
                          "#de77ae"
                        ],
                        [
                          0.3,
                          "#f1b6da"
                        ],
                        [
                          0.4,
                          "#fde0ef"
                        ],
                        [
                          0.5,
                          "#f7f7f7"
                        ],
                        [
                          0.6,
                          "#e6f5d0"
                        ],
                        [
                          0.7,
                          "#b8e186"
                        ],
                        [
                          0.8,
                          "#7fbc41"
                        ],
                        [
                          0.9,
                          "#4d9221"
                        ],
                        [
                          1,
                          "#276419"
                        ]
                      ],
                      "sequential": [
                        [
                          0,
                          "#0d0887"
                        ],
                        [
                          0.1111111111111111,
                          "#46039f"
                        ],
                        [
                          0.2222222222222222,
                          "#7201a8"
                        ],
                        [
                          0.3333333333333333,
                          "#9c179e"
                        ],
                        [
                          0.4444444444444444,
                          "#bd3786"
                        ],
                        [
                          0.5555555555555556,
                          "#d8576b"
                        ],
                        [
                          0.6666666666666666,
                          "#ed7953"
                        ],
                        [
                          0.7777777777777778,
                          "#fb9f3a"
                        ],
                        [
                          0.8888888888888888,
                          "#fdca26"
                        ],
                        [
                          1,
                          "#f0f921"
                        ]
                      ],
                      "sequentialminus": [
                        [
                          0,
                          "#0d0887"
                        ],
                        [
                          0.1111111111111111,
                          "#46039f"
                        ],
                        [
                          0.2222222222222222,
                          "#7201a8"
                        ],
                        [
                          0.3333333333333333,
                          "#9c179e"
                        ],
                        [
                          0.4444444444444444,
                          "#bd3786"
                        ],
                        [
                          0.5555555555555556,
                          "#d8576b"
                        ],
                        [
                          0.6666666666666666,
                          "#ed7953"
                        ],
                        [
                          0.7777777777777778,
                          "#fb9f3a"
                        ],
                        [
                          0.8888888888888888,
                          "#fdca26"
                        ],
                        [
                          1,
                          "#f0f921"
                        ]
                      ]
                    },
                    "colorway": [
                      "#636efa",
                      "#EF553B",
                      "#00cc96",
                      "#ab63fa",
                      "#FFA15A",
                      "#19d3f3",
                      "#FF6692",
                      "#B6E880",
                      "#FF97FF",
                      "#FECB52"
                    ],
                    "font": {
                      "color": "#2a3f5f"
                    },
                    "geo": {
                      "bgcolor": "white",
                      "lakecolor": "white",
                      "landcolor": "#E5ECF6",
                      "showlakes": true,
                      "showland": true,
                      "subunitcolor": "white"
                    },
                    "hoverlabel": {
                      "align": "left"
                    },
                    "hovermode": "closest",
                    "mapbox": {
                      "style": "light"
                    },
                    "paper_bgcolor": "white",
                    "plot_bgcolor": "#E5ECF6",
                    "polar": {
                      "angularaxis": {
                        "gridcolor": "white",
                        "linecolor": "white",
                        "ticks": ""
                      },
                      "bgcolor": "#E5ECF6",
                      "radialaxis": {
                        "gridcolor": "white",
                        "linecolor": "white",
                        "ticks": ""
                      }
                    },
                    "scene": {
                      "xaxis": {
                        "backgroundcolor": "#E5ECF6",
                        "gridcolor": "white",
                        "gridwidth": 2,
                        "linecolor": "white",
                        "showbackground": true,
                        "ticks": "",
                        "zerolinecolor": "white"
                      },
                      "yaxis": {
                        "backgroundcolor": "#E5ECF6",
                        "gridcolor": "white",
                        "gridwidth": 2,
                        "linecolor": "white",
                        "showbackground": true,
                        "ticks": "",
                        "zerolinecolor": "white"
                      },
                      "zaxis": {
                        "backgroundcolor": "#E5ECF6",
                        "gridcolor": "white",
                        "gridwidth": 2,
                        "linecolor": "white",
                        "showbackground": true,
                        "ticks": "",
                        "zerolinecolor": "white"
                      }
                    },
                    "shapedefaults": {
                      "line": {
                        "color": "#2a3f5f"
                      }
                    },
                    "ternary": {
                      "aaxis": {
                        "gridcolor": "white",
                        "linecolor": "white",
                        "ticks": ""
                      },
                      "baxis": {
                        "gridcolor": "white",
                        "linecolor": "white",
                        "ticks": ""
                      },
                      "bgcolor": "#E5ECF6",
                      "caxis": {
                        "gridcolor": "white",
                        "linecolor": "white",
                        "ticks": ""
                      }
                    },
                    "title": {
                      "x": 0.05
                    },
                    "xaxis": {
                      "automargin": true,
                      "gridcolor": "white",
                      "linecolor": "white",
                      "ticks": "",
                      "title": {
                        "standoff": 15
                      },
                      "zerolinecolor": "white",
                      "zerolinewidth": 2
                    },
                    "yaxis": {
                      "automargin": true,
                      "gridcolor": "white",
                      "linecolor": "white",
                      "ticks": "",
                      "title": {
                        "standoff": 15
                      },
                      "zerolinecolor": "white",
                      "zerolinewidth": 2
                    }
                  }
                },
                "title": {
                  "text": "Count of people for each Chest Pain Type"
                },
                "width": 500,
                "xaxis": {
                  "anchor": "y",
                  "domain": [
                    0,
                    1
                  ],
                  "title": {
                    "text": "ChestPainType"
                  }
                },
                "yaxis": {
                  "anchor": "x",
                  "domain": [
                    0,
                    1
                  ],
                  "title": {
                    "text": "count"
                  }
                }
              }
            }
          },
          "metadata": {},
          "output_type": "display_data"
        }
      ],
      "source": [
        "fig = px.histogram(df, x=\"ChestPainType\", color=\"HeartDisease\",title='Count of people for each Chest Pain Type',width=500, height=500)\n",
        "fig.show()"
      ]
    },
    {
      "cell_type": "code",
      "execution_count": null,
      "metadata": {
        "id": "5xVWFuQ0zQlC",
        "outputId": "1e973e15-6dff-4f67-b6f4-3b2058017f7e"
      },
      "outputs": [
        {
          "data": {
            "application/vnd.plotly.v1+json": {
              "config": {
                "plotlyServerURL": "https://plot.ly"
              },
              "data": [
                {
                  "alignmentgroup": "True",
                  "bingroup": "x",
                  "hovertemplate": "Sex=M<br>ChestPainType=%{x}<br>count=%{y}<extra></extra>",
                  "legendgroup": "M",
                  "marker": {
                    "color": "#636efa",
                    "pattern": {
                      "shape": ""
                    }
                  },
                  "name": "M",
                  "offsetgroup": "M",
                  "orientation": "v",
                  "showlegend": true,
                  "type": "histogram",
                  "x": [
                    "ATA",
                    "ATA",
                    "NAP",
                    "NAP",
                    "ATA",
                    "ASY",
                    "ATA",
                    "ATA",
                    "ASY",
                    "ASY",
                    "ASY",
                    "ATA",
                    "ATA",
                    "ATA",
                    "NAP",
                    "NAP",
                    "ASY",
                    "ATA",
                    "ATA",
                    "NAP",
                    "NAP",
                    "ASY",
                    "ASY",
                    "ATA",
                    "ASY",
                    "ATA",
                    "NAP",
                    "ASY",
                    "NAP",
                    "ASY",
                    "ATA",
                    "NAP",
                    "ASY",
                    "ASY",
                    "ATA",
                    "ASY",
                    "NAP",
                    "ASY",
                    "ASY",
                    "ATA",
                    "ASY",
                    "ASY",
                    "ATA",
                    "ASY",
                    "ASY",
                    "ATA",
                    "ATA",
                    "ASY",
                    "ASY",
                    "NAP",
                    "ASY",
                    "ATA",
                    "ASY",
                    "NAP",
                    "ATA",
                    "ASY",
                    "ATA",
                    "ASY",
                    "ASY",
                    "ASY",
                    "TA",
                    "ASY",
                    "ASY",
                    "ASY",
                    "ASY",
                    "ATA",
                    "NAP",
                    "ASY",
                    "ATA",
                    "ASY",
                    "ASY",
                    "ASY",
                    "ASY",
                    "ATA",
                    "ATA",
                    "ASY",
                    "ATA",
                    "ASY",
                    "ASY",
                    "ATA",
                    "ASY",
                    "TA",
                    "ASY",
                    "ATA",
                    "ATA",
                    "NAP",
                    "NAP",
                    "ASY",
                    "ASY",
                    "ASY",
                    "NAP",
                    "ATA",
                    "ASY",
                    "ASY",
                    "ASY",
                    "ASY",
                    "ASY",
                    "ASY",
                    "ASY",
                    "ATA",
                    "ATA",
                    "ASY",
                    "ATA",
                    "ATA",
                    "ATA",
                    "ASY",
                    "ATA",
                    "ASY",
                    "ASY",
                    "ASY",
                    "ASY",
                    "ATA",
                    "ASY",
                    "ASY",
                    "ATA",
                    "ATA",
                    "TA",
                    "ASY",
                    "ATA",
                    "ASY",
                    "NAP",
                    "ATA",
                    "NAP",
                    "ATA",
                    "NAP",
                    "ASY",
                    "ASY",
                    "ASY",
                    "ATA",
                    "NAP",
                    "ASY",
                    "ATA",
                    "ASY",
                    "ASY",
                    "NAP",
                    "ATA",
                    "ASY",
                    "ASY",
                    "ASY",
                    "ATA",
                    "ATA",
                    "NAP",
                    "ASY",
                    "ATA",
                    "ASY",
                    "TA",
                    "NAP",
                    "NAP",
                    "ATA",
                    "ASY",
                    "ATA",
                    "ATA",
                    "ATA",
                    "ASY",
                    "ASY",
                    "NAP",
                    "ASY",
                    "ASY",
                    "NAP",
                    "ATA",
                    "ATA",
                    "ASY",
                    "NAP",
                    "ATA",
                    "ASY",
                    "NAP",
                    "ASY",
                    "ATA",
                    "ASY",
                    "NAP",
                    "ASY",
                    "ATA",
                    "ASY",
                    "TA",
                    "ASY",
                    "ASY",
                    "ATA",
                    "ASY",
                    "ATA",
                    "ASY",
                    "TA",
                    "NAP",
                    "ASY",
                    "ASY",
                    "ASY",
                    "ASY",
                    "ASY",
                    "ASY",
                    "ATA",
                    "ASY",
                    "NAP",
                    "ATA",
                    "ASY",
                    "ASY",
                    "NAP",
                    "ATA",
                    "ASY",
                    "ATA",
                    "ASY",
                    "ASY",
                    "ASY",
                    "NAP",
                    "NAP",
                    "NAP",
                    "ASY",
                    "NAP",
                    "ASY",
                    "ASY",
                    "ASY",
                    "ATA",
                    "ATA",
                    "NAP",
                    "ASY",
                    "ASY",
                    "TA",
                    "ASY",
                    "ASY",
                    "ASY",
                    "ASY",
                    "ASY",
                    "ASY",
                    "ATA",
                    "ASY",
                    "ASY",
                    "ASY",
                    "ATA",
                    "ASY",
                    "ASY",
                    "ASY",
                    "ASY",
                    "ASY",
                    "ASY",
                    "ASY",
                    "ATA",
                    "NAP",
                    "ASY",
                    "ASY",
                    "ASY",
                    "NAP",
                    "ASY",
                    "ASY",
                    "ASY",
                    "ASY",
                    "NAP",
                    "ASY",
                    "ASY",
                    "ASY",
                    "NAP",
                    "ASY",
                    "NAP",
                    "ASY",
                    "ASY",
                    "TA",
                    "NAP",
                    "ASY",
                    "ASY",
                    "ASY",
                    "ASY",
                    "ASY",
                    "ASY",
                    "ASY",
                    "ASY",
                    "ASY",
                    "ASY",
                    "ASY",
                    "ASY",
                    "ASY",
                    "ASY",
                    "ASY",
                    "ASY",
                    "ASY",
                    "TA",
                    "ASY",
                    "ATA",
                    "NAP",
                    "NAP",
                    "NAP",
                    "ASY",
                    "NAP",
                    "ASY",
                    "NAP",
                    "ASY",
                    "ASY",
                    "ASY",
                    "ASY",
                    "ASY",
                    "ASY",
                    "ASY",
                    "ASY",
                    "ASY",
                    "NAP",
                    "ASY",
                    "ASY",
                    "ASY",
                    "ASY",
                    "ASY",
                    "ASY",
                    "ASY",
                    "ASY",
                    "ASY",
                    "ASY",
                    "ASY",
                    "ASY",
                    "ASY",
                    "ASY",
                    "ASY",
                    "ASY",
                    "ASY",
                    "ASY",
                    "ASY",
                    "ASY",
                    "NAP",
                    "ASY",
                    "ASY",
                    "ASY",
                    "NAP",
                    "ASY",
                    "ASY",
                    "ASY",
                    "ASY",
                    "NAP",
                    "ASY",
                    "ASY",
                    "ASY",
                    "NAP",
                    "ASY",
                    "ASY",
                    "ASY",
                    "ASY",
                    "ASY",
                    "NAP",
                    "NAP",
                    "ASY",
                    "NAP",
                    "NAP",
                    "ATA",
                    "ATA",
                    "ASY",
                    "ASY",
                    "NAP",
                    "ASY",
                    "ASY",
                    "ASY",
                    "ASY",
                    "ASY",
                    "ASY",
                    "ASY",
                    "ASY",
                    "NAP",
                    "NAP",
                    "NAP",
                    "ASY",
                    "ASY",
                    "ASY",
                    "ASY",
                    "NAP",
                    "ASY",
                    "ASY",
                    "ASY",
                    "NAP",
                    "NAP",
                    "ASY",
                    "ASY",
                    "ASY",
                    "ASY",
                    "ASY",
                    "NAP",
                    "ASY",
                    "ASY",
                    "ASY",
                    "ASY",
                    "ASY",
                    "ASY",
                    "ASY",
                    "NAP",
                    "NAP",
                    "NAP",
                    "ASY",
                    "ATA",
                    "ASY",
                    "ASY",
                    "ASY",
                    "NAP",
                    "ATA",
                    "ASY",
                    "ASY",
                    "ASY",
                    "ASY",
                    "NAP",
                    "ATA",
                    "NAP",
                    "TA",
                    "ASY",
                    "ASY",
                    "ATA",
                    "ATA",
                    "ASY",
                    "TA",
                    "ASY",
                    "NAP",
                    "ASY",
                    "TA",
                    "NAP",
                    "ASY",
                    "ASY",
                    "ASY",
                    "ASY",
                    "ASY",
                    "ASY",
                    "ASY",
                    "ASY",
                    "ASY",
                    "ASY",
                    "NAP",
                    "ASY",
                    "NAP",
                    "ASY",
                    "ASY",
                    "ASY",
                    "ASY",
                    "NAP",
                    "TA",
                    "ASY",
                    "NAP",
                    "NAP",
                    "ASY",
                    "NAP",
                    "ASY",
                    "ASY",
                    "ASY",
                    "ASY",
                    "ASY",
                    "ASY",
                    "NAP",
                    "ASY",
                    "ATA",
                    "NAP",
                    "ASY",
                    "ASY",
                    "ASY",
                    "ASY",
                    "ASY",
                    "ASY",
                    "ASY",
                    "NAP",
                    "ASY",
                    "ASY",
                    "ASY",
                    "NAP",
                    "NAP",
                    "ASY",
                    "ASY",
                    "NAP",
                    "TA",
                    "ASY",
                    "TA",
                    "ASY",
                    "NAP",
                    "NAP",
                    "TA",
                    "NAP",
                    "NAP",
                    "ASY",
                    "NAP",
                    "NAP",
                    "ASY",
                    "NAP",
                    "ATA",
                    "ASY",
                    "ASY",
                    "ASY",
                    "ASY",
                    "ASY",
                    "ASY",
                    "ASY",
                    "ASY",
                    "ASY",
                    "ASY",
                    "ASY",
                    "ASY",
                    "ASY",
                    "ASY",
                    "ASY",
                    "ASY",
                    "ASY",
                    "ASY",
                    "ASY",
                    "ASY",
                    "ASY",
                    "NAP",
                    "ASY",
                    "ATA",
                    "ASY",
                    "NAP",
                    "ASY",
                    "NAP",
                    "ATA",
                    "ASY",
                    "ASY",
                    "ASY",
                    "ASY",
                    "ASY",
                    "ASY",
                    "NAP",
                    "ASY",
                    "ASY",
                    "ASY",
                    "NAP",
                    "NAP",
                    "ASY",
                    "NAP",
                    "ASY",
                    "ASY",
                    "ASY",
                    "ASY",
                    "TA",
                    "ASY",
                    "ASY",
                    "ATA",
                    "ASY",
                    "ATA",
                    "ASY",
                    "ASY",
                    "NAP",
                    "ASY",
                    "ASY",
                    "ASY",
                    "ASY",
                    "NAP",
                    "TA",
                    "ASY",
                    "ASY",
                    "TA",
                    "TA",
                    "ASY",
                    "ATA",
                    "ASY",
                    "ASY",
                    "NAP",
                    "NAP",
                    "ASY",
                    "ASY",
                    "ASY",
                    "ASY",
                    "ASY",
                    "TA",
                    "NAP",
                    "ASY",
                    "ASY",
                    "NAP",
                    "ATA",
                    "NAP",
                    "NAP",
                    "NAP",
                    "ASY",
                    "ATA",
                    "ASY",
                    "ATA",
                    "ASY",
                    "ATA",
                    "NAP",
                    "NAP",
                    "TA",
                    "ASY",
                    "ASY",
                    "NAP",
                    "ASY",
                    "ATA",
                    "ASY",
                    "ASY",
                    "ATA",
                    "ASY",
                    "ASY",
                    "ASY",
                    "NAP",
                    "ASY",
                    "TA",
                    "ATA",
                    "TA",
                    "ASY",
                    "ATA",
                    "ASY",
                    "ASY",
                    "ASY",
                    "ASY",
                    "ASY",
                    "ASY",
                    "ASY",
                    "ASY",
                    "ASY",
                    "ASY",
                    "NAP",
                    "ASY",
                    "ATA",
                    "ATA",
                    "ASY",
                    "ASY",
                    "NAP",
                    "ASY",
                    "ASY",
                    "NAP",
                    "ASY",
                    "ATA",
                    "ASY",
                    "ASY",
                    "ASY",
                    "ASY",
                    "NAP",
                    "ASY",
                    "ASY",
                    "ASY",
                    "ASY",
                    "NAP",
                    "TA",
                    "ATA",
                    "ASY",
                    "ASY",
                    "ASY",
                    "NAP",
                    "NAP",
                    "ASY",
                    "ATA",
                    "TA",
                    "TA",
                    "ATA",
                    "ASY",
                    "ASY",
                    "NAP",
                    "TA",
                    "TA",
                    "NAP",
                    "ASY",
                    "TA",
                    "ASY",
                    "NAP",
                    "ASY",
                    "NAP",
                    "NAP",
                    "ASY",
                    "NAP",
                    "NAP",
                    "ASY",
                    "ASY",
                    "NAP",
                    "ASY",
                    "ASY",
                    "ATA",
                    "ASY",
                    "NAP",
                    "ASY",
                    "NAP",
                    "ASY",
                    "ASY",
                    "ASY",
                    "ASY",
                    "TA",
                    "NAP",
                    "NAP",
                    "NAP",
                    "TA",
                    "NAP",
                    "ASY",
                    "ATA",
                    "NAP",
                    "NAP",
                    "ATA",
                    "ASY",
                    "ASY",
                    "NAP",
                    "ASY",
                    "ATA",
                    "TA",
                    "ASY",
                    "ASY",
                    "ASY",
                    "NAP",
                    "ASY",
                    "NAP",
                    "ATA",
                    "NAP",
                    "NAP",
                    "ASY",
                    "ASY",
                    "NAP",
                    "ASY",
                    "ASY",
                    "ATA",
                    "ASY",
                    "NAP",
                    "NAP",
                    "NAP",
                    "ASY",
                    "NAP",
                    "ASY",
                    "ASY",
                    "ATA",
                    "ATA",
                    "ATA",
                    "NAP",
                    "ATA",
                    "ASY",
                    "ASY",
                    "NAP",
                    "ASY",
                    "ASY",
                    "TA",
                    "TA",
                    "ATA",
                    "ASY",
                    "NAP",
                    "ATA",
                    "ASY",
                    "ASY",
                    "ATA",
                    "ATA",
                    "ATA",
                    "NAP",
                    "ASY",
                    "ASY",
                    "ATA",
                    "ASY",
                    "TA",
                    "ASY",
                    "ASY",
                    "NAP"
                  ],
                  "xaxis": "x",
                  "yaxis": "y"
                },
                {
                  "alignmentgroup": "True",
                  "bingroup": "x",
                  "hovertemplate": "Sex=F<br>ChestPainType=%{x}<br>count=%{y}<extra></extra>",
                  "legendgroup": "F",
                  "marker": {
                    "color": "#EF553B",
                    "pattern": {
                      "shape": ""
                    }
                  },
                  "name": "F",
                  "offsetgroup": "F",
                  "orientation": "v",
                  "showlegend": true,
                  "type": "histogram",
                  "x": [
                    "NAP",
                    "ASY",
                    "ATA",
                    "ATA",
                    "NAP",
                    "NAP",
                    "ATA",
                    "ATA",
                    "TA",
                    "ATA",
                    "ATA",
                    "ATA",
                    "ATA",
                    "ATA",
                    "ASY",
                    "ATA",
                    "NAP",
                    "ASY",
                    "ATA",
                    "ASY",
                    "ATA",
                    "NAP",
                    "ATA",
                    "ATA",
                    "ASY",
                    "ASY",
                    "ASY",
                    "ATA",
                    "ATA",
                    "ATA",
                    "NAP",
                    "ASY",
                    "ASY",
                    "ATA",
                    "NAP",
                    "ASY",
                    "ASY",
                    "TA",
                    "NAP",
                    "NAP",
                    "ATA",
                    "ATA",
                    "ASY",
                    "ATA",
                    "ASY",
                    "ATA",
                    "ATA",
                    "ATA",
                    "ATA",
                    "ASY",
                    "ATA",
                    "ASY",
                    "ATA",
                    "TA",
                    "TA",
                    "ATA",
                    "NAP",
                    "NAP",
                    "TA",
                    "ASY",
                    "NAP",
                    "ASY",
                    "ATA",
                    "ATA",
                    "ATA",
                    "NAP",
                    "ATA",
                    "NAP",
                    "ATA",
                    "ATA",
                    "NAP",
                    "ATA",
                    "ATA",
                    "ASY",
                    "ATA",
                    "NAP",
                    "ATA",
                    "NAP",
                    "ATA",
                    "ATA",
                    "ASY",
                    "ASY",
                    "ASY",
                    "ASY",
                    "ASY",
                    "NAP",
                    "ASY",
                    "TA",
                    "ASY",
                    "ASY",
                    "ATA",
                    "ASY",
                    "ASY",
                    "ATA",
                    "ASY",
                    "ASY",
                    "NAP",
                    "ATA",
                    "ASY",
                    "ASY",
                    "ASY",
                    "ATA",
                    "NAP",
                    "ASY",
                    "NAP",
                    "NAP",
                    "NAP",
                    "ASY",
                    "ASY",
                    "NAP",
                    "ATA",
                    "ATA",
                    "ATA",
                    "NAP",
                    "ASY",
                    "ASY",
                    "TA",
                    "ATA",
                    "NAP",
                    "ASY",
                    "NAP",
                    "ASY",
                    "NAP",
                    "NAP",
                    "ATA",
                    "ASY",
                    "NAP",
                    "ATA",
                    "NAP",
                    "ASY",
                    "ASY",
                    "ATA",
                    "ASY",
                    "ASY",
                    "NAP",
                    "ATA",
                    "ASY",
                    "TA",
                    "NAP",
                    "NAP",
                    "NAP",
                    "ASY",
                    "NAP",
                    "NAP",
                    "ATA",
                    "NAP",
                    "NAP",
                    "NAP",
                    "ASY",
                    "NAP",
                    "ATA",
                    "ASY",
                    "ASY",
                    "ASY",
                    "ASY",
                    "ASY",
                    "NAP",
                    "ASY",
                    "ASY",
                    "ASY",
                    "ASY",
                    "ATA",
                    "ASY",
                    "NAP",
                    "TA",
                    "NAP",
                    "NAP",
                    "ATA",
                    "NAP",
                    "ASY",
                    "NAP",
                    "ASY",
                    "TA",
                    "ASY",
                    "ASY",
                    "ASY",
                    "ASY",
                    "ASY",
                    "NAP",
                    "NAP",
                    "ATA",
                    "NAP",
                    "ATA",
                    "NAP",
                    "NAP",
                    "NAP",
                    "ASY",
                    "ASY",
                    "ASY",
                    "ATA",
                    "ASY",
                    "ASY",
                    "ATA"
                  ],
                  "xaxis": "x",
                  "yaxis": "y"
                }
              ],
              "layout": {
                "barmode": "relative",
                "height": 500,
                "legend": {
                  "title": {
                    "text": "Sex"
                  },
                  "tracegroupgap": 0
                },
                "template": {
                  "data": {
                    "bar": [
                      {
                        "error_x": {
                          "color": "#2a3f5f"
                        },
                        "error_y": {
                          "color": "#2a3f5f"
                        },
                        "marker": {
                          "line": {
                            "color": "#E5ECF6",
                            "width": 0.5
                          },
                          "pattern": {
                            "fillmode": "overlay",
                            "size": 10,
                            "solidity": 0.2
                          }
                        },
                        "type": "bar"
                      }
                    ],
                    "barpolar": [
                      {
                        "marker": {
                          "line": {
                            "color": "#E5ECF6",
                            "width": 0.5
                          },
                          "pattern": {
                            "fillmode": "overlay",
                            "size": 10,
                            "solidity": 0.2
                          }
                        },
                        "type": "barpolar"
                      }
                    ],
                    "carpet": [
                      {
                        "aaxis": {
                          "endlinecolor": "#2a3f5f",
                          "gridcolor": "white",
                          "linecolor": "white",
                          "minorgridcolor": "white",
                          "startlinecolor": "#2a3f5f"
                        },
                        "baxis": {
                          "endlinecolor": "#2a3f5f",
                          "gridcolor": "white",
                          "linecolor": "white",
                          "minorgridcolor": "white",
                          "startlinecolor": "#2a3f5f"
                        },
                        "type": "carpet"
                      }
                    ],
                    "choropleth": [
                      {
                        "colorbar": {
                          "outlinewidth": 0,
                          "ticks": ""
                        },
                        "type": "choropleth"
                      }
                    ],
                    "contour": [
                      {
                        "colorbar": {
                          "outlinewidth": 0,
                          "ticks": ""
                        },
                        "colorscale": [
                          [
                            0,
                            "#0d0887"
                          ],
                          [
                            0.1111111111111111,
                            "#46039f"
                          ],
                          [
                            0.2222222222222222,
                            "#7201a8"
                          ],
                          [
                            0.3333333333333333,
                            "#9c179e"
                          ],
                          [
                            0.4444444444444444,
                            "#bd3786"
                          ],
                          [
                            0.5555555555555556,
                            "#d8576b"
                          ],
                          [
                            0.6666666666666666,
                            "#ed7953"
                          ],
                          [
                            0.7777777777777778,
                            "#fb9f3a"
                          ],
                          [
                            0.8888888888888888,
                            "#fdca26"
                          ],
                          [
                            1,
                            "#f0f921"
                          ]
                        ],
                        "type": "contour"
                      }
                    ],
                    "contourcarpet": [
                      {
                        "colorbar": {
                          "outlinewidth": 0,
                          "ticks": ""
                        },
                        "type": "contourcarpet"
                      }
                    ],
                    "heatmap": [
                      {
                        "colorbar": {
                          "outlinewidth": 0,
                          "ticks": ""
                        },
                        "colorscale": [
                          [
                            0,
                            "#0d0887"
                          ],
                          [
                            0.1111111111111111,
                            "#46039f"
                          ],
                          [
                            0.2222222222222222,
                            "#7201a8"
                          ],
                          [
                            0.3333333333333333,
                            "#9c179e"
                          ],
                          [
                            0.4444444444444444,
                            "#bd3786"
                          ],
                          [
                            0.5555555555555556,
                            "#d8576b"
                          ],
                          [
                            0.6666666666666666,
                            "#ed7953"
                          ],
                          [
                            0.7777777777777778,
                            "#fb9f3a"
                          ],
                          [
                            0.8888888888888888,
                            "#fdca26"
                          ],
                          [
                            1,
                            "#f0f921"
                          ]
                        ],
                        "type": "heatmap"
                      }
                    ],
                    "heatmapgl": [
                      {
                        "colorbar": {
                          "outlinewidth": 0,
                          "ticks": ""
                        },
                        "colorscale": [
                          [
                            0,
                            "#0d0887"
                          ],
                          [
                            0.1111111111111111,
                            "#46039f"
                          ],
                          [
                            0.2222222222222222,
                            "#7201a8"
                          ],
                          [
                            0.3333333333333333,
                            "#9c179e"
                          ],
                          [
                            0.4444444444444444,
                            "#bd3786"
                          ],
                          [
                            0.5555555555555556,
                            "#d8576b"
                          ],
                          [
                            0.6666666666666666,
                            "#ed7953"
                          ],
                          [
                            0.7777777777777778,
                            "#fb9f3a"
                          ],
                          [
                            0.8888888888888888,
                            "#fdca26"
                          ],
                          [
                            1,
                            "#f0f921"
                          ]
                        ],
                        "type": "heatmapgl"
                      }
                    ],
                    "histogram": [
                      {
                        "marker": {
                          "pattern": {
                            "fillmode": "overlay",
                            "size": 10,
                            "solidity": 0.2
                          }
                        },
                        "type": "histogram"
                      }
                    ],
                    "histogram2d": [
                      {
                        "colorbar": {
                          "outlinewidth": 0,
                          "ticks": ""
                        },
                        "colorscale": [
                          [
                            0,
                            "#0d0887"
                          ],
                          [
                            0.1111111111111111,
                            "#46039f"
                          ],
                          [
                            0.2222222222222222,
                            "#7201a8"
                          ],
                          [
                            0.3333333333333333,
                            "#9c179e"
                          ],
                          [
                            0.4444444444444444,
                            "#bd3786"
                          ],
                          [
                            0.5555555555555556,
                            "#d8576b"
                          ],
                          [
                            0.6666666666666666,
                            "#ed7953"
                          ],
                          [
                            0.7777777777777778,
                            "#fb9f3a"
                          ],
                          [
                            0.8888888888888888,
                            "#fdca26"
                          ],
                          [
                            1,
                            "#f0f921"
                          ]
                        ],
                        "type": "histogram2d"
                      }
                    ],
                    "histogram2dcontour": [
                      {
                        "colorbar": {
                          "outlinewidth": 0,
                          "ticks": ""
                        },
                        "colorscale": [
                          [
                            0,
                            "#0d0887"
                          ],
                          [
                            0.1111111111111111,
                            "#46039f"
                          ],
                          [
                            0.2222222222222222,
                            "#7201a8"
                          ],
                          [
                            0.3333333333333333,
                            "#9c179e"
                          ],
                          [
                            0.4444444444444444,
                            "#bd3786"
                          ],
                          [
                            0.5555555555555556,
                            "#d8576b"
                          ],
                          [
                            0.6666666666666666,
                            "#ed7953"
                          ],
                          [
                            0.7777777777777778,
                            "#fb9f3a"
                          ],
                          [
                            0.8888888888888888,
                            "#fdca26"
                          ],
                          [
                            1,
                            "#f0f921"
                          ]
                        ],
                        "type": "histogram2dcontour"
                      }
                    ],
                    "mesh3d": [
                      {
                        "colorbar": {
                          "outlinewidth": 0,
                          "ticks": ""
                        },
                        "type": "mesh3d"
                      }
                    ],
                    "parcoords": [
                      {
                        "line": {
                          "colorbar": {
                            "outlinewidth": 0,
                            "ticks": ""
                          }
                        },
                        "type": "parcoords"
                      }
                    ],
                    "pie": [
                      {
                        "automargin": true,
                        "type": "pie"
                      }
                    ],
                    "scatter": [
                      {
                        "fillpattern": {
                          "fillmode": "overlay",
                          "size": 10,
                          "solidity": 0.2
                        },
                        "type": "scatter"
                      }
                    ],
                    "scatter3d": [
                      {
                        "line": {
                          "colorbar": {
                            "outlinewidth": 0,
                            "ticks": ""
                          }
                        },
                        "marker": {
                          "colorbar": {
                            "outlinewidth": 0,
                            "ticks": ""
                          }
                        },
                        "type": "scatter3d"
                      }
                    ],
                    "scattercarpet": [
                      {
                        "marker": {
                          "colorbar": {
                            "outlinewidth": 0,
                            "ticks": ""
                          }
                        },
                        "type": "scattercarpet"
                      }
                    ],
                    "scattergeo": [
                      {
                        "marker": {
                          "colorbar": {
                            "outlinewidth": 0,
                            "ticks": ""
                          }
                        },
                        "type": "scattergeo"
                      }
                    ],
                    "scattergl": [
                      {
                        "marker": {
                          "colorbar": {
                            "outlinewidth": 0,
                            "ticks": ""
                          }
                        },
                        "type": "scattergl"
                      }
                    ],
                    "scattermapbox": [
                      {
                        "marker": {
                          "colorbar": {
                            "outlinewidth": 0,
                            "ticks": ""
                          }
                        },
                        "type": "scattermapbox"
                      }
                    ],
                    "scatterpolar": [
                      {
                        "marker": {
                          "colorbar": {
                            "outlinewidth": 0,
                            "ticks": ""
                          }
                        },
                        "type": "scatterpolar"
                      }
                    ],
                    "scatterpolargl": [
                      {
                        "marker": {
                          "colorbar": {
                            "outlinewidth": 0,
                            "ticks": ""
                          }
                        },
                        "type": "scatterpolargl"
                      }
                    ],
                    "scatterternary": [
                      {
                        "marker": {
                          "colorbar": {
                            "outlinewidth": 0,
                            "ticks": ""
                          }
                        },
                        "type": "scatterternary"
                      }
                    ],
                    "surface": [
                      {
                        "colorbar": {
                          "outlinewidth": 0,
                          "ticks": ""
                        },
                        "colorscale": [
                          [
                            0,
                            "#0d0887"
                          ],
                          [
                            0.1111111111111111,
                            "#46039f"
                          ],
                          [
                            0.2222222222222222,
                            "#7201a8"
                          ],
                          [
                            0.3333333333333333,
                            "#9c179e"
                          ],
                          [
                            0.4444444444444444,
                            "#bd3786"
                          ],
                          [
                            0.5555555555555556,
                            "#d8576b"
                          ],
                          [
                            0.6666666666666666,
                            "#ed7953"
                          ],
                          [
                            0.7777777777777778,
                            "#fb9f3a"
                          ],
                          [
                            0.8888888888888888,
                            "#fdca26"
                          ],
                          [
                            1,
                            "#f0f921"
                          ]
                        ],
                        "type": "surface"
                      }
                    ],
                    "table": [
                      {
                        "cells": {
                          "fill": {
                            "color": "#EBF0F8"
                          },
                          "line": {
                            "color": "white"
                          }
                        },
                        "header": {
                          "fill": {
                            "color": "#C8D4E3"
                          },
                          "line": {
                            "color": "white"
                          }
                        },
                        "type": "table"
                      }
                    ]
                  },
                  "layout": {
                    "annotationdefaults": {
                      "arrowcolor": "#2a3f5f",
                      "arrowhead": 0,
                      "arrowwidth": 1
                    },
                    "autotypenumbers": "strict",
                    "coloraxis": {
                      "colorbar": {
                        "outlinewidth": 0,
                        "ticks": ""
                      }
                    },
                    "colorscale": {
                      "diverging": [
                        [
                          0,
                          "#8e0152"
                        ],
                        [
                          0.1,
                          "#c51b7d"
                        ],
                        [
                          0.2,
                          "#de77ae"
                        ],
                        [
                          0.3,
                          "#f1b6da"
                        ],
                        [
                          0.4,
                          "#fde0ef"
                        ],
                        [
                          0.5,
                          "#f7f7f7"
                        ],
                        [
                          0.6,
                          "#e6f5d0"
                        ],
                        [
                          0.7,
                          "#b8e186"
                        ],
                        [
                          0.8,
                          "#7fbc41"
                        ],
                        [
                          0.9,
                          "#4d9221"
                        ],
                        [
                          1,
                          "#276419"
                        ]
                      ],
                      "sequential": [
                        [
                          0,
                          "#0d0887"
                        ],
                        [
                          0.1111111111111111,
                          "#46039f"
                        ],
                        [
                          0.2222222222222222,
                          "#7201a8"
                        ],
                        [
                          0.3333333333333333,
                          "#9c179e"
                        ],
                        [
                          0.4444444444444444,
                          "#bd3786"
                        ],
                        [
                          0.5555555555555556,
                          "#d8576b"
                        ],
                        [
                          0.6666666666666666,
                          "#ed7953"
                        ],
                        [
                          0.7777777777777778,
                          "#fb9f3a"
                        ],
                        [
                          0.8888888888888888,
                          "#fdca26"
                        ],
                        [
                          1,
                          "#f0f921"
                        ]
                      ],
                      "sequentialminus": [
                        [
                          0,
                          "#0d0887"
                        ],
                        [
                          0.1111111111111111,
                          "#46039f"
                        ],
                        [
                          0.2222222222222222,
                          "#7201a8"
                        ],
                        [
                          0.3333333333333333,
                          "#9c179e"
                        ],
                        [
                          0.4444444444444444,
                          "#bd3786"
                        ],
                        [
                          0.5555555555555556,
                          "#d8576b"
                        ],
                        [
                          0.6666666666666666,
                          "#ed7953"
                        ],
                        [
                          0.7777777777777778,
                          "#fb9f3a"
                        ],
                        [
                          0.8888888888888888,
                          "#fdca26"
                        ],
                        [
                          1,
                          "#f0f921"
                        ]
                      ]
                    },
                    "colorway": [
                      "#636efa",
                      "#EF553B",
                      "#00cc96",
                      "#ab63fa",
                      "#FFA15A",
                      "#19d3f3",
                      "#FF6692",
                      "#B6E880",
                      "#FF97FF",
                      "#FECB52"
                    ],
                    "font": {
                      "color": "#2a3f5f"
                    },
                    "geo": {
                      "bgcolor": "white",
                      "lakecolor": "white",
                      "landcolor": "#E5ECF6",
                      "showlakes": true,
                      "showland": true,
                      "subunitcolor": "white"
                    },
                    "hoverlabel": {
                      "align": "left"
                    },
                    "hovermode": "closest",
                    "mapbox": {
                      "style": "light"
                    },
                    "paper_bgcolor": "white",
                    "plot_bgcolor": "#E5ECF6",
                    "polar": {
                      "angularaxis": {
                        "gridcolor": "white",
                        "linecolor": "white",
                        "ticks": ""
                      },
                      "bgcolor": "#E5ECF6",
                      "radialaxis": {
                        "gridcolor": "white",
                        "linecolor": "white",
                        "ticks": ""
                      }
                    },
                    "scene": {
                      "xaxis": {
                        "backgroundcolor": "#E5ECF6",
                        "gridcolor": "white",
                        "gridwidth": 2,
                        "linecolor": "white",
                        "showbackground": true,
                        "ticks": "",
                        "zerolinecolor": "white"
                      },
                      "yaxis": {
                        "backgroundcolor": "#E5ECF6",
                        "gridcolor": "white",
                        "gridwidth": 2,
                        "linecolor": "white",
                        "showbackground": true,
                        "ticks": "",
                        "zerolinecolor": "white"
                      },
                      "zaxis": {
                        "backgroundcolor": "#E5ECF6",
                        "gridcolor": "white",
                        "gridwidth": 2,
                        "linecolor": "white",
                        "showbackground": true,
                        "ticks": "",
                        "zerolinecolor": "white"
                      }
                    },
                    "shapedefaults": {
                      "line": {
                        "color": "#2a3f5f"
                      }
                    },
                    "ternary": {
                      "aaxis": {
                        "gridcolor": "white",
                        "linecolor": "white",
                        "ticks": ""
                      },
                      "baxis": {
                        "gridcolor": "white",
                        "linecolor": "white",
                        "ticks": ""
                      },
                      "bgcolor": "#E5ECF6",
                      "caxis": {
                        "gridcolor": "white",
                        "linecolor": "white",
                        "ticks": ""
                      }
                    },
                    "title": {
                      "x": 0.05
                    },
                    "xaxis": {
                      "automargin": true,
                      "gridcolor": "white",
                      "linecolor": "white",
                      "ticks": "",
                      "title": {
                        "standoff": 15
                      },
                      "zerolinecolor": "white",
                      "zerolinewidth": 2
                    },
                    "yaxis": {
                      "automargin": true,
                      "gridcolor": "white",
                      "linecolor": "white",
                      "ticks": "",
                      "title": {
                        "standoff": 15
                      },
                      "zerolinecolor": "white",
                      "zerolinewidth": 2
                    }
                  }
                },
                "title": {
                  "text": "Sex distribution for each Chest Pain Type"
                },
                "width": 500,
                "xaxis": {
                  "anchor": "y",
                  "domain": [
                    0,
                    1
                  ],
                  "title": {
                    "text": "ChestPainType"
                  }
                },
                "yaxis": {
                  "anchor": "x",
                  "domain": [
                    0,
                    1
                  ],
                  "title": {
                    "text": "count"
                  }
                }
              }
            }
          },
          "metadata": {},
          "output_type": "display_data"
        }
      ],
      "source": [
        "fig=px.histogram(df, x=\"ChestPainType\", color=\"Sex\", hover_data=df.columns, title=\"Sex distribution for each Chest Pain Type\",width=500, height=500)\n",
        "fig.show()"
      ]
    },
    {
      "cell_type": "code",
      "execution_count": null,
      "metadata": {
        "id": "0BxZFk1MzWdm",
        "outputId": "724a7ebd-e449-45ea-a253-1eea44cb0036"
      },
      "outputs": [
        {
          "data": {
            "application/vnd.plotly.v1+json": {
              "config": {
                "plotlyServerURL": "https://plot.ly"
              },
              "data": [
                {
                  "alignmentgroup": "True",
                  "bingroup": "x",
                  "hovertemplate": "RestingECG=%{x}<br>count=%{y}<extra></extra>",
                  "legendgroup": "",
                  "marker": {
                    "color": "#636efa",
                    "pattern": {
                      "shape": ""
                    }
                  },
                  "name": "",
                  "offsetgroup": "",
                  "orientation": "v",
                  "showlegend": false,
                  "type": "histogram",
                  "x": [
                    "Normal",
                    "Normal",
                    "ST",
                    "Normal",
                    "Normal",
                    "Normal",
                    "Normal",
                    "Normal",
                    "Normal",
                    "Normal",
                    "Normal",
                    "ST",
                    "Normal",
                    "Normal",
                    "ST",
                    "Normal",
                    "Normal",
                    "Normal",
                    "Normal",
                    "Normal",
                    "Normal",
                    "Normal",
                    "Normal",
                    "Normal",
                    "Normal",
                    "Normal",
                    "ST",
                    "Normal",
                    "Normal",
                    "Normal",
                    "Normal",
                    "Normal",
                    "Normal",
                    "ST",
                    "Normal",
                    "Normal",
                    "Normal",
                    "ST",
                    "ST",
                    "Normal",
                    "Normal",
                    "ST",
                    "Normal",
                    "ST",
                    "Normal",
                    "Normal",
                    "Normal",
                    "Normal",
                    "Normal",
                    "Normal",
                    "Normal",
                    "Normal",
                    "Normal",
                    "Normal",
                    "Normal",
                    "Normal",
                    "Normal",
                    "ST",
                    "ST",
                    "ST",
                    "Normal",
                    "Normal",
                    "Normal",
                    "Normal",
                    "Normal",
                    "Normal",
                    "Normal",
                    "Normal",
                    "ST",
                    "Normal",
                    "ST",
                    "Normal",
                    "Normal",
                    "ST",
                    "Normal",
                    "Normal",
                    "Normal",
                    "Normal",
                    "Normal",
                    "Normal",
                    "Normal",
                    "Normal",
                    "Normal",
                    "Normal",
                    "Normal",
                    "Normal",
                    "Normal",
                    "Normal",
                    "ST",
                    "Normal",
                    "Normal",
                    "Normal",
                    "Normal",
                    "Normal",
                    "ST",
                    "Normal",
                    "Normal",
                    "Normal",
                    "Normal",
                    "Normal",
                    "ST",
                    "Normal",
                    "Normal",
                    "Normal",
                    "Normal",
                    "Normal",
                    "ST",
                    "ST",
                    "Normal",
                    "Normal",
                    "Normal",
                    "Normal",
                    "Normal",
                    "Normal",
                    "ST",
                    "Normal",
                    "Normal",
                    "ST",
                    "ST",
                    "Normal",
                    "Normal",
                    "Normal",
                    "ST",
                    "Normal",
                    "Normal",
                    "Normal",
                    "Normal",
                    "Normal",
                    "Normal",
                    "Normal",
                    "Normal",
                    "Normal",
                    "ST",
                    "ST",
                    "ST",
                    "Normal",
                    "ST",
                    "ST",
                    "Normal",
                    "Normal",
                    "Normal",
                    "ST",
                    "ST",
                    "Normal",
                    "Normal",
                    "Normal",
                    "Normal",
                    "ST",
                    "Normal",
                    "Normal",
                    "Normal",
                    "Normal",
                    "Normal",
                    "Normal",
                    "ST",
                    "Normal",
                    "Normal",
                    "Normal",
                    "Normal",
                    "ST",
                    "LVH",
                    "Normal",
                    "Normal",
                    "Normal",
                    "Normal",
                    "Normal",
                    "ST",
                    "Normal",
                    "Normal",
                    "Normal",
                    "Normal",
                    "Normal",
                    "Normal",
                    "Normal",
                    "Normal",
                    "Normal",
                    "Normal",
                    "Normal",
                    "Normal",
                    "Normal",
                    "Normal",
                    "Normal",
                    "Normal",
                    "ST",
                    "Normal",
                    "ST",
                    "Normal",
                    "Normal",
                    "Normal",
                    "ST",
                    "ST",
                    "ST",
                    "Normal",
                    "Normal",
                    "Normal",
                    "Normal",
                    "Normal",
                    "Normal",
                    "Normal",
                    "Normal",
                    "Normal",
                    "Normal",
                    "Normal",
                    "ST",
                    "Normal",
                    "Normal",
                    "LVH",
                    "Normal",
                    "LVH",
                    "Normal",
                    "Normal",
                    "Normal",
                    "Normal",
                    "ST",
                    "Normal",
                    "ST",
                    "Normal",
                    "Normal",
                    "Normal",
                    "Normal",
                    "Normal",
                    "Normal",
                    "Normal",
                    "Normal",
                    "Normal",
                    "Normal",
                    "Normal",
                    "Normal",
                    "Normal",
                    "ST",
                    "Normal",
                    "Normal",
                    "Normal",
                    "Normal",
                    "ST",
                    "Normal",
                    "Normal",
                    "Normal",
                    "Normal",
                    "Normal",
                    "Normal",
                    "Normal",
                    "Normal",
                    "Normal",
                    "Normal",
                    "Normal",
                    "Normal",
                    "ST",
                    "ST",
                    "Normal",
                    "Normal",
                    "Normal",
                    "ST",
                    "Normal",
                    "Normal",
                    "Normal",
                    "LVH",
                    "Normal",
                    "Normal",
                    "Normal",
                    "Normal",
                    "Normal",
                    "Normal",
                    "Normal",
                    "Normal",
                    "Normal",
                    "Normal",
                    "Normal",
                    "Normal",
                    "Normal",
                    "Normal",
                    "Normal",
                    "Normal",
                    "LVH",
                    "Normal",
                    "Normal",
                    "Normal",
                    "Normal",
                    "ST",
                    "ST",
                    "LVH",
                    "Normal",
                    "Normal",
                    "ST",
                    "Normal",
                    "Normal",
                    "Normal",
                    "Normal",
                    "ST",
                    "Normal",
                    "Normal",
                    "Normal",
                    "Normal",
                    "Normal",
                    "Normal",
                    "Normal",
                    "Normal",
                    "ST",
                    "Normal",
                    "ST",
                    "Normal",
                    "ST",
                    "Normal",
                    "ST",
                    "Normal",
                    "Normal",
                    "Normal",
                    "ST",
                    "Normal",
                    "Normal",
                    "Normal",
                    "Normal",
                    "Normal",
                    "Normal",
                    "Normal",
                    "ST",
                    "Normal",
                    "Normal",
                    "Normal",
                    "Normal",
                    "Normal",
                    "Normal",
                    "Normal",
                    "Normal",
                    "ST",
                    "Normal",
                    "Normal",
                    "Normal",
                    "Normal",
                    "ST",
                    "Normal",
                    "ST",
                    "Normal",
                    "ST",
                    "Normal",
                    "LVH",
                    "LVH",
                    "ST",
                    "LVH",
                    "Normal",
                    "Normal",
                    "Normal",
                    "Normal",
                    "Normal",
                    "Normal",
                    "Normal",
                    "Normal",
                    "Normal",
                    "ST",
                    "Normal",
                    "Normal",
                    "ST",
                    "ST",
                    "ST",
                    "ST",
                    "LVH",
                    "Normal",
                    "Normal",
                    "Normal",
                    "Normal",
                    "Normal",
                    "Normal",
                    "ST",
                    "ST",
                    "Normal",
                    "Normal",
                    "Normal",
                    "ST",
                    "Normal",
                    "Normal",
                    "Normal",
                    "Normal",
                    "Normal",
                    "Normal",
                    "Normal",
                    "ST",
                    "Normal",
                    "ST",
                    "Normal",
                    "ST",
                    "ST",
                    "Normal",
                    "Normal",
                    "Normal",
                    "Normal",
                    "Normal",
                    "Normal",
                    "LVH",
                    "Normal",
                    "ST",
                    "Normal",
                    "ST",
                    "LVH",
                    "Normal",
                    "Normal",
                    "Normal",
                    "Normal",
                    "ST",
                    "Normal",
                    "ST",
                    "Normal",
                    "ST",
                    "ST",
                    "Normal",
                    "Normal",
                    "Normal",
                    "Normal",
                    "Normal",
                    "Normal",
                    "LVH",
                    "ST",
                    "Normal",
                    "Normal",
                    "Normal",
                    "Normal",
                    "Normal",
                    "ST",
                    "ST",
                    "ST",
                    "ST",
                    "LVH",
                    "ST",
                    "ST",
                    "ST",
                    "Normal",
                    "ST",
                    "ST",
                    "ST",
                    "Normal",
                    "LVH",
                    "ST",
                    "ST",
                    "Normal",
                    "Normal",
                    "ST",
                    "ST",
                    "Normal",
                    "ST",
                    "ST",
                    "Normal",
                    "ST",
                    "ST",
                    "ST",
                    "ST",
                    "Normal",
                    "ST",
                    "ST",
                    "ST",
                    "Normal",
                    "Normal",
                    "Normal",
                    "ST",
                    "ST",
                    "Normal",
                    "Normal",
                    "ST",
                    "Normal",
                    "Normal",
                    "ST",
                    "ST",
                    "ST",
                    "Normal",
                    "Normal",
                    "Normal",
                    "Normal",
                    "Normal",
                    "ST",
                    "Normal",
                    "ST",
                    "Normal",
                    "Normal",
                    "Normal",
                    "ST",
                    "ST",
                    "Normal",
                    "LVH",
                    "LVH",
                    "Normal",
                    "ST",
                    "LVH",
                    "Normal",
                    "ST",
                    "Normal",
                    "LVH",
                    "Normal",
                    "ST",
                    "ST",
                    "ST",
                    "Normal",
                    "Normal",
                    "Normal",
                    "ST",
                    "ST",
                    "Normal",
                    "Normal",
                    "Normal",
                    "Normal",
                    "Normal",
                    "ST",
                    "Normal",
                    "Normal",
                    "Normal",
                    "ST",
                    "ST",
                    "Normal",
                    "ST",
                    "Normal",
                    "Normal",
                    "Normal",
                    "Normal",
                    "Normal",
                    "ST",
                    "ST",
                    "ST",
                    "Normal",
                    "ST",
                    "Normal",
                    "Normal",
                    "ST",
                    "ST",
                    "ST",
                    "ST",
                    "LVH",
                    "Normal",
                    "ST",
                    "Normal",
                    "LVH",
                    "Normal",
                    "Normal",
                    "Normal",
                    "Normal",
                    "ST",
                    "ST",
                    "ST",
                    "Normal",
                    "LVH",
                    "ST",
                    "ST",
                    "Normal",
                    "LVH",
                    "ST",
                    "LVH",
                    "Normal",
                    "ST",
                    "Normal",
                    "ST",
                    "ST",
                    "ST",
                    "Normal",
                    "ST",
                    "Normal",
                    "LVH",
                    "Normal",
                    "Normal",
                    "ST",
                    "ST",
                    "Normal",
                    "ST",
                    "ST",
                    "Normal",
                    "ST",
                    "ST",
                    "Normal",
                    "ST",
                    "ST",
                    "ST",
                    "Normal",
                    "ST",
                    "Normal",
                    "Normal",
                    "ST",
                    "Normal",
                    "ST",
                    "LVH",
                    "ST",
                    "Normal",
                    "ST",
                    "Normal",
                    "LVH",
                    "ST",
                    "LVH",
                    "Normal",
                    "LVH",
                    "LVH",
                    "ST",
                    "ST",
                    "Normal",
                    "LVH",
                    "ST",
                    "Normal",
                    "ST",
                    "ST",
                    "LVH",
                    "LVH",
                    "LVH",
                    "LVH",
                    "LVH",
                    "ST",
                    "LVH",
                    "Normal",
                    "ST",
                    "Normal",
                    "Normal",
                    "Normal",
                    "Normal",
                    "LVH",
                    "ST",
                    "ST",
                    "ST",
                    "Normal",
                    "ST",
                    "ST",
                    "ST",
                    "LVH",
                    "LVH",
                    "LVH",
                    "LVH",
                    "Normal",
                    "Normal",
                    "LVH",
                    "Normal",
                    "LVH",
                    "LVH",
                    "LVH",
                    "LVH",
                    "Normal",
                    "LVH",
                    "LVH",
                    "Normal",
                    "LVH",
                    "Normal",
                    "Normal",
                    "LVH",
                    "LVH",
                    "Normal",
                    "LVH",
                    "LVH",
                    "Normal",
                    "Normal",
                    "LVH",
                    "Normal",
                    "LVH",
                    "LVH",
                    "LVH",
                    "LVH",
                    "LVH",
                    "LVH",
                    "Normal",
                    "LVH",
                    "LVH",
                    "LVH",
                    "LVH",
                    "LVH",
                    "Normal",
                    "LVH",
                    "Normal",
                    "Normal",
                    "Normal",
                    "Normal",
                    "Normal",
                    "LVH",
                    "LVH",
                    "LVH",
                    "Normal",
                    "LVH",
                    "Normal",
                    "Normal",
                    "LVH",
                    "Normal",
                    "LVH",
                    "Normal",
                    "LVH",
                    "Normal",
                    "Normal",
                    "LVH",
                    "Normal",
                    "Normal",
                    "Normal",
                    "Normal",
                    "LVH",
                    "LVH",
                    "LVH",
                    "LVH",
                    "Normal",
                    "Normal",
                    "Normal",
                    "Normal",
                    "LVH",
                    "ST",
                    "Normal",
                    "LVH",
                    "LVH",
                    "Normal",
                    "Normal",
                    "Normal",
                    "Normal",
                    "Normal",
                    "LVH",
                    "LVH",
                    "Normal",
                    "LVH",
                    "LVH",
                    "LVH",
                    "Normal",
                    "LVH",
                    "Normal",
                    "LVH",
                    "LVH",
                    "LVH",
                    "Normal",
                    "LVH",
                    "LVH",
                    "Normal",
                    "Normal",
                    "Normal",
                    "Normal",
                    "Normal",
                    "Normal",
                    "LVH",
                    "LVH",
                    "LVH",
                    "Normal",
                    "LVH",
                    "Normal",
                    "Normal",
                    "ST",
                    "Normal",
                    "LVH",
                    "Normal",
                    "Normal",
                    "Normal",
                    "LVH",
                    "LVH",
                    "Normal",
                    "LVH",
                    "Normal",
                    "LVH",
                    "Normal",
                    "LVH",
                    "LVH",
                    "Normal",
                    "Normal",
                    "LVH",
                    "Normal",
                    "Normal",
                    "Normal",
                    "LVH",
                    "Normal",
                    "LVH",
                    "LVH",
                    "LVH",
                    "Normal",
                    "LVH",
                    "Normal",
                    "Normal",
                    "LVH",
                    "LVH",
                    "Normal",
                    "LVH",
                    "LVH",
                    "Normal",
                    "Normal",
                    "LVH",
                    "LVH",
                    "LVH",
                    "Normal",
                    "Normal",
                    "LVH",
                    "Normal",
                    "LVH",
                    "Normal",
                    "Normal",
                    "LVH",
                    "LVH",
                    "Normal",
                    "Normal",
                    "Normal",
                    "Normal",
                    "LVH",
                    "Normal",
                    "Normal",
                    "LVH",
                    "LVH",
                    "LVH",
                    "LVH",
                    "LVH",
                    "LVH",
                    "LVH",
                    "LVH",
                    "LVH",
                    "Normal",
                    "Normal",
                    "Normal",
                    "Normal",
                    "Normal",
                    "Normal",
                    "LVH",
                    "LVH",
                    "LVH",
                    "LVH",
                    "Normal",
                    "LVH",
                    "Normal",
                    "LVH",
                    "Normal",
                    "Normal",
                    "Normal",
                    "Normal",
                    "LVH",
                    "Normal",
                    "LVH",
                    "LVH",
                    "Normal",
                    "Normal",
                    "LVH",
                    "Normal",
                    "LVH",
                    "LVH",
                    "Normal",
                    "LVH",
                    "Normal",
                    "Normal",
                    "LVH",
                    "Normal",
                    "Normal",
                    "LVH",
                    "LVH",
                    "Normal",
                    "LVH",
                    "LVH",
                    "LVH",
                    "LVH",
                    "Normal",
                    "LVH",
                    "Normal",
                    "Normal",
                    "LVH",
                    "Normal",
                    "LVH",
                    "Normal",
                    "Normal",
                    "Normal",
                    "LVH",
                    "LVH",
                    "LVH",
                    "LVH",
                    "Normal",
                    "LVH",
                    "Normal",
                    "Normal",
                    "LVH",
                    "LVH",
                    "LVH",
                    "LVH",
                    "Normal",
                    "LVH",
                    "LVH",
                    "LVH",
                    "LVH",
                    "LVH",
                    "Normal",
                    "LVH",
                    "Normal",
                    "LVH",
                    "LVH",
                    "Normal",
                    "LVH",
                    "LVH",
                    "Normal",
                    "Normal",
                    "Normal",
                    "Normal",
                    "Normal",
                    "Normal",
                    "Normal",
                    "Normal",
                    "LVH",
                    "LVH",
                    "Normal",
                    "Normal",
                    "Normal",
                    "Normal",
                    "LVH",
                    "Normal",
                    "LVH",
                    "LVH",
                    "Normal",
                    "LVH",
                    "Normal",
                    "Normal",
                    "LVH",
                    "LVH",
                    "Normal",
                    "LVH",
                    "Normal",
                    "Normal",
                    "Normal",
                    "ST",
                    "Normal",
                    "Normal",
                    "ST",
                    "LVH",
                    "Normal",
                    "LVH",
                    "Normal",
                    "LVH",
                    "Normal",
                    "Normal",
                    "LVH",
                    "Normal",
                    "Normal",
                    "LVH",
                    "Normal",
                    "Normal",
                    "Normal",
                    "Normal",
                    "LVH",
                    "Normal"
                  ],
                  "xaxis": "x",
                  "yaxis": "y"
                }
              ],
              "layout": {
                "barmode": "relative",
                "height": 500,
                "legend": {
                  "tracegroupgap": 0
                },
                "template": {
                  "data": {
                    "bar": [
                      {
                        "error_x": {
                          "color": "#2a3f5f"
                        },
                        "error_y": {
                          "color": "#2a3f5f"
                        },
                        "marker": {
                          "line": {
                            "color": "#E5ECF6",
                            "width": 0.5
                          },
                          "pattern": {
                            "fillmode": "overlay",
                            "size": 10,
                            "solidity": 0.2
                          }
                        },
                        "type": "bar"
                      }
                    ],
                    "barpolar": [
                      {
                        "marker": {
                          "line": {
                            "color": "#E5ECF6",
                            "width": 0.5
                          },
                          "pattern": {
                            "fillmode": "overlay",
                            "size": 10,
                            "solidity": 0.2
                          }
                        },
                        "type": "barpolar"
                      }
                    ],
                    "carpet": [
                      {
                        "aaxis": {
                          "endlinecolor": "#2a3f5f",
                          "gridcolor": "white",
                          "linecolor": "white",
                          "minorgridcolor": "white",
                          "startlinecolor": "#2a3f5f"
                        },
                        "baxis": {
                          "endlinecolor": "#2a3f5f",
                          "gridcolor": "white",
                          "linecolor": "white",
                          "minorgridcolor": "white",
                          "startlinecolor": "#2a3f5f"
                        },
                        "type": "carpet"
                      }
                    ],
                    "choropleth": [
                      {
                        "colorbar": {
                          "outlinewidth": 0,
                          "ticks": ""
                        },
                        "type": "choropleth"
                      }
                    ],
                    "contour": [
                      {
                        "colorbar": {
                          "outlinewidth": 0,
                          "ticks": ""
                        },
                        "colorscale": [
                          [
                            0,
                            "#0d0887"
                          ],
                          [
                            0.1111111111111111,
                            "#46039f"
                          ],
                          [
                            0.2222222222222222,
                            "#7201a8"
                          ],
                          [
                            0.3333333333333333,
                            "#9c179e"
                          ],
                          [
                            0.4444444444444444,
                            "#bd3786"
                          ],
                          [
                            0.5555555555555556,
                            "#d8576b"
                          ],
                          [
                            0.6666666666666666,
                            "#ed7953"
                          ],
                          [
                            0.7777777777777778,
                            "#fb9f3a"
                          ],
                          [
                            0.8888888888888888,
                            "#fdca26"
                          ],
                          [
                            1,
                            "#f0f921"
                          ]
                        ],
                        "type": "contour"
                      }
                    ],
                    "contourcarpet": [
                      {
                        "colorbar": {
                          "outlinewidth": 0,
                          "ticks": ""
                        },
                        "type": "contourcarpet"
                      }
                    ],
                    "heatmap": [
                      {
                        "colorbar": {
                          "outlinewidth": 0,
                          "ticks": ""
                        },
                        "colorscale": [
                          [
                            0,
                            "#0d0887"
                          ],
                          [
                            0.1111111111111111,
                            "#46039f"
                          ],
                          [
                            0.2222222222222222,
                            "#7201a8"
                          ],
                          [
                            0.3333333333333333,
                            "#9c179e"
                          ],
                          [
                            0.4444444444444444,
                            "#bd3786"
                          ],
                          [
                            0.5555555555555556,
                            "#d8576b"
                          ],
                          [
                            0.6666666666666666,
                            "#ed7953"
                          ],
                          [
                            0.7777777777777778,
                            "#fb9f3a"
                          ],
                          [
                            0.8888888888888888,
                            "#fdca26"
                          ],
                          [
                            1,
                            "#f0f921"
                          ]
                        ],
                        "type": "heatmap"
                      }
                    ],
                    "heatmapgl": [
                      {
                        "colorbar": {
                          "outlinewidth": 0,
                          "ticks": ""
                        },
                        "colorscale": [
                          [
                            0,
                            "#0d0887"
                          ],
                          [
                            0.1111111111111111,
                            "#46039f"
                          ],
                          [
                            0.2222222222222222,
                            "#7201a8"
                          ],
                          [
                            0.3333333333333333,
                            "#9c179e"
                          ],
                          [
                            0.4444444444444444,
                            "#bd3786"
                          ],
                          [
                            0.5555555555555556,
                            "#d8576b"
                          ],
                          [
                            0.6666666666666666,
                            "#ed7953"
                          ],
                          [
                            0.7777777777777778,
                            "#fb9f3a"
                          ],
                          [
                            0.8888888888888888,
                            "#fdca26"
                          ],
                          [
                            1,
                            "#f0f921"
                          ]
                        ],
                        "type": "heatmapgl"
                      }
                    ],
                    "histogram": [
                      {
                        "marker": {
                          "pattern": {
                            "fillmode": "overlay",
                            "size": 10,
                            "solidity": 0.2
                          }
                        },
                        "type": "histogram"
                      }
                    ],
                    "histogram2d": [
                      {
                        "colorbar": {
                          "outlinewidth": 0,
                          "ticks": ""
                        },
                        "colorscale": [
                          [
                            0,
                            "#0d0887"
                          ],
                          [
                            0.1111111111111111,
                            "#46039f"
                          ],
                          [
                            0.2222222222222222,
                            "#7201a8"
                          ],
                          [
                            0.3333333333333333,
                            "#9c179e"
                          ],
                          [
                            0.4444444444444444,
                            "#bd3786"
                          ],
                          [
                            0.5555555555555556,
                            "#d8576b"
                          ],
                          [
                            0.6666666666666666,
                            "#ed7953"
                          ],
                          [
                            0.7777777777777778,
                            "#fb9f3a"
                          ],
                          [
                            0.8888888888888888,
                            "#fdca26"
                          ],
                          [
                            1,
                            "#f0f921"
                          ]
                        ],
                        "type": "histogram2d"
                      }
                    ],
                    "histogram2dcontour": [
                      {
                        "colorbar": {
                          "outlinewidth": 0,
                          "ticks": ""
                        },
                        "colorscale": [
                          [
                            0,
                            "#0d0887"
                          ],
                          [
                            0.1111111111111111,
                            "#46039f"
                          ],
                          [
                            0.2222222222222222,
                            "#7201a8"
                          ],
                          [
                            0.3333333333333333,
                            "#9c179e"
                          ],
                          [
                            0.4444444444444444,
                            "#bd3786"
                          ],
                          [
                            0.5555555555555556,
                            "#d8576b"
                          ],
                          [
                            0.6666666666666666,
                            "#ed7953"
                          ],
                          [
                            0.7777777777777778,
                            "#fb9f3a"
                          ],
                          [
                            0.8888888888888888,
                            "#fdca26"
                          ],
                          [
                            1,
                            "#f0f921"
                          ]
                        ],
                        "type": "histogram2dcontour"
                      }
                    ],
                    "mesh3d": [
                      {
                        "colorbar": {
                          "outlinewidth": 0,
                          "ticks": ""
                        },
                        "type": "mesh3d"
                      }
                    ],
                    "parcoords": [
                      {
                        "line": {
                          "colorbar": {
                            "outlinewidth": 0,
                            "ticks": ""
                          }
                        },
                        "type": "parcoords"
                      }
                    ],
                    "pie": [
                      {
                        "automargin": true,
                        "type": "pie"
                      }
                    ],
                    "scatter": [
                      {
                        "fillpattern": {
                          "fillmode": "overlay",
                          "size": 10,
                          "solidity": 0.2
                        },
                        "type": "scatter"
                      }
                    ],
                    "scatter3d": [
                      {
                        "line": {
                          "colorbar": {
                            "outlinewidth": 0,
                            "ticks": ""
                          }
                        },
                        "marker": {
                          "colorbar": {
                            "outlinewidth": 0,
                            "ticks": ""
                          }
                        },
                        "type": "scatter3d"
                      }
                    ],
                    "scattercarpet": [
                      {
                        "marker": {
                          "colorbar": {
                            "outlinewidth": 0,
                            "ticks": ""
                          }
                        },
                        "type": "scattercarpet"
                      }
                    ],
                    "scattergeo": [
                      {
                        "marker": {
                          "colorbar": {
                            "outlinewidth": 0,
                            "ticks": ""
                          }
                        },
                        "type": "scattergeo"
                      }
                    ],
                    "scattergl": [
                      {
                        "marker": {
                          "colorbar": {
                            "outlinewidth": 0,
                            "ticks": ""
                          }
                        },
                        "type": "scattergl"
                      }
                    ],
                    "scattermapbox": [
                      {
                        "marker": {
                          "colorbar": {
                            "outlinewidth": 0,
                            "ticks": ""
                          }
                        },
                        "type": "scattermapbox"
                      }
                    ],
                    "scatterpolar": [
                      {
                        "marker": {
                          "colorbar": {
                            "outlinewidth": 0,
                            "ticks": ""
                          }
                        },
                        "type": "scatterpolar"
                      }
                    ],
                    "scatterpolargl": [
                      {
                        "marker": {
                          "colorbar": {
                            "outlinewidth": 0,
                            "ticks": ""
                          }
                        },
                        "type": "scatterpolargl"
                      }
                    ],
                    "scatterternary": [
                      {
                        "marker": {
                          "colorbar": {
                            "outlinewidth": 0,
                            "ticks": ""
                          }
                        },
                        "type": "scatterternary"
                      }
                    ],
                    "surface": [
                      {
                        "colorbar": {
                          "outlinewidth": 0,
                          "ticks": ""
                        },
                        "colorscale": [
                          [
                            0,
                            "#0d0887"
                          ],
                          [
                            0.1111111111111111,
                            "#46039f"
                          ],
                          [
                            0.2222222222222222,
                            "#7201a8"
                          ],
                          [
                            0.3333333333333333,
                            "#9c179e"
                          ],
                          [
                            0.4444444444444444,
                            "#bd3786"
                          ],
                          [
                            0.5555555555555556,
                            "#d8576b"
                          ],
                          [
                            0.6666666666666666,
                            "#ed7953"
                          ],
                          [
                            0.7777777777777778,
                            "#fb9f3a"
                          ],
                          [
                            0.8888888888888888,
                            "#fdca26"
                          ],
                          [
                            1,
                            "#f0f921"
                          ]
                        ],
                        "type": "surface"
                      }
                    ],
                    "table": [
                      {
                        "cells": {
                          "fill": {
                            "color": "#EBF0F8"
                          },
                          "line": {
                            "color": "white"
                          }
                        },
                        "header": {
                          "fill": {
                            "color": "#C8D4E3"
                          },
                          "line": {
                            "color": "white"
                          }
                        },
                        "type": "table"
                      }
                    ]
                  },
                  "layout": {
                    "annotationdefaults": {
                      "arrowcolor": "#2a3f5f",
                      "arrowhead": 0,
                      "arrowwidth": 1
                    },
                    "autotypenumbers": "strict",
                    "coloraxis": {
                      "colorbar": {
                        "outlinewidth": 0,
                        "ticks": ""
                      }
                    },
                    "colorscale": {
                      "diverging": [
                        [
                          0,
                          "#8e0152"
                        ],
                        [
                          0.1,
                          "#c51b7d"
                        ],
                        [
                          0.2,
                          "#de77ae"
                        ],
                        [
                          0.3,
                          "#f1b6da"
                        ],
                        [
                          0.4,
                          "#fde0ef"
                        ],
                        [
                          0.5,
                          "#f7f7f7"
                        ],
                        [
                          0.6,
                          "#e6f5d0"
                        ],
                        [
                          0.7,
                          "#b8e186"
                        ],
                        [
                          0.8,
                          "#7fbc41"
                        ],
                        [
                          0.9,
                          "#4d9221"
                        ],
                        [
                          1,
                          "#276419"
                        ]
                      ],
                      "sequential": [
                        [
                          0,
                          "#0d0887"
                        ],
                        [
                          0.1111111111111111,
                          "#46039f"
                        ],
                        [
                          0.2222222222222222,
                          "#7201a8"
                        ],
                        [
                          0.3333333333333333,
                          "#9c179e"
                        ],
                        [
                          0.4444444444444444,
                          "#bd3786"
                        ],
                        [
                          0.5555555555555556,
                          "#d8576b"
                        ],
                        [
                          0.6666666666666666,
                          "#ed7953"
                        ],
                        [
                          0.7777777777777778,
                          "#fb9f3a"
                        ],
                        [
                          0.8888888888888888,
                          "#fdca26"
                        ],
                        [
                          1,
                          "#f0f921"
                        ]
                      ],
                      "sequentialminus": [
                        [
                          0,
                          "#0d0887"
                        ],
                        [
                          0.1111111111111111,
                          "#46039f"
                        ],
                        [
                          0.2222222222222222,
                          "#7201a8"
                        ],
                        [
                          0.3333333333333333,
                          "#9c179e"
                        ],
                        [
                          0.4444444444444444,
                          "#bd3786"
                        ],
                        [
                          0.5555555555555556,
                          "#d8576b"
                        ],
                        [
                          0.6666666666666666,
                          "#ed7953"
                        ],
                        [
                          0.7777777777777778,
                          "#fb9f3a"
                        ],
                        [
                          0.8888888888888888,
                          "#fdca26"
                        ],
                        [
                          1,
                          "#f0f921"
                        ]
                      ]
                    },
                    "colorway": [
                      "#636efa",
                      "#EF553B",
                      "#00cc96",
                      "#ab63fa",
                      "#FFA15A",
                      "#19d3f3",
                      "#FF6692",
                      "#B6E880",
                      "#FF97FF",
                      "#FECB52"
                    ],
                    "font": {
                      "color": "#2a3f5f"
                    },
                    "geo": {
                      "bgcolor": "white",
                      "lakecolor": "white",
                      "landcolor": "#E5ECF6",
                      "showlakes": true,
                      "showland": true,
                      "subunitcolor": "white"
                    },
                    "hoverlabel": {
                      "align": "left"
                    },
                    "hovermode": "closest",
                    "mapbox": {
                      "style": "light"
                    },
                    "paper_bgcolor": "white",
                    "plot_bgcolor": "#E5ECF6",
                    "polar": {
                      "angularaxis": {
                        "gridcolor": "white",
                        "linecolor": "white",
                        "ticks": ""
                      },
                      "bgcolor": "#E5ECF6",
                      "radialaxis": {
                        "gridcolor": "white",
                        "linecolor": "white",
                        "ticks": ""
                      }
                    },
                    "scene": {
                      "xaxis": {
                        "backgroundcolor": "#E5ECF6",
                        "gridcolor": "white",
                        "gridwidth": 2,
                        "linecolor": "white",
                        "showbackground": true,
                        "ticks": "",
                        "zerolinecolor": "white"
                      },
                      "yaxis": {
                        "backgroundcolor": "#E5ECF6",
                        "gridcolor": "white",
                        "gridwidth": 2,
                        "linecolor": "white",
                        "showbackground": true,
                        "ticks": "",
                        "zerolinecolor": "white"
                      },
                      "zaxis": {
                        "backgroundcolor": "#E5ECF6",
                        "gridcolor": "white",
                        "gridwidth": 2,
                        "linecolor": "white",
                        "showbackground": true,
                        "ticks": "",
                        "zerolinecolor": "white"
                      }
                    },
                    "shapedefaults": {
                      "line": {
                        "color": "#2a3f5f"
                      }
                    },
                    "ternary": {
                      "aaxis": {
                        "gridcolor": "white",
                        "linecolor": "white",
                        "ticks": ""
                      },
                      "baxis": {
                        "gridcolor": "white",
                        "linecolor": "white",
                        "ticks": ""
                      },
                      "bgcolor": "#E5ECF6",
                      "caxis": {
                        "gridcolor": "white",
                        "linecolor": "white",
                        "ticks": ""
                      }
                    },
                    "title": {
                      "x": 0.05
                    },
                    "xaxis": {
                      "automargin": true,
                      "gridcolor": "white",
                      "linecolor": "white",
                      "ticks": "",
                      "title": {
                        "standoff": 15
                      },
                      "zerolinecolor": "white",
                      "zerolinewidth": 2
                    },
                    "yaxis": {
                      "automargin": true,
                      "gridcolor": "white",
                      "linecolor": "white",
                      "ticks": "",
                      "title": {
                        "standoff": 15
                      },
                      "zerolinecolor": "white",
                      "zerolinewidth": 2
                    }
                  }
                },
                "title": {
                  "text": "Distribution of Resting ECG"
                },
                "width": 500,
                "xaxis": {
                  "anchor": "y",
                  "domain": [
                    0,
                    1
                  ],
                  "title": {
                    "text": "RestingECG"
                  }
                },
                "yaxis": {
                  "anchor": "x",
                  "domain": [
                    0,
                    1
                  ],
                  "title": {
                    "text": "count"
                  }
                }
              }
            }
          },
          "metadata": {},
          "output_type": "display_data"
        }
      ],
      "source": [
        "fig=px.histogram(df, x=\"RestingECG\", hover_data=df.columns, title=\"Distribution of Resting ECG\",width=500, height=500)\n",
        "fig.show()"
      ]
    },
    {
      "cell_type": "code",
      "execution_count": null,
      "metadata": {
        "id": "IMw9pTUwzdZ4",
        "outputId": "58e7f1ae-a1f5-46c7-b318-d0b8e87b2e79"
      },
      "outputs": [
        {
          "data": {
            "application/vnd.plotly.v1+json": {
              "config": {
                "plotlyServerURL": "https://plot.ly"
              },
              "data": [
                {
                  "alignmentgroup": "True",
                  "bingroup": "x",
                  "hovertemplate": "HeartDisease=0<br>RestingECG=%{x}<br>count=%{y}<extra></extra>",
                  "legendgroup": "0",
                  "marker": {
                    "color": "#636efa",
                    "pattern": {
                      "shape": ""
                    }
                  },
                  "name": "0",
                  "offsetgroup": "0",
                  "orientation": "v",
                  "showlegend": true,
                  "type": "histogram",
                  "x": [
                    "Normal",
                    "ST",
                    "Normal",
                    "Normal",
                    "Normal",
                    "Normal",
                    "Normal",
                    "Normal",
                    "Normal",
                    "ST",
                    "Normal",
                    "Normal",
                    "Normal",
                    "Normal",
                    "Normal",
                    "Normal",
                    "Normal",
                    "ST",
                    "Normal",
                    "Normal",
                    "Normal",
                    "Normal",
                    "Normal",
                    "Normal",
                    "ST",
                    "ST",
                    "Normal",
                    "Normal",
                    "Normal",
                    "ST",
                    "Normal",
                    "Normal",
                    "Normal",
                    "Normal",
                    "Normal",
                    "Normal",
                    "Normal",
                    "Normal",
                    "ST",
                    "Normal",
                    "Normal",
                    "Normal",
                    "Normal",
                    "Normal",
                    "Normal",
                    "Normal",
                    "Normal",
                    "Normal",
                    "ST",
                    "Normal",
                    "Normal",
                    "Normal",
                    "Normal",
                    "Normal",
                    "Normal",
                    "Normal",
                    "Normal",
                    "Normal",
                    "Normal",
                    "Normal",
                    "ST",
                    "Normal",
                    "Normal",
                    "Normal",
                    "Normal",
                    "Normal",
                    "Normal",
                    "ST",
                    "ST",
                    "Normal",
                    "Normal",
                    "Normal",
                    "Normal",
                    "Normal",
                    "ST",
                    "ST",
                    "Normal",
                    "ST",
                    "Normal",
                    "Normal",
                    "Normal",
                    "Normal",
                    "Normal",
                    "Normal",
                    "Normal",
                    "ST",
                    "ST",
                    "ST",
                    "Normal",
                    "Normal",
                    "Normal",
                    "ST",
                    "Normal",
                    "Normal",
                    "Normal",
                    "Normal",
                    "Normal",
                    "ST",
                    "Normal",
                    "ST",
                    "Normal",
                    "Normal",
                    "Normal",
                    "Normal",
                    "Normal",
                    "Normal",
                    "Normal",
                    "Normal",
                    "Normal",
                    "Normal",
                    "Normal",
                    "Normal",
                    "Normal",
                    "Normal",
                    "ST",
                    "Normal",
                    "Normal",
                    "Normal",
                    "ST",
                    "ST",
                    "Normal",
                    "Normal",
                    "Normal",
                    "Normal",
                    "Normal",
                    "Normal",
                    "Normal",
                    "Normal",
                    "Normal",
                    "Normal",
                    "ST",
                    "Normal",
                    "Normal",
                    "LVH",
                    "LVH",
                    "Normal",
                    "ST",
                    "ST",
                    "Normal",
                    "Normal",
                    "Normal",
                    "Normal",
                    "Normal",
                    "Normal",
                    "Normal",
                    "Normal",
                    "ST",
                    "Normal",
                    "Normal",
                    "Normal",
                    "Normal",
                    "ST",
                    "Normal",
                    "Normal",
                    "Normal",
                    "Normal",
                    "ST",
                    "Normal",
                    "Normal",
                    "LVH",
                    "Normal",
                    "Normal",
                    "Normal",
                    "Normal",
                    "Normal",
                    "Normal",
                    "Normal",
                    "Normal",
                    "Normal",
                    "Normal",
                    "LVH",
                    "Normal",
                    "Normal",
                    "ST",
                    "ST",
                    "LVH",
                    "Normal",
                    "ST",
                    "Normal",
                    "Normal",
                    "Normal",
                    "Normal",
                    "ST",
                    "Normal",
                    "Normal",
                    "Normal",
                    "Normal",
                    "ST",
                    "ST",
                    "Normal",
                    "Normal",
                    "Normal",
                    "Normal",
                    "LVH",
                    "Normal",
                    "ST",
                    "LVH",
                    "ST",
                    "ST",
                    "ST",
                    "ST",
                    "ST",
                    "ST",
                    "Normal",
                    "Normal",
                    "ST",
                    "ST",
                    "Normal",
                    "Normal",
                    "Normal",
                    "Normal",
                    "Normal",
                    "LVH",
                    "ST",
                    "Normal",
                    "Normal",
                    "ST",
                    "Normal",
                    "Normal",
                    "ST",
                    "ST",
                    "ST",
                    "ST",
                    "Normal",
                    "Normal",
                    "LVH",
                    "Normal",
                    "ST",
                    "ST",
                    "LVH",
                    "ST",
                    "Normal",
                    "ST",
                    "ST",
                    "Normal",
                    "Normal",
                    "LVH",
                    "LVH",
                    "ST",
                    "ST",
                    "ST",
                    "ST",
                    "Normal",
                    "LVH",
                    "ST",
                    "LVH",
                    "LVH",
                    "Normal",
                    "LVH",
                    "Normal",
                    "Normal",
                    "LVH",
                    "LVH",
                    "LVH",
                    "Normal",
                    "LVH",
                    "Normal",
                    "LVH",
                    "Normal",
                    "Normal",
                    "LVH",
                    "Normal",
                    "LVH",
                    "LVH",
                    "LVH",
                    "LVH",
                    "Normal",
                    "Normal",
                    "LVH",
                    "Normal",
                    "Normal",
                    "Normal",
                    "LVH",
                    "Normal",
                    "LVH",
                    "Normal",
                    "LVH",
                    "Normal",
                    "Normal",
                    "Normal",
                    "Normal",
                    "Normal",
                    "LVH",
                    "LVH",
                    "Normal",
                    "Normal",
                    "LVH",
                    "ST",
                    "Normal",
                    "LVH",
                    "Normal",
                    "Normal",
                    "Normal",
                    "LVH",
                    "Normal",
                    "LVH",
                    "LVH",
                    "LVH",
                    "Normal",
                    "Normal",
                    "LVH",
                    "Normal",
                    "Normal",
                    "Normal",
                    "Normal",
                    "Normal",
                    "Normal",
                    "Normal",
                    "Normal",
                    "Normal",
                    "Normal",
                    "Normal",
                    "LVH",
                    "LVH",
                    "Normal",
                    "LVH",
                    "Normal",
                    "Normal",
                    "LVH",
                    "LVH",
                    "Normal",
                    "Normal",
                    "Normal",
                    "LVH",
                    "LVH",
                    "LVH",
                    "Normal",
                    "Normal",
                    "LVH",
                    "Normal",
                    "LVH",
                    "Normal",
                    "LVH",
                    "LVH",
                    "Normal",
                    "Normal",
                    "Normal",
                    "LVH",
                    "LVH",
                    "LVH",
                    "LVH",
                    "LVH",
                    "LVH",
                    "Normal",
                    "Normal",
                    "LVH",
                    "LVH",
                    "Normal",
                    "Normal",
                    "LVH",
                    "Normal",
                    "Normal",
                    "Normal",
                    "LVH",
                    "LVH",
                    "Normal",
                    "Normal",
                    "Normal",
                    "Normal",
                    "Normal",
                    "LVH",
                    "Normal",
                    "LVH",
                    "Normal",
                    "LVH",
                    "LVH",
                    "LVH",
                    "Normal",
                    "LVH",
                    "Normal",
                    "Normal",
                    "Normal",
                    "Normal",
                    "LVH",
                    "LVH",
                    "LVH",
                    "Normal",
                    "LVH",
                    "LVH",
                    "Normal",
                    "LVH",
                    "LVH",
                    "LVH",
                    "Normal",
                    "LVH",
                    "Normal",
                    "Normal",
                    "Normal",
                    "Normal",
                    "Normal",
                    "Normal",
                    "Normal",
                    "Normal",
                    "Normal",
                    "LVH",
                    "Normal",
                    "LVH",
                    "Normal",
                    "LVH",
                    "LVH",
                    "Normal",
                    "Normal",
                    "Normal",
                    "Normal",
                    "Normal",
                    "LVH",
                    "Normal",
                    "Normal",
                    "Normal",
                    "Normal"
                  ],
                  "xaxis": "x",
                  "yaxis": "y"
                },
                {
                  "alignmentgroup": "True",
                  "bingroup": "x",
                  "hovertemplate": "HeartDisease=1<br>RestingECG=%{x}<br>count=%{y}<extra></extra>",
                  "legendgroup": "1",
                  "marker": {
                    "color": "#EF553B",
                    "pattern": {
                      "shape": ""
                    }
                  },
                  "name": "1",
                  "offsetgroup": "1",
                  "orientation": "v",
                  "showlegend": true,
                  "type": "histogram",
                  "x": [
                    "Normal",
                    "Normal",
                    "Normal",
                    "ST",
                    "Normal",
                    "Normal",
                    "Normal",
                    "Normal",
                    "Normal",
                    "Normal",
                    "Normal",
                    "ST",
                    "Normal",
                    "ST",
                    "Normal",
                    "Normal",
                    "Normal",
                    "Normal",
                    "Normal",
                    "ST",
                    "ST",
                    "Normal",
                    "ST",
                    "ST",
                    "Normal",
                    "Normal",
                    "Normal",
                    "Normal",
                    "Normal",
                    "Normal",
                    "Normal",
                    "Normal",
                    "ST",
                    "Normal",
                    "Normal",
                    "ST",
                    "Normal",
                    "Normal",
                    "Normal",
                    "Normal",
                    "Normal",
                    "Normal",
                    "ST",
                    "Normal",
                    "Normal",
                    "Normal",
                    "Normal",
                    "ST",
                    "ST",
                    "Normal",
                    "Normal",
                    "Normal",
                    "Normal",
                    "ST",
                    "ST",
                    "Normal",
                    "Normal",
                    "Normal",
                    "Normal",
                    "Normal",
                    "LVH",
                    "Normal",
                    "Normal",
                    "ST",
                    "Normal",
                    "Normal",
                    "Normal",
                    "Normal",
                    "Normal",
                    "ST",
                    "Normal",
                    "ST",
                    "Normal",
                    "Normal",
                    "Normal",
                    "Normal",
                    "Normal",
                    "Normal",
                    "Normal",
                    "Normal",
                    "Normal",
                    "Normal",
                    "Normal",
                    "Normal",
                    "Normal",
                    "Normal",
                    "Normal",
                    "Normal",
                    "Normal",
                    "Normal",
                    "Normal",
                    "ST",
                    "ST",
                    "Normal",
                    "Normal",
                    "Normal",
                    "Normal",
                    "Normal",
                    "Normal",
                    "Normal",
                    "Normal",
                    "Normal",
                    "Normal",
                    "Normal",
                    "Normal",
                    "Normal",
                    "Normal",
                    "Normal",
                    "Normal",
                    "Normal",
                    "ST",
                    "Normal",
                    "ST",
                    "Normal",
                    "Normal",
                    "ST",
                    "Normal",
                    "Normal",
                    "Normal",
                    "Normal",
                    "Normal",
                    "Normal",
                    "Normal",
                    "Normal",
                    "ST",
                    "Normal",
                    "Normal",
                    "Normal",
                    "Normal",
                    "Normal",
                    "Normal",
                    "Normal",
                    "Normal",
                    "ST",
                    "Normal",
                    "Normal",
                    "Normal",
                    "ST",
                    "Normal",
                    "ST",
                    "ST",
                    "Normal",
                    "LVH",
                    "ST",
                    "LVH",
                    "Normal",
                    "Normal",
                    "Normal",
                    "Normal",
                    "Normal",
                    "Normal",
                    "Normal",
                    "Normal",
                    "Normal",
                    "ST",
                    "Normal",
                    "Normal",
                    "ST",
                    "ST",
                    "ST",
                    "ST",
                    "LVH",
                    "Normal",
                    "Normal",
                    "Normal",
                    "Normal",
                    "Normal",
                    "Normal",
                    "ST",
                    "ST",
                    "Normal",
                    "Normal",
                    "ST",
                    "Normal",
                    "Normal",
                    "Normal",
                    "Normal",
                    "Normal",
                    "Normal",
                    "Normal",
                    "ST",
                    "Normal",
                    "ST",
                    "Normal",
                    "ST",
                    "ST",
                    "Normal",
                    "Normal",
                    "Normal",
                    "Normal",
                    "Normal",
                    "Normal",
                    "LVH",
                    "Normal",
                    "ST",
                    "Normal",
                    "ST",
                    "LVH",
                    "Normal",
                    "Normal",
                    "Normal",
                    "Normal",
                    "ST",
                    "Normal",
                    "ST",
                    "Normal",
                    "ST",
                    "ST",
                    "Normal",
                    "Normal",
                    "Normal",
                    "Normal",
                    "Normal",
                    "Normal",
                    "LVH",
                    "ST",
                    "Normal",
                    "Normal",
                    "Normal",
                    "Normal",
                    "Normal",
                    "ST",
                    "ST",
                    "ST",
                    "ST",
                    "Normal",
                    "ST",
                    "ST",
                    "Normal",
                    "LVH",
                    "ST",
                    "Normal",
                    "Normal",
                    "Normal",
                    "ST",
                    "ST",
                    "ST",
                    "ST",
                    "ST",
                    "ST",
                    "Normal",
                    "ST",
                    "ST",
                    "ST",
                    "Normal",
                    "Normal",
                    "Normal",
                    "ST",
                    "ST",
                    "Normal",
                    "Normal",
                    "Normal",
                    "ST",
                    "ST",
                    "Normal",
                    "Normal",
                    "Normal",
                    "ST",
                    "ST",
                    "Normal",
                    "Normal",
                    "ST",
                    "ST",
                    "LVH",
                    "Normal",
                    "ST",
                    "LVH",
                    "Normal",
                    "ST",
                    "Normal",
                    "LVH",
                    "Normal",
                    "ST",
                    "ST",
                    "Normal",
                    "Normal",
                    "ST",
                    "ST",
                    "Normal",
                    "Normal",
                    "Normal",
                    "Normal",
                    "ST",
                    "Normal",
                    "Normal",
                    "Normal",
                    "ST",
                    "Normal",
                    "ST",
                    "Normal",
                    "Normal",
                    "Normal",
                    "ST",
                    "ST",
                    "Normal",
                    "Normal",
                    "Normal",
                    "ST",
                    "ST",
                    "ST",
                    "LVH",
                    "Normal",
                    "LVH",
                    "Normal",
                    "Normal",
                    "Normal",
                    "ST",
                    "ST",
                    "ST",
                    "Normal",
                    "LVH",
                    "ST",
                    "ST",
                    "Normal",
                    "ST",
                    "LVH",
                    "Normal",
                    "ST",
                    "ST",
                    "ST",
                    "Normal",
                    "Normal",
                    "Normal",
                    "Normal",
                    "ST",
                    "ST",
                    "ST",
                    "Normal",
                    "ST",
                    "ST",
                    "ST",
                    "ST",
                    "Normal",
                    "Normal",
                    "ST",
                    "Normal",
                    "ST",
                    "LVH",
                    "ST",
                    "Normal",
                    "ST",
                    "Normal",
                    "LVH",
                    "ST",
                    "LVH",
                    "Normal",
                    "LVH",
                    "ST",
                    "ST",
                    "Normal",
                    "ST",
                    "Normal",
                    "LVH",
                    "LVH",
                    "LVH",
                    "LVH",
                    "LVH",
                    "LVH",
                    "Normal",
                    "Normal",
                    "Normal",
                    "Normal",
                    "ST",
                    "ST",
                    "ST",
                    "Normal",
                    "ST",
                    "ST",
                    "LVH",
                    "LVH",
                    "Normal",
                    "LVH",
                    "LVH",
                    "LVH",
                    "LVH",
                    "Normal",
                    "Normal",
                    "LVH",
                    "LVH",
                    "LVH",
                    "LVH",
                    "LVH",
                    "LVH",
                    "LVH",
                    "LVH",
                    "LVH",
                    "Normal",
                    "Normal",
                    "LVH",
                    "LVH",
                    "Normal",
                    "LVH",
                    "Normal",
                    "LVH",
                    "Normal",
                    "LVH",
                    "Normal",
                    "LVH",
                    "LVH",
                    "Normal",
                    "Normal",
                    "LVH",
                    "Normal",
                    "Normal",
                    "LVH",
                    "LVH",
                    "LVH",
                    "LVH",
                    "LVH",
                    "Normal",
                    "LVH",
                    "Normal",
                    "Normal",
                    "LVH",
                    "LVH",
                    "LVH",
                    "LVH",
                    "Normal",
                    "ST",
                    "LVH",
                    "LVH",
                    "LVH",
                    "LVH",
                    "Normal",
                    "LVH",
                    "Normal",
                    "Normal",
                    "Normal",
                    "Normal",
                    "LVH",
                    "LVH",
                    "LVH",
                    "LVH",
                    "Normal",
                    "LVH",
                    "Normal",
                    "Normal",
                    "LVH",
                    "LVH",
                    "Normal",
                    "Normal",
                    "Normal",
                    "Normal",
                    "LVH",
                    "LVH",
                    "LVH",
                    "LVH",
                    "Normal",
                    "Normal",
                    "Normal",
                    "Normal",
                    "LVH",
                    "LVH",
                    "LVH",
                    "Normal",
                    "Normal",
                    "LVH",
                    "LVH",
                    "LVH",
                    "LVH",
                    "Normal",
                    "LVH",
                    "Normal",
                    "LVH",
                    "LVH",
                    "Normal",
                    "LVH",
                    "LVH",
                    "Normal",
                    "LVH",
                    "LVH",
                    "Normal",
                    "Normal",
                    "LVH",
                    "LVH",
                    "LVH",
                    "LVH",
                    "Normal",
                    "LVH",
                    "LVH",
                    "LVH",
                    "Normal",
                    "LVH",
                    "Normal",
                    "Normal",
                    "LVH",
                    "LVH",
                    "Normal",
                    "LVH",
                    "LVH",
                    "Normal",
                    "Normal",
                    "LVH",
                    "Normal",
                    "ST",
                    "Normal",
                    "ST",
                    "LVH",
                    "LVH",
                    "Normal",
                    "LVH",
                    "Normal",
                    "LVH",
                    "Normal",
                    "Normal",
                    "Normal",
                    "Normal",
                    "LVH"
                  ],
                  "xaxis": "x",
                  "yaxis": "y"
                }
              ],
              "layout": {
                "barmode": "relative",
                "height": 500,
                "legend": {
                  "title": {
                    "text": "HeartDisease"
                  },
                  "tracegroupgap": 0
                },
                "template": {
                  "data": {
                    "bar": [
                      {
                        "error_x": {
                          "color": "#2a3f5f"
                        },
                        "error_y": {
                          "color": "#2a3f5f"
                        },
                        "marker": {
                          "line": {
                            "color": "#E5ECF6",
                            "width": 0.5
                          },
                          "pattern": {
                            "fillmode": "overlay",
                            "size": 10,
                            "solidity": 0.2
                          }
                        },
                        "type": "bar"
                      }
                    ],
                    "barpolar": [
                      {
                        "marker": {
                          "line": {
                            "color": "#E5ECF6",
                            "width": 0.5
                          },
                          "pattern": {
                            "fillmode": "overlay",
                            "size": 10,
                            "solidity": 0.2
                          }
                        },
                        "type": "barpolar"
                      }
                    ],
                    "carpet": [
                      {
                        "aaxis": {
                          "endlinecolor": "#2a3f5f",
                          "gridcolor": "white",
                          "linecolor": "white",
                          "minorgridcolor": "white",
                          "startlinecolor": "#2a3f5f"
                        },
                        "baxis": {
                          "endlinecolor": "#2a3f5f",
                          "gridcolor": "white",
                          "linecolor": "white",
                          "minorgridcolor": "white",
                          "startlinecolor": "#2a3f5f"
                        },
                        "type": "carpet"
                      }
                    ],
                    "choropleth": [
                      {
                        "colorbar": {
                          "outlinewidth": 0,
                          "ticks": ""
                        },
                        "type": "choropleth"
                      }
                    ],
                    "contour": [
                      {
                        "colorbar": {
                          "outlinewidth": 0,
                          "ticks": ""
                        },
                        "colorscale": [
                          [
                            0,
                            "#0d0887"
                          ],
                          [
                            0.1111111111111111,
                            "#46039f"
                          ],
                          [
                            0.2222222222222222,
                            "#7201a8"
                          ],
                          [
                            0.3333333333333333,
                            "#9c179e"
                          ],
                          [
                            0.4444444444444444,
                            "#bd3786"
                          ],
                          [
                            0.5555555555555556,
                            "#d8576b"
                          ],
                          [
                            0.6666666666666666,
                            "#ed7953"
                          ],
                          [
                            0.7777777777777778,
                            "#fb9f3a"
                          ],
                          [
                            0.8888888888888888,
                            "#fdca26"
                          ],
                          [
                            1,
                            "#f0f921"
                          ]
                        ],
                        "type": "contour"
                      }
                    ],
                    "contourcarpet": [
                      {
                        "colorbar": {
                          "outlinewidth": 0,
                          "ticks": ""
                        },
                        "type": "contourcarpet"
                      }
                    ],
                    "heatmap": [
                      {
                        "colorbar": {
                          "outlinewidth": 0,
                          "ticks": ""
                        },
                        "colorscale": [
                          [
                            0,
                            "#0d0887"
                          ],
                          [
                            0.1111111111111111,
                            "#46039f"
                          ],
                          [
                            0.2222222222222222,
                            "#7201a8"
                          ],
                          [
                            0.3333333333333333,
                            "#9c179e"
                          ],
                          [
                            0.4444444444444444,
                            "#bd3786"
                          ],
                          [
                            0.5555555555555556,
                            "#d8576b"
                          ],
                          [
                            0.6666666666666666,
                            "#ed7953"
                          ],
                          [
                            0.7777777777777778,
                            "#fb9f3a"
                          ],
                          [
                            0.8888888888888888,
                            "#fdca26"
                          ],
                          [
                            1,
                            "#f0f921"
                          ]
                        ],
                        "type": "heatmap"
                      }
                    ],
                    "heatmapgl": [
                      {
                        "colorbar": {
                          "outlinewidth": 0,
                          "ticks": ""
                        },
                        "colorscale": [
                          [
                            0,
                            "#0d0887"
                          ],
                          [
                            0.1111111111111111,
                            "#46039f"
                          ],
                          [
                            0.2222222222222222,
                            "#7201a8"
                          ],
                          [
                            0.3333333333333333,
                            "#9c179e"
                          ],
                          [
                            0.4444444444444444,
                            "#bd3786"
                          ],
                          [
                            0.5555555555555556,
                            "#d8576b"
                          ],
                          [
                            0.6666666666666666,
                            "#ed7953"
                          ],
                          [
                            0.7777777777777778,
                            "#fb9f3a"
                          ],
                          [
                            0.8888888888888888,
                            "#fdca26"
                          ],
                          [
                            1,
                            "#f0f921"
                          ]
                        ],
                        "type": "heatmapgl"
                      }
                    ],
                    "histogram": [
                      {
                        "marker": {
                          "pattern": {
                            "fillmode": "overlay",
                            "size": 10,
                            "solidity": 0.2
                          }
                        },
                        "type": "histogram"
                      }
                    ],
                    "histogram2d": [
                      {
                        "colorbar": {
                          "outlinewidth": 0,
                          "ticks": ""
                        },
                        "colorscale": [
                          [
                            0,
                            "#0d0887"
                          ],
                          [
                            0.1111111111111111,
                            "#46039f"
                          ],
                          [
                            0.2222222222222222,
                            "#7201a8"
                          ],
                          [
                            0.3333333333333333,
                            "#9c179e"
                          ],
                          [
                            0.4444444444444444,
                            "#bd3786"
                          ],
                          [
                            0.5555555555555556,
                            "#d8576b"
                          ],
                          [
                            0.6666666666666666,
                            "#ed7953"
                          ],
                          [
                            0.7777777777777778,
                            "#fb9f3a"
                          ],
                          [
                            0.8888888888888888,
                            "#fdca26"
                          ],
                          [
                            1,
                            "#f0f921"
                          ]
                        ],
                        "type": "histogram2d"
                      }
                    ],
                    "histogram2dcontour": [
                      {
                        "colorbar": {
                          "outlinewidth": 0,
                          "ticks": ""
                        },
                        "colorscale": [
                          [
                            0,
                            "#0d0887"
                          ],
                          [
                            0.1111111111111111,
                            "#46039f"
                          ],
                          [
                            0.2222222222222222,
                            "#7201a8"
                          ],
                          [
                            0.3333333333333333,
                            "#9c179e"
                          ],
                          [
                            0.4444444444444444,
                            "#bd3786"
                          ],
                          [
                            0.5555555555555556,
                            "#d8576b"
                          ],
                          [
                            0.6666666666666666,
                            "#ed7953"
                          ],
                          [
                            0.7777777777777778,
                            "#fb9f3a"
                          ],
                          [
                            0.8888888888888888,
                            "#fdca26"
                          ],
                          [
                            1,
                            "#f0f921"
                          ]
                        ],
                        "type": "histogram2dcontour"
                      }
                    ],
                    "mesh3d": [
                      {
                        "colorbar": {
                          "outlinewidth": 0,
                          "ticks": ""
                        },
                        "type": "mesh3d"
                      }
                    ],
                    "parcoords": [
                      {
                        "line": {
                          "colorbar": {
                            "outlinewidth": 0,
                            "ticks": ""
                          }
                        },
                        "type": "parcoords"
                      }
                    ],
                    "pie": [
                      {
                        "automargin": true,
                        "type": "pie"
                      }
                    ],
                    "scatter": [
                      {
                        "fillpattern": {
                          "fillmode": "overlay",
                          "size": 10,
                          "solidity": 0.2
                        },
                        "type": "scatter"
                      }
                    ],
                    "scatter3d": [
                      {
                        "line": {
                          "colorbar": {
                            "outlinewidth": 0,
                            "ticks": ""
                          }
                        },
                        "marker": {
                          "colorbar": {
                            "outlinewidth": 0,
                            "ticks": ""
                          }
                        },
                        "type": "scatter3d"
                      }
                    ],
                    "scattercarpet": [
                      {
                        "marker": {
                          "colorbar": {
                            "outlinewidth": 0,
                            "ticks": ""
                          }
                        },
                        "type": "scattercarpet"
                      }
                    ],
                    "scattergeo": [
                      {
                        "marker": {
                          "colorbar": {
                            "outlinewidth": 0,
                            "ticks": ""
                          }
                        },
                        "type": "scattergeo"
                      }
                    ],
                    "scattergl": [
                      {
                        "marker": {
                          "colorbar": {
                            "outlinewidth": 0,
                            "ticks": ""
                          }
                        },
                        "type": "scattergl"
                      }
                    ],
                    "scattermapbox": [
                      {
                        "marker": {
                          "colorbar": {
                            "outlinewidth": 0,
                            "ticks": ""
                          }
                        },
                        "type": "scattermapbox"
                      }
                    ],
                    "scatterpolar": [
                      {
                        "marker": {
                          "colorbar": {
                            "outlinewidth": 0,
                            "ticks": ""
                          }
                        },
                        "type": "scatterpolar"
                      }
                    ],
                    "scatterpolargl": [
                      {
                        "marker": {
                          "colorbar": {
                            "outlinewidth": 0,
                            "ticks": ""
                          }
                        },
                        "type": "scatterpolargl"
                      }
                    ],
                    "scatterternary": [
                      {
                        "marker": {
                          "colorbar": {
                            "outlinewidth": 0,
                            "ticks": ""
                          }
                        },
                        "type": "scatterternary"
                      }
                    ],
                    "surface": [
                      {
                        "colorbar": {
                          "outlinewidth": 0,
                          "ticks": ""
                        },
                        "colorscale": [
                          [
                            0,
                            "#0d0887"
                          ],
                          [
                            0.1111111111111111,
                            "#46039f"
                          ],
                          [
                            0.2222222222222222,
                            "#7201a8"
                          ],
                          [
                            0.3333333333333333,
                            "#9c179e"
                          ],
                          [
                            0.4444444444444444,
                            "#bd3786"
                          ],
                          [
                            0.5555555555555556,
                            "#d8576b"
                          ],
                          [
                            0.6666666666666666,
                            "#ed7953"
                          ],
                          [
                            0.7777777777777778,
                            "#fb9f3a"
                          ],
                          [
                            0.8888888888888888,
                            "#fdca26"
                          ],
                          [
                            1,
                            "#f0f921"
                          ]
                        ],
                        "type": "surface"
                      }
                    ],
                    "table": [
                      {
                        "cells": {
                          "fill": {
                            "color": "#EBF0F8"
                          },
                          "line": {
                            "color": "white"
                          }
                        },
                        "header": {
                          "fill": {
                            "color": "#C8D4E3"
                          },
                          "line": {
                            "color": "white"
                          }
                        },
                        "type": "table"
                      }
                    ]
                  },
                  "layout": {
                    "annotationdefaults": {
                      "arrowcolor": "#2a3f5f",
                      "arrowhead": 0,
                      "arrowwidth": 1
                    },
                    "autotypenumbers": "strict",
                    "coloraxis": {
                      "colorbar": {
                        "outlinewidth": 0,
                        "ticks": ""
                      }
                    },
                    "colorscale": {
                      "diverging": [
                        [
                          0,
                          "#8e0152"
                        ],
                        [
                          0.1,
                          "#c51b7d"
                        ],
                        [
                          0.2,
                          "#de77ae"
                        ],
                        [
                          0.3,
                          "#f1b6da"
                        ],
                        [
                          0.4,
                          "#fde0ef"
                        ],
                        [
                          0.5,
                          "#f7f7f7"
                        ],
                        [
                          0.6,
                          "#e6f5d0"
                        ],
                        [
                          0.7,
                          "#b8e186"
                        ],
                        [
                          0.8,
                          "#7fbc41"
                        ],
                        [
                          0.9,
                          "#4d9221"
                        ],
                        [
                          1,
                          "#276419"
                        ]
                      ],
                      "sequential": [
                        [
                          0,
                          "#0d0887"
                        ],
                        [
                          0.1111111111111111,
                          "#46039f"
                        ],
                        [
                          0.2222222222222222,
                          "#7201a8"
                        ],
                        [
                          0.3333333333333333,
                          "#9c179e"
                        ],
                        [
                          0.4444444444444444,
                          "#bd3786"
                        ],
                        [
                          0.5555555555555556,
                          "#d8576b"
                        ],
                        [
                          0.6666666666666666,
                          "#ed7953"
                        ],
                        [
                          0.7777777777777778,
                          "#fb9f3a"
                        ],
                        [
                          0.8888888888888888,
                          "#fdca26"
                        ],
                        [
                          1,
                          "#f0f921"
                        ]
                      ],
                      "sequentialminus": [
                        [
                          0,
                          "#0d0887"
                        ],
                        [
                          0.1111111111111111,
                          "#46039f"
                        ],
                        [
                          0.2222222222222222,
                          "#7201a8"
                        ],
                        [
                          0.3333333333333333,
                          "#9c179e"
                        ],
                        [
                          0.4444444444444444,
                          "#bd3786"
                        ],
                        [
                          0.5555555555555556,
                          "#d8576b"
                        ],
                        [
                          0.6666666666666666,
                          "#ed7953"
                        ],
                        [
                          0.7777777777777778,
                          "#fb9f3a"
                        ],
                        [
                          0.8888888888888888,
                          "#fdca26"
                        ],
                        [
                          1,
                          "#f0f921"
                        ]
                      ]
                    },
                    "colorway": [
                      "#636efa",
                      "#EF553B",
                      "#00cc96",
                      "#ab63fa",
                      "#FFA15A",
                      "#19d3f3",
                      "#FF6692",
                      "#B6E880",
                      "#FF97FF",
                      "#FECB52"
                    ],
                    "font": {
                      "color": "#2a3f5f"
                    },
                    "geo": {
                      "bgcolor": "white",
                      "lakecolor": "white",
                      "landcolor": "#E5ECF6",
                      "showlakes": true,
                      "showland": true,
                      "subunitcolor": "white"
                    },
                    "hoverlabel": {
                      "align": "left"
                    },
                    "hovermode": "closest",
                    "mapbox": {
                      "style": "light"
                    },
                    "paper_bgcolor": "white",
                    "plot_bgcolor": "#E5ECF6",
                    "polar": {
                      "angularaxis": {
                        "gridcolor": "white",
                        "linecolor": "white",
                        "ticks": ""
                      },
                      "bgcolor": "#E5ECF6",
                      "radialaxis": {
                        "gridcolor": "white",
                        "linecolor": "white",
                        "ticks": ""
                      }
                    },
                    "scene": {
                      "xaxis": {
                        "backgroundcolor": "#E5ECF6",
                        "gridcolor": "white",
                        "gridwidth": 2,
                        "linecolor": "white",
                        "showbackground": true,
                        "ticks": "",
                        "zerolinecolor": "white"
                      },
                      "yaxis": {
                        "backgroundcolor": "#E5ECF6",
                        "gridcolor": "white",
                        "gridwidth": 2,
                        "linecolor": "white",
                        "showbackground": true,
                        "ticks": "",
                        "zerolinecolor": "white"
                      },
                      "zaxis": {
                        "backgroundcolor": "#E5ECF6",
                        "gridcolor": "white",
                        "gridwidth": 2,
                        "linecolor": "white",
                        "showbackground": true,
                        "ticks": "",
                        "zerolinecolor": "white"
                      }
                    },
                    "shapedefaults": {
                      "line": {
                        "color": "#2a3f5f"
                      }
                    },
                    "ternary": {
                      "aaxis": {
                        "gridcolor": "white",
                        "linecolor": "white",
                        "ticks": ""
                      },
                      "baxis": {
                        "gridcolor": "white",
                        "linecolor": "white",
                        "ticks": ""
                      },
                      "bgcolor": "#E5ECF6",
                      "caxis": {
                        "gridcolor": "white",
                        "linecolor": "white",
                        "ticks": ""
                      }
                    },
                    "title": {
                      "x": 0.05
                    },
                    "xaxis": {
                      "automargin": true,
                      "gridcolor": "white",
                      "linecolor": "white",
                      "ticks": "",
                      "title": {
                        "standoff": 15
                      },
                      "zerolinecolor": "white",
                      "zerolinewidth": 2
                    },
                    "yaxis": {
                      "automargin": true,
                      "gridcolor": "white",
                      "linecolor": "white",
                      "ticks": "",
                      "title": {
                        "standoff": 15
                      },
                      "zerolinecolor": "white",
                      "zerolinewidth": 2
                    }
                  }
                },
                "title": {
                  "text": "Distribution of Resting ECG in people having disease or not"
                },
                "width": 550,
                "xaxis": {
                  "anchor": "y",
                  "domain": [
                    0,
                    1
                  ],
                  "title": {
                    "text": "RestingECG"
                  }
                },
                "yaxis": {
                  "anchor": "x",
                  "domain": [
                    0,
                    1
                  ],
                  "title": {
                    "text": "count"
                  }
                }
              }
            }
          },
          "metadata": {},
          "output_type": "display_data"
        }
      ],
      "source": [
        "fig = px.histogram(df, x=\"RestingECG\", color=\"HeartDisease\",title='Distribution of Resting ECG in people having disease or not',width=550, height=500)\n",
        "fig.show()"
      ]
    },
    {
      "cell_type": "code",
      "execution_count": null,
      "metadata": {
        "id": "2B6WLr83zh5-",
        "outputId": "7ca05674-13f8-47ee-d1fb-71cd0e6ba954"
      },
      "outputs": [
        {
          "data": {
            "application/vnd.plotly.v1+json": {
              "config": {
                "plotlyServerURL": "https://plot.ly"
              },
              "data": [
                {
                  "alignmentgroup": "True",
                  "bingroup": "x",
                  "hovertemplate": "ExerciseAngina=%{x}<br>count=%{y}<extra></extra>",
                  "legendgroup": "",
                  "marker": {
                    "color": "#636efa",
                    "pattern": {
                      "shape": ""
                    }
                  },
                  "name": "",
                  "offsetgroup": "",
                  "orientation": "v",
                  "showlegend": false,
                  "type": "histogram",
                  "x": [
                    "N",
                    "N",
                    "N",
                    "Y",
                    "N",
                    "N",
                    "N",
                    "N",
                    "Y",
                    "N",
                    "N",
                    "Y",
                    "N",
                    "Y",
                    "N",
                    "N",
                    "N",
                    "N",
                    "N",
                    "N",
                    "N",
                    "N",
                    "N",
                    "Y",
                    "N",
                    "N",
                    "Y",
                    "N",
                    "N",
                    "N",
                    "N",
                    "N",
                    "N",
                    "N",
                    "N",
                    "N",
                    "Y",
                    "N",
                    "N",
                    "Y",
                    "N",
                    "Y",
                    "N",
                    "N",
                    "Y",
                    "Y",
                    "N",
                    "N",
                    "N",
                    "N",
                    "Y",
                    "Y",
                    "N",
                    "N",
                    "Y",
                    "N",
                    "Y",
                    "N",
                    "N",
                    "Y",
                    "N",
                    "N",
                    "N",
                    "Y",
                    "N",
                    "N",
                    "N",
                    "N",
                    "Y",
                    "N",
                    "Y",
                    "N",
                    "N",
                    "N",
                    "Y",
                    "N",
                    "N",
                    "N",
                    "Y",
                    "N",
                    "N",
                    "N",
                    "N",
                    "N",
                    "Y",
                    "Y",
                    "Y",
                    "Y",
                    "N",
                    "Y",
                    "N",
                    "N",
                    "N",
                    "Y",
                    "N",
                    "Y",
                    "N",
                    "N",
                    "N",
                    "N",
                    "Y",
                    "N",
                    "N",
                    "Y",
                    "N",
                    "N",
                    "N",
                    "N",
                    "N",
                    "N",
                    "N",
                    "Y",
                    "Y",
                    "N",
                    "N",
                    "Y",
                    "N",
                    "Y",
                    "N",
                    "N",
                    "N",
                    "N",
                    "N",
                    "Y",
                    "N",
                    "N",
                    "N",
                    "N",
                    "N",
                    "Y",
                    "N",
                    "Y",
                    "Y",
                    "Y",
                    "Y",
                    "N",
                    "N",
                    "N",
                    "Y",
                    "Y",
                    "Y",
                    "Y",
                    "Y",
                    "N",
                    "N",
                    "N",
                    "N",
                    "N",
                    "N",
                    "Y",
                    "N",
                    "N",
                    "N",
                    "N",
                    "N",
                    "Y",
                    "Y",
                    "N",
                    "Y",
                    "N",
                    "Y",
                    "Y",
                    "N",
                    "N",
                    "N",
                    "N",
                    "Y",
                    "N",
                    "N",
                    "N",
                    "N",
                    "N",
                    "N",
                    "N",
                    "Y",
                    "Y",
                    "N",
                    "N",
                    "N",
                    "N",
                    "Y",
                    "N",
                    "Y",
                    "Y",
                    "N",
                    "N",
                    "N",
                    "Y",
                    "Y",
                    "Y",
                    "N",
                    "N",
                    "N",
                    "N",
                    "N",
                    "N",
                    "N",
                    "N",
                    "Y",
                    "N",
                    "N",
                    "N",
                    "N",
                    "N",
                    "N",
                    "Y",
                    "N",
                    "N",
                    "N",
                    "N",
                    "N",
                    "Y",
                    "Y",
                    "N",
                    "Y",
                    "N",
                    "N",
                    "N",
                    "N",
                    "N",
                    "N",
                    "Y",
                    "N",
                    "N",
                    "N",
                    "N",
                    "N",
                    "Y",
                    "N",
                    "N",
                    "N",
                    "N",
                    "N",
                    "N",
                    "N",
                    "Y",
                    "Y",
                    "N",
                    "Y",
                    "Y",
                    "N",
                    "Y",
                    "Y",
                    "N",
                    "Y",
                    "N",
                    "Y",
                    "Y",
                    "Y",
                    "Y",
                    "N",
                    "N",
                    "Y",
                    "N",
                    "Y",
                    "N",
                    "N",
                    "N",
                    "N",
                    "N",
                    "Y",
                    "N",
                    "Y",
                    "N",
                    "Y",
                    "N",
                    "Y",
                    "N",
                    "Y",
                    "N",
                    "N",
                    "N",
                    "Y",
                    "N",
                    "N",
                    "N",
                    "N",
                    "Y",
                    "Y",
                    "N",
                    "N",
                    "N",
                    "Y",
                    "N",
                    "N",
                    "N",
                    "N",
                    "N",
                    "N",
                    "N",
                    "N",
                    "N",
                    "N",
                    "Y",
                    "N",
                    "Y",
                    "Y",
                    "Y",
                    "N",
                    "N",
                    "N",
                    "N",
                    "N",
                    "Y",
                    "N",
                    "Y",
                    "N",
                    "N",
                    "N",
                    "N",
                    "N",
                    "N",
                    "N",
                    "N",
                    "Y",
                    "N",
                    "N",
                    "Y",
                    "N",
                    "N",
                    "N",
                    "N",
                    "N",
                    "Y",
                    "N",
                    "Y",
                    "N",
                    "Y",
                    "Y",
                    "Y",
                    "N",
                    "N",
                    "N",
                    "N",
                    "N",
                    "N",
                    "N",
                    "N",
                    "N",
                    "N",
                    "N",
                    "Y",
                    "N",
                    "N",
                    "N",
                    "N",
                    "N",
                    "N",
                    "Y",
                    "Y",
                    "N",
                    "Y",
                    "Y",
                    "Y",
                    "N",
                    "N",
                    "Y",
                    "N",
                    "Y",
                    "N",
                    "Y",
                    "Y",
                    "N",
                    "N",
                    "N",
                    "Y",
                    "Y",
                    "Y",
                    "Y",
                    "Y",
                    "Y",
                    "Y",
                    "Y",
                    "Y",
                    "Y",
                    "N",
                    "Y",
                    "N",
                    "Y",
                    "Y",
                    "Y",
                    "Y",
                    "Y",
                    "N",
                    "N",
                    "Y",
                    "Y",
                    "Y",
                    "N",
                    "N",
                    "N",
                    "Y",
                    "N",
                    "Y",
                    "Y",
                    "N",
                    "N",
                    "Y",
                    "Y",
                    "N",
                    "N",
                    "N",
                    "N",
                    "Y",
                    "Y",
                    "Y",
                    "Y",
                    "Y",
                    "N",
                    "Y",
                    "N",
                    "N",
                    "Y",
                    "N",
                    "Y",
                    "N",
                    "Y",
                    "N",
                    "Y",
                    "Y",
                    "Y",
                    "N",
                    "Y",
                    "Y",
                    "Y",
                    "N",
                    "N",
                    "Y",
                    "Y",
                    "Y",
                    "Y",
                    "N",
                    "Y",
                    "Y",
                    "N",
                    "Y",
                    "N",
                    "N",
                    "Y",
                    "N",
                    "N",
                    "N",
                    "Y",
                    "Y",
                    "Y",
                    "Y",
                    "Y",
                    "Y",
                    "Y",
                    "N",
                    "Y",
                    "Y",
                    "Y",
                    "Y",
                    "Y",
                    "Y",
                    "Y",
                    "N",
                    "N",
                    "N",
                    "Y",
                    "Y",
                    "Y",
                    "N",
                    "Y",
                    "N",
                    "Y",
                    "N",
                    "Y",
                    "N",
                    "N",
                    "Y",
                    "Y",
                    "Y",
                    "N",
                    "Y",
                    "N",
                    "Y",
                    "Y",
                    "Y",
                    "Y",
                    "N",
                    "N",
                    "Y",
                    "Y",
                    "Y",
                    "N",
                    "Y",
                    "N",
                    "Y",
                    "Y",
                    "N",
                    "N",
                    "Y",
                    "Y",
                    "Y",
                    "N",
                    "Y",
                    "Y",
                    "Y",
                    "Y",
                    "Y",
                    "Y",
                    "N",
                    "Y",
                    "Y",
                    "Y",
                    "Y",
                    "N",
                    "N",
                    "N",
                    "Y",
                    "N",
                    "Y",
                    "N",
                    "N",
                    "N",
                    "Y",
                    "Y",
                    "Y",
                    "N",
                    "Y",
                    "Y",
                    "Y",
                    "N",
                    "N",
                    "Y",
                    "N",
                    "Y",
                    "Y",
                    "Y",
                    "Y",
                    "N",
                    "Y",
                    "Y",
                    "Y",
                    "Y",
                    "Y",
                    "Y",
                    "N",
                    "Y",
                    "N",
                    "Y",
                    "Y",
                    "Y",
                    "N",
                    "N",
                    "N",
                    "N",
                    "N",
                    "N",
                    "N",
                    "Y",
                    "Y",
                    "N",
                    "Y",
                    "Y",
                    "Y",
                    "Y",
                    "Y",
                    "N",
                    "N",
                    "Y",
                    "Y",
                    "Y",
                    "Y",
                    "Y",
                    "Y",
                    "Y",
                    "Y",
                    "Y",
                    "Y",
                    "Y",
                    "N",
                    "Y",
                    "Y",
                    "Y",
                    "Y",
                    "Y",
                    "Y",
                    "Y",
                    "Y",
                    "Y",
                    "N",
                    "Y",
                    "N",
                    "Y",
                    "N",
                    "Y",
                    "N",
                    "N",
                    "N",
                    "Y",
                    "N",
                    "Y",
                    "Y",
                    "N",
                    "N",
                    "Y",
                    "N",
                    "Y",
                    "Y",
                    "Y",
                    "Y",
                    "Y",
                    "N",
                    "Y",
                    "Y",
                    "Y",
                    "N",
                    "N",
                    "N",
                    "N",
                    "N",
                    "Y",
                    "N",
                    "N",
                    "N",
                    "Y",
                    "Y",
                    "N",
                    "Y",
                    "Y",
                    "N",
                    "N",
                    "N",
                    "Y",
                    "N",
                    "N",
                    "N",
                    "N",
                    "Y",
                    "Y",
                    "Y",
                    "Y",
                    "Y",
                    "N",
                    "N",
                    "N",
                    "Y",
                    "N",
                    "Y",
                    "N",
                    "N",
                    "N",
                    "N",
                    "N",
                    "N",
                    "Y",
                    "Y",
                    "Y",
                    "Y",
                    "N",
                    "N",
                    "N",
                    "N",
                    "N",
                    "Y",
                    "N",
                    "N",
                    "N",
                    "N",
                    "N",
                    "Y",
                    "N",
                    "Y",
                    "N",
                    "N",
                    "N",
                    "N",
                    "N",
                    "Y",
                    "N",
                    "Y",
                    "N",
                    "N",
                    "Y",
                    "N",
                    "N",
                    "N",
                    "Y",
                    "Y",
                    "N",
                    "N",
                    "N",
                    "Y",
                    "Y",
                    "N",
                    "N",
                    "N",
                    "Y",
                    "Y",
                    "N",
                    "N",
                    "N",
                    "N",
                    "Y",
                    "Y",
                    "N",
                    "Y",
                    "N",
                    "N",
                    "N",
                    "N",
                    "N",
                    "Y",
                    "N",
                    "Y",
                    "Y",
                    "N",
                    "Y",
                    "N",
                    "N",
                    "N",
                    "N",
                    "N",
                    "N",
                    "N",
                    "N",
                    "N",
                    "N",
                    "Y",
                    "N",
                    "Y",
                    "N",
                    "Y",
                    "N",
                    "N",
                    "N",
                    "N",
                    "N",
                    "N",
                    "Y",
                    "N",
                    "Y",
                    "N",
                    "Y",
                    "Y",
                    "N",
                    "N",
                    "N",
                    "Y",
                    "N",
                    "N",
                    "Y",
                    "Y",
                    "Y",
                    "N",
                    "Y",
                    "N",
                    "Y",
                    "N",
                    "Y",
                    "N",
                    "Y",
                    "N",
                    "N",
                    "N",
                    "Y",
                    "N",
                    "Y",
                    "N",
                    "Y",
                    "N",
                    "Y",
                    "N",
                    "N",
                    "N",
                    "N",
                    "N",
                    "N",
                    "Y",
                    "N",
                    "N",
                    "Y",
                    "Y",
                    "Y",
                    "N",
                    "Y",
                    "N",
                    "Y",
                    "N",
                    "N",
                    "Y",
                    "N",
                    "N",
                    "N",
                    "Y",
                    "N",
                    "N",
                    "N",
                    "Y",
                    "N",
                    "N",
                    "N",
                    "N",
                    "Y",
                    "N",
                    "N",
                    "N",
                    "N",
                    "Y",
                    "N",
                    "N",
                    "Y",
                    "N",
                    "Y",
                    "N",
                    "Y",
                    "N",
                    "N",
                    "N",
                    "N",
                    "N",
                    "Y",
                    "N",
                    "N",
                    "Y",
                    "Y",
                    "Y",
                    "N",
                    "N",
                    "Y",
                    "Y",
                    "N",
                    "N",
                    "N",
                    "N",
                    "Y",
                    "N",
                    "N",
                    "N",
                    "Y",
                    "N",
                    "N",
                    "Y",
                    "N",
                    "N",
                    "Y",
                    "N",
                    "N",
                    "N",
                    "Y",
                    "N",
                    "N",
                    "Y",
                    "N",
                    "N",
                    "Y",
                    "N",
                    "N",
                    "N",
                    "Y",
                    "N",
                    "N",
                    "Y",
                    "N",
                    "N",
                    "N",
                    "N",
                    "Y",
                    "N",
                    "N",
                    "N",
                    "Y",
                    "N",
                    "N",
                    "N",
                    "N",
                    "N",
                    "N",
                    "Y",
                    "Y",
                    "N",
                    "N",
                    "N",
                    "Y",
                    "N",
                    "N",
                    "N",
                    "N",
                    "N",
                    "N",
                    "N",
                    "Y",
                    "N",
                    "N",
                    "Y",
                    "Y",
                    "N",
                    "N",
                    "N",
                    "N",
                    "N",
                    "N",
                    "Y",
                    "N",
                    "Y",
                    "N",
                    "N",
                    "N",
                    "Y",
                    "N",
                    "N",
                    "N",
                    "N",
                    "N",
                    "Y",
                    "Y",
                    "Y",
                    "N",
                    "N",
                    "Y",
                    "N",
                    "N",
                    "Y",
                    "N",
                    "N"
                  ],
                  "xaxis": "x",
                  "yaxis": "y"
                }
              ],
              "layout": {
                "barmode": "relative",
                "height": 500,
                "legend": {
                  "tracegroupgap": 0
                },
                "template": {
                  "data": {
                    "bar": [
                      {
                        "error_x": {
                          "color": "#2a3f5f"
                        },
                        "error_y": {
                          "color": "#2a3f5f"
                        },
                        "marker": {
                          "line": {
                            "color": "#E5ECF6",
                            "width": 0.5
                          },
                          "pattern": {
                            "fillmode": "overlay",
                            "size": 10,
                            "solidity": 0.2
                          }
                        },
                        "type": "bar"
                      }
                    ],
                    "barpolar": [
                      {
                        "marker": {
                          "line": {
                            "color": "#E5ECF6",
                            "width": 0.5
                          },
                          "pattern": {
                            "fillmode": "overlay",
                            "size": 10,
                            "solidity": 0.2
                          }
                        },
                        "type": "barpolar"
                      }
                    ],
                    "carpet": [
                      {
                        "aaxis": {
                          "endlinecolor": "#2a3f5f",
                          "gridcolor": "white",
                          "linecolor": "white",
                          "minorgridcolor": "white",
                          "startlinecolor": "#2a3f5f"
                        },
                        "baxis": {
                          "endlinecolor": "#2a3f5f",
                          "gridcolor": "white",
                          "linecolor": "white",
                          "minorgridcolor": "white",
                          "startlinecolor": "#2a3f5f"
                        },
                        "type": "carpet"
                      }
                    ],
                    "choropleth": [
                      {
                        "colorbar": {
                          "outlinewidth": 0,
                          "ticks": ""
                        },
                        "type": "choropleth"
                      }
                    ],
                    "contour": [
                      {
                        "colorbar": {
                          "outlinewidth": 0,
                          "ticks": ""
                        },
                        "colorscale": [
                          [
                            0,
                            "#0d0887"
                          ],
                          [
                            0.1111111111111111,
                            "#46039f"
                          ],
                          [
                            0.2222222222222222,
                            "#7201a8"
                          ],
                          [
                            0.3333333333333333,
                            "#9c179e"
                          ],
                          [
                            0.4444444444444444,
                            "#bd3786"
                          ],
                          [
                            0.5555555555555556,
                            "#d8576b"
                          ],
                          [
                            0.6666666666666666,
                            "#ed7953"
                          ],
                          [
                            0.7777777777777778,
                            "#fb9f3a"
                          ],
                          [
                            0.8888888888888888,
                            "#fdca26"
                          ],
                          [
                            1,
                            "#f0f921"
                          ]
                        ],
                        "type": "contour"
                      }
                    ],
                    "contourcarpet": [
                      {
                        "colorbar": {
                          "outlinewidth": 0,
                          "ticks": ""
                        },
                        "type": "contourcarpet"
                      }
                    ],
                    "heatmap": [
                      {
                        "colorbar": {
                          "outlinewidth": 0,
                          "ticks": ""
                        },
                        "colorscale": [
                          [
                            0,
                            "#0d0887"
                          ],
                          [
                            0.1111111111111111,
                            "#46039f"
                          ],
                          [
                            0.2222222222222222,
                            "#7201a8"
                          ],
                          [
                            0.3333333333333333,
                            "#9c179e"
                          ],
                          [
                            0.4444444444444444,
                            "#bd3786"
                          ],
                          [
                            0.5555555555555556,
                            "#d8576b"
                          ],
                          [
                            0.6666666666666666,
                            "#ed7953"
                          ],
                          [
                            0.7777777777777778,
                            "#fb9f3a"
                          ],
                          [
                            0.8888888888888888,
                            "#fdca26"
                          ],
                          [
                            1,
                            "#f0f921"
                          ]
                        ],
                        "type": "heatmap"
                      }
                    ],
                    "heatmapgl": [
                      {
                        "colorbar": {
                          "outlinewidth": 0,
                          "ticks": ""
                        },
                        "colorscale": [
                          [
                            0,
                            "#0d0887"
                          ],
                          [
                            0.1111111111111111,
                            "#46039f"
                          ],
                          [
                            0.2222222222222222,
                            "#7201a8"
                          ],
                          [
                            0.3333333333333333,
                            "#9c179e"
                          ],
                          [
                            0.4444444444444444,
                            "#bd3786"
                          ],
                          [
                            0.5555555555555556,
                            "#d8576b"
                          ],
                          [
                            0.6666666666666666,
                            "#ed7953"
                          ],
                          [
                            0.7777777777777778,
                            "#fb9f3a"
                          ],
                          [
                            0.8888888888888888,
                            "#fdca26"
                          ],
                          [
                            1,
                            "#f0f921"
                          ]
                        ],
                        "type": "heatmapgl"
                      }
                    ],
                    "histogram": [
                      {
                        "marker": {
                          "pattern": {
                            "fillmode": "overlay",
                            "size": 10,
                            "solidity": 0.2
                          }
                        },
                        "type": "histogram"
                      }
                    ],
                    "histogram2d": [
                      {
                        "colorbar": {
                          "outlinewidth": 0,
                          "ticks": ""
                        },
                        "colorscale": [
                          [
                            0,
                            "#0d0887"
                          ],
                          [
                            0.1111111111111111,
                            "#46039f"
                          ],
                          [
                            0.2222222222222222,
                            "#7201a8"
                          ],
                          [
                            0.3333333333333333,
                            "#9c179e"
                          ],
                          [
                            0.4444444444444444,
                            "#bd3786"
                          ],
                          [
                            0.5555555555555556,
                            "#d8576b"
                          ],
                          [
                            0.6666666666666666,
                            "#ed7953"
                          ],
                          [
                            0.7777777777777778,
                            "#fb9f3a"
                          ],
                          [
                            0.8888888888888888,
                            "#fdca26"
                          ],
                          [
                            1,
                            "#f0f921"
                          ]
                        ],
                        "type": "histogram2d"
                      }
                    ],
                    "histogram2dcontour": [
                      {
                        "colorbar": {
                          "outlinewidth": 0,
                          "ticks": ""
                        },
                        "colorscale": [
                          [
                            0,
                            "#0d0887"
                          ],
                          [
                            0.1111111111111111,
                            "#46039f"
                          ],
                          [
                            0.2222222222222222,
                            "#7201a8"
                          ],
                          [
                            0.3333333333333333,
                            "#9c179e"
                          ],
                          [
                            0.4444444444444444,
                            "#bd3786"
                          ],
                          [
                            0.5555555555555556,
                            "#d8576b"
                          ],
                          [
                            0.6666666666666666,
                            "#ed7953"
                          ],
                          [
                            0.7777777777777778,
                            "#fb9f3a"
                          ],
                          [
                            0.8888888888888888,
                            "#fdca26"
                          ],
                          [
                            1,
                            "#f0f921"
                          ]
                        ],
                        "type": "histogram2dcontour"
                      }
                    ],
                    "mesh3d": [
                      {
                        "colorbar": {
                          "outlinewidth": 0,
                          "ticks": ""
                        },
                        "type": "mesh3d"
                      }
                    ],
                    "parcoords": [
                      {
                        "line": {
                          "colorbar": {
                            "outlinewidth": 0,
                            "ticks": ""
                          }
                        },
                        "type": "parcoords"
                      }
                    ],
                    "pie": [
                      {
                        "automargin": true,
                        "type": "pie"
                      }
                    ],
                    "scatter": [
                      {
                        "fillpattern": {
                          "fillmode": "overlay",
                          "size": 10,
                          "solidity": 0.2
                        },
                        "type": "scatter"
                      }
                    ],
                    "scatter3d": [
                      {
                        "line": {
                          "colorbar": {
                            "outlinewidth": 0,
                            "ticks": ""
                          }
                        },
                        "marker": {
                          "colorbar": {
                            "outlinewidth": 0,
                            "ticks": ""
                          }
                        },
                        "type": "scatter3d"
                      }
                    ],
                    "scattercarpet": [
                      {
                        "marker": {
                          "colorbar": {
                            "outlinewidth": 0,
                            "ticks": ""
                          }
                        },
                        "type": "scattercarpet"
                      }
                    ],
                    "scattergeo": [
                      {
                        "marker": {
                          "colorbar": {
                            "outlinewidth": 0,
                            "ticks": ""
                          }
                        },
                        "type": "scattergeo"
                      }
                    ],
                    "scattergl": [
                      {
                        "marker": {
                          "colorbar": {
                            "outlinewidth": 0,
                            "ticks": ""
                          }
                        },
                        "type": "scattergl"
                      }
                    ],
                    "scattermapbox": [
                      {
                        "marker": {
                          "colorbar": {
                            "outlinewidth": 0,
                            "ticks": ""
                          }
                        },
                        "type": "scattermapbox"
                      }
                    ],
                    "scatterpolar": [
                      {
                        "marker": {
                          "colorbar": {
                            "outlinewidth": 0,
                            "ticks": ""
                          }
                        },
                        "type": "scatterpolar"
                      }
                    ],
                    "scatterpolargl": [
                      {
                        "marker": {
                          "colorbar": {
                            "outlinewidth": 0,
                            "ticks": ""
                          }
                        },
                        "type": "scatterpolargl"
                      }
                    ],
                    "scatterternary": [
                      {
                        "marker": {
                          "colorbar": {
                            "outlinewidth": 0,
                            "ticks": ""
                          }
                        },
                        "type": "scatterternary"
                      }
                    ],
                    "surface": [
                      {
                        "colorbar": {
                          "outlinewidth": 0,
                          "ticks": ""
                        },
                        "colorscale": [
                          [
                            0,
                            "#0d0887"
                          ],
                          [
                            0.1111111111111111,
                            "#46039f"
                          ],
                          [
                            0.2222222222222222,
                            "#7201a8"
                          ],
                          [
                            0.3333333333333333,
                            "#9c179e"
                          ],
                          [
                            0.4444444444444444,
                            "#bd3786"
                          ],
                          [
                            0.5555555555555556,
                            "#d8576b"
                          ],
                          [
                            0.6666666666666666,
                            "#ed7953"
                          ],
                          [
                            0.7777777777777778,
                            "#fb9f3a"
                          ],
                          [
                            0.8888888888888888,
                            "#fdca26"
                          ],
                          [
                            1,
                            "#f0f921"
                          ]
                        ],
                        "type": "surface"
                      }
                    ],
                    "table": [
                      {
                        "cells": {
                          "fill": {
                            "color": "#EBF0F8"
                          },
                          "line": {
                            "color": "white"
                          }
                        },
                        "header": {
                          "fill": {
                            "color": "#C8D4E3"
                          },
                          "line": {
                            "color": "white"
                          }
                        },
                        "type": "table"
                      }
                    ]
                  },
                  "layout": {
                    "annotationdefaults": {
                      "arrowcolor": "#2a3f5f",
                      "arrowhead": 0,
                      "arrowwidth": 1
                    },
                    "autotypenumbers": "strict",
                    "coloraxis": {
                      "colorbar": {
                        "outlinewidth": 0,
                        "ticks": ""
                      }
                    },
                    "colorscale": {
                      "diverging": [
                        [
                          0,
                          "#8e0152"
                        ],
                        [
                          0.1,
                          "#c51b7d"
                        ],
                        [
                          0.2,
                          "#de77ae"
                        ],
                        [
                          0.3,
                          "#f1b6da"
                        ],
                        [
                          0.4,
                          "#fde0ef"
                        ],
                        [
                          0.5,
                          "#f7f7f7"
                        ],
                        [
                          0.6,
                          "#e6f5d0"
                        ],
                        [
                          0.7,
                          "#b8e186"
                        ],
                        [
                          0.8,
                          "#7fbc41"
                        ],
                        [
                          0.9,
                          "#4d9221"
                        ],
                        [
                          1,
                          "#276419"
                        ]
                      ],
                      "sequential": [
                        [
                          0,
                          "#0d0887"
                        ],
                        [
                          0.1111111111111111,
                          "#46039f"
                        ],
                        [
                          0.2222222222222222,
                          "#7201a8"
                        ],
                        [
                          0.3333333333333333,
                          "#9c179e"
                        ],
                        [
                          0.4444444444444444,
                          "#bd3786"
                        ],
                        [
                          0.5555555555555556,
                          "#d8576b"
                        ],
                        [
                          0.6666666666666666,
                          "#ed7953"
                        ],
                        [
                          0.7777777777777778,
                          "#fb9f3a"
                        ],
                        [
                          0.8888888888888888,
                          "#fdca26"
                        ],
                        [
                          1,
                          "#f0f921"
                        ]
                      ],
                      "sequentialminus": [
                        [
                          0,
                          "#0d0887"
                        ],
                        [
                          0.1111111111111111,
                          "#46039f"
                        ],
                        [
                          0.2222222222222222,
                          "#7201a8"
                        ],
                        [
                          0.3333333333333333,
                          "#9c179e"
                        ],
                        [
                          0.4444444444444444,
                          "#bd3786"
                        ],
                        [
                          0.5555555555555556,
                          "#d8576b"
                        ],
                        [
                          0.6666666666666666,
                          "#ed7953"
                        ],
                        [
                          0.7777777777777778,
                          "#fb9f3a"
                        ],
                        [
                          0.8888888888888888,
                          "#fdca26"
                        ],
                        [
                          1,
                          "#f0f921"
                        ]
                      ]
                    },
                    "colorway": [
                      "#636efa",
                      "#EF553B",
                      "#00cc96",
                      "#ab63fa",
                      "#FFA15A",
                      "#19d3f3",
                      "#FF6692",
                      "#B6E880",
                      "#FF97FF",
                      "#FECB52"
                    ],
                    "font": {
                      "color": "#2a3f5f"
                    },
                    "geo": {
                      "bgcolor": "white",
                      "lakecolor": "white",
                      "landcolor": "#E5ECF6",
                      "showlakes": true,
                      "showland": true,
                      "subunitcolor": "white"
                    },
                    "hoverlabel": {
                      "align": "left"
                    },
                    "hovermode": "closest",
                    "mapbox": {
                      "style": "light"
                    },
                    "paper_bgcolor": "white",
                    "plot_bgcolor": "#E5ECF6",
                    "polar": {
                      "angularaxis": {
                        "gridcolor": "white",
                        "linecolor": "white",
                        "ticks": ""
                      },
                      "bgcolor": "#E5ECF6",
                      "radialaxis": {
                        "gridcolor": "white",
                        "linecolor": "white",
                        "ticks": ""
                      }
                    },
                    "scene": {
                      "xaxis": {
                        "backgroundcolor": "#E5ECF6",
                        "gridcolor": "white",
                        "gridwidth": 2,
                        "linecolor": "white",
                        "showbackground": true,
                        "ticks": "",
                        "zerolinecolor": "white"
                      },
                      "yaxis": {
                        "backgroundcolor": "#E5ECF6",
                        "gridcolor": "white",
                        "gridwidth": 2,
                        "linecolor": "white",
                        "showbackground": true,
                        "ticks": "",
                        "zerolinecolor": "white"
                      },
                      "zaxis": {
                        "backgroundcolor": "#E5ECF6",
                        "gridcolor": "white",
                        "gridwidth": 2,
                        "linecolor": "white",
                        "showbackground": true,
                        "ticks": "",
                        "zerolinecolor": "white"
                      }
                    },
                    "shapedefaults": {
                      "line": {
                        "color": "#2a3f5f"
                      }
                    },
                    "ternary": {
                      "aaxis": {
                        "gridcolor": "white",
                        "linecolor": "white",
                        "ticks": ""
                      },
                      "baxis": {
                        "gridcolor": "white",
                        "linecolor": "white",
                        "ticks": ""
                      },
                      "bgcolor": "#E5ECF6",
                      "caxis": {
                        "gridcolor": "white",
                        "linecolor": "white",
                        "ticks": ""
                      }
                    },
                    "title": {
                      "x": 0.05
                    },
                    "xaxis": {
                      "automargin": true,
                      "gridcolor": "white",
                      "linecolor": "white",
                      "ticks": "",
                      "title": {
                        "standoff": 15
                      },
                      "zerolinecolor": "white",
                      "zerolinewidth": 2
                    },
                    "yaxis": {
                      "automargin": true,
                      "gridcolor": "white",
                      "linecolor": "white",
                      "ticks": "",
                      "title": {
                        "standoff": 15
                      },
                      "zerolinecolor": "white",
                      "zerolinewidth": 2
                    }
                  }
                },
                "title": {
                  "text": "Distribution of Exercise Angina"
                },
                "width": 500,
                "xaxis": {
                  "anchor": "y",
                  "domain": [
                    0,
                    1
                  ],
                  "title": {
                    "text": "ExerciseAngina"
                  }
                },
                "yaxis": {
                  "anchor": "x",
                  "domain": [
                    0,
                    1
                  ],
                  "title": {
                    "text": "count"
                  }
                }
              }
            }
          },
          "metadata": {},
          "output_type": "display_data"
        }
      ],
      "source": [
        "fig=px.histogram(df, x=\"ExerciseAngina\", hover_data=df.columns, title=\"Distribution of Exercise Angina\",width=500, height=500)\n",
        "fig.show()"
      ]
    },
    {
      "cell_type": "code",
      "execution_count": null,
      "metadata": {
        "id": "S1oGRh6PzmYY",
        "outputId": "f756dff9-cf15-44fb-d4a9-eed2db198b5b"
      },
      "outputs": [
        {
          "data": {
            "application/vnd.plotly.v1+json": {
              "config": {
                "plotlyServerURL": "https://plot.ly"
              },
              "data": [
                {
                  "alignmentgroup": "True",
                  "bingroup": "x",
                  "hovertemplate": "HeartDisease=0<br>ExerciseAngina=%{x}<br>count=%{y}<extra></extra>",
                  "legendgroup": "0",
                  "marker": {
                    "color": "#636efa",
                    "pattern": {
                      "shape": ""
                    }
                  },
                  "name": "0",
                  "offsetgroup": "0",
                  "orientation": "v",
                  "showlegend": true,
                  "type": "histogram",
                  "x": [
                    "N",
                    "N",
                    "N",
                    "N",
                    "N",
                    "N",
                    "N",
                    "N",
                    "N",
                    "N",
                    "N",
                    "N",
                    "N",
                    "N",
                    "N",
                    "N",
                    "N",
                    "Y",
                    "N",
                    "N",
                    "N",
                    "N",
                    "N",
                    "N",
                    "N",
                    "N",
                    "Y",
                    "N",
                    "N",
                    "N",
                    "Y",
                    "N",
                    "N",
                    "N",
                    "N",
                    "N",
                    "Y",
                    "N",
                    "N",
                    "N",
                    "N",
                    "N",
                    "N",
                    "N",
                    "N",
                    "N",
                    "N",
                    "N",
                    "N",
                    "N",
                    "N",
                    "Y",
                    "N",
                    "N",
                    "N",
                    "Y",
                    "Y",
                    "N",
                    "N",
                    "N",
                    "N",
                    "N",
                    "N",
                    "N",
                    "N",
                    "N",
                    "N",
                    "N",
                    "N",
                    "N",
                    "N",
                    "N",
                    "Y",
                    "N",
                    "N",
                    "N",
                    "N",
                    "N",
                    "N",
                    "N",
                    "N",
                    "N",
                    "N",
                    "Y",
                    "N",
                    "Y",
                    "N",
                    "N",
                    "N",
                    "N",
                    "N",
                    "N",
                    "N",
                    "N",
                    "N",
                    "N",
                    "N",
                    "N",
                    "N",
                    "N",
                    "N",
                    "N",
                    "N",
                    "N",
                    "N",
                    "N",
                    "N",
                    "N",
                    "N",
                    "N",
                    "N",
                    "N",
                    "N",
                    "N",
                    "Y",
                    "N",
                    "N",
                    "Y",
                    "N",
                    "N",
                    "N",
                    "N",
                    "N",
                    "N",
                    "N",
                    "N",
                    "N",
                    "N",
                    "N",
                    "N",
                    "N",
                    "N",
                    "Y",
                    "N",
                    "N",
                    "Y",
                    "N",
                    "N",
                    "N",
                    "N",
                    "N",
                    "N",
                    "N",
                    "N",
                    "N",
                    "N",
                    "N",
                    "N",
                    "N",
                    "N",
                    "N",
                    "N",
                    "Y",
                    "N",
                    "N",
                    "N",
                    "Y",
                    "N",
                    "N",
                    "N",
                    "N",
                    "N",
                    "N",
                    "Y",
                    "N",
                    "N",
                    "N",
                    "N",
                    "N",
                    "N",
                    "N",
                    "N",
                    "N",
                    "Y",
                    "N",
                    "N",
                    "Y",
                    "N",
                    "N",
                    "N",
                    "N",
                    "N",
                    "N",
                    "N",
                    "N",
                    "N",
                    "N",
                    "N",
                    "N",
                    "N",
                    "Y",
                    "N",
                    "N",
                    "N",
                    "N",
                    "N",
                    "Y",
                    "N",
                    "Y",
                    "N",
                    "N",
                    "N",
                    "Y",
                    "N",
                    "Y",
                    "Y",
                    "N",
                    "N",
                    "N",
                    "N",
                    "N",
                    "N",
                    "N",
                    "N",
                    "N",
                    "N",
                    "N",
                    "Y",
                    "N",
                    "N",
                    "N",
                    "N",
                    "N",
                    "N",
                    "N",
                    "N",
                    "Y",
                    "N",
                    "N",
                    "N",
                    "N",
                    "Y",
                    "N",
                    "N",
                    "Y",
                    "Y",
                    "N",
                    "N",
                    "N",
                    "N",
                    "N",
                    "Y",
                    "Y",
                    "N",
                    "N",
                    "N",
                    "N",
                    "Y",
                    "Y",
                    "N",
                    "N",
                    "Y",
                    "N",
                    "N",
                    "N",
                    "Y",
                    "Y",
                    "N",
                    "N",
                    "N",
                    "Y",
                    "N",
                    "Y",
                    "N",
                    "N",
                    "N",
                    "N",
                    "N",
                    "N",
                    "N",
                    "Y",
                    "N",
                    "N",
                    "N",
                    "N",
                    "N",
                    "N",
                    "N",
                    "N",
                    "N",
                    "N",
                    "N",
                    "N",
                    "Y",
                    "N",
                    "Y",
                    "N",
                    "N",
                    "N",
                    "Y",
                    "N",
                    "N",
                    "N",
                    "N",
                    "Y",
                    "N",
                    "N",
                    "N",
                    "N",
                    "Y",
                    "N",
                    "N",
                    "N",
                    "N",
                    "N",
                    "Y",
                    "N",
                    "N",
                    "N",
                    "N",
                    "N",
                    "N",
                    "N",
                    "N",
                    "N",
                    "N",
                    "N",
                    "N",
                    "N",
                    "Y",
                    "N",
                    "N",
                    "Y",
                    "N",
                    "Y",
                    "Y",
                    "N",
                    "N",
                    "N",
                    "N",
                    "N",
                    "N",
                    "N",
                    "N",
                    "N",
                    "N",
                    "Y",
                    "N",
                    "N",
                    "Y",
                    "N",
                    "N",
                    "N",
                    "N",
                    "N",
                    "N",
                    "N",
                    "N",
                    "N",
                    "N",
                    "N",
                    "N",
                    "N",
                    "N",
                    "N",
                    "N",
                    "N",
                    "N",
                    "N",
                    "N",
                    "Y",
                    "N",
                    "N",
                    "N",
                    "N",
                    "N",
                    "N",
                    "Y",
                    "N",
                    "N",
                    "N",
                    "N",
                    "N",
                    "N",
                    "N",
                    "N",
                    "N",
                    "N",
                    "N",
                    "N",
                    "N",
                    "N",
                    "N",
                    "N",
                    "N",
                    "N",
                    "N",
                    "N",
                    "Y",
                    "N",
                    "N",
                    "N",
                    "N",
                    "N",
                    "N",
                    "N",
                    "N",
                    "N",
                    "N",
                    "N",
                    "N",
                    "N",
                    "N",
                    "N",
                    "N",
                    "N",
                    "N",
                    "N",
                    "N",
                    "N"
                  ],
                  "xaxis": "x",
                  "yaxis": "y"
                },
                {
                  "alignmentgroup": "True",
                  "bingroup": "x",
                  "hovertemplate": "HeartDisease=1<br>ExerciseAngina=%{x}<br>count=%{y}<extra></extra>",
                  "legendgroup": "1",
                  "marker": {
                    "color": "#EF553B",
                    "pattern": {
                      "shape": ""
                    }
                  },
                  "name": "1",
                  "offsetgroup": "1",
                  "orientation": "v",
                  "showlegend": true,
                  "type": "histogram",
                  "x": [
                    "N",
                    "Y",
                    "Y",
                    "Y",
                    "Y",
                    "N",
                    "N",
                    "N",
                    "Y",
                    "N",
                    "N",
                    "N",
                    "Y",
                    "Y",
                    "Y",
                    "N",
                    "Y",
                    "Y",
                    "Y",
                    "N",
                    "Y",
                    "Y",
                    "Y",
                    "Y",
                    "N",
                    "Y",
                    "N",
                    "N",
                    "N",
                    "Y",
                    "Y",
                    "Y",
                    "N",
                    "Y",
                    "Y",
                    "Y",
                    "N",
                    "Y",
                    "N",
                    "Y",
                    "Y",
                    "N",
                    "Y",
                    "N",
                    "N",
                    "Y",
                    "Y",
                    "Y",
                    "Y",
                    "N",
                    "Y",
                    "Y",
                    "Y",
                    "Y",
                    "Y",
                    "N",
                    "Y",
                    "Y",
                    "Y",
                    "Y",
                    "Y",
                    "Y",
                    "N",
                    "Y",
                    "Y",
                    "Y",
                    "N",
                    "Y",
                    "Y",
                    "N",
                    "Y",
                    "Y",
                    "Y",
                    "N",
                    "N",
                    "N",
                    "Y",
                    "Y",
                    "N",
                    "N",
                    "Y",
                    "N",
                    "Y",
                    "Y",
                    "N",
                    "Y",
                    "Y",
                    "Y",
                    "Y",
                    "Y",
                    "Y",
                    "Y",
                    "Y",
                    "Y",
                    "N",
                    "N",
                    "Y",
                    "Y",
                    "N",
                    "Y",
                    "Y",
                    "Y",
                    "Y",
                    "N",
                    "Y",
                    "N",
                    "Y",
                    "N",
                    "Y",
                    "Y",
                    "Y",
                    "N",
                    "N",
                    "N",
                    "N",
                    "Y",
                    "N",
                    "Y",
                    "N",
                    "N",
                    "N",
                    "N",
                    "N",
                    "N",
                    "N",
                    "N",
                    "Y",
                    "N",
                    "N",
                    "N",
                    "N",
                    "N",
                    "Y",
                    "N",
                    "Y",
                    "Y",
                    "Y",
                    "Y",
                    "N",
                    "N",
                    "N",
                    "N",
                    "N",
                    "N",
                    "N",
                    "N",
                    "N",
                    "Y",
                    "N",
                    "N",
                    "N",
                    "N",
                    "N",
                    "N",
                    "Y",
                    "Y",
                    "N",
                    "Y",
                    "Y",
                    "Y",
                    "N",
                    "N",
                    "Y",
                    "N",
                    "Y",
                    "N",
                    "Y",
                    "Y",
                    "N",
                    "N",
                    "Y",
                    "Y",
                    "Y",
                    "Y",
                    "Y",
                    "Y",
                    "Y",
                    "Y",
                    "Y",
                    "Y",
                    "N",
                    "Y",
                    "N",
                    "Y",
                    "Y",
                    "Y",
                    "Y",
                    "Y",
                    "N",
                    "N",
                    "Y",
                    "Y",
                    "Y",
                    "N",
                    "N",
                    "N",
                    "Y",
                    "N",
                    "Y",
                    "Y",
                    "N",
                    "N",
                    "Y",
                    "Y",
                    "N",
                    "N",
                    "N",
                    "N",
                    "Y",
                    "Y",
                    "Y",
                    "Y",
                    "Y",
                    "N",
                    "Y",
                    "N",
                    "N",
                    "Y",
                    "N",
                    "Y",
                    "N",
                    "Y",
                    "Y",
                    "Y",
                    "Y",
                    "Y",
                    "N",
                    "Y",
                    "Y",
                    "Y",
                    "Y",
                    "Y",
                    "Y",
                    "N",
                    "N",
                    "Y",
                    "N",
                    "N",
                    "Y",
                    "Y",
                    "Y",
                    "Y",
                    "Y",
                    "Y",
                    "Y",
                    "N",
                    "Y",
                    "Y",
                    "Y",
                    "Y",
                    "Y",
                    "N",
                    "N",
                    "Y",
                    "Y",
                    "Y",
                    "Y",
                    "Y",
                    "Y",
                    "N",
                    "Y",
                    "Y",
                    "Y",
                    "Y",
                    "Y",
                    "Y",
                    "Y",
                    "Y",
                    "N",
                    "N",
                    "Y",
                    "Y",
                    "Y",
                    "Y",
                    "Y",
                    "Y",
                    "N",
                    "N",
                    "Y",
                    "Y",
                    "Y",
                    "Y",
                    "Y",
                    "Y",
                    "Y",
                    "Y",
                    "Y",
                    "Y",
                    "Y",
                    "Y",
                    "N",
                    "N",
                    "Y",
                    "Y",
                    "N",
                    "N",
                    "Y",
                    "Y",
                    "Y",
                    "Y",
                    "Y",
                    "Y",
                    "Y",
                    "Y",
                    "Y",
                    "Y",
                    "Y",
                    "N",
                    "Y",
                    "Y",
                    "Y",
                    "Y",
                    "Y",
                    "Y",
                    "Y",
                    "N",
                    "Y",
                    "Y",
                    "N",
                    "N",
                    "N",
                    "N",
                    "Y",
                    "Y",
                    "Y",
                    "Y",
                    "Y",
                    "Y",
                    "Y",
                    "Y",
                    "Y",
                    "Y",
                    "Y",
                    "Y",
                    "Y",
                    "Y",
                    "Y",
                    "N",
                    "Y",
                    "Y",
                    "Y",
                    "Y",
                    "Y",
                    "Y",
                    "Y",
                    "Y",
                    "Y",
                    "Y",
                    "N",
                    "Y",
                    "Y",
                    "N",
                    "Y",
                    "N",
                    "Y",
                    "Y",
                    "N",
                    "Y",
                    "N",
                    "Y",
                    "Y",
                    "Y",
                    "Y",
                    "Y",
                    "Y",
                    "N",
                    "N",
                    "N",
                    "Y",
                    "N",
                    "N",
                    "Y",
                    "Y",
                    "N",
                    "N",
                    "N",
                    "Y",
                    "Y",
                    "Y",
                    "N",
                    "N",
                    "Y",
                    "Y",
                    "Y",
                    "Y",
                    "N",
                    "N",
                    "N",
                    "N",
                    "N",
                    "Y",
                    "N",
                    "Y",
                    "Y",
                    "Y",
                    "N",
                    "Y",
                    "Y",
                    "N",
                    "N",
                    "Y",
                    "Y",
                    "N",
                    "Y",
                    "Y",
                    "N",
                    "N",
                    "Y",
                    "Y",
                    "N",
                    "Y",
                    "N",
                    "N",
                    "N",
                    "N",
                    "N",
                    "N",
                    "Y",
                    "Y",
                    "N",
                    "N",
                    "Y",
                    "Y",
                    "N",
                    "Y",
                    "Y",
                    "Y",
                    "Y",
                    "Y",
                    "Y",
                    "Y",
                    "Y",
                    "N",
                    "N",
                    "N",
                    "Y",
                    "N",
                    "Y",
                    "N",
                    "Y",
                    "Y",
                    "Y",
                    "Y",
                    "Y",
                    "N",
                    "N",
                    "Y",
                    "N",
                    "Y",
                    "N",
                    "N",
                    "Y",
                    "N",
                    "Y",
                    "Y",
                    "Y",
                    "Y",
                    "Y",
                    "N",
                    "Y",
                    "Y",
                    "Y",
                    "Y",
                    "N",
                    "Y",
                    "Y",
                    "N",
                    "Y",
                    "N",
                    "Y",
                    "Y",
                    "N",
                    "Y",
                    "N",
                    "Y",
                    "Y",
                    "N",
                    "Y",
                    "N",
                    "N",
                    "Y",
                    "N",
                    "N",
                    "Y",
                    "N",
                    "Y",
                    "N",
                    "N",
                    "Y",
                    "Y",
                    "Y",
                    "N",
                    "N",
                    "Y",
                    "Y",
                    "N",
                    "N",
                    "Y",
                    "N",
                    "Y",
                    "Y",
                    "Y",
                    "N",
                    "Y",
                    "N",
                    "N",
                    "Y",
                    "N"
                  ],
                  "xaxis": "x",
                  "yaxis": "y"
                }
              ],
              "layout": {
                "barmode": "relative",
                "height": 500,
                "legend": {
                  "title": {
                    "text": "HeartDisease"
                  },
                  "tracegroupgap": 0
                },
                "template": {
                  "data": {
                    "bar": [
                      {
                        "error_x": {
                          "color": "#2a3f5f"
                        },
                        "error_y": {
                          "color": "#2a3f5f"
                        },
                        "marker": {
                          "line": {
                            "color": "#E5ECF6",
                            "width": 0.5
                          },
                          "pattern": {
                            "fillmode": "overlay",
                            "size": 10,
                            "solidity": 0.2
                          }
                        },
                        "type": "bar"
                      }
                    ],
                    "barpolar": [
                      {
                        "marker": {
                          "line": {
                            "color": "#E5ECF6",
                            "width": 0.5
                          },
                          "pattern": {
                            "fillmode": "overlay",
                            "size": 10,
                            "solidity": 0.2
                          }
                        },
                        "type": "barpolar"
                      }
                    ],
                    "carpet": [
                      {
                        "aaxis": {
                          "endlinecolor": "#2a3f5f",
                          "gridcolor": "white",
                          "linecolor": "white",
                          "minorgridcolor": "white",
                          "startlinecolor": "#2a3f5f"
                        },
                        "baxis": {
                          "endlinecolor": "#2a3f5f",
                          "gridcolor": "white",
                          "linecolor": "white",
                          "minorgridcolor": "white",
                          "startlinecolor": "#2a3f5f"
                        },
                        "type": "carpet"
                      }
                    ],
                    "choropleth": [
                      {
                        "colorbar": {
                          "outlinewidth": 0,
                          "ticks": ""
                        },
                        "type": "choropleth"
                      }
                    ],
                    "contour": [
                      {
                        "colorbar": {
                          "outlinewidth": 0,
                          "ticks": ""
                        },
                        "colorscale": [
                          [
                            0,
                            "#0d0887"
                          ],
                          [
                            0.1111111111111111,
                            "#46039f"
                          ],
                          [
                            0.2222222222222222,
                            "#7201a8"
                          ],
                          [
                            0.3333333333333333,
                            "#9c179e"
                          ],
                          [
                            0.4444444444444444,
                            "#bd3786"
                          ],
                          [
                            0.5555555555555556,
                            "#d8576b"
                          ],
                          [
                            0.6666666666666666,
                            "#ed7953"
                          ],
                          [
                            0.7777777777777778,
                            "#fb9f3a"
                          ],
                          [
                            0.8888888888888888,
                            "#fdca26"
                          ],
                          [
                            1,
                            "#f0f921"
                          ]
                        ],
                        "type": "contour"
                      }
                    ],
                    "contourcarpet": [
                      {
                        "colorbar": {
                          "outlinewidth": 0,
                          "ticks": ""
                        },
                        "type": "contourcarpet"
                      }
                    ],
                    "heatmap": [
                      {
                        "colorbar": {
                          "outlinewidth": 0,
                          "ticks": ""
                        },
                        "colorscale": [
                          [
                            0,
                            "#0d0887"
                          ],
                          [
                            0.1111111111111111,
                            "#46039f"
                          ],
                          [
                            0.2222222222222222,
                            "#7201a8"
                          ],
                          [
                            0.3333333333333333,
                            "#9c179e"
                          ],
                          [
                            0.4444444444444444,
                            "#bd3786"
                          ],
                          [
                            0.5555555555555556,
                            "#d8576b"
                          ],
                          [
                            0.6666666666666666,
                            "#ed7953"
                          ],
                          [
                            0.7777777777777778,
                            "#fb9f3a"
                          ],
                          [
                            0.8888888888888888,
                            "#fdca26"
                          ],
                          [
                            1,
                            "#f0f921"
                          ]
                        ],
                        "type": "heatmap"
                      }
                    ],
                    "heatmapgl": [
                      {
                        "colorbar": {
                          "outlinewidth": 0,
                          "ticks": ""
                        },
                        "colorscale": [
                          [
                            0,
                            "#0d0887"
                          ],
                          [
                            0.1111111111111111,
                            "#46039f"
                          ],
                          [
                            0.2222222222222222,
                            "#7201a8"
                          ],
                          [
                            0.3333333333333333,
                            "#9c179e"
                          ],
                          [
                            0.4444444444444444,
                            "#bd3786"
                          ],
                          [
                            0.5555555555555556,
                            "#d8576b"
                          ],
                          [
                            0.6666666666666666,
                            "#ed7953"
                          ],
                          [
                            0.7777777777777778,
                            "#fb9f3a"
                          ],
                          [
                            0.8888888888888888,
                            "#fdca26"
                          ],
                          [
                            1,
                            "#f0f921"
                          ]
                        ],
                        "type": "heatmapgl"
                      }
                    ],
                    "histogram": [
                      {
                        "marker": {
                          "pattern": {
                            "fillmode": "overlay",
                            "size": 10,
                            "solidity": 0.2
                          }
                        },
                        "type": "histogram"
                      }
                    ],
                    "histogram2d": [
                      {
                        "colorbar": {
                          "outlinewidth": 0,
                          "ticks": ""
                        },
                        "colorscale": [
                          [
                            0,
                            "#0d0887"
                          ],
                          [
                            0.1111111111111111,
                            "#46039f"
                          ],
                          [
                            0.2222222222222222,
                            "#7201a8"
                          ],
                          [
                            0.3333333333333333,
                            "#9c179e"
                          ],
                          [
                            0.4444444444444444,
                            "#bd3786"
                          ],
                          [
                            0.5555555555555556,
                            "#d8576b"
                          ],
                          [
                            0.6666666666666666,
                            "#ed7953"
                          ],
                          [
                            0.7777777777777778,
                            "#fb9f3a"
                          ],
                          [
                            0.8888888888888888,
                            "#fdca26"
                          ],
                          [
                            1,
                            "#f0f921"
                          ]
                        ],
                        "type": "histogram2d"
                      }
                    ],
                    "histogram2dcontour": [
                      {
                        "colorbar": {
                          "outlinewidth": 0,
                          "ticks": ""
                        },
                        "colorscale": [
                          [
                            0,
                            "#0d0887"
                          ],
                          [
                            0.1111111111111111,
                            "#46039f"
                          ],
                          [
                            0.2222222222222222,
                            "#7201a8"
                          ],
                          [
                            0.3333333333333333,
                            "#9c179e"
                          ],
                          [
                            0.4444444444444444,
                            "#bd3786"
                          ],
                          [
                            0.5555555555555556,
                            "#d8576b"
                          ],
                          [
                            0.6666666666666666,
                            "#ed7953"
                          ],
                          [
                            0.7777777777777778,
                            "#fb9f3a"
                          ],
                          [
                            0.8888888888888888,
                            "#fdca26"
                          ],
                          [
                            1,
                            "#f0f921"
                          ]
                        ],
                        "type": "histogram2dcontour"
                      }
                    ],
                    "mesh3d": [
                      {
                        "colorbar": {
                          "outlinewidth": 0,
                          "ticks": ""
                        },
                        "type": "mesh3d"
                      }
                    ],
                    "parcoords": [
                      {
                        "line": {
                          "colorbar": {
                            "outlinewidth": 0,
                            "ticks": ""
                          }
                        },
                        "type": "parcoords"
                      }
                    ],
                    "pie": [
                      {
                        "automargin": true,
                        "type": "pie"
                      }
                    ],
                    "scatter": [
                      {
                        "fillpattern": {
                          "fillmode": "overlay",
                          "size": 10,
                          "solidity": 0.2
                        },
                        "type": "scatter"
                      }
                    ],
                    "scatter3d": [
                      {
                        "line": {
                          "colorbar": {
                            "outlinewidth": 0,
                            "ticks": ""
                          }
                        },
                        "marker": {
                          "colorbar": {
                            "outlinewidth": 0,
                            "ticks": ""
                          }
                        },
                        "type": "scatter3d"
                      }
                    ],
                    "scattercarpet": [
                      {
                        "marker": {
                          "colorbar": {
                            "outlinewidth": 0,
                            "ticks": ""
                          }
                        },
                        "type": "scattercarpet"
                      }
                    ],
                    "scattergeo": [
                      {
                        "marker": {
                          "colorbar": {
                            "outlinewidth": 0,
                            "ticks": ""
                          }
                        },
                        "type": "scattergeo"
                      }
                    ],
                    "scattergl": [
                      {
                        "marker": {
                          "colorbar": {
                            "outlinewidth": 0,
                            "ticks": ""
                          }
                        },
                        "type": "scattergl"
                      }
                    ],
                    "scattermapbox": [
                      {
                        "marker": {
                          "colorbar": {
                            "outlinewidth": 0,
                            "ticks": ""
                          }
                        },
                        "type": "scattermapbox"
                      }
                    ],
                    "scatterpolar": [
                      {
                        "marker": {
                          "colorbar": {
                            "outlinewidth": 0,
                            "ticks": ""
                          }
                        },
                        "type": "scatterpolar"
                      }
                    ],
                    "scatterpolargl": [
                      {
                        "marker": {
                          "colorbar": {
                            "outlinewidth": 0,
                            "ticks": ""
                          }
                        },
                        "type": "scatterpolargl"
                      }
                    ],
                    "scatterternary": [
                      {
                        "marker": {
                          "colorbar": {
                            "outlinewidth": 0,
                            "ticks": ""
                          }
                        },
                        "type": "scatterternary"
                      }
                    ],
                    "surface": [
                      {
                        "colorbar": {
                          "outlinewidth": 0,
                          "ticks": ""
                        },
                        "colorscale": [
                          [
                            0,
                            "#0d0887"
                          ],
                          [
                            0.1111111111111111,
                            "#46039f"
                          ],
                          [
                            0.2222222222222222,
                            "#7201a8"
                          ],
                          [
                            0.3333333333333333,
                            "#9c179e"
                          ],
                          [
                            0.4444444444444444,
                            "#bd3786"
                          ],
                          [
                            0.5555555555555556,
                            "#d8576b"
                          ],
                          [
                            0.6666666666666666,
                            "#ed7953"
                          ],
                          [
                            0.7777777777777778,
                            "#fb9f3a"
                          ],
                          [
                            0.8888888888888888,
                            "#fdca26"
                          ],
                          [
                            1,
                            "#f0f921"
                          ]
                        ],
                        "type": "surface"
                      }
                    ],
                    "table": [
                      {
                        "cells": {
                          "fill": {
                            "color": "#EBF0F8"
                          },
                          "line": {
                            "color": "white"
                          }
                        },
                        "header": {
                          "fill": {
                            "color": "#C8D4E3"
                          },
                          "line": {
                            "color": "white"
                          }
                        },
                        "type": "table"
                      }
                    ]
                  },
                  "layout": {
                    "annotationdefaults": {
                      "arrowcolor": "#2a3f5f",
                      "arrowhead": 0,
                      "arrowwidth": 1
                    },
                    "autotypenumbers": "strict",
                    "coloraxis": {
                      "colorbar": {
                        "outlinewidth": 0,
                        "ticks": ""
                      }
                    },
                    "colorscale": {
                      "diverging": [
                        [
                          0,
                          "#8e0152"
                        ],
                        [
                          0.1,
                          "#c51b7d"
                        ],
                        [
                          0.2,
                          "#de77ae"
                        ],
                        [
                          0.3,
                          "#f1b6da"
                        ],
                        [
                          0.4,
                          "#fde0ef"
                        ],
                        [
                          0.5,
                          "#f7f7f7"
                        ],
                        [
                          0.6,
                          "#e6f5d0"
                        ],
                        [
                          0.7,
                          "#b8e186"
                        ],
                        [
                          0.8,
                          "#7fbc41"
                        ],
                        [
                          0.9,
                          "#4d9221"
                        ],
                        [
                          1,
                          "#276419"
                        ]
                      ],
                      "sequential": [
                        [
                          0,
                          "#0d0887"
                        ],
                        [
                          0.1111111111111111,
                          "#46039f"
                        ],
                        [
                          0.2222222222222222,
                          "#7201a8"
                        ],
                        [
                          0.3333333333333333,
                          "#9c179e"
                        ],
                        [
                          0.4444444444444444,
                          "#bd3786"
                        ],
                        [
                          0.5555555555555556,
                          "#d8576b"
                        ],
                        [
                          0.6666666666666666,
                          "#ed7953"
                        ],
                        [
                          0.7777777777777778,
                          "#fb9f3a"
                        ],
                        [
                          0.8888888888888888,
                          "#fdca26"
                        ],
                        [
                          1,
                          "#f0f921"
                        ]
                      ],
                      "sequentialminus": [
                        [
                          0,
                          "#0d0887"
                        ],
                        [
                          0.1111111111111111,
                          "#46039f"
                        ],
                        [
                          0.2222222222222222,
                          "#7201a8"
                        ],
                        [
                          0.3333333333333333,
                          "#9c179e"
                        ],
                        [
                          0.4444444444444444,
                          "#bd3786"
                        ],
                        [
                          0.5555555555555556,
                          "#d8576b"
                        ],
                        [
                          0.6666666666666666,
                          "#ed7953"
                        ],
                        [
                          0.7777777777777778,
                          "#fb9f3a"
                        ],
                        [
                          0.8888888888888888,
                          "#fdca26"
                        ],
                        [
                          1,
                          "#f0f921"
                        ]
                      ]
                    },
                    "colorway": [
                      "#636efa",
                      "#EF553B",
                      "#00cc96",
                      "#ab63fa",
                      "#FFA15A",
                      "#19d3f3",
                      "#FF6692",
                      "#B6E880",
                      "#FF97FF",
                      "#FECB52"
                    ],
                    "font": {
                      "color": "#2a3f5f"
                    },
                    "geo": {
                      "bgcolor": "white",
                      "lakecolor": "white",
                      "landcolor": "#E5ECF6",
                      "showlakes": true,
                      "showland": true,
                      "subunitcolor": "white"
                    },
                    "hoverlabel": {
                      "align": "left"
                    },
                    "hovermode": "closest",
                    "mapbox": {
                      "style": "light"
                    },
                    "paper_bgcolor": "white",
                    "plot_bgcolor": "#E5ECF6",
                    "polar": {
                      "angularaxis": {
                        "gridcolor": "white",
                        "linecolor": "white",
                        "ticks": ""
                      },
                      "bgcolor": "#E5ECF6",
                      "radialaxis": {
                        "gridcolor": "white",
                        "linecolor": "white",
                        "ticks": ""
                      }
                    },
                    "scene": {
                      "xaxis": {
                        "backgroundcolor": "#E5ECF6",
                        "gridcolor": "white",
                        "gridwidth": 2,
                        "linecolor": "white",
                        "showbackground": true,
                        "ticks": "",
                        "zerolinecolor": "white"
                      },
                      "yaxis": {
                        "backgroundcolor": "#E5ECF6",
                        "gridcolor": "white",
                        "gridwidth": 2,
                        "linecolor": "white",
                        "showbackground": true,
                        "ticks": "",
                        "zerolinecolor": "white"
                      },
                      "zaxis": {
                        "backgroundcolor": "#E5ECF6",
                        "gridcolor": "white",
                        "gridwidth": 2,
                        "linecolor": "white",
                        "showbackground": true,
                        "ticks": "",
                        "zerolinecolor": "white"
                      }
                    },
                    "shapedefaults": {
                      "line": {
                        "color": "#2a3f5f"
                      }
                    },
                    "ternary": {
                      "aaxis": {
                        "gridcolor": "white",
                        "linecolor": "white",
                        "ticks": ""
                      },
                      "baxis": {
                        "gridcolor": "white",
                        "linecolor": "white",
                        "ticks": ""
                      },
                      "bgcolor": "#E5ECF6",
                      "caxis": {
                        "gridcolor": "white",
                        "linecolor": "white",
                        "ticks": ""
                      }
                    },
                    "title": {
                      "x": 0.05
                    },
                    "xaxis": {
                      "automargin": true,
                      "gridcolor": "white",
                      "linecolor": "white",
                      "ticks": "",
                      "title": {
                        "standoff": 15
                      },
                      "zerolinecolor": "white",
                      "zerolinewidth": 2
                    },
                    "yaxis": {
                      "automargin": true,
                      "gridcolor": "white",
                      "linecolor": "white",
                      "ticks": "",
                      "title": {
                        "standoff": 15
                      },
                      "zerolinecolor": "white",
                      "zerolinewidth": 2
                    }
                  }
                },
                "title": {
                  "text": "Distribution of Exercise Angina in people having disease or not"
                },
                "width": 505,
                "xaxis": {
                  "anchor": "y",
                  "domain": [
                    0,
                    1
                  ],
                  "title": {
                    "text": "ExerciseAngina"
                  }
                },
                "yaxis": {
                  "anchor": "x",
                  "domain": [
                    0,
                    1
                  ],
                  "title": {
                    "text": "count"
                  }
                }
              }
            }
          },
          "metadata": {},
          "output_type": "display_data"
        }
      ],
      "source": [
        "fig = px.histogram(df, x=\"ExerciseAngina\", color=\"HeartDisease\",title='Distribution of Exercise Angina in people having disease or not',width=505, height=500)\n",
        "fig.show()"
      ]
    },
    {
      "cell_type": "code",
      "execution_count": null,
      "metadata": {
        "id": "r7w9Rq5Mzr-9",
        "outputId": "45dcfd67-b030-46cf-b2d8-4c9cdbf5825a"
      },
      "outputs": [
        {
          "data": {
            "application/vnd.plotly.v1+json": {
              "config": {
                "plotlyServerURL": "https://plot.ly"
              },
              "data": [
                {
                  "alignmentgroup": "True",
                  "bingroup": "x",
                  "hovertemplate": "ST_Slope=%{x}<br>count=%{y}<extra></extra>",
                  "legendgroup": "",
                  "marker": {
                    "color": "#636efa",
                    "pattern": {
                      "shape": ""
                    }
                  },
                  "name": "",
                  "offsetgroup": "",
                  "orientation": "v",
                  "showlegend": false,
                  "type": "histogram",
                  "x": [
                    "Up",
                    "Flat",
                    "Up",
                    "Flat",
                    "Up",
                    "Up",
                    "Up",
                    "Up",
                    "Flat",
                    "Up",
                    "Up",
                    "Flat",
                    "Up",
                    "Flat",
                    "Up",
                    "Flat",
                    "Flat",
                    "Up",
                    "Flat",
                    "Flat",
                    "Up",
                    "Flat",
                    "Up",
                    "Flat",
                    "Up",
                    "Up",
                    "Flat",
                    "Up",
                    "Up",
                    "Up",
                    "Flat",
                    "Up",
                    "Flat",
                    "Flat",
                    "Up",
                    "Up",
                    "Flat",
                    "Up",
                    "Up",
                    "Flat",
                    "Up",
                    "Flat",
                    "Up",
                    "Up",
                    "Flat",
                    "Flat",
                    "Up",
                    "Up",
                    "Flat",
                    "Flat",
                    "Flat",
                    "Flat",
                    "Up",
                    "Up",
                    "Flat",
                    "Up",
                    "Flat",
                    "Flat",
                    "Up",
                    "Flat",
                    "Up",
                    "Up",
                    "Up",
                    "Flat",
                    "Up",
                    "Up",
                    "Up",
                    "Up",
                    "Flat",
                    "Up",
                    "Flat",
                    "Up",
                    "Flat",
                    "Up",
                    "Flat",
                    "Up",
                    "Flat",
                    "Up",
                    "Up",
                    "Flat",
                    "Up",
                    "Up",
                    "Flat",
                    "Up",
                    "Flat",
                    "Flat",
                    "Flat",
                    "Flat",
                    "Flat",
                    "Flat",
                    "Up",
                    "Up",
                    "Up",
                    "Flat",
                    "Up",
                    "Flat",
                    "Up",
                    "Up",
                    "Up",
                    "Up",
                    "Flat",
                    "Up",
                    "Flat",
                    "Flat",
                    "Flat",
                    "Up",
                    "Up",
                    "Up",
                    "Up",
                    "Up",
                    "Flat",
                    "Flat",
                    "Up",
                    "Up",
                    "Up",
                    "Flat",
                    "Flat",
                    "Flat",
                    "Up",
                    "Flat",
                    "Flat",
                    "Up",
                    "Up",
                    "Flat",
                    "Up",
                    "Up",
                    "Up",
                    "Up",
                    "Up",
                    "Flat",
                    "Up",
                    "Flat",
                    "Flat",
                    "Flat",
                    "Flat",
                    "Flat",
                    "Up",
                    "Up",
                    "Flat",
                    "Flat",
                    "Flat",
                    "Flat",
                    "Flat",
                    "Up",
                    "Flat",
                    "Up",
                    "Up",
                    "Up",
                    "Up",
                    "Flat",
                    "Up",
                    "Up",
                    "Up",
                    "Up",
                    "Up",
                    "Flat",
                    "Flat",
                    "Up",
                    "Flat",
                    "Up",
                    "Flat",
                    "Flat",
                    "Up",
                    "Up",
                    "Up",
                    "Flat",
                    "Flat",
                    "Up",
                    "Up",
                    "Up",
                    "Up",
                    "Up",
                    "Up",
                    "Up",
                    "Flat",
                    "Flat",
                    "Flat",
                    "Up",
                    "Up",
                    "Up",
                    "Flat",
                    "Up",
                    "Flat",
                    "Flat",
                    "Up",
                    "Flat",
                    "Up",
                    "Flat",
                    "Flat",
                    "Flat",
                    "Up",
                    "Up",
                    "Up",
                    "Up",
                    "Up",
                    "Up",
                    "Flat",
                    "Up",
                    "Flat",
                    "Flat",
                    "Up",
                    "Up",
                    "Up",
                    "Up",
                    "Up",
                    "Up",
                    "Up",
                    "Flat",
                    "Up",
                    "Flat",
                    "Flat",
                    "Flat",
                    "Up",
                    "Up",
                    "Flat",
                    "Up",
                    "Flat",
                    "Up",
                    "Up",
                    "Up",
                    "Flat",
                    "Flat",
                    "Up",
                    "Up",
                    "Up",
                    "Flat",
                    "Up",
                    "Flat",
                    "Up",
                    "Up",
                    "Up",
                    "Up",
                    "Up",
                    "Up",
                    "Up",
                    "Flat",
                    "Flat",
                    "Flat",
                    "Flat",
                    "Flat",
                    "Up",
                    "Flat",
                    "Flat",
                    "Up",
                    "Flat",
                    "Up",
                    "Flat",
                    "Down",
                    "Flat",
                    "Flat",
                    "Flat",
                    "Flat",
                    "Up",
                    "Up",
                    "Flat",
                    "Up",
                    "Up",
                    "Up",
                    "Up",
                    "Up",
                    "Up",
                    "Up",
                    "Flat",
                    "Flat",
                    "Flat",
                    "Up",
                    "Flat",
                    "Up",
                    "Flat",
                    "Flat",
                    "Up",
                    "Up",
                    "Flat",
                    "Up",
                    "Up",
                    "Up",
                    "Flat",
                    "Flat",
                    "Flat",
                    "Up",
                    "Up",
                    "Flat",
                    "Up",
                    "Up",
                    "Up",
                    "Up",
                    "Up",
                    "Up",
                    "Up",
                    "Up",
                    "Up",
                    "Up",
                    "Up",
                    "Flat",
                    "Up",
                    "Up",
                    "Flat",
                    "Up",
                    "Flat",
                    "Up",
                    "Flat",
                    "Up",
                    "Up",
                    "Down",
                    "Flat",
                    "Up",
                    "Flat",
                    "Down",
                    "Up",
                    "Down",
                    "Up",
                    "Up",
                    "Up",
                    "Up",
                    "Down",
                    "Up",
                    "Flat",
                    "Up",
                    "Flat",
                    "Up",
                    "Flat",
                    "Flat",
                    "Up",
                    "Down",
                    "Flat",
                    "Down",
                    "Up",
                    "Up",
                    "Flat",
                    "Down",
                    "Up",
                    "Up",
                    "Up",
                    "Up",
                    "Up",
                    "Flat",
                    "Flat",
                    "Up",
                    "Up",
                    "Down",
                    "Down",
                    "Down",
                    "Flat",
                    "Flat",
                    "Flat",
                    "Flat",
                    "Flat",
                    "Flat",
                    "Flat",
                    "Flat",
                    "Flat",
                    "Up",
                    "Down",
                    "Flat",
                    "Up",
                    "Flat",
                    "Flat",
                    "Flat",
                    "Flat",
                    "Flat",
                    "Flat",
                    "Flat",
                    "Flat",
                    "Flat",
                    "Flat",
                    "Flat",
                    "Flat",
                    "Up",
                    "Flat",
                    "Flat",
                    "Up",
                    "Flat",
                    "Up",
                    "Flat",
                    "Down",
                    "Up",
                    "Flat",
                    "Flat",
                    "Flat",
                    "Up",
                    "Flat",
                    "Flat",
                    "Flat",
                    "Flat",
                    "Flat",
                    "Flat",
                    "Flat",
                    "Flat",
                    "Flat",
                    "Flat",
                    "Flat",
                    "Flat",
                    "Flat",
                    "Flat",
                    "Flat",
                    "Flat",
                    "Flat",
                    "Flat",
                    "Up",
                    "Flat",
                    "Flat",
                    "Flat",
                    "Flat",
                    "Flat",
                    "Flat",
                    "Flat",
                    "Flat",
                    "Flat",
                    "Flat",
                    "Flat",
                    "Flat",
                    "Flat",
                    "Flat",
                    "Flat",
                    "Flat",
                    "Flat",
                    "Flat",
                    "Up",
                    "Down",
                    "Up",
                    "Flat",
                    "Up",
                    "Flat",
                    "Flat",
                    "Up",
                    "Flat",
                    "Up",
                    "Flat",
                    "Flat",
                    "Flat",
                    "Flat",
                    "Up",
                    "Down",
                    "Flat",
                    "Down",
                    "Up",
                    "Up",
                    "Flat",
                    "Flat",
                    "Up",
                    "Up",
                    "Flat",
                    "Flat",
                    "Flat",
                    "Flat",
                    "Flat",
                    "Flat",
                    "Up",
                    "Flat",
                    "Flat",
                    "Down",
                    "Flat",
                    "Flat",
                    "Up",
                    "Flat",
                    "Up",
                    "Flat",
                    "Flat",
                    "Flat",
                    "Up",
                    "Flat",
                    "Flat",
                    "Down",
                    "Up",
                    "Down",
                    "Up",
                    "Flat",
                    "Up",
                    "Up",
                    "Flat",
                    "Flat",
                    "Flat",
                    "Flat",
                    "Flat",
                    "Up",
                    "Flat",
                    "Up",
                    "Down",
                    "Flat",
                    "Flat",
                    "Flat",
                    "Down",
                    "Up",
                    "Down",
                    "Flat",
                    "Flat",
                    "Up",
                    "Flat",
                    "Up",
                    "Flat",
                    "Flat",
                    "Flat",
                    "Flat",
                    "Flat",
                    "Flat",
                    "Flat",
                    "Down",
                    "Down",
                    "Flat",
                    "Flat",
                    "Down",
                    "Flat",
                    "Flat",
                    "Up",
                    "Down",
                    "Flat",
                    "Flat",
                    "Up",
                    "Down",
                    "Flat",
                    "Up",
                    "Flat",
                    "Up",
                    "Flat",
                    "Up",
                    "Flat",
                    "Flat",
                    "Flat",
                    "Down",
                    "Up",
                    "Flat",
                    "Down",
                    "Up",
                    "Flat",
                    "Up",
                    "Up",
                    "Flat",
                    "Up",
                    "Flat",
                    "Flat",
                    "Flat",
                    "Flat",
                    "Flat",
                    "Flat",
                    "Down",
                    "Flat",
                    "Flat",
                    "Down",
                    "Flat",
                    "Up",
                    "Flat",
                    "Down",
                    "Flat",
                    "Down",
                    "Up",
                    "Up",
                    "Flat",
                    "Down",
                    "Up",
                    "Up",
                    "Flat",
                    "Up",
                    "Flat",
                    "Flat",
                    "Up",
                    "Flat",
                    "Down",
                    "Flat",
                    "Flat",
                    "Down",
                    "Up",
                    "Up",
                    "Flat",
                    "Flat",
                    "Flat",
                    "Flat",
                    "Flat",
                    "Flat",
                    "Down",
                    "Flat",
                    "Down",
                    "Flat",
                    "Flat",
                    "Flat",
                    "Flat",
                    "Flat",
                    "Flat",
                    "Flat",
                    "Down",
                    "Flat",
                    "Flat",
                    "Up",
                    "Flat",
                    "Up",
                    "Flat",
                    "Flat",
                    "Flat",
                    "Flat",
                    "Flat",
                    "Flat",
                    "Up",
                    "Up",
                    "Down",
                    "Flat",
                    "Up",
                    "Flat",
                    "Flat",
                    "Up",
                    "Down",
                    "Flat",
                    "Flat",
                    "Flat",
                    "Flat",
                    "Down",
                    "Up",
                    "Up",
                    "Flat",
                    "Flat",
                    "Flat",
                    "Flat",
                    "Flat",
                    "Up",
                    "Flat",
                    "Up",
                    "Flat",
                    "Flat",
                    "Flat",
                    "Up",
                    "Flat",
                    "Up",
                    "Up",
                    "Flat",
                    "Flat",
                    "Flat",
                    "Flat",
                    "Flat",
                    "Up",
                    "Up",
                    "Flat",
                    "Up",
                    "Flat",
                    "Flat",
                    "Down",
                    "Flat",
                    "Up",
                    "Flat",
                    "Flat",
                    "Flat",
                    "Up",
                    "Up",
                    "Up",
                    "Flat",
                    "Up",
                    "Flat",
                    "Up",
                    "Flat",
                    "Up",
                    "Up",
                    "Down",
                    "Flat",
                    "Up",
                    "Up",
                    "Up",
                    "Up",
                    "Up",
                    "Up",
                    "Up",
                    "Up",
                    "Up",
                    "Flat",
                    "Up",
                    "Up",
                    "Up",
                    "Flat",
                    "Flat",
                    "Flat",
                    "Up",
                    "Up",
                    "Up",
                    "Flat",
                    "Up",
                    "Flat",
                    "Up",
                    "Flat",
                    "Flat",
                    "Up",
                    "Flat",
                    "Up",
                    "Up",
                    "Down",
                    "Flat",
                    "Up",
                    "Up",
                    "Flat",
                    "Up",
                    "Flat",
                    "Up",
                    "Up",
                    "Flat",
                    "Up",
                    "Flat",
                    "Flat",
                    "Up",
                    "Flat",
                    "Up",
                    "Flat",
                    "Flat",
                    "Up",
                    "Flat",
                    "Flat",
                    "Up",
                    "Up",
                    "Down",
                    "Up",
                    "Flat",
                    "Up",
                    "Up",
                    "Flat",
                    "Flat",
                    "Up",
                    "Flat",
                    "Flat",
                    "Up",
                    "Up",
                    "Up",
                    "Flat",
                    "Flat",
                    "Up",
                    "Flat",
                    "Flat",
                    "Flat",
                    "Flat",
                    "Flat",
                    "Up",
                    "Flat",
                    "Flat",
                    "Up",
                    "Up",
                    "Up",
                    "Up",
                    "Flat",
                    "Up",
                    "Down",
                    "Down",
                    "Down",
                    "Flat",
                    "Flat",
                    "Flat",
                    "Up",
                    "Down",
                    "Up",
                    "Flat",
                    "Flat",
                    "Up",
                    "Up",
                    "Flat",
                    "Up",
                    "Up",
                    "Down",
                    "Up",
                    "Down",
                    "Up",
                    "Flat",
                    "Up",
                    "Up",
                    "Flat",
                    "Up",
                    "Flat",
                    "Up",
                    "Up",
                    "Flat",
                    "Up",
                    "Flat",
                    "Up",
                    "Up",
                    "Up",
                    "Flat",
                    "Up",
                    "Flat",
                    "Up",
                    "Up",
                    "Down",
                    "Up",
                    "Flat",
                    "Flat",
                    "Flat",
                    "Flat",
                    "Up",
                    "Flat",
                    "Up",
                    "Up",
                    "Up",
                    "Down",
                    "Flat",
                    "Flat",
                    "Flat",
                    "Flat",
                    "Flat",
                    "Flat",
                    "Up",
                    "Flat",
                    "Flat",
                    "Flat",
                    "Flat",
                    "Up",
                    "Down",
                    "Flat",
                    "Up",
                    "Flat",
                    "Up",
                    "Up",
                    "Flat",
                    "Up",
                    "Flat",
                    "Flat",
                    "Up",
                    "Down",
                    "Up",
                    "Up",
                    "Up",
                    "Flat",
                    "Flat",
                    "Flat",
                    "Up",
                    "Up",
                    "Up",
                    "Up",
                    "Flat",
                    "Up",
                    "Flat",
                    "Flat",
                    "Up",
                    "Flat",
                    "Flat",
                    "Down",
                    "Flat",
                    "Flat",
                    "Flat",
                    "Flat",
                    "Up",
                    "Up",
                    "Up",
                    "Up",
                    "Flat",
                    "Up",
                    "Flat",
                    "Flat",
                    "Up",
                    "Up",
                    "Up",
                    "Flat",
                    "Flat",
                    "Flat",
                    "Up",
                    "Flat",
                    "Flat",
                    "Flat",
                    "Up",
                    "Up",
                    "Flat",
                    "Down",
                    "Up",
                    "Flat",
                    "Up",
                    "Up",
                    "Flat",
                    "Up",
                    "Flat",
                    "Down",
                    "Up",
                    "Up",
                    "Up",
                    "Up",
                    "Flat",
                    "Flat",
                    "Flat",
                    "Up",
                    "Up",
                    "Up",
                    "Up",
                    "Up",
                    "Flat",
                    "Flat",
                    "Up",
                    "Up",
                    "Up",
                    "Flat",
                    "Flat",
                    "Up",
                    "Down",
                    "Up",
                    "Up",
                    "Flat",
                    "Flat",
                    "Flat",
                    "Up",
                    "Up",
                    "Flat",
                    "Flat",
                    "Up",
                    "Flat",
                    "Flat",
                    "Flat",
                    "Up",
                    "Flat",
                    "Flat",
                    "Up",
                    "Flat",
                    "Up",
                    "Up",
                    "Down",
                    "Flat",
                    "Flat",
                    "Up",
                    "Down",
                    "Flat",
                    "Up",
                    "Down",
                    "Up",
                    "Flat",
                    "Up",
                    "Flat",
                    "Flat",
                    "Flat",
                    "Flat",
                    "Flat",
                    "Flat",
                    "Up"
                  ],
                  "xaxis": "x",
                  "yaxis": "y"
                }
              ],
              "layout": {
                "barmode": "relative",
                "height": 500,
                "legend": {
                  "tracegroupgap": 0
                },
                "template": {
                  "data": {
                    "bar": [
                      {
                        "error_x": {
                          "color": "#2a3f5f"
                        },
                        "error_y": {
                          "color": "#2a3f5f"
                        },
                        "marker": {
                          "line": {
                            "color": "#E5ECF6",
                            "width": 0.5
                          },
                          "pattern": {
                            "fillmode": "overlay",
                            "size": 10,
                            "solidity": 0.2
                          }
                        },
                        "type": "bar"
                      }
                    ],
                    "barpolar": [
                      {
                        "marker": {
                          "line": {
                            "color": "#E5ECF6",
                            "width": 0.5
                          },
                          "pattern": {
                            "fillmode": "overlay",
                            "size": 10,
                            "solidity": 0.2
                          }
                        },
                        "type": "barpolar"
                      }
                    ],
                    "carpet": [
                      {
                        "aaxis": {
                          "endlinecolor": "#2a3f5f",
                          "gridcolor": "white",
                          "linecolor": "white",
                          "minorgridcolor": "white",
                          "startlinecolor": "#2a3f5f"
                        },
                        "baxis": {
                          "endlinecolor": "#2a3f5f",
                          "gridcolor": "white",
                          "linecolor": "white",
                          "minorgridcolor": "white",
                          "startlinecolor": "#2a3f5f"
                        },
                        "type": "carpet"
                      }
                    ],
                    "choropleth": [
                      {
                        "colorbar": {
                          "outlinewidth": 0,
                          "ticks": ""
                        },
                        "type": "choropleth"
                      }
                    ],
                    "contour": [
                      {
                        "colorbar": {
                          "outlinewidth": 0,
                          "ticks": ""
                        },
                        "colorscale": [
                          [
                            0,
                            "#0d0887"
                          ],
                          [
                            0.1111111111111111,
                            "#46039f"
                          ],
                          [
                            0.2222222222222222,
                            "#7201a8"
                          ],
                          [
                            0.3333333333333333,
                            "#9c179e"
                          ],
                          [
                            0.4444444444444444,
                            "#bd3786"
                          ],
                          [
                            0.5555555555555556,
                            "#d8576b"
                          ],
                          [
                            0.6666666666666666,
                            "#ed7953"
                          ],
                          [
                            0.7777777777777778,
                            "#fb9f3a"
                          ],
                          [
                            0.8888888888888888,
                            "#fdca26"
                          ],
                          [
                            1,
                            "#f0f921"
                          ]
                        ],
                        "type": "contour"
                      }
                    ],
                    "contourcarpet": [
                      {
                        "colorbar": {
                          "outlinewidth": 0,
                          "ticks": ""
                        },
                        "type": "contourcarpet"
                      }
                    ],
                    "heatmap": [
                      {
                        "colorbar": {
                          "outlinewidth": 0,
                          "ticks": ""
                        },
                        "colorscale": [
                          [
                            0,
                            "#0d0887"
                          ],
                          [
                            0.1111111111111111,
                            "#46039f"
                          ],
                          [
                            0.2222222222222222,
                            "#7201a8"
                          ],
                          [
                            0.3333333333333333,
                            "#9c179e"
                          ],
                          [
                            0.4444444444444444,
                            "#bd3786"
                          ],
                          [
                            0.5555555555555556,
                            "#d8576b"
                          ],
                          [
                            0.6666666666666666,
                            "#ed7953"
                          ],
                          [
                            0.7777777777777778,
                            "#fb9f3a"
                          ],
                          [
                            0.8888888888888888,
                            "#fdca26"
                          ],
                          [
                            1,
                            "#f0f921"
                          ]
                        ],
                        "type": "heatmap"
                      }
                    ],
                    "heatmapgl": [
                      {
                        "colorbar": {
                          "outlinewidth": 0,
                          "ticks": ""
                        },
                        "colorscale": [
                          [
                            0,
                            "#0d0887"
                          ],
                          [
                            0.1111111111111111,
                            "#46039f"
                          ],
                          [
                            0.2222222222222222,
                            "#7201a8"
                          ],
                          [
                            0.3333333333333333,
                            "#9c179e"
                          ],
                          [
                            0.4444444444444444,
                            "#bd3786"
                          ],
                          [
                            0.5555555555555556,
                            "#d8576b"
                          ],
                          [
                            0.6666666666666666,
                            "#ed7953"
                          ],
                          [
                            0.7777777777777778,
                            "#fb9f3a"
                          ],
                          [
                            0.8888888888888888,
                            "#fdca26"
                          ],
                          [
                            1,
                            "#f0f921"
                          ]
                        ],
                        "type": "heatmapgl"
                      }
                    ],
                    "histogram": [
                      {
                        "marker": {
                          "pattern": {
                            "fillmode": "overlay",
                            "size": 10,
                            "solidity": 0.2
                          }
                        },
                        "type": "histogram"
                      }
                    ],
                    "histogram2d": [
                      {
                        "colorbar": {
                          "outlinewidth": 0,
                          "ticks": ""
                        },
                        "colorscale": [
                          [
                            0,
                            "#0d0887"
                          ],
                          [
                            0.1111111111111111,
                            "#46039f"
                          ],
                          [
                            0.2222222222222222,
                            "#7201a8"
                          ],
                          [
                            0.3333333333333333,
                            "#9c179e"
                          ],
                          [
                            0.4444444444444444,
                            "#bd3786"
                          ],
                          [
                            0.5555555555555556,
                            "#d8576b"
                          ],
                          [
                            0.6666666666666666,
                            "#ed7953"
                          ],
                          [
                            0.7777777777777778,
                            "#fb9f3a"
                          ],
                          [
                            0.8888888888888888,
                            "#fdca26"
                          ],
                          [
                            1,
                            "#f0f921"
                          ]
                        ],
                        "type": "histogram2d"
                      }
                    ],
                    "histogram2dcontour": [
                      {
                        "colorbar": {
                          "outlinewidth": 0,
                          "ticks": ""
                        },
                        "colorscale": [
                          [
                            0,
                            "#0d0887"
                          ],
                          [
                            0.1111111111111111,
                            "#46039f"
                          ],
                          [
                            0.2222222222222222,
                            "#7201a8"
                          ],
                          [
                            0.3333333333333333,
                            "#9c179e"
                          ],
                          [
                            0.4444444444444444,
                            "#bd3786"
                          ],
                          [
                            0.5555555555555556,
                            "#d8576b"
                          ],
                          [
                            0.6666666666666666,
                            "#ed7953"
                          ],
                          [
                            0.7777777777777778,
                            "#fb9f3a"
                          ],
                          [
                            0.8888888888888888,
                            "#fdca26"
                          ],
                          [
                            1,
                            "#f0f921"
                          ]
                        ],
                        "type": "histogram2dcontour"
                      }
                    ],
                    "mesh3d": [
                      {
                        "colorbar": {
                          "outlinewidth": 0,
                          "ticks": ""
                        },
                        "type": "mesh3d"
                      }
                    ],
                    "parcoords": [
                      {
                        "line": {
                          "colorbar": {
                            "outlinewidth": 0,
                            "ticks": ""
                          }
                        },
                        "type": "parcoords"
                      }
                    ],
                    "pie": [
                      {
                        "automargin": true,
                        "type": "pie"
                      }
                    ],
                    "scatter": [
                      {
                        "fillpattern": {
                          "fillmode": "overlay",
                          "size": 10,
                          "solidity": 0.2
                        },
                        "type": "scatter"
                      }
                    ],
                    "scatter3d": [
                      {
                        "line": {
                          "colorbar": {
                            "outlinewidth": 0,
                            "ticks": ""
                          }
                        },
                        "marker": {
                          "colorbar": {
                            "outlinewidth": 0,
                            "ticks": ""
                          }
                        },
                        "type": "scatter3d"
                      }
                    ],
                    "scattercarpet": [
                      {
                        "marker": {
                          "colorbar": {
                            "outlinewidth": 0,
                            "ticks": ""
                          }
                        },
                        "type": "scattercarpet"
                      }
                    ],
                    "scattergeo": [
                      {
                        "marker": {
                          "colorbar": {
                            "outlinewidth": 0,
                            "ticks": ""
                          }
                        },
                        "type": "scattergeo"
                      }
                    ],
                    "scattergl": [
                      {
                        "marker": {
                          "colorbar": {
                            "outlinewidth": 0,
                            "ticks": ""
                          }
                        },
                        "type": "scattergl"
                      }
                    ],
                    "scattermapbox": [
                      {
                        "marker": {
                          "colorbar": {
                            "outlinewidth": 0,
                            "ticks": ""
                          }
                        },
                        "type": "scattermapbox"
                      }
                    ],
                    "scatterpolar": [
                      {
                        "marker": {
                          "colorbar": {
                            "outlinewidth": 0,
                            "ticks": ""
                          }
                        },
                        "type": "scatterpolar"
                      }
                    ],
                    "scatterpolargl": [
                      {
                        "marker": {
                          "colorbar": {
                            "outlinewidth": 0,
                            "ticks": ""
                          }
                        },
                        "type": "scatterpolargl"
                      }
                    ],
                    "scatterternary": [
                      {
                        "marker": {
                          "colorbar": {
                            "outlinewidth": 0,
                            "ticks": ""
                          }
                        },
                        "type": "scatterternary"
                      }
                    ],
                    "surface": [
                      {
                        "colorbar": {
                          "outlinewidth": 0,
                          "ticks": ""
                        },
                        "colorscale": [
                          [
                            0,
                            "#0d0887"
                          ],
                          [
                            0.1111111111111111,
                            "#46039f"
                          ],
                          [
                            0.2222222222222222,
                            "#7201a8"
                          ],
                          [
                            0.3333333333333333,
                            "#9c179e"
                          ],
                          [
                            0.4444444444444444,
                            "#bd3786"
                          ],
                          [
                            0.5555555555555556,
                            "#d8576b"
                          ],
                          [
                            0.6666666666666666,
                            "#ed7953"
                          ],
                          [
                            0.7777777777777778,
                            "#fb9f3a"
                          ],
                          [
                            0.8888888888888888,
                            "#fdca26"
                          ],
                          [
                            1,
                            "#f0f921"
                          ]
                        ],
                        "type": "surface"
                      }
                    ],
                    "table": [
                      {
                        "cells": {
                          "fill": {
                            "color": "#EBF0F8"
                          },
                          "line": {
                            "color": "white"
                          }
                        },
                        "header": {
                          "fill": {
                            "color": "#C8D4E3"
                          },
                          "line": {
                            "color": "white"
                          }
                        },
                        "type": "table"
                      }
                    ]
                  },
                  "layout": {
                    "annotationdefaults": {
                      "arrowcolor": "#2a3f5f",
                      "arrowhead": 0,
                      "arrowwidth": 1
                    },
                    "autotypenumbers": "strict",
                    "coloraxis": {
                      "colorbar": {
                        "outlinewidth": 0,
                        "ticks": ""
                      }
                    },
                    "colorscale": {
                      "diverging": [
                        [
                          0,
                          "#8e0152"
                        ],
                        [
                          0.1,
                          "#c51b7d"
                        ],
                        [
                          0.2,
                          "#de77ae"
                        ],
                        [
                          0.3,
                          "#f1b6da"
                        ],
                        [
                          0.4,
                          "#fde0ef"
                        ],
                        [
                          0.5,
                          "#f7f7f7"
                        ],
                        [
                          0.6,
                          "#e6f5d0"
                        ],
                        [
                          0.7,
                          "#b8e186"
                        ],
                        [
                          0.8,
                          "#7fbc41"
                        ],
                        [
                          0.9,
                          "#4d9221"
                        ],
                        [
                          1,
                          "#276419"
                        ]
                      ],
                      "sequential": [
                        [
                          0,
                          "#0d0887"
                        ],
                        [
                          0.1111111111111111,
                          "#46039f"
                        ],
                        [
                          0.2222222222222222,
                          "#7201a8"
                        ],
                        [
                          0.3333333333333333,
                          "#9c179e"
                        ],
                        [
                          0.4444444444444444,
                          "#bd3786"
                        ],
                        [
                          0.5555555555555556,
                          "#d8576b"
                        ],
                        [
                          0.6666666666666666,
                          "#ed7953"
                        ],
                        [
                          0.7777777777777778,
                          "#fb9f3a"
                        ],
                        [
                          0.8888888888888888,
                          "#fdca26"
                        ],
                        [
                          1,
                          "#f0f921"
                        ]
                      ],
                      "sequentialminus": [
                        [
                          0,
                          "#0d0887"
                        ],
                        [
                          0.1111111111111111,
                          "#46039f"
                        ],
                        [
                          0.2222222222222222,
                          "#7201a8"
                        ],
                        [
                          0.3333333333333333,
                          "#9c179e"
                        ],
                        [
                          0.4444444444444444,
                          "#bd3786"
                        ],
                        [
                          0.5555555555555556,
                          "#d8576b"
                        ],
                        [
                          0.6666666666666666,
                          "#ed7953"
                        ],
                        [
                          0.7777777777777778,
                          "#fb9f3a"
                        ],
                        [
                          0.8888888888888888,
                          "#fdca26"
                        ],
                        [
                          1,
                          "#f0f921"
                        ]
                      ]
                    },
                    "colorway": [
                      "#636efa",
                      "#EF553B",
                      "#00cc96",
                      "#ab63fa",
                      "#FFA15A",
                      "#19d3f3",
                      "#FF6692",
                      "#B6E880",
                      "#FF97FF",
                      "#FECB52"
                    ],
                    "font": {
                      "color": "#2a3f5f"
                    },
                    "geo": {
                      "bgcolor": "white",
                      "lakecolor": "white",
                      "landcolor": "#E5ECF6",
                      "showlakes": true,
                      "showland": true,
                      "subunitcolor": "white"
                    },
                    "hoverlabel": {
                      "align": "left"
                    },
                    "hovermode": "closest",
                    "mapbox": {
                      "style": "light"
                    },
                    "paper_bgcolor": "white",
                    "plot_bgcolor": "#E5ECF6",
                    "polar": {
                      "angularaxis": {
                        "gridcolor": "white",
                        "linecolor": "white",
                        "ticks": ""
                      },
                      "bgcolor": "#E5ECF6",
                      "radialaxis": {
                        "gridcolor": "white",
                        "linecolor": "white",
                        "ticks": ""
                      }
                    },
                    "scene": {
                      "xaxis": {
                        "backgroundcolor": "#E5ECF6",
                        "gridcolor": "white",
                        "gridwidth": 2,
                        "linecolor": "white",
                        "showbackground": true,
                        "ticks": "",
                        "zerolinecolor": "white"
                      },
                      "yaxis": {
                        "backgroundcolor": "#E5ECF6",
                        "gridcolor": "white",
                        "gridwidth": 2,
                        "linecolor": "white",
                        "showbackground": true,
                        "ticks": "",
                        "zerolinecolor": "white"
                      },
                      "zaxis": {
                        "backgroundcolor": "#E5ECF6",
                        "gridcolor": "white",
                        "gridwidth": 2,
                        "linecolor": "white",
                        "showbackground": true,
                        "ticks": "",
                        "zerolinecolor": "white"
                      }
                    },
                    "shapedefaults": {
                      "line": {
                        "color": "#2a3f5f"
                      }
                    },
                    "ternary": {
                      "aaxis": {
                        "gridcolor": "white",
                        "linecolor": "white",
                        "ticks": ""
                      },
                      "baxis": {
                        "gridcolor": "white",
                        "linecolor": "white",
                        "ticks": ""
                      },
                      "bgcolor": "#E5ECF6",
                      "caxis": {
                        "gridcolor": "white",
                        "linecolor": "white",
                        "ticks": ""
                      }
                    },
                    "title": {
                      "x": 0.05
                    },
                    "xaxis": {
                      "automargin": true,
                      "gridcolor": "white",
                      "linecolor": "white",
                      "ticks": "",
                      "title": {
                        "standoff": 15
                      },
                      "zerolinecolor": "white",
                      "zerolinewidth": 2
                    },
                    "yaxis": {
                      "automargin": true,
                      "gridcolor": "white",
                      "linecolor": "white",
                      "ticks": "",
                      "title": {
                        "standoff": 15
                      },
                      "zerolinecolor": "white",
                      "zerolinewidth": 2
                    }
                  }
                },
                "title": {
                  "text": "Distribution of ST_Slope"
                },
                "width": 500,
                "xaxis": {
                  "anchor": "y",
                  "domain": [
                    0,
                    1
                  ],
                  "title": {
                    "text": "ST_Slope"
                  }
                },
                "yaxis": {
                  "anchor": "x",
                  "domain": [
                    0,
                    1
                  ],
                  "title": {
                    "text": "count"
                  }
                }
              }
            }
          },
          "metadata": {},
          "output_type": "display_data"
        }
      ],
      "source": [
        "fig=px.histogram(df, x=\"ST_Slope\", hover_data=df.columns, title=\"Distribution of ST_Slope\",width=500, height=500)\n",
        "fig.show()"
      ]
    },
    {
      "cell_type": "code",
      "execution_count": null,
      "metadata": {
        "id": "ifxHvQTbz1oc",
        "outputId": "3990e129-f7df-47c5-be14-4e4f49f54e4a"
      },
      "outputs": [
        {
          "data": {
            "application/vnd.plotly.v1+json": {
              "config": {
                "plotlyServerURL": "https://plot.ly"
              },
              "data": [
                {
                  "alignmentgroup": "True",
                  "bingroup": "x",
                  "hovertemplate": "HeartDisease=0<br>ST_Slope=%{x}<br>count=%{y}<extra></extra>",
                  "legendgroup": "0",
                  "marker": {
                    "color": "#636efa",
                    "pattern": {
                      "shape": ""
                    }
                  },
                  "name": "0",
                  "offsetgroup": "0",
                  "orientation": "v",
                  "showlegend": true,
                  "type": "histogram",
                  "x": [
                    "Up",
                    "Up",
                    "Up",
                    "Up",
                    "Up",
                    "Up",
                    "Up",
                    "Up",
                    "Up",
                    "Up",
                    "Flat",
                    "Up",
                    "Up",
                    "Flat",
                    "Up",
                    "Up",
                    "Up",
                    "Flat",
                    "Up",
                    "Up",
                    "Up",
                    "Up",
                    "Up",
                    "Up",
                    "Up",
                    "Up",
                    "Flat",
                    "Up",
                    "Up",
                    "Up",
                    "Flat",
                    "Up",
                    "Up",
                    "Flat",
                    "Up",
                    "Up",
                    "Flat",
                    "Up",
                    "Up",
                    "Up",
                    "Up",
                    "Up",
                    "Up",
                    "Up",
                    "Up",
                    "Up",
                    "Up",
                    "Up",
                    "Up",
                    "Up",
                    "Up",
                    "Up",
                    "Up",
                    "Up",
                    "Up",
                    "Flat",
                    "Flat",
                    "Up",
                    "Up",
                    "Up",
                    "Up",
                    "Up",
                    "Up",
                    "Up",
                    "Up",
                    "Up",
                    "Up",
                    "Up",
                    "Up",
                    "Up",
                    "Up",
                    "Flat",
                    "Up",
                    "Up",
                    "Up",
                    "Up",
                    "Up",
                    "Up",
                    "Up",
                    "Up",
                    "Up",
                    "Up",
                    "Up",
                    "Flat",
                    "Up",
                    "Flat",
                    "Up",
                    "Up",
                    "Up",
                    "Up",
                    "Up",
                    "Up",
                    "Up",
                    "Up",
                    "Up",
                    "Up",
                    "Up",
                    "Up",
                    "Up",
                    "Up",
                    "Up",
                    "Up",
                    "Up",
                    "Up",
                    "Up",
                    "Up",
                    "Up",
                    "Up",
                    "Up",
                    "Up",
                    "Up",
                    "Up",
                    "Up",
                    "Up",
                    "Flat",
                    "Up",
                    "Up",
                    "Flat",
                    "Up",
                    "Up",
                    "Up",
                    "Up",
                    "Up",
                    "Up",
                    "Flat",
                    "Up",
                    "Flat",
                    "Up",
                    "Up",
                    "Up",
                    "Up",
                    "Up",
                    "Up",
                    "Up",
                    "Up",
                    "Up",
                    "Up",
                    "Up",
                    "Up",
                    "Up",
                    "Up",
                    "Up",
                    "Up",
                    "Up",
                    "Up",
                    "Up",
                    "Up",
                    "Up",
                    "Up",
                    "Up",
                    "Up",
                    "Up",
                    "Flat",
                    "Up",
                    "Up",
                    "Up",
                    "Up",
                    "Up",
                    "Up",
                    "Up",
                    "Up",
                    "Up",
                    "Up",
                    "Up",
                    "Up",
                    "Up",
                    "Up",
                    "Flat",
                    "Up",
                    "Up",
                    "Up",
                    "Up",
                    "Up",
                    "Flat",
                    "Up",
                    "Up",
                    "Up",
                    "Up",
                    "Up",
                    "Up",
                    "Up",
                    "Up",
                    "Up",
                    "Up",
                    "Up",
                    "Up",
                    "Up",
                    "Up",
                    "Down",
                    "Up",
                    "Down",
                    "Up",
                    "Up",
                    "Flat",
                    "Flat",
                    "Up",
                    "Flat",
                    "Up",
                    "Flat",
                    "Up",
                    "Up",
                    "Down",
                    "Up",
                    "Up",
                    "Up",
                    "Up",
                    "Up",
                    "Up",
                    "Up",
                    "Up",
                    "Flat",
                    "Up",
                    "Up",
                    "Up",
                    "Up",
                    "Down",
                    "Up",
                    "Up",
                    "Up",
                    "Up",
                    "Flat",
                    "Flat",
                    "Up",
                    "Up",
                    "Up",
                    "Up",
                    "Up",
                    "Up",
                    "Up",
                    "Up",
                    "Up",
                    "Down",
                    "Up",
                    "Up",
                    "Flat",
                    "Flat",
                    "Up",
                    "Flat",
                    "Up",
                    "Up",
                    "Up",
                    "Flat",
                    "Up",
                    "Up",
                    "Up",
                    "Up",
                    "Flat",
                    "Flat",
                    "Up",
                    "Up",
                    "Flat",
                    "Up",
                    "Up",
                    "Up",
                    "Flat",
                    "Flat",
                    "Up",
                    "Flat",
                    "Flat",
                    "Up",
                    "Up",
                    "Up",
                    "Flat",
                    "Up",
                    "Up",
                    "Up",
                    "Up",
                    "Up",
                    "Up",
                    "Up",
                    "Up",
                    "Up",
                    "Up",
                    "Up",
                    "Up",
                    "Up",
                    "Flat",
                    "Up",
                    "Up",
                    "Up",
                    "Up",
                    "Up",
                    "Down",
                    "Up",
                    "Flat",
                    "Up",
                    "Up",
                    "Flat",
                    "Up",
                    "Flat",
                    "Up",
                    "Flat",
                    "Up",
                    "Flat",
                    "Flat",
                    "Up",
                    "Up",
                    "Down",
                    "Up",
                    "Up",
                    "Flat",
                    "Up",
                    "Up",
                    "Flat",
                    "Up",
                    "Flat",
                    "Flat",
                    "Up",
                    "Up",
                    "Up",
                    "Flat",
                    "Down",
                    "Up",
                    "Down",
                    "Up",
                    "Flat",
                    "Up",
                    "Up",
                    "Up",
                    "Down",
                    "Up",
                    "Up",
                    "Up",
                    "Up",
                    "Up",
                    "Up",
                    "Up",
                    "Flat",
                    "Up",
                    "Flat",
                    "Up",
                    "Up",
                    "Up",
                    "Flat",
                    "Up",
                    "Up",
                    "Up",
                    "Up",
                    "Down",
                    "Flat",
                    "Flat",
                    "Flat",
                    "Up",
                    "Up",
                    "Down",
                    "Flat",
                    "Up",
                    "Up",
                    "Up",
                    "Flat",
                    "Up",
                    "Up",
                    "Up",
                    "Flat",
                    "Flat",
                    "Flat",
                    "Up",
                    "Up",
                    "Flat",
                    "Up",
                    "Flat",
                    "Down",
                    "Flat",
                    "Flat",
                    "Up",
                    "Up",
                    "Up",
                    "Up",
                    "Flat",
                    "Up",
                    "Up",
                    "Up",
                    "Flat",
                    "Up",
                    "Flat",
                    "Up",
                    "Flat",
                    "Up",
                    "Up",
                    "Up",
                    "Up",
                    "Flat",
                    "Up",
                    "Up",
                    "Up",
                    "Up",
                    "Up",
                    "Up",
                    "Flat",
                    "Up",
                    "Up",
                    "Up",
                    "Up",
                    "Up",
                    "Flat",
                    "Flat",
                    "Up",
                    "Up",
                    "Flat",
                    "Flat",
                    "Flat",
                    "Flat",
                    "Up",
                    "Up",
                    "Flat",
                    "Up",
                    "Down",
                    "Up",
                    "Up",
                    "Up"
                  ],
                  "xaxis": "x",
                  "yaxis": "y"
                },
                {
                  "alignmentgroup": "True",
                  "bingroup": "x",
                  "hovertemplate": "HeartDisease=1<br>ST_Slope=%{x}<br>count=%{y}<extra></extra>",
                  "legendgroup": "1",
                  "marker": {
                    "color": "#EF553B",
                    "pattern": {
                      "shape": ""
                    }
                  },
                  "name": "1",
                  "offsetgroup": "1",
                  "orientation": "v",
                  "showlegend": true,
                  "type": "histogram",
                  "x": [
                    "Flat",
                    "Flat",
                    "Flat",
                    "Flat",
                    "Flat",
                    "Flat",
                    "Flat",
                    "Flat",
                    "Flat",
                    "Flat",
                    "Flat",
                    "Flat",
                    "Flat",
                    "Flat",
                    "Flat",
                    "Flat",
                    "Flat",
                    "Flat",
                    "Flat",
                    "Flat",
                    "Flat",
                    "Flat",
                    "Flat",
                    "Flat",
                    "Flat",
                    "Flat",
                    "Flat",
                    "Flat",
                    "Flat",
                    "Flat",
                    "Flat",
                    "Flat",
                    "Flat",
                    "Flat",
                    "Flat",
                    "Flat",
                    "Flat",
                    "Flat",
                    "Flat",
                    "Flat",
                    "Flat",
                    "Flat",
                    "Flat",
                    "Flat",
                    "Flat",
                    "Flat",
                    "Flat",
                    "Flat",
                    "Flat",
                    "Flat",
                    "Flat",
                    "Flat",
                    "Flat",
                    "Flat",
                    "Flat",
                    "Flat",
                    "Flat",
                    "Flat",
                    "Flat",
                    "Flat",
                    "Flat",
                    "Flat",
                    "Flat",
                    "Flat",
                    "Flat",
                    "Flat",
                    "Flat",
                    "Flat",
                    "Flat",
                    "Flat",
                    "Flat",
                    "Flat",
                    "Flat",
                    "Flat",
                    "Flat",
                    "Flat",
                    "Flat",
                    "Flat",
                    "Flat",
                    "Flat",
                    "Flat",
                    "Flat",
                    "Flat",
                    "Flat",
                    "Flat",
                    "Flat",
                    "Flat",
                    "Flat",
                    "Flat",
                    "Flat",
                    "Flat",
                    "Down",
                    "Flat",
                    "Flat",
                    "Flat",
                    "Flat",
                    "Flat",
                    "Flat",
                    "Flat",
                    "Flat",
                    "Flat",
                    "Flat",
                    "Flat",
                    "Flat",
                    "Flat",
                    "Flat",
                    "Flat",
                    "Up",
                    "Up",
                    "Flat",
                    "Up",
                    "Flat",
                    "Up",
                    "Flat",
                    "Up",
                    "Down",
                    "Flat",
                    "Up",
                    "Flat",
                    "Up",
                    "Down",
                    "Up",
                    "Up",
                    "Up",
                    "Up",
                    "Flat",
                    "Up",
                    "Flat",
                    "Up",
                    "Flat",
                    "Flat",
                    "Up",
                    "Down",
                    "Flat",
                    "Down",
                    "Up",
                    "Flat",
                    "Down",
                    "Up",
                    "Up",
                    "Up",
                    "Up",
                    "Flat",
                    "Up",
                    "Up",
                    "Down",
                    "Down",
                    "Down",
                    "Flat",
                    "Flat",
                    "Flat",
                    "Flat",
                    "Flat",
                    "Flat",
                    "Flat",
                    "Flat",
                    "Flat",
                    "Up",
                    "Down",
                    "Flat",
                    "Up",
                    "Flat",
                    "Flat",
                    "Flat",
                    "Flat",
                    "Flat",
                    "Flat",
                    "Flat",
                    "Flat",
                    "Flat",
                    "Flat",
                    "Flat",
                    "Up",
                    "Flat",
                    "Flat",
                    "Up",
                    "Flat",
                    "Up",
                    "Flat",
                    "Down",
                    "Up",
                    "Flat",
                    "Flat",
                    "Flat",
                    "Up",
                    "Flat",
                    "Flat",
                    "Flat",
                    "Flat",
                    "Flat",
                    "Flat",
                    "Flat",
                    "Flat",
                    "Flat",
                    "Flat",
                    "Flat",
                    "Flat",
                    "Flat",
                    "Flat",
                    "Flat",
                    "Flat",
                    "Flat",
                    "Flat",
                    "Up",
                    "Flat",
                    "Flat",
                    "Flat",
                    "Flat",
                    "Flat",
                    "Flat",
                    "Flat",
                    "Flat",
                    "Flat",
                    "Flat",
                    "Flat",
                    "Flat",
                    "Flat",
                    "Flat",
                    "Flat",
                    "Flat",
                    "Flat",
                    "Flat",
                    "Down",
                    "Up",
                    "Flat",
                    "Up",
                    "Flat",
                    "Flat",
                    "Flat",
                    "Flat",
                    "Flat",
                    "Down",
                    "Flat",
                    "Up",
                    "Flat",
                    "Flat",
                    "Up",
                    "Flat",
                    "Flat",
                    "Flat",
                    "Flat",
                    "Flat",
                    "Flat",
                    "Up",
                    "Flat",
                    "Flat",
                    "Down",
                    "Flat",
                    "Flat",
                    "Flat",
                    "Flat",
                    "Flat",
                    "Flat",
                    "Flat",
                    "Flat",
                    "Down",
                    "Down",
                    "Flat",
                    "Up",
                    "Flat",
                    "Flat",
                    "Flat",
                    "Flat",
                    "Flat",
                    "Down",
                    "Flat",
                    "Flat",
                    "Flat",
                    "Down",
                    "Up",
                    "Down",
                    "Flat",
                    "Flat",
                    "Flat",
                    "Flat",
                    "Flat",
                    "Flat",
                    "Flat",
                    "Flat",
                    "Flat",
                    "Flat",
                    "Down",
                    "Flat",
                    "Flat",
                    "Down",
                    "Flat",
                    "Flat",
                    "Down",
                    "Flat",
                    "Flat",
                    "Down",
                    "Flat",
                    "Flat",
                    "Flat",
                    "Up",
                    "Flat",
                    "Flat",
                    "Down",
                    "Up",
                    "Down",
                    "Up",
                    "Flat",
                    "Flat",
                    "Flat",
                    "Flat",
                    "Flat",
                    "Flat",
                    "Flat",
                    "Flat",
                    "Down",
                    "Flat",
                    "Flat",
                    "Down",
                    "Flat",
                    "Flat",
                    "Down",
                    "Flat",
                    "Down",
                    "Flat",
                    "Down",
                    "Up",
                    "Flat",
                    "Flat",
                    "Flat",
                    "Flat",
                    "Flat",
                    "Flat",
                    "Down",
                    "Flat",
                    "Flat",
                    "Flat",
                    "Flat",
                    "Down",
                    "Flat",
                    "Down",
                    "Flat",
                    "Flat",
                    "Flat",
                    "Flat",
                    "Flat",
                    "Flat",
                    "Flat",
                    "Down",
                    "Flat",
                    "Flat",
                    "Up",
                    "Flat",
                    "Flat",
                    "Flat",
                    "Flat",
                    "Flat",
                    "Flat",
                    "Down",
                    "Flat",
                    "Up",
                    "Flat",
                    "Flat",
                    "Down",
                    "Flat",
                    "Flat",
                    "Flat",
                    "Down",
                    "Flat",
                    "Flat",
                    "Flat",
                    "Flat",
                    "Flat",
                    "Flat",
                    "Flat",
                    "Flat",
                    "Up",
                    "Flat",
                    "Flat",
                    "Flat",
                    "Flat",
                    "Flat",
                    "Flat",
                    "Down",
                    "Flat",
                    "Flat",
                    "Flat",
                    "Down",
                    "Flat",
                    "Up",
                    "Up",
                    "Up",
                    "Up",
                    "Flat",
                    "Up",
                    "Up",
                    "Flat",
                    "Flat",
                    "Flat",
                    "Flat",
                    "Flat",
                    "Flat",
                    "Flat",
                    "Flat",
                    "Up",
                    "Up",
                    "Flat",
                    "Flat",
                    "Flat",
                    "Flat",
                    "Up",
                    "Flat",
                    "Up",
                    "Flat",
                    "Flat",
                    "Up",
                    "Flat",
                    "Up",
                    "Flat",
                    "Flat",
                    "Flat",
                    "Flat",
                    "Flat",
                    "Up",
                    "Flat",
                    "Up",
                    "Up",
                    "Down",
                    "Down",
                    "Flat",
                    "Flat",
                    "Flat",
                    "Flat",
                    "Up",
                    "Flat",
                    "Up",
                    "Down",
                    "Flat",
                    "Flat",
                    "Flat",
                    "Up",
                    "Flat",
                    "Up",
                    "Flat",
                    "Up",
                    "Down",
                    "Flat",
                    "Flat",
                    "Flat",
                    "Flat",
                    "Flat",
                    "Flat",
                    "Flat",
                    "Flat",
                    "Flat",
                    "Flat",
                    "Flat",
                    "Flat",
                    "Up",
                    "Flat",
                    "Flat",
                    "Down",
                    "Up",
                    "Up",
                    "Up",
                    "Flat",
                    "Up",
                    "Flat",
                    "Flat",
                    "Flat",
                    "Flat",
                    "Flat",
                    "Flat",
                    "Up",
                    "Flat",
                    "Flat",
                    "Flat",
                    "Flat",
                    "Up",
                    "Down",
                    "Flat",
                    "Flat",
                    "Down",
                    "Up",
                    "Up",
                    "Flat",
                    "Flat",
                    "Flat",
                    "Up",
                    "Flat",
                    "Up",
                    "Flat",
                    "Flat",
                    "Down",
                    "Flat",
                    "Flat",
                    "Flat",
                    "Up",
                    "Up",
                    "Flat",
                    "Flat",
                    "Up",
                    "Down",
                    "Flat",
                    "Flat",
                    "Down",
                    "Up",
                    "Flat",
                    "Flat",
                    "Flat",
                    "Flat",
                    "Flat",
                    "Flat",
                    "Flat"
                  ],
                  "xaxis": "x",
                  "yaxis": "y"
                }
              ],
              "layout": {
                "barmode": "relative",
                "height": 500,
                "legend": {
                  "title": {
                    "text": "HeartDisease"
                  },
                  "tracegroupgap": 0
                },
                "template": {
                  "data": {
                    "bar": [
                      {
                        "error_x": {
                          "color": "#2a3f5f"
                        },
                        "error_y": {
                          "color": "#2a3f5f"
                        },
                        "marker": {
                          "line": {
                            "color": "#E5ECF6",
                            "width": 0.5
                          },
                          "pattern": {
                            "fillmode": "overlay",
                            "size": 10,
                            "solidity": 0.2
                          }
                        },
                        "type": "bar"
                      }
                    ],
                    "barpolar": [
                      {
                        "marker": {
                          "line": {
                            "color": "#E5ECF6",
                            "width": 0.5
                          },
                          "pattern": {
                            "fillmode": "overlay",
                            "size": 10,
                            "solidity": 0.2
                          }
                        },
                        "type": "barpolar"
                      }
                    ],
                    "carpet": [
                      {
                        "aaxis": {
                          "endlinecolor": "#2a3f5f",
                          "gridcolor": "white",
                          "linecolor": "white",
                          "minorgridcolor": "white",
                          "startlinecolor": "#2a3f5f"
                        },
                        "baxis": {
                          "endlinecolor": "#2a3f5f",
                          "gridcolor": "white",
                          "linecolor": "white",
                          "minorgridcolor": "white",
                          "startlinecolor": "#2a3f5f"
                        },
                        "type": "carpet"
                      }
                    ],
                    "choropleth": [
                      {
                        "colorbar": {
                          "outlinewidth": 0,
                          "ticks": ""
                        },
                        "type": "choropleth"
                      }
                    ],
                    "contour": [
                      {
                        "colorbar": {
                          "outlinewidth": 0,
                          "ticks": ""
                        },
                        "colorscale": [
                          [
                            0,
                            "#0d0887"
                          ],
                          [
                            0.1111111111111111,
                            "#46039f"
                          ],
                          [
                            0.2222222222222222,
                            "#7201a8"
                          ],
                          [
                            0.3333333333333333,
                            "#9c179e"
                          ],
                          [
                            0.4444444444444444,
                            "#bd3786"
                          ],
                          [
                            0.5555555555555556,
                            "#d8576b"
                          ],
                          [
                            0.6666666666666666,
                            "#ed7953"
                          ],
                          [
                            0.7777777777777778,
                            "#fb9f3a"
                          ],
                          [
                            0.8888888888888888,
                            "#fdca26"
                          ],
                          [
                            1,
                            "#f0f921"
                          ]
                        ],
                        "type": "contour"
                      }
                    ],
                    "contourcarpet": [
                      {
                        "colorbar": {
                          "outlinewidth": 0,
                          "ticks": ""
                        },
                        "type": "contourcarpet"
                      }
                    ],
                    "heatmap": [
                      {
                        "colorbar": {
                          "outlinewidth": 0,
                          "ticks": ""
                        },
                        "colorscale": [
                          [
                            0,
                            "#0d0887"
                          ],
                          [
                            0.1111111111111111,
                            "#46039f"
                          ],
                          [
                            0.2222222222222222,
                            "#7201a8"
                          ],
                          [
                            0.3333333333333333,
                            "#9c179e"
                          ],
                          [
                            0.4444444444444444,
                            "#bd3786"
                          ],
                          [
                            0.5555555555555556,
                            "#d8576b"
                          ],
                          [
                            0.6666666666666666,
                            "#ed7953"
                          ],
                          [
                            0.7777777777777778,
                            "#fb9f3a"
                          ],
                          [
                            0.8888888888888888,
                            "#fdca26"
                          ],
                          [
                            1,
                            "#f0f921"
                          ]
                        ],
                        "type": "heatmap"
                      }
                    ],
                    "heatmapgl": [
                      {
                        "colorbar": {
                          "outlinewidth": 0,
                          "ticks": ""
                        },
                        "colorscale": [
                          [
                            0,
                            "#0d0887"
                          ],
                          [
                            0.1111111111111111,
                            "#46039f"
                          ],
                          [
                            0.2222222222222222,
                            "#7201a8"
                          ],
                          [
                            0.3333333333333333,
                            "#9c179e"
                          ],
                          [
                            0.4444444444444444,
                            "#bd3786"
                          ],
                          [
                            0.5555555555555556,
                            "#d8576b"
                          ],
                          [
                            0.6666666666666666,
                            "#ed7953"
                          ],
                          [
                            0.7777777777777778,
                            "#fb9f3a"
                          ],
                          [
                            0.8888888888888888,
                            "#fdca26"
                          ],
                          [
                            1,
                            "#f0f921"
                          ]
                        ],
                        "type": "heatmapgl"
                      }
                    ],
                    "histogram": [
                      {
                        "marker": {
                          "pattern": {
                            "fillmode": "overlay",
                            "size": 10,
                            "solidity": 0.2
                          }
                        },
                        "type": "histogram"
                      }
                    ],
                    "histogram2d": [
                      {
                        "colorbar": {
                          "outlinewidth": 0,
                          "ticks": ""
                        },
                        "colorscale": [
                          [
                            0,
                            "#0d0887"
                          ],
                          [
                            0.1111111111111111,
                            "#46039f"
                          ],
                          [
                            0.2222222222222222,
                            "#7201a8"
                          ],
                          [
                            0.3333333333333333,
                            "#9c179e"
                          ],
                          [
                            0.4444444444444444,
                            "#bd3786"
                          ],
                          [
                            0.5555555555555556,
                            "#d8576b"
                          ],
                          [
                            0.6666666666666666,
                            "#ed7953"
                          ],
                          [
                            0.7777777777777778,
                            "#fb9f3a"
                          ],
                          [
                            0.8888888888888888,
                            "#fdca26"
                          ],
                          [
                            1,
                            "#f0f921"
                          ]
                        ],
                        "type": "histogram2d"
                      }
                    ],
                    "histogram2dcontour": [
                      {
                        "colorbar": {
                          "outlinewidth": 0,
                          "ticks": ""
                        },
                        "colorscale": [
                          [
                            0,
                            "#0d0887"
                          ],
                          [
                            0.1111111111111111,
                            "#46039f"
                          ],
                          [
                            0.2222222222222222,
                            "#7201a8"
                          ],
                          [
                            0.3333333333333333,
                            "#9c179e"
                          ],
                          [
                            0.4444444444444444,
                            "#bd3786"
                          ],
                          [
                            0.5555555555555556,
                            "#d8576b"
                          ],
                          [
                            0.6666666666666666,
                            "#ed7953"
                          ],
                          [
                            0.7777777777777778,
                            "#fb9f3a"
                          ],
                          [
                            0.8888888888888888,
                            "#fdca26"
                          ],
                          [
                            1,
                            "#f0f921"
                          ]
                        ],
                        "type": "histogram2dcontour"
                      }
                    ],
                    "mesh3d": [
                      {
                        "colorbar": {
                          "outlinewidth": 0,
                          "ticks": ""
                        },
                        "type": "mesh3d"
                      }
                    ],
                    "parcoords": [
                      {
                        "line": {
                          "colorbar": {
                            "outlinewidth": 0,
                            "ticks": ""
                          }
                        },
                        "type": "parcoords"
                      }
                    ],
                    "pie": [
                      {
                        "automargin": true,
                        "type": "pie"
                      }
                    ],
                    "scatter": [
                      {
                        "fillpattern": {
                          "fillmode": "overlay",
                          "size": 10,
                          "solidity": 0.2
                        },
                        "type": "scatter"
                      }
                    ],
                    "scatter3d": [
                      {
                        "line": {
                          "colorbar": {
                            "outlinewidth": 0,
                            "ticks": ""
                          }
                        },
                        "marker": {
                          "colorbar": {
                            "outlinewidth": 0,
                            "ticks": ""
                          }
                        },
                        "type": "scatter3d"
                      }
                    ],
                    "scattercarpet": [
                      {
                        "marker": {
                          "colorbar": {
                            "outlinewidth": 0,
                            "ticks": ""
                          }
                        },
                        "type": "scattercarpet"
                      }
                    ],
                    "scattergeo": [
                      {
                        "marker": {
                          "colorbar": {
                            "outlinewidth": 0,
                            "ticks": ""
                          }
                        },
                        "type": "scattergeo"
                      }
                    ],
                    "scattergl": [
                      {
                        "marker": {
                          "colorbar": {
                            "outlinewidth": 0,
                            "ticks": ""
                          }
                        },
                        "type": "scattergl"
                      }
                    ],
                    "scattermapbox": [
                      {
                        "marker": {
                          "colorbar": {
                            "outlinewidth": 0,
                            "ticks": ""
                          }
                        },
                        "type": "scattermapbox"
                      }
                    ],
                    "scatterpolar": [
                      {
                        "marker": {
                          "colorbar": {
                            "outlinewidth": 0,
                            "ticks": ""
                          }
                        },
                        "type": "scatterpolar"
                      }
                    ],
                    "scatterpolargl": [
                      {
                        "marker": {
                          "colorbar": {
                            "outlinewidth": 0,
                            "ticks": ""
                          }
                        },
                        "type": "scatterpolargl"
                      }
                    ],
                    "scatterternary": [
                      {
                        "marker": {
                          "colorbar": {
                            "outlinewidth": 0,
                            "ticks": ""
                          }
                        },
                        "type": "scatterternary"
                      }
                    ],
                    "surface": [
                      {
                        "colorbar": {
                          "outlinewidth": 0,
                          "ticks": ""
                        },
                        "colorscale": [
                          [
                            0,
                            "#0d0887"
                          ],
                          [
                            0.1111111111111111,
                            "#46039f"
                          ],
                          [
                            0.2222222222222222,
                            "#7201a8"
                          ],
                          [
                            0.3333333333333333,
                            "#9c179e"
                          ],
                          [
                            0.4444444444444444,
                            "#bd3786"
                          ],
                          [
                            0.5555555555555556,
                            "#d8576b"
                          ],
                          [
                            0.6666666666666666,
                            "#ed7953"
                          ],
                          [
                            0.7777777777777778,
                            "#fb9f3a"
                          ],
                          [
                            0.8888888888888888,
                            "#fdca26"
                          ],
                          [
                            1,
                            "#f0f921"
                          ]
                        ],
                        "type": "surface"
                      }
                    ],
                    "table": [
                      {
                        "cells": {
                          "fill": {
                            "color": "#EBF0F8"
                          },
                          "line": {
                            "color": "white"
                          }
                        },
                        "header": {
                          "fill": {
                            "color": "#C8D4E3"
                          },
                          "line": {
                            "color": "white"
                          }
                        },
                        "type": "table"
                      }
                    ]
                  },
                  "layout": {
                    "annotationdefaults": {
                      "arrowcolor": "#2a3f5f",
                      "arrowhead": 0,
                      "arrowwidth": 1
                    },
                    "autotypenumbers": "strict",
                    "coloraxis": {
                      "colorbar": {
                        "outlinewidth": 0,
                        "ticks": ""
                      }
                    },
                    "colorscale": {
                      "diverging": [
                        [
                          0,
                          "#8e0152"
                        ],
                        [
                          0.1,
                          "#c51b7d"
                        ],
                        [
                          0.2,
                          "#de77ae"
                        ],
                        [
                          0.3,
                          "#f1b6da"
                        ],
                        [
                          0.4,
                          "#fde0ef"
                        ],
                        [
                          0.5,
                          "#f7f7f7"
                        ],
                        [
                          0.6,
                          "#e6f5d0"
                        ],
                        [
                          0.7,
                          "#b8e186"
                        ],
                        [
                          0.8,
                          "#7fbc41"
                        ],
                        [
                          0.9,
                          "#4d9221"
                        ],
                        [
                          1,
                          "#276419"
                        ]
                      ],
                      "sequential": [
                        [
                          0,
                          "#0d0887"
                        ],
                        [
                          0.1111111111111111,
                          "#46039f"
                        ],
                        [
                          0.2222222222222222,
                          "#7201a8"
                        ],
                        [
                          0.3333333333333333,
                          "#9c179e"
                        ],
                        [
                          0.4444444444444444,
                          "#bd3786"
                        ],
                        [
                          0.5555555555555556,
                          "#d8576b"
                        ],
                        [
                          0.6666666666666666,
                          "#ed7953"
                        ],
                        [
                          0.7777777777777778,
                          "#fb9f3a"
                        ],
                        [
                          0.8888888888888888,
                          "#fdca26"
                        ],
                        [
                          1,
                          "#f0f921"
                        ]
                      ],
                      "sequentialminus": [
                        [
                          0,
                          "#0d0887"
                        ],
                        [
                          0.1111111111111111,
                          "#46039f"
                        ],
                        [
                          0.2222222222222222,
                          "#7201a8"
                        ],
                        [
                          0.3333333333333333,
                          "#9c179e"
                        ],
                        [
                          0.4444444444444444,
                          "#bd3786"
                        ],
                        [
                          0.5555555555555556,
                          "#d8576b"
                        ],
                        [
                          0.6666666666666666,
                          "#ed7953"
                        ],
                        [
                          0.7777777777777778,
                          "#fb9f3a"
                        ],
                        [
                          0.8888888888888888,
                          "#fdca26"
                        ],
                        [
                          1,
                          "#f0f921"
                        ]
                      ]
                    },
                    "colorway": [
                      "#636efa",
                      "#EF553B",
                      "#00cc96",
                      "#ab63fa",
                      "#FFA15A",
                      "#19d3f3",
                      "#FF6692",
                      "#B6E880",
                      "#FF97FF",
                      "#FECB52"
                    ],
                    "font": {
                      "color": "#2a3f5f"
                    },
                    "geo": {
                      "bgcolor": "white",
                      "lakecolor": "white",
                      "landcolor": "#E5ECF6",
                      "showlakes": true,
                      "showland": true,
                      "subunitcolor": "white"
                    },
                    "hoverlabel": {
                      "align": "left"
                    },
                    "hovermode": "closest",
                    "mapbox": {
                      "style": "light"
                    },
                    "paper_bgcolor": "white",
                    "plot_bgcolor": "#E5ECF6",
                    "polar": {
                      "angularaxis": {
                        "gridcolor": "white",
                        "linecolor": "white",
                        "ticks": ""
                      },
                      "bgcolor": "#E5ECF6",
                      "radialaxis": {
                        "gridcolor": "white",
                        "linecolor": "white",
                        "ticks": ""
                      }
                    },
                    "scene": {
                      "xaxis": {
                        "backgroundcolor": "#E5ECF6",
                        "gridcolor": "white",
                        "gridwidth": 2,
                        "linecolor": "white",
                        "showbackground": true,
                        "ticks": "",
                        "zerolinecolor": "white"
                      },
                      "yaxis": {
                        "backgroundcolor": "#E5ECF6",
                        "gridcolor": "white",
                        "gridwidth": 2,
                        "linecolor": "white",
                        "showbackground": true,
                        "ticks": "",
                        "zerolinecolor": "white"
                      },
                      "zaxis": {
                        "backgroundcolor": "#E5ECF6",
                        "gridcolor": "white",
                        "gridwidth": 2,
                        "linecolor": "white",
                        "showbackground": true,
                        "ticks": "",
                        "zerolinecolor": "white"
                      }
                    },
                    "shapedefaults": {
                      "line": {
                        "color": "#2a3f5f"
                      }
                    },
                    "ternary": {
                      "aaxis": {
                        "gridcolor": "white",
                        "linecolor": "white",
                        "ticks": ""
                      },
                      "baxis": {
                        "gridcolor": "white",
                        "linecolor": "white",
                        "ticks": ""
                      },
                      "bgcolor": "#E5ECF6",
                      "caxis": {
                        "gridcolor": "white",
                        "linecolor": "white",
                        "ticks": ""
                      }
                    },
                    "title": {
                      "x": 0.05
                    },
                    "xaxis": {
                      "automargin": true,
                      "gridcolor": "white",
                      "linecolor": "white",
                      "ticks": "",
                      "title": {
                        "standoff": 15
                      },
                      "zerolinecolor": "white",
                      "zerolinewidth": 2
                    },
                    "yaxis": {
                      "automargin": true,
                      "gridcolor": "white",
                      "linecolor": "white",
                      "ticks": "",
                      "title": {
                        "standoff": 15
                      },
                      "zerolinecolor": "white",
                      "zerolinewidth": 2
                    }
                  }
                },
                "title": {
                  "text": "Distribution of ST_Slope in people having disease or not"
                },
                "width": 505,
                "xaxis": {
                  "anchor": "y",
                  "domain": [
                    0,
                    1
                  ],
                  "title": {
                    "text": "ST_Slope"
                  }
                },
                "yaxis": {
                  "anchor": "x",
                  "domain": [
                    0,
                    1
                  ],
                  "title": {
                    "text": "count"
                  }
                }
              }
            }
          },
          "metadata": {},
          "output_type": "display_data"
        }
      ],
      "source": [
        "fig = px.histogram(df, x=\"ST_Slope\", color=\"HeartDisease\",title='Distribution of ST_Slope in people having disease or not',width=505, height=500)\n",
        "fig.show()"
      ]
    },
    {
      "cell_type": "code",
      "execution_count": null,
      "metadata": {
        "id": "YD9ues-fz7-C",
        "outputId": "ec2e9369-d27a-4011-dd55-8779c49e1cd9"
      },
      "outputs": [
        {
          "data": {
            "image/png": "[encoded data removed]",
            "text/plain": [
              "<Figure size 1080x720 with 12 Axes>"
            ]
          },
          "metadata": {
            "needs_background": "light"
          },
          "output_type": "display_data"
        }
      ],
      "source": [
        "plt.figure(figsize=(15,10))\n",
        "for i,col in enumerate(df.columns,1):\n",
        "    plt.subplot(4,3,i)\n",
        "    sns.histplot(df[col],kde=True)\n",
        "    plt.tight_layout()\n",
        "    plt.title(f\"Distribution of {col} Data\")\n",
        "    plt.plot()"
      ]
    },
    {
      "cell_type": "code",
      "execution_count": null,
      "metadata": {
        "id": "PSsnDU9Gx5YQ"
      },
      "outputs": [],
      "source": [
        "from sklearn.preprocessing import LabelEncoder\n",
        "\n",
        "def encode(df1):\n",
        "  lbcode=LabelEncoder()\n",
        "  c=df1.columns\n",
        "  data_type=list(df1.dtypes)\n",
        "  for i in range(len(c)):\n",
        "    if(data_type[i]=='O'):\n",
        "      df1[c[i]]=lbcode.fit_transform(df1[c[i]])\n",
        "  return df1\n",
        "\n",
        "df=encode(df)"
      ]
    },
    {
      "cell_type": "code",
      "execution_count": null,
      "metadata": {
        "id": "uiID1maMx5YS",
        "outputId": "ffd5f9e4-ce7d-44d7-f259-8c8b2c65a288"
      },
      "outputs": [
        {
          "data": {
            "text/html": [
              "<div>\n",
              "<style scoped>\n",
              "    .dataframe tbody tr th:only-of-type {\n",
              "        vertical-align: middle;\n",
              "    }\n",
              "\n",
              "    .dataframe tbody tr th {\n",
              "        vertical-align: top;\n",
              "    }\n",
              "\n",
              "    .dataframe thead th {\n",
              "        text-align: right;\n",
              "    }\n",
              "</style>\n",
              "<table border=\"1\" class=\"dataframe\">\n",
              "  <thead>\n",
              "    <tr style=\"text-align: right;\">\n",
              "      <th></th>\n",
              "      <th>Age</th>\n",
              "      <th>Sex</th>\n",
              "      <th>ChestPainType</th>\n",
              "      <th>RestingBP</th>\n",
              "      <th>Cholesterol</th>\n",
              "      <th>FastingBS</th>\n",
              "      <th>RestingECG</th>\n",
              "      <th>MaxHR</th>\n",
              "      <th>ExerciseAngina</th>\n",
              "      <th>Oldpeak</th>\n",
              "      <th>ST_Slope</th>\n",
              "      <th>HeartDisease</th>\n",
              "    </tr>\n",
              "  </thead>\n",
              "  <tbody>\n",
              "    <tr>\n",
              "      <th>0</th>\n",
              "      <td>40</td>\n",
              "      <td>1</td>\n",
              "      <td>1</td>\n",
              "      <td>140</td>\n",
              "      <td>289</td>\n",
              "      <td>0</td>\n",
              "      <td>1</td>\n",
              "      <td>172</td>\n",
              "      <td>0</td>\n",
              "      <td>0.0</td>\n",
              "      <td>2</td>\n",
              "      <td>0</td>\n",
              "    </tr>\n",
              "    <tr>\n",
              "      <th>1</th>\n",
              "      <td>49</td>\n",
              "      <td>0</td>\n",
              "      <td>2</td>\n",
              "      <td>160</td>\n",
              "      <td>180</td>\n",
              "      <td>0</td>\n",
              "      <td>1</td>\n",
              "      <td>156</td>\n",
              "      <td>0</td>\n",
              "      <td>1.0</td>\n",
              "      <td>1</td>\n",
              "      <td>1</td>\n",
              "    </tr>\n",
              "    <tr>\n",
              "      <th>2</th>\n",
              "      <td>37</td>\n",
              "      <td>1</td>\n",
              "      <td>1</td>\n",
              "      <td>130</td>\n",
              "      <td>283</td>\n",
              "      <td>0</td>\n",
              "      <td>2</td>\n",
              "      <td>98</td>\n",
              "      <td>0</td>\n",
              "      <td>0.0</td>\n",
              "      <td>2</td>\n",
              "      <td>0</td>\n",
              "    </tr>\n",
              "    <tr>\n",
              "      <th>3</th>\n",
              "      <td>48</td>\n",
              "      <td>0</td>\n",
              "      <td>0</td>\n",
              "      <td>138</td>\n",
              "      <td>214</td>\n",
              "      <td>0</td>\n",
              "      <td>1</td>\n",
              "      <td>108</td>\n",
              "      <td>1</td>\n",
              "      <td>1.5</td>\n",
              "      <td>1</td>\n",
              "      <td>1</td>\n",
              "    </tr>\n",
              "    <tr>\n",
              "      <th>4</th>\n",
              "      <td>54</td>\n",
              "      <td>1</td>\n",
              "      <td>2</td>\n",
              "      <td>150</td>\n",
              "      <td>195</td>\n",
              "      <td>0</td>\n",
              "      <td>1</td>\n",
              "      <td>122</td>\n",
              "      <td>0</td>\n",
              "      <td>0.0</td>\n",
              "      <td>2</td>\n",
              "      <td>0</td>\n",
              "    </tr>\n",
              "    <tr>\n",
              "      <th>...</th>\n",
              "      <td>...</td>\n",
              "      <td>...</td>\n",
              "      <td>...</td>\n",
              "      <td>...</td>\n",
              "      <td>...</td>\n",
              "      <td>...</td>\n",
              "      <td>...</td>\n",
              "      <td>...</td>\n",
              "      <td>...</td>\n",
              "      <td>...</td>\n",
              "      <td>...</td>\n",
              "      <td>...</td>\n",
              "    </tr>\n",
              "    <tr>\n",
              "      <th>913</th>\n",
              "      <td>45</td>\n",
              "      <td>1</td>\n",
              "      <td>3</td>\n",
              "      <td>110</td>\n",
              "      <td>264</td>\n",
              "      <td>0</td>\n",
              "      <td>1</td>\n",
              "      <td>132</td>\n",
              "      <td>0</td>\n",
              "      <td>1.2</td>\n",
              "      <td>1</td>\n",
              "      <td>1</td>\n",
              "    </tr>\n",
              "    <tr>\n",
              "      <th>914</th>\n",
              "      <td>68</td>\n",
              "      <td>1</td>\n",
              "      <td>0</td>\n",
              "      <td>144</td>\n",
              "      <td>193</td>\n",
              "      <td>1</td>\n",
              "      <td>1</td>\n",
              "      <td>141</td>\n",
              "      <td>0</td>\n",
              "      <td>3.4</td>\n",
              "      <td>1</td>\n",
              "      <td>1</td>\n",
              "    </tr>\n",
              "    <tr>\n",
              "      <th>915</th>\n",
              "      <td>57</td>\n",
              "      <td>1</td>\n",
              "      <td>0</td>\n",
              "      <td>130</td>\n",
              "      <td>131</td>\n",
              "      <td>0</td>\n",
              "      <td>1</td>\n",
              "      <td>115</td>\n",
              "      <td>1</td>\n",
              "      <td>1.2</td>\n",
              "      <td>1</td>\n",
              "      <td>1</td>\n",
              "    </tr>\n",
              "    <tr>\n",
              "      <th>916</th>\n",
              "      <td>57</td>\n",
              "      <td>0</td>\n",
              "      <td>1</td>\n",
              "      <td>130</td>\n",
              "      <td>236</td>\n",
              "      <td>0</td>\n",
              "      <td>0</td>\n",
              "      <td>174</td>\n",
              "      <td>0</td>\n",
              "      <td>0.0</td>\n",
              "      <td>1</td>\n",
              "      <td>1</td>\n",
              "    </tr>\n",
              "    <tr>\n",
              "      <th>917</th>\n",
              "      <td>38</td>\n",
              "      <td>1</td>\n",
              "      <td>2</td>\n",
              "      <td>138</td>\n",
              "      <td>175</td>\n",
              "      <td>0</td>\n",
              "      <td>1</td>\n",
              "      <td>173</td>\n",
              "      <td>0</td>\n",
              "      <td>0.0</td>\n",
              "      <td>2</td>\n",
              "      <td>0</td>\n",
              "    </tr>\n",
              "  </tbody>\n",
              "</table>\n",
              "<p>918 rows × 12 columns</p>\n",
              "</div>"
            ],
            "text/plain": [
              "     Age  Sex  ChestPainType  RestingBP  Cholesterol  FastingBS  RestingECG  \\\n",
              "0     40    1              1        140          289          0           1   \n",
              "1     49    0              2        160          180          0           1   \n",
              "2     37    1              1        130          283          0           2   \n",
              "3     48    0              0        138          214          0           1   \n",
              "4     54    1              2        150          195          0           1   \n",
              "..   ...  ...            ...        ...          ...        ...         ...   \n",
              "913   45    1              3        110          264          0           1   \n",
              "914   68    1              0        144          193          1           1   \n",
              "915   57    1              0        130          131          0           1   \n",
              "916   57    0              1        130          236          0           0   \n",
              "917   38    1              2        138          175          0           1   \n",
              "\n",
              "     MaxHR  ExerciseAngina  Oldpeak  ST_Slope  HeartDisease  \n",
              "0      172               0      0.0         2             0  \n",
              "1      156               0      1.0         1             1  \n",
              "2       98               0      0.0         2             0  \n",
              "3      108               1      1.5         1             1  \n",
              "4      122               0      0.0         2             0  \n",
              "..     ...             ...      ...       ...           ...  \n",
              "913    132               0      1.2         1             1  \n",
              "914    141               0      3.4         1             1  \n",
              "915    115               1      1.2         1             1  \n",
              "916    174               0      0.0         1             1  \n",
              "917    173               0      0.0         2             0  \n",
              "\n",
              "[918 rows x 12 columns]"
            ]
          },
          "execution_count": 22,
          "metadata": {},
          "output_type": "execute_result"
        }
      ],
      "source": [
        "df"
      ]
    },
    {
      "cell_type": "code",
      "execution_count": null,
      "metadata": {
        "id": "AGgJytp1x5YT",
        "outputId": "df855687-5939-4f64-cca0-1984edb4fb51"
      },
      "outputs": [
        {
          "data": {
            "text/html": [
              "<div>\n",
              "<style scoped>\n",
              "    .dataframe tbody tr th:only-of-type {\n",
              "        vertical-align: middle;\n",
              "    }\n",
              "\n",
              "    .dataframe tbody tr th {\n",
              "        vertical-align: top;\n",
              "    }\n",
              "\n",
              "    .dataframe thead th {\n",
              "        text-align: right;\n",
              "    }\n",
              "</style>\n",
              "<table border=\"1\" class=\"dataframe\">\n",
              "  <thead>\n",
              "    <tr style=\"text-align: right;\">\n",
              "      <th></th>\n",
              "      <th>count</th>\n",
              "      <th>mean</th>\n",
              "      <th>std</th>\n",
              "      <th>min</th>\n",
              "      <th>25%</th>\n",
              "      <th>50%</th>\n",
              "      <th>75%</th>\n",
              "      <th>max</th>\n",
              "    </tr>\n",
              "  </thead>\n",
              "  <tbody>\n",
              "    <tr>\n",
              "      <th>Age</th>\n",
              "      <td>918.0</td>\n",
              "      <td>53.510893</td>\n",
              "      <td>9.432617</td>\n",
              "      <td>28.0</td>\n",
              "      <td>47.00</td>\n",
              "      <td>54.0</td>\n",
              "      <td>60.0</td>\n",
              "      <td>77.0</td>\n",
              "    </tr>\n",
              "    <tr>\n",
              "      <th>Sex</th>\n",
              "      <td>918.0</td>\n",
              "      <td>0.789760</td>\n",
              "      <td>0.407701</td>\n",
              "      <td>0.0</td>\n",
              "      <td>1.00</td>\n",
              "      <td>1.0</td>\n",
              "      <td>1.0</td>\n",
              "      <td>1.0</td>\n",
              "    </tr>\n",
              "    <tr>\n",
              "      <th>ChestPainType</th>\n",
              "      <td>918.0</td>\n",
              "      <td>0.781046</td>\n",
              "      <td>0.956519</td>\n",
              "      <td>0.0</td>\n",
              "      <td>0.00</td>\n",
              "      <td>0.0</td>\n",
              "      <td>2.0</td>\n",
              "      <td>3.0</td>\n",
              "    </tr>\n",
              "    <tr>\n",
              "      <th>RestingBP</th>\n",
              "      <td>918.0</td>\n",
              "      <td>132.396514</td>\n",
              "      <td>18.514154</td>\n",
              "      <td>0.0</td>\n",
              "      <td>120.00</td>\n",
              "      <td>130.0</td>\n",
              "      <td>140.0</td>\n",
              "      <td>200.0</td>\n",
              "    </tr>\n",
              "    <tr>\n",
              "      <th>Cholesterol</th>\n",
              "      <td>918.0</td>\n",
              "      <td>198.799564</td>\n",
              "      <td>109.384145</td>\n",
              "      <td>0.0</td>\n",
              "      <td>173.25</td>\n",
              "      <td>223.0</td>\n",
              "      <td>267.0</td>\n",
              "      <td>603.0</td>\n",
              "    </tr>\n",
              "    <tr>\n",
              "      <th>FastingBS</th>\n",
              "      <td>918.0</td>\n",
              "      <td>0.233115</td>\n",
              "      <td>0.423046</td>\n",
              "      <td>0.0</td>\n",
              "      <td>0.00</td>\n",
              "      <td>0.0</td>\n",
              "      <td>0.0</td>\n",
              "      <td>1.0</td>\n",
              "    </tr>\n",
              "    <tr>\n",
              "      <th>RestingECG</th>\n",
              "      <td>918.0</td>\n",
              "      <td>0.989107</td>\n",
              "      <td>0.631671</td>\n",
              "      <td>0.0</td>\n",
              "      <td>1.00</td>\n",
              "      <td>1.0</td>\n",
              "      <td>1.0</td>\n",
              "      <td>2.0</td>\n",
              "    </tr>\n",
              "    <tr>\n",
              "      <th>MaxHR</th>\n",
              "      <td>918.0</td>\n",
              "      <td>136.809368</td>\n",
              "      <td>25.460334</td>\n",
              "      <td>60.0</td>\n",
              "      <td>120.00</td>\n",
              "      <td>138.0</td>\n",
              "      <td>156.0</td>\n",
              "      <td>202.0</td>\n",
              "    </tr>\n",
              "    <tr>\n",
              "      <th>ExerciseAngina</th>\n",
              "      <td>918.0</td>\n",
              "      <td>0.404139</td>\n",
              "      <td>0.490992</td>\n",
              "      <td>0.0</td>\n",
              "      <td>0.00</td>\n",
              "      <td>0.0</td>\n",
              "      <td>1.0</td>\n",
              "      <td>1.0</td>\n",
              "    </tr>\n",
              "    <tr>\n",
              "      <th>Oldpeak</th>\n",
              "      <td>918.0</td>\n",
              "      <td>0.887364</td>\n",
              "      <td>1.066570</td>\n",
              "      <td>-2.6</td>\n",
              "      <td>0.00</td>\n",
              "      <td>0.6</td>\n",
              "      <td>1.5</td>\n",
              "      <td>6.2</td>\n",
              "    </tr>\n",
              "    <tr>\n",
              "      <th>ST_Slope</th>\n",
              "      <td>918.0</td>\n",
              "      <td>1.361656</td>\n",
              "      <td>0.607056</td>\n",
              "      <td>0.0</td>\n",
              "      <td>1.00</td>\n",
              "      <td>1.0</td>\n",
              "      <td>2.0</td>\n",
              "      <td>2.0</td>\n",
              "    </tr>\n",
              "    <tr>\n",
              "      <th>HeartDisease</th>\n",
              "      <td>918.0</td>\n",
              "      <td>0.553377</td>\n",
              "      <td>0.497414</td>\n",
              "      <td>0.0</td>\n",
              "      <td>0.00</td>\n",
              "      <td>1.0</td>\n",
              "      <td>1.0</td>\n",
              "      <td>1.0</td>\n",
              "    </tr>\n",
              "  </tbody>\n",
              "</table>\n",
              "</div>"
            ],
            "text/plain": [
              "                count        mean         std   min     25%    50%    75%  \\\n",
              "Age             918.0   53.510893    9.432617  28.0   47.00   54.0   60.0   \n",
              "Sex             918.0    0.789760    0.407701   0.0    1.00    1.0    1.0   \n",
              "ChestPainType   918.0    0.781046    0.956519   0.0    0.00    0.0    2.0   \n",
              "RestingBP       918.0  132.396514   18.514154   0.0  120.00  130.0  140.0   \n",
              "Cholesterol     918.0  198.799564  109.384145   0.0  173.25  223.0  267.0   \n",
              "FastingBS       918.0    0.233115    0.423046   0.0    0.00    0.0    0.0   \n",
              "RestingECG      918.0    0.989107    0.631671   0.0    1.00    1.0    1.0   \n",
              "MaxHR           918.0  136.809368   25.460334  60.0  120.00  138.0  156.0   \n",
              "ExerciseAngina  918.0    0.404139    0.490992   0.0    0.00    0.0    1.0   \n",
              "Oldpeak         918.0    0.887364    1.066570  -2.6    0.00    0.6    1.5   \n",
              "ST_Slope        918.0    1.361656    0.607056   0.0    1.00    1.0    2.0   \n",
              "HeartDisease    918.0    0.553377    0.497414   0.0    0.00    1.0    1.0   \n",
              "\n",
              "                  max  \n",
              "Age              77.0  \n",
              "Sex               1.0  \n",
              "ChestPainType     3.0  \n",
              "RestingBP       200.0  \n",
              "Cholesterol     603.0  \n",
              "FastingBS         1.0  \n",
              "RestingECG        2.0  \n",
              "MaxHR           202.0  \n",
              "ExerciseAngina    1.0  \n",
              "Oldpeak           6.2  \n",
              "ST_Slope          2.0  \n",
              "HeartDisease      1.0  "
            ]
          },
          "execution_count": 23,
          "metadata": {},
          "output_type": "execute_result"
        }
      ],
      "source": [
        "df.describe().T"
      ]
    },
    {
      "cell_type": "code",
      "execution_count": null,
      "metadata": {
        "id": "n2ySetBlx5YU",
        "outputId": "914e5f29-6760-4aab-9ccc-bba8f1981434"
      },
      "outputs": [
        {
          "data": {
            "text/plain": [
              "Age                50\n",
              "Sex                 2\n",
              "ChestPainType       4\n",
              "RestingBP          67\n",
              "Cholesterol       222\n",
              "FastingBS           2\n",
              "RestingECG          3\n",
              "MaxHR             119\n",
              "ExerciseAngina      2\n",
              "Oldpeak            53\n",
              "ST_Slope            3\n",
              "HeartDisease        2\n",
              "dtype: int64"
            ]
          },
          "execution_count": 24,
          "metadata": {},
          "output_type": "execute_result"
        }
      ],
      "source": [
        "df.nunique()"
      ]
    },
    {
      "cell_type": "code",
      "execution_count": null,
      "metadata": {
        "id": "Co5rP0Kjx5YV",
        "outputId": "14564ca5-931a-4639-d884-ab2385b5fc27"
      },
      "outputs": [
        {
          "data": {
            "text/plain": [
              "Age               0\n",
              "Sex               0\n",
              "ChestPainType     0\n",
              "RestingBP         0\n",
              "Cholesterol       0\n",
              "FastingBS         0\n",
              "RestingECG        0\n",
              "MaxHR             0\n",
              "ExerciseAngina    0\n",
              "Oldpeak           0\n",
              "ST_Slope          0\n",
              "HeartDisease      0\n",
              "dtype: int64"
            ]
          },
          "execution_count": 25,
          "metadata": {},
          "output_type": "execute_result"
        }
      ],
      "source": [
        "df.isnull().sum()"
      ]
    },
    {
      "cell_type": "code",
      "execution_count": null,
      "metadata": {
        "id": "GkNE_w2hx5YW"
      },
      "outputs": [],
      "source": [
        "#df.describe(include=object).T\n"
      ]
    },
    {
      "cell_type": "code",
      "execution_count": null,
      "metadata": {
        "id": "fZ_cK_I0x5YX"
      },
      "outputs": [],
      "source": [
        "df_y=df[\"HeartDisease\"]"
      ]
    },
    {
      "cell_type": "code",
      "execution_count": null,
      "metadata": {
        "id": "fLSXju5wx5YX"
      },
      "outputs": [],
      "source": [
        "df_x=df.drop(columns=\"HeartDisease\")"
      ]
    },
    {
      "cell_type": "code",
      "execution_count": null,
      "metadata": {
        "id": "DqNt_Vbrx5YY",
        "outputId": "d08c5a8f-730d-4a33-a507-c041b35df5cf"
      },
      "outputs": [
        {
          "data": {
            "text/html": [
              "<div>\n",
              "<style scoped>\n",
              "    .dataframe tbody tr th:only-of-type {\n",
              "        vertical-align: middle;\n",
              "    }\n",
              "\n",
              "    .dataframe tbody tr th {\n",
              "        vertical-align: top;\n",
              "    }\n",
              "\n",
              "    .dataframe thead th {\n",
              "        text-align: right;\n",
              "    }\n",
              "</style>\n",
              "<table border=\"1\" class=\"dataframe\">\n",
              "  <thead>\n",
              "    <tr style=\"text-align: right;\">\n",
              "      <th></th>\n",
              "      <th>count</th>\n",
              "      <th>mean</th>\n",
              "      <th>std</th>\n",
              "      <th>min</th>\n",
              "      <th>25%</th>\n",
              "      <th>50%</th>\n",
              "      <th>75%</th>\n",
              "      <th>max</th>\n",
              "    </tr>\n",
              "  </thead>\n",
              "  <tbody>\n",
              "    <tr>\n",
              "      <th>Age</th>\n",
              "      <td>918.0</td>\n",
              "      <td>53.510893</td>\n",
              "      <td>9.432617</td>\n",
              "      <td>28.0</td>\n",
              "      <td>47.00</td>\n",
              "      <td>54.0</td>\n",
              "      <td>60.0</td>\n",
              "      <td>77.0</td>\n",
              "    </tr>\n",
              "    <tr>\n",
              "      <th>Sex</th>\n",
              "      <td>918.0</td>\n",
              "      <td>0.789760</td>\n",
              "      <td>0.407701</td>\n",
              "      <td>0.0</td>\n",
              "      <td>1.00</td>\n",
              "      <td>1.0</td>\n",
              "      <td>1.0</td>\n",
              "      <td>1.0</td>\n",
              "    </tr>\n",
              "    <tr>\n",
              "      <th>ChestPainType</th>\n",
              "      <td>918.0</td>\n",
              "      <td>0.781046</td>\n",
              "      <td>0.956519</td>\n",
              "      <td>0.0</td>\n",
              "      <td>0.00</td>\n",
              "      <td>0.0</td>\n",
              "      <td>2.0</td>\n",
              "      <td>3.0</td>\n",
              "    </tr>\n",
              "    <tr>\n",
              "      <th>RestingBP</th>\n",
              "      <td>918.0</td>\n",
              "      <td>132.396514</td>\n",
              "      <td>18.514154</td>\n",
              "      <td>0.0</td>\n",
              "      <td>120.00</td>\n",
              "      <td>130.0</td>\n",
              "      <td>140.0</td>\n",
              "      <td>200.0</td>\n",
              "    </tr>\n",
              "    <tr>\n",
              "      <th>Cholesterol</th>\n",
              "      <td>918.0</td>\n",
              "      <td>198.799564</td>\n",
              "      <td>109.384145</td>\n",
              "      <td>0.0</td>\n",
              "      <td>173.25</td>\n",
              "      <td>223.0</td>\n",
              "      <td>267.0</td>\n",
              "      <td>603.0</td>\n",
              "    </tr>\n",
              "    <tr>\n",
              "      <th>FastingBS</th>\n",
              "      <td>918.0</td>\n",
              "      <td>0.233115</td>\n",
              "      <td>0.423046</td>\n",
              "      <td>0.0</td>\n",
              "      <td>0.00</td>\n",
              "      <td>0.0</td>\n",
              "      <td>0.0</td>\n",
              "      <td>1.0</td>\n",
              "    </tr>\n",
              "    <tr>\n",
              "      <th>RestingECG</th>\n",
              "      <td>918.0</td>\n",
              "      <td>0.989107</td>\n",
              "      <td>0.631671</td>\n",
              "      <td>0.0</td>\n",
              "      <td>1.00</td>\n",
              "      <td>1.0</td>\n",
              "      <td>1.0</td>\n",
              "      <td>2.0</td>\n",
              "    </tr>\n",
              "    <tr>\n",
              "      <th>MaxHR</th>\n",
              "      <td>918.0</td>\n",
              "      <td>136.809368</td>\n",
              "      <td>25.460334</td>\n",
              "      <td>60.0</td>\n",
              "      <td>120.00</td>\n",
              "      <td>138.0</td>\n",
              "      <td>156.0</td>\n",
              "      <td>202.0</td>\n",
              "    </tr>\n",
              "    <tr>\n",
              "      <th>ExerciseAngina</th>\n",
              "      <td>918.0</td>\n",
              "      <td>0.404139</td>\n",
              "      <td>0.490992</td>\n",
              "      <td>0.0</td>\n",
              "      <td>0.00</td>\n",
              "      <td>0.0</td>\n",
              "      <td>1.0</td>\n",
              "      <td>1.0</td>\n",
              "    </tr>\n",
              "    <tr>\n",
              "      <th>Oldpeak</th>\n",
              "      <td>918.0</td>\n",
              "      <td>0.887364</td>\n",
              "      <td>1.066570</td>\n",
              "      <td>-2.6</td>\n",
              "      <td>0.00</td>\n",
              "      <td>0.6</td>\n",
              "      <td>1.5</td>\n",
              "      <td>6.2</td>\n",
              "    </tr>\n",
              "    <tr>\n",
              "      <th>ST_Slope</th>\n",
              "      <td>918.0</td>\n",
              "      <td>1.361656</td>\n",
              "      <td>0.607056</td>\n",
              "      <td>0.0</td>\n",
              "      <td>1.00</td>\n",
              "      <td>1.0</td>\n",
              "      <td>2.0</td>\n",
              "      <td>2.0</td>\n",
              "    </tr>\n",
              "  </tbody>\n",
              "</table>\n",
              "</div>"
            ],
            "text/plain": [
              "                count        mean         std   min     25%    50%    75%  \\\n",
              "Age             918.0   53.510893    9.432617  28.0   47.00   54.0   60.0   \n",
              "Sex             918.0    0.789760    0.407701   0.0    1.00    1.0    1.0   \n",
              "ChestPainType   918.0    0.781046    0.956519   0.0    0.00    0.0    2.0   \n",
              "RestingBP       918.0  132.396514   18.514154   0.0  120.00  130.0  140.0   \n",
              "Cholesterol     918.0  198.799564  109.384145   0.0  173.25  223.0  267.0   \n",
              "FastingBS       918.0    0.233115    0.423046   0.0    0.00    0.0    0.0   \n",
              "RestingECG      918.0    0.989107    0.631671   0.0    1.00    1.0    1.0   \n",
              "MaxHR           918.0  136.809368   25.460334  60.0  120.00  138.0  156.0   \n",
              "ExerciseAngina  918.0    0.404139    0.490992   0.0    0.00    0.0    1.0   \n",
              "Oldpeak         918.0    0.887364    1.066570  -2.6    0.00    0.6    1.5   \n",
              "ST_Slope        918.0    1.361656    0.607056   0.0    1.00    1.0    2.0   \n",
              "\n",
              "                  max  \n",
              "Age              77.0  \n",
              "Sex               1.0  \n",
              "ChestPainType     3.0  \n",
              "RestingBP       200.0  \n",
              "Cholesterol     603.0  \n",
              "FastingBS         1.0  \n",
              "RestingECG        2.0  \n",
              "MaxHR           202.0  \n",
              "ExerciseAngina    1.0  \n",
              "Oldpeak           6.2  \n",
              "ST_Slope          2.0  "
            ]
          },
          "execution_count": 29,
          "metadata": {},
          "output_type": "execute_result"
        }
      ],
      "source": [
        "df_x.describe().T"
      ]
    },
    {
      "cell_type": "code",
      "execution_count": null,
      "metadata": {
        "id": "nWFx5Voqx5YY",
        "outputId": "1f721dc2-400e-4336-ccd0-2a64dce32421"
      },
      "outputs": [
        {
          "data": {
            "text/plain": [
              "count    918.000000\n",
              "mean       0.553377\n",
              "std        0.497414\n",
              "min        0.000000\n",
              "25%        0.000000\n",
              "50%        1.000000\n",
              "75%        1.000000\n",
              "max        1.000000\n",
              "Name: HeartDisease, dtype: float64"
            ]
          },
          "execution_count": 30,
          "metadata": {},
          "output_type": "execute_result"
        }
      ],
      "source": [
        "df_y.describe()\n"
      ]
    },
    {
      "cell_type": "code",
      "execution_count": null,
      "metadata": {
        "id": "nioongd8x5YZ",
        "outputId": "132c733a-2b83-4ba6-a8b6-240df22c57b1"
      },
      "outputs": [
        {
          "name": "stdout",
          "output_type": "stream",
          "text": [
            "1    508\n",
            "0    410\n",
            "Name: HeartDisease, dtype: int64\n"
          ]
        },
        {
          "data": {
            "image/png": "[encoded data removed]",
            "text/plain": [
              "<Figure size 720x720 with 1 Axes>"
            ]
          },
          "metadata": {},
          "output_type": "display_data"
        }
      ],
      "source": [
        "print(df_y.value_counts())\n",
        "df_y.value_counts().plot(kind=\"pie\", autopct='%1.1f%%', figsize=(10,10));"
      ]
    },
    {
      "cell_type": "code",
      "execution_count": null,
      "metadata": {
        "id": "w3VXjm2zx5Ya"
      },
      "outputs": [],
      "source": [
        "from sklearn.preprocessing import MinMaxScaler"
      ]
    },
    {
      "cell_type": "code",
      "execution_count": null,
      "metadata": {
        "id": "ppEeHn_Yx5Yb",
        "outputId": "e99ad5b8-4af0-4a41-9ae9-364dc1f990d0"
      },
      "outputs": [
        {
          "data": {
            "text/plain": [
              "MinMaxScaler()"
            ]
          },
          "execution_count": 33,
          "metadata": {},
          "output_type": "execute_result"
        }
      ],
      "source": [
        "scaler=MinMaxScaler()\n",
        "scaler.fit(df_x)"
      ]
    },
    {
      "cell_type": "code",
      "execution_count": null,
      "metadata": {
        "id": "Dv2ioz7Wx5Yb"
      },
      "outputs": [],
      "source": [
        "df_x=scaler.transform(df_x)"
      ]
    },
    {
      "cell_type": "code",
      "execution_count": null,
      "metadata": {
        "id": "fxMFYH1Zx5Yc",
        "outputId": "79778ee1-5d07-418a-90ab-bf4b8c78ee6b"
      },
      "outputs": [
        {
          "data": {
            "text/plain": [
              "array([[0.24489796, 1.        , 0.33333333, ..., 0.        , 0.29545455,\n",
              "        1.        ],\n",
              "       [0.42857143, 0.        , 0.66666667, ..., 0.        , 0.40909091,\n",
              "        0.5       ],\n",
              "       [0.18367347, 1.        , 0.33333333, ..., 0.        , 0.29545455,\n",
              "        1.        ],\n",
              "       ...,\n",
              "       [0.59183673, 1.        , 0.        , ..., 1.        , 0.43181818,\n",
              "        0.5       ],\n",
              "       [0.59183673, 0.        , 0.33333333, ..., 0.        , 0.29545455,\n",
              "        0.5       ],\n",
              "       [0.20408163, 1.        , 0.66666667, ..., 0.        , 0.29545455,\n",
              "        1.        ]])"
            ]
          },
          "execution_count": 35,
          "metadata": {},
          "output_type": "execute_result"
        }
      ],
      "source": [
        "df_x"
      ]
    },
    {
      "cell_type": "code",
      "execution_count": null,
      "metadata": {
        "id": "E6n0tLDEx5Yc",
        "outputId": "2a7bf631-f111-4172-ad00-96ee59cfd113"
      },
      "outputs": [
        {
          "data": {
            "text/plain": [
              "(918, 11)"
            ]
          },
          "execution_count": 36,
          "metadata": {},
          "output_type": "execute_result"
        }
      ],
      "source": [
        "df_x.shape"
      ]
    },
    {
      "cell_type": "code",
      "execution_count": null,
      "metadata": {
        "id": "vtCtfWfgx5Yd",
        "outputId": "f99d04f0-16ef-400c-c193-af30b6a90700"
      },
      "outputs": [
        {
          "data": {
            "text/plain": [
              "Index(['Age', 'Sex', 'ChestPainType', 'RestingBP', 'Cholesterol', 'FastingBS',\n",
              "       'RestingECG', 'MaxHR', 'ExerciseAngina', 'Oldpeak', 'ST_Slope',\n",
              "       'HeartDisease'],\n",
              "      dtype='object')"
            ]
          },
          "execution_count": 37,
          "metadata": {},
          "output_type": "execute_result"
        }
      ],
      "source": [
        "df.columns"
      ]
    },
    {
      "cell_type": "code",
      "execution_count": null,
      "metadata": {
        "id": "50rcxJtcx5Yd"
      },
      "outputs": [],
      "source": [
        "df_x=pd.DataFrame(df_x,columns=['Age', 'Sex', 'ChestPainType', 'RestingBP', 'Cholesterol', 'FastingBS',\n",
        "       'RestingECG', 'MaxHR', 'ExerciseAngina', 'Oldpeak', 'ST_Slope'])"
      ]
    },
    {
      "cell_type": "code",
      "execution_count": null,
      "metadata": {
        "id": "73linjWVx5Ye",
        "outputId": "72a6e655-386d-48fd-82ca-58a1abc89687"
      },
      "outputs": [
        {
          "data": {
            "text/html": [
              "<div>\n",
              "<style scoped>\n",
              "    .dataframe tbody tr th:only-of-type {\n",
              "        vertical-align: middle;\n",
              "    }\n",
              "\n",
              "    .dataframe tbody tr th {\n",
              "        vertical-align: top;\n",
              "    }\n",
              "\n",
              "    .dataframe thead th {\n",
              "        text-align: right;\n",
              "    }\n",
              "</style>\n",
              "<table border=\"1\" class=\"dataframe\">\n",
              "  <thead>\n",
              "    <tr style=\"text-align: right;\">\n",
              "      <th></th>\n",
              "      <th>Age</th>\n",
              "      <th>Sex</th>\n",
              "      <th>ChestPainType</th>\n",
              "      <th>RestingBP</th>\n",
              "      <th>Cholesterol</th>\n",
              "      <th>FastingBS</th>\n",
              "      <th>RestingECG</th>\n",
              "      <th>MaxHR</th>\n",
              "      <th>ExerciseAngina</th>\n",
              "      <th>Oldpeak</th>\n",
              "      <th>ST_Slope</th>\n",
              "    </tr>\n",
              "  </thead>\n",
              "  <tbody>\n",
              "    <tr>\n",
              "      <th>0</th>\n",
              "      <td>0.244898</td>\n",
              "      <td>1.0</td>\n",
              "      <td>0.333333</td>\n",
              "      <td>0.70</td>\n",
              "      <td>0.479270</td>\n",
              "      <td>0.0</td>\n",
              "      <td>0.5</td>\n",
              "      <td>0.788732</td>\n",
              "      <td>0.0</td>\n",
              "      <td>0.295455</td>\n",
              "      <td>1.0</td>\n",
              "    </tr>\n",
              "    <tr>\n",
              "      <th>1</th>\n",
              "      <td>0.428571</td>\n",
              "      <td>0.0</td>\n",
              "      <td>0.666667</td>\n",
              "      <td>0.80</td>\n",
              "      <td>0.298507</td>\n",
              "      <td>0.0</td>\n",
              "      <td>0.5</td>\n",
              "      <td>0.676056</td>\n",
              "      <td>0.0</td>\n",
              "      <td>0.409091</td>\n",
              "      <td>0.5</td>\n",
              "    </tr>\n",
              "    <tr>\n",
              "      <th>2</th>\n",
              "      <td>0.183673</td>\n",
              "      <td>1.0</td>\n",
              "      <td>0.333333</td>\n",
              "      <td>0.65</td>\n",
              "      <td>0.469320</td>\n",
              "      <td>0.0</td>\n",
              "      <td>1.0</td>\n",
              "      <td>0.267606</td>\n",
              "      <td>0.0</td>\n",
              "      <td>0.295455</td>\n",
              "      <td>1.0</td>\n",
              "    </tr>\n",
              "    <tr>\n",
              "      <th>3</th>\n",
              "      <td>0.408163</td>\n",
              "      <td>0.0</td>\n",
              "      <td>0.000000</td>\n",
              "      <td>0.69</td>\n",
              "      <td>0.354892</td>\n",
              "      <td>0.0</td>\n",
              "      <td>0.5</td>\n",
              "      <td>0.338028</td>\n",
              "      <td>1.0</td>\n",
              "      <td>0.465909</td>\n",
              "      <td>0.5</td>\n",
              "    </tr>\n",
              "    <tr>\n",
              "      <th>4</th>\n",
              "      <td>0.530612</td>\n",
              "      <td>1.0</td>\n",
              "      <td>0.666667</td>\n",
              "      <td>0.75</td>\n",
              "      <td>0.323383</td>\n",
              "      <td>0.0</td>\n",
              "      <td>0.5</td>\n",
              "      <td>0.436620</td>\n",
              "      <td>0.0</td>\n",
              "      <td>0.295455</td>\n",
              "      <td>1.0</td>\n",
              "    </tr>\n",
              "    <tr>\n",
              "      <th>...</th>\n",
              "      <td>...</td>\n",
              "      <td>...</td>\n",
              "      <td>...</td>\n",
              "      <td>...</td>\n",
              "      <td>...</td>\n",
              "      <td>...</td>\n",
              "      <td>...</td>\n",
              "      <td>...</td>\n",
              "      <td>...</td>\n",
              "      <td>...</td>\n",
              "      <td>...</td>\n",
              "    </tr>\n",
              "    <tr>\n",
              "      <th>913</th>\n",
              "      <td>0.346939</td>\n",
              "      <td>1.0</td>\n",
              "      <td>1.000000</td>\n",
              "      <td>0.55</td>\n",
              "      <td>0.437811</td>\n",
              "      <td>0.0</td>\n",
              "      <td>0.5</td>\n",
              "      <td>0.507042</td>\n",
              "      <td>0.0</td>\n",
              "      <td>0.431818</td>\n",
              "      <td>0.5</td>\n",
              "    </tr>\n",
              "    <tr>\n",
              "      <th>914</th>\n",
              "      <td>0.816327</td>\n",
              "      <td>1.0</td>\n",
              "      <td>0.000000</td>\n",
              "      <td>0.72</td>\n",
              "      <td>0.320066</td>\n",
              "      <td>1.0</td>\n",
              "      <td>0.5</td>\n",
              "      <td>0.570423</td>\n",
              "      <td>0.0</td>\n",
              "      <td>0.681818</td>\n",
              "      <td>0.5</td>\n",
              "    </tr>\n",
              "    <tr>\n",
              "      <th>915</th>\n",
              "      <td>0.591837</td>\n",
              "      <td>1.0</td>\n",
              "      <td>0.000000</td>\n",
              "      <td>0.65</td>\n",
              "      <td>0.217247</td>\n",
              "      <td>0.0</td>\n",
              "      <td>0.5</td>\n",
              "      <td>0.387324</td>\n",
              "      <td>1.0</td>\n",
              "      <td>0.431818</td>\n",
              "      <td>0.5</td>\n",
              "    </tr>\n",
              "    <tr>\n",
              "      <th>916</th>\n",
              "      <td>0.591837</td>\n",
              "      <td>0.0</td>\n",
              "      <td>0.333333</td>\n",
              "      <td>0.65</td>\n",
              "      <td>0.391376</td>\n",
              "      <td>0.0</td>\n",
              "      <td>0.0</td>\n",
              "      <td>0.802817</td>\n",
              "      <td>0.0</td>\n",
              "      <td>0.295455</td>\n",
              "      <td>0.5</td>\n",
              "    </tr>\n",
              "    <tr>\n",
              "      <th>917</th>\n",
              "      <td>0.204082</td>\n",
              "      <td>1.0</td>\n",
              "      <td>0.666667</td>\n",
              "      <td>0.69</td>\n",
              "      <td>0.290216</td>\n",
              "      <td>0.0</td>\n",
              "      <td>0.5</td>\n",
              "      <td>0.795775</td>\n",
              "      <td>0.0</td>\n",
              "      <td>0.295455</td>\n",
              "      <td>1.0</td>\n",
              "    </tr>\n",
              "  </tbody>\n",
              "</table>\n",
              "<p>918 rows × 11 columns</p>\n",
              "</div>"
            ],
            "text/plain": [
              "          Age  Sex  ChestPainType  RestingBP  Cholesterol  FastingBS  \\\n",
              "0    0.244898  1.0       0.333333       0.70     0.479270        0.0   \n",
              "1    0.428571  0.0       0.666667       0.80     0.298507        0.0   \n",
              "2    0.183673  1.0       0.333333       0.65     0.469320        0.0   \n",
              "3    0.408163  0.0       0.000000       0.69     0.354892        0.0   \n",
              "4    0.530612  1.0       0.666667       0.75     0.323383        0.0   \n",
              "..        ...  ...            ...        ...          ...        ...   \n",
              "913  0.346939  1.0       1.000000       0.55     0.437811        0.0   \n",
              "914  0.816327  1.0       0.000000       0.72     0.320066        1.0   \n",
              "915  0.591837  1.0       0.000000       0.65     0.217247        0.0   \n",
              "916  0.591837  0.0       0.333333       0.65     0.391376        0.0   \n",
              "917  0.204082  1.0       0.666667       0.69     0.290216        0.0   \n",
              "\n",
              "     RestingECG     MaxHR  ExerciseAngina   Oldpeak  ST_Slope  \n",
              "0           0.5  0.788732             0.0  0.295455       1.0  \n",
              "1           0.5  0.676056             0.0  0.409091       0.5  \n",
              "2           1.0  0.267606             0.0  0.295455       1.0  \n",
              "3           0.5  0.338028             1.0  0.465909       0.5  \n",
              "4           0.5  0.436620             0.0  0.295455       1.0  \n",
              "..          ...       ...             ...       ...       ...  \n",
              "913         0.5  0.507042             0.0  0.431818       0.5  \n",
              "914         0.5  0.570423             0.0  0.681818       0.5  \n",
              "915         0.5  0.387324             1.0  0.431818       0.5  \n",
              "916         0.0  0.802817             0.0  0.295455       0.5  \n",
              "917         0.5  0.795775             0.0  0.295455       1.0  \n",
              "\n",
              "[918 rows x 11 columns]"
            ]
          },
          "execution_count": 39,
          "metadata": {},
          "output_type": "execute_result"
        }
      ],
      "source": [
        "df_x"
      ]
    },
    {
      "cell_type": "code",
      "execution_count": null,
      "metadata": {
        "id": "wnVr-hQ_x5Ye"
      },
      "outputs": [],
      "source": [
        "x_train,x_test,y_train,y_test=train_test_split(df_x,df_y,train_size=0.7)"
      ]
    },
    {
      "cell_type": "markdown",
      "source": [
        "# Logistic Regression"
      ],
      "metadata": {
        "id": "JOUWT5mhkT_y"
      }
    },
    {
      "cell_type": "code",
      "execution_count": null,
      "metadata": {
        "id": "HCtxkS5hx5Yf",
        "outputId": "7d508f2d-6134-41bb-e773-81b136fe452d"
      },
      "outputs": [
        {
          "name": "stdout",
          "output_type": "stream",
          "text": [
            "0.8152173913043478\n"
          ]
        },
        {
          "data": {
            "text/plain": [
              "0.8691981589147286"
            ]
          },
          "execution_count": 41,
          "metadata": {},
          "output_type": "execute_result"
        }
      ],
      "source": [
        "from sklearn.linear_model import LogisticRegression\n",
        "clf=LogisticRegression(solver='liblinear',penalty='l2', max_iter=5000,C=10000.0,random_state=2022)\n",
        "clf.fit(x_train,y_train)\n",
        "ypred=clf.predict(x_test)\n",
        "print(accuracy_score(ypred,y_test))\n",
        "\n",
        "clf2=LogisticRegression(solver='liblinear',penalty='l2', max_iter=5000,C=10000.0,random_state=2022)\n",
        "cross_val_score(clf2,x_train,y_train,cv=5).mean()\n"
      ]
    },
    {
      "cell_type": "code",
      "execution_count": null,
      "metadata": {
        "id": "AnraB2u1x5Yf"
      },
      "outputs": [],
      "source": [
        "param_lreg = [\n",
        "    {'penalty' : ['l1', 'l2', 'elasticnet', 'none'],\n",
        "    'C' : np.logspace(-4, 4, 20),\n",
        "    'max_iter' : [100, 1000,2500, 5000]\n",
        "    }\n",
        "]\n",
        "lreg_rcv=LogisticRegression(solver='liblinear')\n",
        "clf_reg=RandomizedSearchCV(lreg_rcv,param_lreg)\n",
        "clf_reg.fit(x_train,y_train)\n",
        "print(accuracy_score(clf_reg.predict(x_test),y_test))\n",
        "clf_reg.best_params_"
      ]
    },
    {
      "cell_type": "markdown",
      "source": [
        "# Gaussian Naive Bayes"
      ],
      "metadata": {
        "id": "IuWW_JxCkawa"
      }
    },
    {
      "cell_type": "code",
      "execution_count": null,
      "metadata": {
        "id": "mY64oFK9x5Yg",
        "outputId": "c720c485-81b6-40d1-8711-f8182ddc24a8"
      },
      "outputs": [
        {
          "name": "stdout",
          "output_type": "stream",
          "text": [
            "0.8152173913043478\n"
          ]
        },
        {
          "data": {
            "text/plain": [
              "0.8582727713178293"
            ]
          },
          "execution_count": 43,
          "metadata": {},
          "output_type": "execute_result"
        }
      ],
      "source": [
        "gnb=GaussianNB()\n",
        "gnb.fit(x_train,y_train)\n",
        "yp_gnb=gnb.predict(x_test)\n",
        "print(accuracy_score(yp_gnb,y_test))\n",
        "\n",
        "gnb_kfold=GaussianNB()\n",
        "cross_val_score(gnb_kfold,x_train,y_train,cv=5).mean()"
      ]
    },
    {
      "cell_type": "code",
      "execution_count": null,
      "metadata": {
        "id": "Bwqck7Ydx5Yg",
        "outputId": "f89ac2b5-21ae-4583-a37f-59cae15938f3"
      },
      "outputs": [
        {
          "name": "stdout",
          "output_type": "stream",
          "text": [
            "0.8152173913043478\n"
          ]
        },
        {
          "data": {
            "text/plain": [
              "{'var_smoothing': 0.0002310129700083158}"
            ]
          },
          "execution_count": 44,
          "metadata": {},
          "output_type": "execute_result"
        }
      ],
      "source": [
        "params_NB = {'var_smoothing': np.logspace(0,-9, num=100)}\n",
        "\n",
        "NB_rcv=GaussianNB()\n",
        "clf_NB=RandomizedSearchCV(NB_rcv,params_NB)\n",
        "clf_NB.fit(x_train,y_train)\n",
        "print(accuracy_score(clf_NB.predict(x_test),y_test))\n",
        "\n",
        "clf_NB.best_params_"
      ]
    },
    {
      "cell_type": "markdown",
      "source": [
        "# Support Vector Classifier"
      ],
      "metadata": {
        "id": "titAqitRkfqT"
      }
    },
    {
      "cell_type": "code",
      "execution_count": null,
      "metadata": {
        "id": "WWNZ3OQ4x5Yg",
        "outputId": "6c0b443f-286d-4aba-c8ea-7c8d640d9328"
      },
      "outputs": [
        {
          "name": "stdout",
          "output_type": "stream",
          "text": [
            "0.8333333333333334\n"
          ]
        },
        {
          "data": {
            "text/plain": [
              "0.8754118217054263"
            ]
          },
          "execution_count": 45,
          "metadata": {},
          "output_type": "execute_result"
        }
      ],
      "source": [
        "svc=SVC(kernel='rbf',gamma=1.4,C=1,random_state=2022)\n",
        "svc.fit(x_train,y_train)\n",
        "yp_svc=svc.predict(x_test)\n",
        "print(accuracy_score(yp_svc,y_test))\n",
        "\n",
        "svc_kfold=SVC(kernel='rbf',gamma=1.4,C=1,random_state=2022)\n",
        "cross_val_score(svc_kfold,x_train,y_train,cv=5).mean()\n",
        "\n"
      ]
    },
    {
      "cell_type": "code",
      "execution_count": null,
      "metadata": {
        "id": "lMT2OSqDx5Yh"
      },
      "outputs": [],
      "source": [
        "para5 = {'C': [0.1, 1, 10, 100, 1000],\n",
        "\n",
        "               }\n",
        "svc_rcv=SVC(kernel='rbf',gamma=1.4)\n",
        "clf_svc=RandomizedSearchCV(svc_rcv,para5)\n",
        "clf_svc.fit(x_train,y_train)\n",
        "print(accuracy_score(clf_svc.predict(x_test),y_test))\n",
        "\n",
        "clf_svc.best_params_"
      ]
    },
    {
      "cell_type": "markdown",
      "source": [
        "# Decision Tree Classifier"
      ],
      "metadata": {
        "id": "N1S2HoqCkkgy"
      }
    },
    {
      "cell_type": "code",
      "execution_count": null,
      "metadata": {
        "id": "TqUU0h_nx5Yh",
        "outputId": "1a335e60-ce80-4944-b850-6515bc449a97"
      },
      "outputs": [
        {
          "name": "stdout",
          "output_type": "stream",
          "text": [
            "0.8043478260869565\n"
          ]
        },
        {
          "data": {
            "text/plain": [
              "0.7460857685911143"
            ]
          },
          "execution_count": 47,
          "metadata": {},
          "output_type": "execute_result"
        }
      ],
      "source": [
        "dt=DecisionTreeClassifier()\n",
        "dt.fit(x_train,y_train)\n",
        "yp_dt=dt.predict(x_test)\n",
        "print(accuracy_score(yp_dt,y_test))\n",
        "\n",
        "dt_kfold=DecisionTreeClassifier()\n",
        "cross_val_score(dt_kfold,df_x,df_y,cv=5).mean()"
      ]
    },
    {
      "cell_type": "code",
      "execution_count": null,
      "metadata": {
        "id": "1hPJhRcix5Yi"
      },
      "outputs": [],
      "source": [
        "# plt.figure(figsize=(30,10))\n",
        "# plot_tree(dt, filled=True)\n",
        "# plt.title(\"Decision tree\")\n",
        "# plt.show()"
      ]
    },
    {
      "cell_type": "markdown",
      "source": [
        "# Random Forest Classifier"
      ],
      "metadata": {
        "id": "pd_nmuy_kpUv"
      }
    },
    {
      "cell_type": "code",
      "execution_count": null,
      "metadata": {
        "id": "5K7T-9tRx5Yi",
        "outputId": "118439e8-d03c-423e-f575-51b9633885a0"
      },
      "outputs": [
        {
          "name": "stdout",
          "output_type": "stream",
          "text": [
            "0.8731884057971014\n"
          ]
        },
        {
          "data": {
            "text/plain": [
              "0.875423934108527"
            ]
          },
          "execution_count": 49,
          "metadata": {},
          "output_type": "execute_result"
        }
      ],
      "source": [
        "rfc=RandomForestClassifier(n_estimators=350,criterion=\"entropy\",random_state=2022,bootstrap=True,max_features='auto',min_samples_leaf=2,min_samples_split=6)\n",
        "rfc.fit(x_train,y_train)\n",
        "yp_rfc=rfc.predict(x_test)\n",
        "print(accuracy_score(yp_rfc,y_test))\n",
        "\n",
        "rfc=RandomForestClassifier(n_estimators=350,criterion=\"entropy\",random_state=2022,bootstrap=True,max_features='auto',min_samples_leaf=2,min_samples_split=6)\n",
        "cross_val_score(rfc,x_train,y_train,cv=5).mean()"
      ]
    },
    {
      "cell_type": "code",
      "execution_count": null,
      "metadata": {
        "id": "xGZsKpsOx5Yj",
        "outputId": "0f5d2fc7-f8c7-4b62-dfc4-30381157217a"
      },
      "outputs": [
        {
          "name": "stdout",
          "output_type": "stream",
          "text": [
            "0.8695652173913043\n"
          ]
        },
        {
          "data": {
            "text/plain": [
              "{'min_samples_split': 5,\n",
              " 'min_samples_leaf': 4,\n",
              " 'max_features': 'auto',\n",
              " 'max_depth': 20,\n",
              " 'bootstrap': False}"
            ]
          },
          "execution_count": 50,
          "metadata": {},
          "output_type": "execute_result"
        }
      ],
      "source": [
        "para4={'bootstrap': [True, False],\n",
        " 'max_depth': [10, 20, 30, 40, 50, 60, 70, 80, 90, 100, None],\n",
        " 'max_features': ['auto', 'sqrt'],\n",
        " 'min_samples_leaf': [1, 2, 4],\n",
        " 'min_samples_split': [2, 5, 10],\n",
        " }\n",
        "rcf_rcv=RandomForestClassifier(criterion=\"entropy\")\n",
        "clf_rcf=RandomizedSearchCV(rcf_rcv,para4)\n",
        "clf_rcf.fit(x_train,y_train)\n",
        "print(accuracy_score(clf_rcf.predict(x_test),y_test))\n",
        "clf_rcf.best_params_"
      ]
    },
    {
      "cell_type": "code",
      "execution_count": null,
      "metadata": {
        "id": "RL9kFSJix5Yj"
      },
      "outputs": [],
      "source": [
        "# 0.8876811594202898\n",
        "# {'min_samples_split': 5,\n",
        "#  'min_samples_leaf': 2,\n",
        "#  'max_features': 'auto',\n",
        "#  'max_depth': 60,\n",
        "#  'bootstrap': True}\n"
      ]
    },
    {
      "cell_type": "markdown",
      "source": [
        "# XGB Classifier"
      ],
      "metadata": {
        "id": "GyCqKGR1kvjh"
      }
    },
    {
      "cell_type": "code",
      "execution_count": null,
      "metadata": {
        "id": "lVZbGzh6x5Yj",
        "outputId": "11b0dc4d-8f0c-4b33-8f6b-c6e5c7f476bd"
      },
      "outputs": [
        {
          "name": "stdout",
          "output_type": "stream",
          "text": [
            "[21:56:19] WARNING: C:/Users/Administrator/workspace/xgboost-win64_release_1.6.0/src/learner.cc:627: \n",
            "Parameters: { \"max_features\" } might not be used.\n",
            "\n",
            "  This could be a false alarm, with some parameters getting used by language bindings but\n",
            "  then being mistakenly passed down to XGBoost core, or some parameter actually being used\n",
            "  but getting flagged wrongly here. Please open an issue if you find any such cases.\n",
            "\n",
            "\n",
            "0.8768115942028986\n",
            "[21:56:19] WARNING: C:/Users/Administrator/workspace/xgboost-win64_release_1.6.0/src/learner.cc:627: \n",
            "Parameters: { \"max_features\" } might not be used.\n",
            "\n",
            "  This could be a false alarm, with some parameters getting used by language bindings but\n",
            "  then being mistakenly passed down to XGBoost core, or some parameter actually being used\n",
            "  but getting flagged wrongly here. Please open an issue if you find any such cases.\n",
            "\n",
            "\n",
            "[21:56:19] WARNING: C:/Users/Administrator/workspace/xgboost-win64_release_1.6.0/src/learner.cc:627: \n",
            "Parameters: { \"max_features\" } might not be used.\n",
            "\n",
            "  This could be a false alarm, with some parameters getting used by language bindings but\n",
            "  then being mistakenly passed down to XGBoost core, or some parameter actually being used\n",
            "  but getting flagged wrongly here. Please open an issue if you find any such cases.\n",
            "\n",
            "\n",
            "[21:56:19] WARNING: C:/Users/Administrator/workspace/xgboost-win64_release_1.6.0/src/learner.cc:627: \n",
            "Parameters: { \"max_features\" } might not be used.\n",
            "\n",
            "  This could be a false alarm, with some parameters getting used by language bindings but\n",
            "  then being mistakenly passed down to XGBoost core, or some parameter actually being used\n",
            "  but getting flagged wrongly here. Please open an issue if you find any such cases.\n",
            "\n",
            "\n",
            "[21:56:19] WARNING: C:/Users/Administrator/workspace/xgboost-win64_release_1.6.0/src/learner.cc:627: \n",
            "Parameters: { \"max_features\" } might not be used.\n",
            "\n",
            "  This could be a false alarm, with some parameters getting used by language bindings but\n",
            "  then being mistakenly passed down to XGBoost core, or some parameter actually being used\n",
            "  but getting flagged wrongly here. Please open an issue if you find any such cases.\n",
            "\n",
            "\n",
            "[21:56:19] WARNING: C:/Users/Administrator/workspace/xgboost-win64_release_1.6.0/src/learner.cc:627: \n",
            "Parameters: { \"max_features\" } might not be used.\n",
            "\n",
            "  This could be a false alarm, with some parameters getting used by language bindings but\n",
            "  then being mistakenly passed down to XGBoost core, or some parameter actually being used\n",
            "  but getting flagged wrongly here. Please open an issue if you find any such cases.\n",
            "\n",
            "\n"
          ]
        },
        {
          "data": {
            "text/plain": [
              "0.8645106589147286"
            ]
          },
          "execution_count": 52,
          "metadata": {},
          "output_type": "execute_result"
        }
      ],
      "source": [
        "xgb=XGBClassifier(max_features=3, n_estimators=85,min_child_weight=12,max_depth=7,learning_rate=0.3,gamma=0.0,colsample_bytree=0.7)\n",
        "xgb.fit(x_train,y_train)\n",
        "yp_xgb=xgb.predict(x_test)\n",
        "print(accuracy_score(yp_xgb,y_test))\n",
        "\n",
        "xgb_kfold=XGBClassifier(max_features=3, n_estimators=85,min_child_weight=12,max_depth=7,learning_rate=0.3,gamma=0.0,colsample_bytree=0.7)\n",
        "cross_val_score(xgb_kfold,x_train,y_train,cv=5).mean()"
      ]
    },
    {
      "cell_type": "code",
      "execution_count": null,
      "metadata": {
        "id": "YH3fjkbjx5Yk",
        "outputId": "ea9511b9-b46d-4ef0-d709-8d7a982185b2"
      },
      "outputs": [
        {
          "name": "stdout",
          "output_type": "stream",
          "text": [
            "[21:56:20] WARNING: C:/Users/Administrator/workspace/xgboost-win64_release_1.6.0/src/learner.cc:627: \n",
            "Parameters: { \"max_features\" } might not be used.\n",
            "\n",
            "  This could be a false alarm, with some parameters getting used by language bindings but\n",
            "  then being mistakenly passed down to XGBoost core, or some parameter actually being used\n",
            "  but getting flagged wrongly here. Please open an issue if you find any such cases.\n",
            "\n",
            "\n",
            "[21:56:20] WARNING: C:/Users/Administrator/workspace/xgboost-win64_release_1.6.0/src/learner.cc:627: \n",
            "Parameters: { \"max_features\" } might not be used.\n",
            "\n",
            "  This could be a false alarm, with some parameters getting used by language bindings but\n",
            "  then being mistakenly passed down to XGBoost core, or some parameter actually being used\n",
            "  but getting flagged wrongly here. Please open an issue if you find any such cases.\n",
            "\n",
            "\n",
            "[21:56:20] WARNING: C:/Users/Administrator/workspace/xgboost-win64_release_1.6.0/src/learner.cc:627: \n",
            "Parameters: { \"max_features\" } might not be used.\n",
            "\n",
            "  This could be a false alarm, with some parameters getting used by language bindings but\n",
            "  then being mistakenly passed down to XGBoost core, or some parameter actually being used\n",
            "  but getting flagged wrongly here. Please open an issue if you find any such cases.\n",
            "\n",
            "\n",
            "[21:56:20] WARNING: C:/Users/Administrator/workspace/xgboost-win64_release_1.6.0/src/learner.cc:627: \n",
            "Parameters: { \"max_features\" } might not be used.\n",
            "\n",
            "  This could be a false alarm, with some parameters getting used by language bindings but\n",
            "  then being mistakenly passed down to XGBoost core, or some parameter actually being used\n",
            "  but getting flagged wrongly here. Please open an issue if you find any such cases.\n",
            "\n",
            "\n",
            "[21:56:20] WARNING: C:/Users/Administrator/workspace/xgboost-win64_release_1.6.0/src/learner.cc:627: \n",
            "Parameters: { \"max_features\" } might not be used.\n",
            "\n",
            "  This could be a false alarm, with some parameters getting used by language bindings but\n",
            "  then being mistakenly passed down to XGBoost core, or some parameter actually being used\n",
            "  but getting flagged wrongly here. Please open an issue if you find any such cases.\n",
            "\n",
            "\n",
            "[21:56:20] WARNING: C:/Users/Administrator/workspace/xgboost-win64_release_1.6.0/src/learner.cc:627: \n",
            "Parameters: { \"max_features\" } might not be used.\n",
            "\n",
            "  This could be a false alarm, with some parameters getting used by language bindings but\n",
            "  then being mistakenly passed down to XGBoost core, or some parameter actually being used\n",
            "  but getting flagged wrongly here. Please open an issue if you find any such cases.\n",
            "\n",
            "\n",
            "[21:56:20] WARNING: C:/Users/Administrator/workspace/xgboost-win64_release_1.6.0/src/learner.cc:627: \n",
            "Parameters: { \"max_features\" } might not be used.\n",
            "\n",
            "  This could be a false alarm, with some parameters getting used by language bindings but\n",
            "  then being mistakenly passed down to XGBoost core, or some parameter actually being used\n",
            "  but getting flagged wrongly here. Please open an issue if you find any such cases.\n",
            "\n",
            "\n",
            "[21:56:20] WARNING: C:/Users/Administrator/workspace/xgboost-win64_release_1.6.0/src/learner.cc:627: \n",
            "Parameters: { \"max_features\" } might not be used.\n",
            "\n",
            "  This could be a false alarm, with some parameters getting used by language bindings but\n",
            "  then being mistakenly passed down to XGBoost core, or some parameter actually being used\n",
            "  but getting flagged wrongly here. Please open an issue if you find any such cases.\n",
            "\n",
            "\n",
            "[21:56:20] WARNING: C:/Users/Administrator/workspace/xgboost-win64_release_1.6.0/src/learner.cc:627: \n",
            "Parameters: { \"max_features\" } might not be used.\n",
            "\n",
            "  This could be a false alarm, with some parameters getting used by language bindings but\n",
            "  then being mistakenly passed down to XGBoost core, or some parameter actually being used\n",
            "  but getting flagged wrongly here. Please open an issue if you find any such cases.\n",
            "\n",
            "\n",
            "[21:56:21] WARNING: C:/Users/Administrator/workspace/xgboost-win64_release_1.6.0/src/learner.cc:627: \n",
            "Parameters: { \"max_features\" } might not be used.\n",
            "\n",
            "  This could be a false alarm, with some parameters getting used by language bindings but\n",
            "  then being mistakenly passed down to XGBoost core, or some parameter actually being used\n",
            "  but getting flagged wrongly here. Please open an issue if you find any such cases.\n",
            "\n",
            "\n",
            "[21:56:21] WARNING: C:/Users/Administrator/workspace/xgboost-win64_release_1.6.0/src/learner.cc:627: \n",
            "Parameters: { \"max_features\" } might not be used.\n",
            "\n",
            "  This could be a false alarm, with some parameters getting used by language bindings but\n",
            "  then being mistakenly passed down to XGBoost core, or some parameter actually being used\n",
            "  but getting flagged wrongly here. Please open an issue if you find any such cases.\n",
            "\n",
            "\n",
            "[21:56:21] WARNING: C:/Users/Administrator/workspace/xgboost-win64_release_1.6.0/src/learner.cc:627: \n",
            "Parameters: { \"max_features\" } might not be used.\n",
            "\n",
            "  This could be a false alarm, with some parameters getting used by language bindings but\n",
            "  then being mistakenly passed down to XGBoost core, or some parameter actually being used\n",
            "  but getting flagged wrongly here. Please open an issue if you find any such cases.\n",
            "\n",
            "\n",
            "[21:56:21] WARNING: C:/Users/Administrator/workspace/xgboost-win64_release_1.6.0/src/learner.cc:627: \n",
            "Parameters: { \"max_features\" } might not be used.\n",
            "\n",
            "  This could be a false alarm, with some parameters getting used by language bindings but\n",
            "  then being mistakenly passed down to XGBoost core, or some parameter actually being used\n",
            "  but getting flagged wrongly here. Please open an issue if you find any such cases.\n",
            "\n",
            "\n",
            "[21:56:21] WARNING: C:/Users/Administrator/workspace/xgboost-win64_release_1.6.0/src/learner.cc:627: \n",
            "Parameters: { \"max_features\" } might not be used.\n",
            "\n",
            "  This could be a false alarm, with some parameters getting used by language bindings but\n",
            "  then being mistakenly passed down to XGBoost core, or some parameter actually being used\n",
            "  but getting flagged wrongly here. Please open an issue if you find any such cases.\n",
            "\n",
            "\n",
            "[21:56:21] WARNING: C:/Users/Administrator/workspace/xgboost-win64_release_1.6.0/src/learner.cc:627: \n",
            "Parameters: { \"max_features\" } might not be used.\n",
            "\n",
            "  This could be a false alarm, with some parameters getting used by language bindings but\n",
            "  then being mistakenly passed down to XGBoost core, or some parameter actually being used\n",
            "  but getting flagged wrongly here. Please open an issue if you find any such cases.\n",
            "\n",
            "\n",
            "[21:56:21] WARNING: C:/Users/Administrator/workspace/xgboost-win64_release_1.6.0/src/learner.cc:627: \n",
            "Parameters: { \"max_features\" } might not be used.\n",
            "\n",
            "  This could be a false alarm, with some parameters getting used by language bindings but\n",
            "  then being mistakenly passed down to XGBoost core, or some parameter actually being used\n",
            "  but getting flagged wrongly here. Please open an issue if you find any such cases.\n",
            "\n",
            "\n",
            "[21:56:21] WARNING: C:/Users/Administrator/workspace/xgboost-win64_release_1.6.0/src/learner.cc:627: \n",
            "Parameters: { \"max_features\" } might not be used.\n",
            "\n",
            "  This could be a false alarm, with some parameters getting used by language bindings but\n",
            "  then being mistakenly passed down to XGBoost core, or some parameter actually being used\n",
            "  but getting flagged wrongly here. Please open an issue if you find any such cases.\n",
            "\n",
            "\n",
            "[21:56:21] WARNING: C:/Users/Administrator/workspace/xgboost-win64_release_1.6.0/src/learner.cc:627: \n",
            "Parameters: { \"max_features\" } might not be used.\n",
            "\n",
            "  This could be a false alarm, with some parameters getting used by language bindings but\n",
            "  then being mistakenly passed down to XGBoost core, or some parameter actually being used\n",
            "  but getting flagged wrongly here. Please open an issue if you find any such cases.\n",
            "\n",
            "\n",
            "[21:56:22] WARNING: C:/Users/Administrator/workspace/xgboost-win64_release_1.6.0/src/learner.cc:627: \n",
            "Parameters: { \"max_features\" } might not be used.\n",
            "\n",
            "  This could be a false alarm, with some parameters getting used by language bindings but\n",
            "  then being mistakenly passed down to XGBoost core, or some parameter actually being used\n",
            "  but getting flagged wrongly here. Please open an issue if you find any such cases.\n",
            "\n",
            "\n",
            "[21:56:22] WARNING: C:/Users/Administrator/workspace/xgboost-win64_release_1.6.0/src/learner.cc:627: \n",
            "Parameters: { \"max_features\" } might not be used.\n",
            "\n",
            "  This could be a false alarm, with some parameters getting used by language bindings but\n",
            "  then being mistakenly passed down to XGBoost core, or some parameter actually being used\n",
            "  but getting flagged wrongly here. Please open an issue if you find any such cases.\n",
            "\n",
            "\n",
            "[21:56:22] WARNING: C:/Users/Administrator/workspace/xgboost-win64_release_1.6.0/src/learner.cc:627: \n",
            "Parameters: { \"max_features\" } might not be used.\n",
            "\n",
            "  This could be a false alarm, with some parameters getting used by language bindings but\n",
            "  then being mistakenly passed down to XGBoost core, or some parameter actually being used\n",
            "  but getting flagged wrongly here. Please open an issue if you find any such cases.\n",
            "\n",
            "\n",
            "[21:56:22] WARNING: C:/Users/Administrator/workspace/xgboost-win64_release_1.6.0/src/learner.cc:627: \n",
            "Parameters: { \"max_features\" } might not be used.\n",
            "\n",
            "  This could be a false alarm, with some parameters getting used by language bindings but\n",
            "  then being mistakenly passed down to XGBoost core, or some parameter actually being used\n",
            "  but getting flagged wrongly here. Please open an issue if you find any such cases.\n",
            "\n",
            "\n",
            "[21:56:22] WARNING: C:/Users/Administrator/workspace/xgboost-win64_release_1.6.0/src/learner.cc:627: \n",
            "Parameters: { \"max_features\" } might not be used.\n",
            "\n",
            "  This could be a false alarm, with some parameters getting used by language bindings but\n",
            "  then being mistakenly passed down to XGBoost core, or some parameter actually being used\n",
            "  but getting flagged wrongly here. Please open an issue if you find any such cases.\n",
            "\n",
            "\n",
            "[21:56:22] WARNING: C:/Users/Administrator/workspace/xgboost-win64_release_1.6.0/src/learner.cc:627: \n",
            "Parameters: { \"max_features\" } might not be used.\n",
            "\n",
            "  This could be a false alarm, with some parameters getting used by language bindings but\n",
            "  then being mistakenly passed down to XGBoost core, or some parameter actually being used\n",
            "  but getting flagged wrongly here. Please open an issue if you find any such cases.\n",
            "\n",
            "\n",
            "[21:56:22] WARNING: C:/Users/Administrator/workspace/xgboost-win64_release_1.6.0/src/learner.cc:627: \n",
            "Parameters: { \"max_features\" } might not be used.\n",
            "\n",
            "  This could be a false alarm, with some parameters getting used by language bindings but\n",
            "  then being mistakenly passed down to XGBoost core, or some parameter actually being used\n",
            "  but getting flagged wrongly here. Please open an issue if you find any such cases.\n",
            "\n",
            "\n",
            "[21:56:22] WARNING: C:/Users/Administrator/workspace/xgboost-win64_release_1.6.0/src/learner.cc:627: \n",
            "Parameters: { \"max_features\" } might not be used.\n",
            "\n",
            "  This could be a false alarm, with some parameters getting used by language bindings but\n",
            "  then being mistakenly passed down to XGBoost core, or some parameter actually being used\n",
            "  but getting flagged wrongly here. Please open an issue if you find any such cases.\n",
            "\n",
            "\n",
            "[21:56:23] WARNING: C:/Users/Administrator/workspace/xgboost-win64_release_1.6.0/src/learner.cc:627: \n",
            "Parameters: { \"max_features\" } might not be used.\n",
            "\n",
            "  This could be a false alarm, with some parameters getting used by language bindings but\n",
            "  then being mistakenly passed down to XGBoost core, or some parameter actually being used\n",
            "  but getting flagged wrongly here. Please open an issue if you find any such cases.\n",
            "\n",
            "\n",
            "[21:56:23] WARNING: C:/Users/Administrator/workspace/xgboost-win64_release_1.6.0/src/learner.cc:627: \n",
            "Parameters: { \"max_features\" } might not be used.\n",
            "\n",
            "  This could be a false alarm, with some parameters getting used by language bindings but\n",
            "  then being mistakenly passed down to XGBoost core, or some parameter actually being used\n",
            "  but getting flagged wrongly here. Please open an issue if you find any such cases.\n",
            "\n",
            "\n",
            "[21:56:23] WARNING: C:/Users/Administrator/workspace/xgboost-win64_release_1.6.0/src/learner.cc:627: \n",
            "Parameters: { \"max_features\" } might not be used.\n",
            "\n",
            "  This could be a false alarm, with some parameters getting used by language bindings but\n",
            "  then being mistakenly passed down to XGBoost core, or some parameter actually being used\n",
            "  but getting flagged wrongly here. Please open an issue if you find any such cases.\n",
            "\n",
            "\n",
            "[21:56:23] WARNING: C:/Users/Administrator/workspace/xgboost-win64_release_1.6.0/src/learner.cc:627: \n",
            "Parameters: { \"max_features\" } might not be used.\n",
            "\n",
            "  This could be a false alarm, with some parameters getting used by language bindings but\n",
            "  then being mistakenly passed down to XGBoost core, or some parameter actually being used\n",
            "  but getting flagged wrongly here. Please open an issue if you find any such cases.\n",
            "\n",
            "\n",
            "[21:56:23] WARNING: C:/Users/Administrator/workspace/xgboost-win64_release_1.6.0/src/learner.cc:627: \n",
            "Parameters: { \"max_features\" } might not be used.\n",
            "\n",
            "  This could be a false alarm, with some parameters getting used by language bindings but\n",
            "  then being mistakenly passed down to XGBoost core, or some parameter actually being used\n",
            "  but getting flagged wrongly here. Please open an issue if you find any such cases.\n",
            "\n",
            "\n",
            "[21:56:23] WARNING: C:/Users/Administrator/workspace/xgboost-win64_release_1.6.0/src/learner.cc:627: \n",
            "Parameters: { \"max_features\" } might not be used.\n",
            "\n",
            "  This could be a false alarm, with some parameters getting used by language bindings but\n",
            "  then being mistakenly passed down to XGBoost core, or some parameter actually being used\n",
            "  but getting flagged wrongly here. Please open an issue if you find any such cases.\n",
            "\n",
            "\n",
            "[21:56:23] WARNING: C:/Users/Administrator/workspace/xgboost-win64_release_1.6.0/src/learner.cc:627: \n",
            "Parameters: { \"max_features\" } might not be used.\n",
            "\n",
            "  This could be a false alarm, with some parameters getting used by language bindings but\n",
            "  then being mistakenly passed down to XGBoost core, or some parameter actually being used\n",
            "  but getting flagged wrongly here. Please open an issue if you find any such cases.\n",
            "\n",
            "\n",
            "[21:56:23] WARNING: C:/Users/Administrator/workspace/xgboost-win64_release_1.6.0/src/learner.cc:627: \n",
            "Parameters: { \"max_features\" } might not be used.\n",
            "\n",
            "  This could be a false alarm, with some parameters getting used by language bindings but\n",
            "  then being mistakenly passed down to XGBoost core, or some parameter actually being used\n",
            "  but getting flagged wrongly here. Please open an issue if you find any such cases.\n",
            "\n",
            "\n",
            "[21:56:24] WARNING: C:/Users/Administrator/workspace/xgboost-win64_release_1.6.0/src/learner.cc:627: \n",
            "Parameters: { \"max_features\" } might not be used.\n",
            "\n",
            "  This could be a false alarm, with some parameters getting used by language bindings but\n",
            "  then being mistakenly passed down to XGBoost core, or some parameter actually being used\n",
            "  but getting flagged wrongly here. Please open an issue if you find any such cases.\n",
            "\n",
            "\n",
            "[21:56:24] WARNING: C:/Users/Administrator/workspace/xgboost-win64_release_1.6.0/src/learner.cc:627: \n",
            "Parameters: { \"max_features\" } might not be used.\n",
            "\n",
            "  This could be a false alarm, with some parameters getting used by language bindings but\n",
            "  then being mistakenly passed down to XGBoost core, or some parameter actually being used\n",
            "  but getting flagged wrongly here. Please open an issue if you find any such cases.\n",
            "\n",
            "\n",
            "[21:56:24] WARNING: C:/Users/Administrator/workspace/xgboost-win64_release_1.6.0/src/learner.cc:627: \n",
            "Parameters: { \"max_features\" } might not be used.\n",
            "\n",
            "  This could be a false alarm, with some parameters getting used by language bindings but\n",
            "  then being mistakenly passed down to XGBoost core, or some parameter actually being used\n",
            "  but getting flagged wrongly here. Please open an issue if you find any such cases.\n",
            "\n",
            "\n",
            "[21:56:24] WARNING: C:/Users/Administrator/workspace/xgboost-win64_release_1.6.0/src/learner.cc:627: \n",
            "Parameters: { \"max_features\" } might not be used.\n",
            "\n",
            "  This could be a false alarm, with some parameters getting used by language bindings but\n",
            "  then being mistakenly passed down to XGBoost core, or some parameter actually being used\n",
            "  but getting flagged wrongly here. Please open an issue if you find any such cases.\n",
            "\n",
            "\n",
            "[21:56:24] WARNING: C:/Users/Administrator/workspace/xgboost-win64_release_1.6.0/src/learner.cc:627: \n",
            "Parameters: { \"max_features\" } might not be used.\n",
            "\n",
            "  This could be a false alarm, with some parameters getting used by language bindings but\n",
            "  then being mistakenly passed down to XGBoost core, or some parameter actually being used\n",
            "  but getting flagged wrongly here. Please open an issue if you find any such cases.\n",
            "\n",
            "\n",
            "[21:56:24] WARNING: C:/Users/Administrator/workspace/xgboost-win64_release_1.6.0/src/learner.cc:627: \n",
            "Parameters: { \"max_features\" } might not be used.\n",
            "\n",
            "  This could be a false alarm, with some parameters getting used by language bindings but\n",
            "  then being mistakenly passed down to XGBoost core, or some parameter actually being used\n",
            "  but getting flagged wrongly here. Please open an issue if you find any such cases.\n",
            "\n",
            "\n",
            "[21:56:24] WARNING: C:/Users/Administrator/workspace/xgboost-win64_release_1.6.0/src/learner.cc:627: \n",
            "Parameters: { \"max_features\" } might not be used.\n",
            "\n",
            "  This could be a false alarm, with some parameters getting used by language bindings but\n",
            "  then being mistakenly passed down to XGBoost core, or some parameter actually being used\n",
            "  but getting flagged wrongly here. Please open an issue if you find any such cases.\n",
            "\n",
            "\n",
            "[21:56:24] WARNING: C:/Users/Administrator/workspace/xgboost-win64_release_1.6.0/src/learner.cc:627: \n",
            "Parameters: { \"max_features\" } might not be used.\n",
            "\n",
            "  This could be a false alarm, with some parameters getting used by language bindings but\n",
            "  then being mistakenly passed down to XGBoost core, or some parameter actually being used\n",
            "  but getting flagged wrongly here. Please open an issue if you find any such cases.\n",
            "\n",
            "\n",
            "[21:56:24] WARNING: C:/Users/Administrator/workspace/xgboost-win64_release_1.6.0/src/learner.cc:627: \n",
            "Parameters: { \"max_features\" } might not be used.\n",
            "\n",
            "  This could be a false alarm, with some parameters getting used by language bindings but\n",
            "  then being mistakenly passed down to XGBoost core, or some parameter actually being used\n",
            "  but getting flagged wrongly here. Please open an issue if you find any such cases.\n",
            "\n",
            "\n",
            "[21:56:24] WARNING: C:/Users/Administrator/workspace/xgboost-win64_release_1.6.0/src/learner.cc:627: \n",
            "Parameters: { \"max_features\" } might not be used.\n",
            "\n",
            "  This could be a false alarm, with some parameters getting used by language bindings but\n",
            "  then being mistakenly passed down to XGBoost core, or some parameter actually being used\n",
            "  but getting flagged wrongly here. Please open an issue if you find any such cases.\n",
            "\n",
            "\n",
            "[21:56:24] WARNING: C:/Users/Administrator/workspace/xgboost-win64_release_1.6.0/src/learner.cc:627: \n",
            "Parameters: { \"max_features\" } might not be used.\n",
            "\n",
            "  This could be a false alarm, with some parameters getting used by language bindings but\n",
            "  then being mistakenly passed down to XGBoost core, or some parameter actually being used\n",
            "  but getting flagged wrongly here. Please open an issue if you find any such cases.\n",
            "\n",
            "\n",
            "[21:56:25] WARNING: C:/Users/Administrator/workspace/xgboost-win64_release_1.6.0/src/learner.cc:627: \n",
            "Parameters: { \"max_features\" } might not be used.\n",
            "\n",
            "  This could be a false alarm, with some parameters getting used by language bindings but\n",
            "  then being mistakenly passed down to XGBoost core, or some parameter actually being used\n",
            "  but getting flagged wrongly here. Please open an issue if you find any such cases.\n",
            "\n",
            "\n",
            "[21:56:25] WARNING: C:/Users/Administrator/workspace/xgboost-win64_release_1.6.0/src/learner.cc:627: \n",
            "Parameters: { \"max_features\" } might not be used.\n",
            "\n",
            "  This could be a false alarm, with some parameters getting used by language bindings but\n",
            "  then being mistakenly passed down to XGBoost core, or some parameter actually being used\n",
            "  but getting flagged wrongly here. Please open an issue if you find any such cases.\n",
            "\n",
            "\n",
            "[21:56:25] WARNING: C:/Users/Administrator/workspace/xgboost-win64_release_1.6.0/src/learner.cc:627: \n",
            "Parameters: { \"max_features\" } might not be used.\n",
            "\n",
            "  This could be a false alarm, with some parameters getting used by language bindings but\n",
            "  then being mistakenly passed down to XGBoost core, or some parameter actually being used\n",
            "  but getting flagged wrongly here. Please open an issue if you find any such cases.\n",
            "\n",
            "\n",
            "[21:56:25] WARNING: C:/Users/Administrator/workspace/xgboost-win64_release_1.6.0/src/learner.cc:627: \n",
            "Parameters: { \"max_features\" } might not be used.\n",
            "\n",
            "  This could be a false alarm, with some parameters getting used by language bindings but\n",
            "  then being mistakenly passed down to XGBoost core, or some parameter actually being used\n",
            "  but getting flagged wrongly here. Please open an issue if you find any such cases.\n",
            "\n",
            "\n",
            "[21:56:25] WARNING: C:/Users/Administrator/workspace/xgboost-win64_release_1.6.0/src/learner.cc:627: \n",
            "Parameters: { \"max_features\" } might not be used.\n",
            "\n",
            "  This could be a false alarm, with some parameters getting used by language bindings but\n",
            "  then being mistakenly passed down to XGBoost core, or some parameter actually being used\n",
            "  but getting flagged wrongly here. Please open an issue if you find any such cases.\n",
            "\n",
            "\n",
            "[21:56:25] WARNING: C:/Users/Administrator/workspace/xgboost-win64_release_1.6.0/src/learner.cc:627: \n",
            "Parameters: { \"max_features\" } might not be used.\n",
            "\n",
            "  This could be a false alarm, with some parameters getting used by language bindings but\n",
            "  then being mistakenly passed down to XGBoost core, or some parameter actually being used\n",
            "  but getting flagged wrongly here. Please open an issue if you find any such cases.\n",
            "\n",
            "\n",
            "0.8913043478260869\n"
          ]
        },
        {
          "data": {
            "text/plain": [
              "{'min_child_weight': 7,\n",
              " 'max_depth': 15,\n",
              " 'learning_rate': 0.05,\n",
              " 'gamma': 0.4,\n",
              " 'colsample_bytree': 0.5}"
            ]
          },
          "execution_count": 53,
          "metadata": {},
          "output_type": "execute_result"
        }
      ],
      "source": [
        "para={\"learning_rate\"    : [0.05, 0.10, 0.15, 0.20, 0.25, 0.30 ] ,\n",
        " \"max_depth\"        : [ 7,8,9,10,11,12, 15],\n",
        " \"min_child_weight\" : [7,8 ,9,10],\n",
        " \"gamma\"            : [ 0.0, 0.1, 0.2 , 0.3, 0.4 ],\n",
        " \"colsample_bytree\" : [ 0.3, 0.4, 0.5 , 0.7 ]}\n",
        "\n",
        "xgb_rcv=XGBClassifier(max_features=3, n_estimators=85)\n",
        "clf_xgb = RandomizedSearchCV(xgb_rcv, para)\n",
        "clf_xgb.fit(x_train,y_train)\n",
        "print(accuracy_score(clf_xgb.predict(x_test),y_test))\n",
        "clf_xgb.best_params_"
      ]
    },
    {
      "cell_type": "code",
      "execution_count": null,
      "metadata": {
        "id": "KoQtEV7gx5Yk"
      },
      "outputs": [],
      "source": [
        "#from xgboost import plot_tree\n"
      ]
    },
    {
      "cell_type": "code",
      "execution_count": null,
      "metadata": {
        "id": "YIiiedKkx5Yl"
      },
      "outputs": [],
      "source": [
        "# fig, ax = plt.subplots(figsize=(30, 30))\n",
        "# plot_tree(xgb,num_trees=0,rankdir=\"LR\",ax=ax)\n",
        "# plt.show()"
      ]
    },
    {
      "cell_type": "markdown",
      "source": [
        "# KNN Classifier"
      ],
      "metadata": {
        "id": "jirurq0Ik4Bj"
      }
    },
    {
      "cell_type": "code",
      "execution_count": null,
      "metadata": {
        "id": "V4yjD2FRx5Yl",
        "outputId": "d7ae1cb2-7389-4282-edcd-ea448f33a5d8"
      },
      "outputs": [
        {
          "name": "stdout",
          "output_type": "stream",
          "text": [
            "0.8297101449275363\n"
          ]
        },
        {
          "data": {
            "text/plain": [
              "0.8691981589147286"
            ]
          },
          "execution_count": 56,
          "metadata": {},
          "output_type": "execute_result"
        }
      ],
      "source": [
        "knn=KNeighborsClassifier(weights='distance', n_neighbors=9,metric='manhattan')\n",
        "knn.fit(x_train,y_train)\n",
        "yp_knn=knn.predict(x_test)\n",
        "print(accuracy_score(yp_knn,y_test))\n",
        "\n",
        "knn_kfold=KNeighborsClassifier(weights='distance', n_neighbors=9,metric='manhattan')\n",
        "cross_val_score(knn_kfold,x_train,y_train,cv=5).mean()\n",
        "\n"
      ]
    },
    {
      "cell_type": "code",
      "execution_count": null,
      "metadata": {
        "id": "P4OX2VTKx5Yl",
        "outputId": "83f83db6-ae4d-4a26-ae61-b6cd94b5d76d"
      },
      "outputs": [
        {
          "name": "stdout",
          "output_type": "stream",
          "text": [
            "0.8442028985507246\n"
          ]
        },
        {
          "data": {
            "text/plain": [
              "{'weights': 'distance', 'n_neighbors': 15, 'metric': 'manhattan'}"
            ]
          },
          "execution_count": 57,
          "metadata": {},
          "output_type": "execute_result"
        }
      ],
      "source": [
        "para3={ 'n_neighbors' : [5,7,9,11,13,15],\n",
        "               'weights' : ['uniform','distance'],\n",
        "               'metric' : ['minkowski','euclidean','manhattan']}\n",
        "\n",
        "knn_rcv=KNeighborsClassifier()\n",
        "clf_knn=RandomizedSearchCV(knn_rcv,para3)\n",
        "clf_knn.fit(x_train,y_train)\n",
        "\n",
        "print(accuracy_score(clf_knn.predict(x_test),y_test))\n",
        "\n",
        "clf_knn.best_params_"
      ]
    },
    {
      "cell_type": "markdown",
      "source": [
        "# Ada Boost Classifier"
      ],
      "metadata": {
        "id": "r5eWWl_rk89_"
      }
    },
    {
      "cell_type": "code",
      "execution_count": null,
      "metadata": {
        "id": "HVS57-PIx5Ym",
        "outputId": "2c47eeda-0b82-43a0-8e26-6e35433869ad"
      },
      "outputs": [
        {
          "name": "stdout",
          "output_type": "stream",
          "text": [
            "0.855072463768116\n"
          ]
        },
        {
          "data": {
            "text/plain": [
              "0.8567587209302324"
            ]
          },
          "execution_count": 58,
          "metadata": {},
          "output_type": "execute_result"
        }
      ],
      "source": [
        "ab = AdaBoostClassifier(n_estimators=200,learning_rate=0.05,random_state=101)\n",
        "ab.fit(x_train, y_train)\n",
        "yp_ab=ab.predict(x_test)\n",
        "print(accuracy_score(yp_ab,y_test))\n",
        "\n",
        "ab_kfold=AdaBoostClassifier(n_estimators=200,learning_rate=0.05,random_state=101)\n",
        "cross_val_score(ab_kfold,x_train,y_train,cv=5).mean()"
      ]
    },
    {
      "cell_type": "code",
      "execution_count": null,
      "metadata": {
        "id": "mcGPJK2kx5Yo",
        "outputId": "9aba3b01-3938-4642-c644-770c0164b37b"
      },
      "outputs": [
        {
          "data": {
            "text/html": [
              "<div>\n",
              "<style scoped>\n",
              "    .dataframe tbody tr th:only-of-type {\n",
              "        vertical-align: middle;\n",
              "    }\n",
              "\n",
              "    .dataframe tbody tr th {\n",
              "        vertical-align: top;\n",
              "    }\n",
              "\n",
              "    .dataframe thead th {\n",
              "        text-align: right;\n",
              "    }\n",
              "</style>\n",
              "<table border=\"1\" class=\"dataframe\">\n",
              "  <thead>\n",
              "    <tr style=\"text-align: right;\">\n",
              "      <th></th>\n",
              "      <th>Age</th>\n",
              "      <th>Sex</th>\n",
              "      <th>ChestPainType</th>\n",
              "      <th>RestingBP</th>\n",
              "      <th>Cholesterol</th>\n",
              "      <th>FastingBS</th>\n",
              "      <th>RestingECG</th>\n",
              "      <th>MaxHR</th>\n",
              "      <th>ExerciseAngina</th>\n",
              "      <th>Oldpeak</th>\n",
              "      <th>ST_Slope</th>\n",
              "      <th>HeartDisease</th>\n",
              "    </tr>\n",
              "  </thead>\n",
              "  <tbody>\n",
              "    <tr>\n",
              "      <th>0</th>\n",
              "      <td>40</td>\n",
              "      <td>M</td>\n",
              "      <td>ATA</td>\n",
              "      <td>140</td>\n",
              "      <td>289</td>\n",
              "      <td>0</td>\n",
              "      <td>Normal</td>\n",
              "      <td>172</td>\n",
              "      <td>N</td>\n",
              "      <td>0.0</td>\n",
              "      <td>Up</td>\n",
              "      <td>0</td>\n",
              "    </tr>\n",
              "    <tr>\n",
              "      <th>1</th>\n",
              "      <td>49</td>\n",
              "      <td>F</td>\n",
              "      <td>NAP</td>\n",
              "      <td>160</td>\n",
              "      <td>180</td>\n",
              "      <td>0</td>\n",
              "      <td>Normal</td>\n",
              "      <td>156</td>\n",
              "      <td>N</td>\n",
              "      <td>1.0</td>\n",
              "      <td>Flat</td>\n",
              "      <td>1</td>\n",
              "    </tr>\n",
              "    <tr>\n",
              "      <th>2</th>\n",
              "      <td>37</td>\n",
              "      <td>M</td>\n",
              "      <td>ATA</td>\n",
              "      <td>130</td>\n",
              "      <td>283</td>\n",
              "      <td>0</td>\n",
              "      <td>ST</td>\n",
              "      <td>98</td>\n",
              "      <td>N</td>\n",
              "      <td>0.0</td>\n",
              "      <td>Up</td>\n",
              "      <td>0</td>\n",
              "    </tr>\n",
              "    <tr>\n",
              "      <th>3</th>\n",
              "      <td>48</td>\n",
              "      <td>F</td>\n",
              "      <td>ASY</td>\n",
              "      <td>138</td>\n",
              "      <td>214</td>\n",
              "      <td>0</td>\n",
              "      <td>Normal</td>\n",
              "      <td>108</td>\n",
              "      <td>Y</td>\n",
              "      <td>1.5</td>\n",
              "      <td>Flat</td>\n",
              "      <td>1</td>\n",
              "    </tr>\n",
              "    <tr>\n",
              "      <th>4</th>\n",
              "      <td>54</td>\n",
              "      <td>M</td>\n",
              "      <td>NAP</td>\n",
              "      <td>150</td>\n",
              "      <td>195</td>\n",
              "      <td>0</td>\n",
              "      <td>Normal</td>\n",
              "      <td>122</td>\n",
              "      <td>N</td>\n",
              "      <td>0.0</td>\n",
              "      <td>Up</td>\n",
              "      <td>0</td>\n",
              "    </tr>\n",
              "    <tr>\n",
              "      <th>...</th>\n",
              "      <td>...</td>\n",
              "      <td>...</td>\n",
              "      <td>...</td>\n",
              "      <td>...</td>\n",
              "      <td>...</td>\n",
              "      <td>...</td>\n",
              "      <td>...</td>\n",
              "      <td>...</td>\n",
              "      <td>...</td>\n",
              "      <td>...</td>\n",
              "      <td>...</td>\n",
              "      <td>...</td>\n",
              "    </tr>\n",
              "    <tr>\n",
              "      <th>913</th>\n",
              "      <td>45</td>\n",
              "      <td>M</td>\n",
              "      <td>TA</td>\n",
              "      <td>110</td>\n",
              "      <td>264</td>\n",
              "      <td>0</td>\n",
              "      <td>Normal</td>\n",
              "      <td>132</td>\n",
              "      <td>N</td>\n",
              "      <td>1.2</td>\n",
              "      <td>Flat</td>\n",
              "      <td>1</td>\n",
              "    </tr>\n",
              "    <tr>\n",
              "      <th>914</th>\n",
              "      <td>68</td>\n",
              "      <td>M</td>\n",
              "      <td>ASY</td>\n",
              "      <td>144</td>\n",
              "      <td>193</td>\n",
              "      <td>1</td>\n",
              "      <td>Normal</td>\n",
              "      <td>141</td>\n",
              "      <td>N</td>\n",
              "      <td>3.4</td>\n",
              "      <td>Flat</td>\n",
              "      <td>1</td>\n",
              "    </tr>\n",
              "    <tr>\n",
              "      <th>915</th>\n",
              "      <td>57</td>\n",
              "      <td>M</td>\n",
              "      <td>ASY</td>\n",
              "      <td>130</td>\n",
              "      <td>131</td>\n",
              "      <td>0</td>\n",
              "      <td>Normal</td>\n",
              "      <td>115</td>\n",
              "      <td>Y</td>\n",
              "      <td>1.2</td>\n",
              "      <td>Flat</td>\n",
              "      <td>1</td>\n",
              "    </tr>\n",
              "    <tr>\n",
              "      <th>916</th>\n",
              "      <td>57</td>\n",
              "      <td>F</td>\n",
              "      <td>ATA</td>\n",
              "      <td>130</td>\n",
              "      <td>236</td>\n",
              "      <td>0</td>\n",
              "      <td>LVH</td>\n",
              "      <td>174</td>\n",
              "      <td>N</td>\n",
              "      <td>0.0</td>\n",
              "      <td>Flat</td>\n",
              "      <td>1</td>\n",
              "    </tr>\n",
              "    <tr>\n",
              "      <th>917</th>\n",
              "      <td>38</td>\n",
              "      <td>M</td>\n",
              "      <td>NAP</td>\n",
              "      <td>138</td>\n",
              "      <td>175</td>\n",
              "      <td>0</td>\n",
              "      <td>Normal</td>\n",
              "      <td>173</td>\n",
              "      <td>N</td>\n",
              "      <td>0.0</td>\n",
              "      <td>Up</td>\n",
              "      <td>0</td>\n",
              "    </tr>\n",
              "  </tbody>\n",
              "</table>\n",
              "<p>918 rows × 12 columns</p>\n",
              "</div>"
            ],
            "text/plain": [
              "     Age Sex ChestPainType  RestingBP  Cholesterol  FastingBS RestingECG  \\\n",
              "0     40   M           ATA        140          289          0     Normal   \n",
              "1     49   F           NAP        160          180          0     Normal   \n",
              "2     37   M           ATA        130          283          0         ST   \n",
              "3     48   F           ASY        138          214          0     Normal   \n",
              "4     54   M           NAP        150          195          0     Normal   \n",
              "..   ...  ..           ...        ...          ...        ...        ...   \n",
              "913   45   M            TA        110          264          0     Normal   \n",
              "914   68   M           ASY        144          193          1     Normal   \n",
              "915   57   M           ASY        130          131          0     Normal   \n",
              "916   57   F           ATA        130          236          0        LVH   \n",
              "917   38   M           NAP        138          175          0     Normal   \n",
              "\n",
              "     MaxHR ExerciseAngina  Oldpeak ST_Slope  HeartDisease  \n",
              "0      172              N      0.0       Up             0  \n",
              "1      156              N      1.0     Flat             1  \n",
              "2       98              N      0.0       Up             0  \n",
              "3      108              Y      1.5     Flat             1  \n",
              "4      122              N      0.0       Up             0  \n",
              "..     ...            ...      ...      ...           ...  \n",
              "913    132              N      1.2     Flat             1  \n",
              "914    141              N      3.4     Flat             1  \n",
              "915    115              Y      1.2     Flat             1  \n",
              "916    174              N      0.0     Flat             1  \n",
              "917    173              N      0.0       Up             0  \n",
              "\n",
              "[918 rows x 12 columns]"
            ]
          },
          "execution_count": 59,
          "metadata": {},
          "output_type": "execute_result"
        }
      ],
      "source": [
        "data"
      ]
    },
    {
      "cell_type": "code",
      "execution_count": null,
      "metadata": {
        "id": "HL2AYD7ix5Yo"
      },
      "outputs": [],
      "source": [
        "y_new=data[\"HeartDisease\"]\n",
        "x_new=data.drop(columns=\"HeartDisease\")"
      ]
    },
    {
      "cell_type": "code",
      "execution_count": null,
      "metadata": {
        "id": "yCYm2H0NjyW3"
      },
      "outputs": [],
      "source": [
        "from collections import Counter"
      ]
    },
    {
      "cell_type": "code",
      "execution_count": null,
      "metadata": {
        "id": "N1I-N2t7jyW3",
        "outputId": "f168735c-3a16-4bf0-ca2e-288be655acfc"
      },
      "outputs": [
        {
          "name": "stdout",
          "output_type": "stream",
          "text": [
            "Counter({'ASY': 496, 'NAP': 203, 'ATA': 173, 'TA': 46})\n",
            "Counter({'M': 725, 'F': 193})\n",
            "Counter({0: 704, 1: 214})\n",
            "Counter({'Normal': 552, 'LVH': 188, 'ST': 178})\n",
            "Counter({'N': 547, 'Y': 371})\n",
            "Counter({'Flat': 460, 'Up': 395, 'Down': 63})\n"
          ]
        }
      ],
      "source": [
        "print(Counter(x_new[\"ChestPainType\"]))\n",
        "print(Counter(x_new[\"Sex\"]))\n",
        "print(Counter(x_new[\"FastingBS\"]))\n",
        "print(Counter(x_new[\"RestingECG\"]))\n",
        "print(Counter(x_new[\"ExerciseAngina\"]))\n",
        "print(Counter(x_new[\"ST_Slope\"]))"
      ]
    },
    {
      "cell_type": "code",
      "execution_count": null,
      "metadata": {
        "id": "Y5MV7aNwx5Yo",
        "outputId": "c3b5289d-f90a-437d-9f51-c76a23bd9319"
      },
      "outputs": [
        {
          "data": {
            "text/html": [
              "<div>\n",
              "<style scoped>\n",
              "    .dataframe tbody tr th:only-of-type {\n",
              "        vertical-align: middle;\n",
              "    }\n",
              "\n",
              "    .dataframe tbody tr th {\n",
              "        vertical-align: top;\n",
              "    }\n",
              "\n",
              "    .dataframe thead th {\n",
              "        text-align: right;\n",
              "    }\n",
              "</style>\n",
              "<table border=\"1\" class=\"dataframe\">\n",
              "  <thead>\n",
              "    <tr style=\"text-align: right;\">\n",
              "      <th></th>\n",
              "      <th>Age</th>\n",
              "      <th>Sex</th>\n",
              "      <th>ChestPainType</th>\n",
              "      <th>RestingBP</th>\n",
              "      <th>Cholesterol</th>\n",
              "      <th>FastingBS</th>\n",
              "      <th>RestingECG</th>\n",
              "      <th>MaxHR</th>\n",
              "      <th>ExerciseAngina</th>\n",
              "      <th>Oldpeak</th>\n",
              "      <th>ST_Slope</th>\n",
              "    </tr>\n",
              "  </thead>\n",
              "  <tbody>\n",
              "    <tr>\n",
              "      <th>0</th>\n",
              "      <td>40</td>\n",
              "      <td>M</td>\n",
              "      <td>ATA</td>\n",
              "      <td>140</td>\n",
              "      <td>289</td>\n",
              "      <td>0</td>\n",
              "      <td>Normal</td>\n",
              "      <td>172</td>\n",
              "      <td>N</td>\n",
              "      <td>0.0</td>\n",
              "      <td>Up</td>\n",
              "    </tr>\n",
              "    <tr>\n",
              "      <th>1</th>\n",
              "      <td>49</td>\n",
              "      <td>F</td>\n",
              "      <td>NAP</td>\n",
              "      <td>160</td>\n",
              "      <td>180</td>\n",
              "      <td>0</td>\n",
              "      <td>Normal</td>\n",
              "      <td>156</td>\n",
              "      <td>N</td>\n",
              "      <td>1.0</td>\n",
              "      <td>Flat</td>\n",
              "    </tr>\n",
              "    <tr>\n",
              "      <th>2</th>\n",
              "      <td>37</td>\n",
              "      <td>M</td>\n",
              "      <td>ATA</td>\n",
              "      <td>130</td>\n",
              "      <td>283</td>\n",
              "      <td>0</td>\n",
              "      <td>ST</td>\n",
              "      <td>98</td>\n",
              "      <td>N</td>\n",
              "      <td>0.0</td>\n",
              "      <td>Up</td>\n",
              "    </tr>\n",
              "    <tr>\n",
              "      <th>3</th>\n",
              "      <td>48</td>\n",
              "      <td>F</td>\n",
              "      <td>ASY</td>\n",
              "      <td>138</td>\n",
              "      <td>214</td>\n",
              "      <td>0</td>\n",
              "      <td>Normal</td>\n",
              "      <td>108</td>\n",
              "      <td>Y</td>\n",
              "      <td>1.5</td>\n",
              "      <td>Flat</td>\n",
              "    </tr>\n",
              "    <tr>\n",
              "      <th>4</th>\n",
              "      <td>54</td>\n",
              "      <td>M</td>\n",
              "      <td>NAP</td>\n",
              "      <td>150</td>\n",
              "      <td>195</td>\n",
              "      <td>0</td>\n",
              "      <td>Normal</td>\n",
              "      <td>122</td>\n",
              "      <td>N</td>\n",
              "      <td>0.0</td>\n",
              "      <td>Up</td>\n",
              "    </tr>\n",
              "    <tr>\n",
              "      <th>...</th>\n",
              "      <td>...</td>\n",
              "      <td>...</td>\n",
              "      <td>...</td>\n",
              "      <td>...</td>\n",
              "      <td>...</td>\n",
              "      <td>...</td>\n",
              "      <td>...</td>\n",
              "      <td>...</td>\n",
              "      <td>...</td>\n",
              "      <td>...</td>\n",
              "      <td>...</td>\n",
              "    </tr>\n",
              "    <tr>\n",
              "      <th>913</th>\n",
              "      <td>45</td>\n",
              "      <td>M</td>\n",
              "      <td>TA</td>\n",
              "      <td>110</td>\n",
              "      <td>264</td>\n",
              "      <td>0</td>\n",
              "      <td>Normal</td>\n",
              "      <td>132</td>\n",
              "      <td>N</td>\n",
              "      <td>1.2</td>\n",
              "      <td>Flat</td>\n",
              "    </tr>\n",
              "    <tr>\n",
              "      <th>914</th>\n",
              "      <td>68</td>\n",
              "      <td>M</td>\n",
              "      <td>ASY</td>\n",
              "      <td>144</td>\n",
              "      <td>193</td>\n",
              "      <td>1</td>\n",
              "      <td>Normal</td>\n",
              "      <td>141</td>\n",
              "      <td>N</td>\n",
              "      <td>3.4</td>\n",
              "      <td>Flat</td>\n",
              "    </tr>\n",
              "    <tr>\n",
              "      <th>915</th>\n",
              "      <td>57</td>\n",
              "      <td>M</td>\n",
              "      <td>ASY</td>\n",
              "      <td>130</td>\n",
              "      <td>131</td>\n",
              "      <td>0</td>\n",
              "      <td>Normal</td>\n",
              "      <td>115</td>\n",
              "      <td>Y</td>\n",
              "      <td>1.2</td>\n",
              "      <td>Flat</td>\n",
              "    </tr>\n",
              "    <tr>\n",
              "      <th>916</th>\n",
              "      <td>57</td>\n",
              "      <td>F</td>\n",
              "      <td>ATA</td>\n",
              "      <td>130</td>\n",
              "      <td>236</td>\n",
              "      <td>0</td>\n",
              "      <td>LVH</td>\n",
              "      <td>174</td>\n",
              "      <td>N</td>\n",
              "      <td>0.0</td>\n",
              "      <td>Flat</td>\n",
              "    </tr>\n",
              "    <tr>\n",
              "      <th>917</th>\n",
              "      <td>38</td>\n",
              "      <td>M</td>\n",
              "      <td>NAP</td>\n",
              "      <td>138</td>\n",
              "      <td>175</td>\n",
              "      <td>0</td>\n",
              "      <td>Normal</td>\n",
              "      <td>173</td>\n",
              "      <td>N</td>\n",
              "      <td>0.0</td>\n",
              "      <td>Up</td>\n",
              "    </tr>\n",
              "  </tbody>\n",
              "</table>\n",
              "<p>918 rows × 11 columns</p>\n",
              "</div>"
            ],
            "text/plain": [
              "     Age Sex ChestPainType  RestingBP  Cholesterol  FastingBS RestingECG  \\\n",
              "0     40   M           ATA        140          289          0     Normal   \n",
              "1     49   F           NAP        160          180          0     Normal   \n",
              "2     37   M           ATA        130          283          0         ST   \n",
              "3     48   F           ASY        138          214          0     Normal   \n",
              "4     54   M           NAP        150          195          0     Normal   \n",
              "..   ...  ..           ...        ...          ...        ...        ...   \n",
              "913   45   M            TA        110          264          0     Normal   \n",
              "914   68   M           ASY        144          193          1     Normal   \n",
              "915   57   M           ASY        130          131          0     Normal   \n",
              "916   57   F           ATA        130          236          0        LVH   \n",
              "917   38   M           NAP        138          175          0     Normal   \n",
              "\n",
              "     MaxHR ExerciseAngina  Oldpeak ST_Slope  \n",
              "0      172              N      0.0       Up  \n",
              "1      156              N      1.0     Flat  \n",
              "2       98              N      0.0       Up  \n",
              "3      108              Y      1.5     Flat  \n",
              "4      122              N      0.0       Up  \n",
              "..     ...            ...      ...      ...  \n",
              "913    132              N      1.2     Flat  \n",
              "914    141              N      3.4     Flat  \n",
              "915    115              Y      1.2     Flat  \n",
              "916    174              N      0.0     Flat  \n",
              "917    173              N      0.0       Up  \n",
              "\n",
              "[918 rows x 11 columns]"
            ]
          },
          "execution_count": 63,
          "metadata": {},
          "output_type": "execute_result"
        }
      ],
      "source": [
        "x_new"
      ]
    },
    {
      "cell_type": "code",
      "execution_count": null,
      "metadata": {
        "id": "pK3M8TmLx5Yp"
      },
      "outputs": [],
      "source": [
        "xtrain,xtest,ytrain,ytest=train_test_split(x_new,y_new,train_size=0.9)"
      ]
    },
    {
      "cell_type": "code",
      "execution_count": null,
      "metadata": {
        "id": "jeIF2QIex5Yp",
        "outputId": "c8ff86fd-16cd-4bba-ab0e-dbb3770b12ea"
      },
      "outputs": [
        {
          "data": {
            "text/html": [
              "<style>#sk-47155485-2e7a-4dd7-ace1-acabdcedd339 {color: black;background-color: white;}#sk-47155485-2e7a-4dd7-ace1-acabdcedd339 pre{padding: 0;}#sk-47155485-2e7a-4dd7-ace1-acabdcedd339 div.sk-toggleable {background-color: white;}#sk-47155485-2e7a-4dd7-ace1-acabdcedd339 label.sk-toggleable__label {cursor: pointer;display: block;width: 100%;margin-bottom: 0;padding: 0.3em;box-sizing: border-box;text-align: center;}#sk-47155485-2e7a-4dd7-ace1-acabdcedd339 label.sk-toggleable__label-arrow:before {content: \"▸\";float: left;margin-right: 0.25em;color: #696969;}#sk-47155485-2e7a-4dd7-ace1-acabdcedd339 label.sk-toggleable__label-arrow:hover:before {color: black;}#sk-47155485-2e7a-4dd7-ace1-acabdcedd339 div.sk-estimator:hover label.sk-toggleable__label-arrow:before {color: black;}#sk-47155485-2e7a-4dd7-ace1-acabdcedd339 div.sk-toggleable__content {max-height: 0;max-width: 0;overflow: hidden;text-align: left;background-color: #f0f8ff;}#sk-47155485-2e7a-4dd7-ace1-acabdcedd339 div.sk-toggleable__content pre {margin: 0.2em;color: black;border-radius: 0.25em;background-color: #f0f8ff;}#sk-47155485-2e7a-4dd7-ace1-acabdcedd339 input.sk-toggleable__control:checked~div.sk-toggleable__content {max-height: 200px;max-width: 100%;overflow: auto;}#sk-47155485-2e7a-4dd7-ace1-acabdcedd339 input.sk-toggleable__control:checked~label.sk-toggleable__label-arrow:before {content: \"▾\";}#sk-47155485-2e7a-4dd7-ace1-acabdcedd339 div.sk-estimator input.sk-toggleable__control:checked~label.sk-toggleable__label {background-color: #d4ebff;}#sk-47155485-2e7a-4dd7-ace1-acabdcedd339 div.sk-label input.sk-toggleable__control:checked~label.sk-toggleable__label {background-color: #d4ebff;}#sk-47155485-2e7a-4dd7-ace1-acabdcedd339 input.sk-hidden--visually {border: 0;clip: rect(1px 1px 1px 1px);clip: rect(1px, 1px, 1px, 1px);height: 1px;margin: -1px;overflow: hidden;padding: 0;position: absolute;width: 1px;}#sk-47155485-2e7a-4dd7-ace1-acabdcedd339 div.sk-estimator {font-family: monospace;background-color: #f0f8ff;border: 1px dotted black;border-radius: 0.25em;box-sizing: border-box;margin-bottom: 0.5em;}#sk-47155485-2e7a-4dd7-ace1-acabdcedd339 div.sk-estimator:hover {background-color: #d4ebff;}#sk-47155485-2e7a-4dd7-ace1-acabdcedd339 div.sk-parallel-item::after {content: \"\";width: 100%;border-bottom: 1px solid gray;flex-grow: 1;}#sk-47155485-2e7a-4dd7-ace1-acabdcedd339 div.sk-label:hover label.sk-toggleable__label {background-color: #d4ebff;}#sk-47155485-2e7a-4dd7-ace1-acabdcedd339 div.sk-serial::before {content: \"\";position: absolute;border-left: 1px solid gray;box-sizing: border-box;top: 2em;bottom: 0;left: 50%;}#sk-47155485-2e7a-4dd7-ace1-acabdcedd339 div.sk-serial {display: flex;flex-direction: column;align-items: center;background-color: white;padding-right: 0.2em;padding-left: 0.2em;}#sk-47155485-2e7a-4dd7-ace1-acabdcedd339 div.sk-item {z-index: 1;}#sk-47155485-2e7a-4dd7-ace1-acabdcedd339 div.sk-parallel {display: flex;align-items: stretch;justify-content: center;background-color: white;}#sk-47155485-2e7a-4dd7-ace1-acabdcedd339 div.sk-parallel::before {content: \"\";position: absolute;border-left: 1px solid gray;box-sizing: border-box;top: 2em;bottom: 0;left: 50%;}#sk-47155485-2e7a-4dd7-ace1-acabdcedd339 div.sk-parallel-item {display: flex;flex-direction: column;position: relative;background-color: white;}#sk-47155485-2e7a-4dd7-ace1-acabdcedd339 div.sk-parallel-item:first-child::after {align-self: flex-end;width: 50%;}#sk-47155485-2e7a-4dd7-ace1-acabdcedd339 div.sk-parallel-item:last-child::after {align-self: flex-start;width: 50%;}#sk-47155485-2e7a-4dd7-ace1-acabdcedd339 div.sk-parallel-item:only-child::after {width: 0;}#sk-47155485-2e7a-4dd7-ace1-acabdcedd339 div.sk-dashed-wrapped {border: 1px dashed gray;margin: 0 0.4em 0.5em 0.4em;box-sizing: border-box;padding-bottom: 0.4em;background-color: white;position: relative;}#sk-47155485-2e7a-4dd7-ace1-acabdcedd339 div.sk-label label {font-family: monospace;font-weight: bold;background-color: white;display: inline-block;line-height: 1.2em;}#sk-47155485-2e7a-4dd7-ace1-acabdcedd339 div.sk-label-container {position: relative;z-index: 2;text-align: center;}#sk-47155485-2e7a-4dd7-ace1-acabdcedd339 div.sk-container {/* jupyter's `normalize.less` sets `[hidden] { display: none; }` but bootstrap.min.css set `[hidden] { display: none !important; }` so we also need the `!important` here to be able to override the default hidden behavior on the sphinx rendered scikit-learn.org. See: https://github.com/scikit-learn/scikit-learn/issues/21755 */display: inline-block !important;position: relative;}#sk-47155485-2e7a-4dd7-ace1-acabdcedd339 div.sk-text-repr-fallback {display: none;}</style><div id=\"sk-47155485-2e7a-4dd7-ace1-acabdcedd339\" class=\"sk-top-container\"><div class=\"sk-text-repr-fallback\"><pre>ColumnTransformer(remainder=&#x27;passthrough&#x27;,\n",
              "                  transformers=[(&#x27;onehotencoder&#x27;, OneHotEncoder(sparse=False),\n",
              "                                 [2, 6, 10]),\n",
              "                                (&#x27;ordinalencoder&#x27;, OrdinalEncoder(), [1, 8]),\n",
              "                                (&#x27;minmaxscaler&#x27;, MinMaxScaler(),\n",
              "                                 [0, 3, 4, 5, 7, 9])])</pre><b>Please rerun this cell to show the HTML repr or trust the notebook.</b></div><div class=\"sk-container\" hidden><div class=\"sk-item sk-dashed-wrapped\"><div class=\"sk-label-container\"><div class=\"sk-label sk-toggleable\"><input class=\"sk-toggleable__control sk-hidden--visually\" id=\"d4cad518-c187-4d19-ba26-272f965551d1\" type=\"checkbox\" ><label for=\"d4cad518-c187-4d19-ba26-272f965551d1\" class=\"sk-toggleable__label sk-toggleable__label-arrow\">ColumnTransformer</label><div class=\"sk-toggleable__content\"><pre>ColumnTransformer(remainder=&#x27;passthrough&#x27;,\n",
              "                  transformers=[(&#x27;onehotencoder&#x27;, OneHotEncoder(sparse=False),\n",
              "                                 [2, 6, 10]),\n",
              "                                (&#x27;ordinalencoder&#x27;, OrdinalEncoder(), [1, 8]),\n",
              "                                (&#x27;minmaxscaler&#x27;, MinMaxScaler(),\n",
              "                                 [0, 3, 4, 5, 7, 9])])</pre></div></div></div><div class=\"sk-parallel\"><div class=\"sk-parallel-item\"><div class=\"sk-item\"><div class=\"sk-label-container\"><div class=\"sk-label sk-toggleable\"><input class=\"sk-toggleable__control sk-hidden--visually\" id=\"ab96017f-8316-4013-a77c-0fc0bcd8d7fd\" type=\"checkbox\" ><label for=\"ab96017f-8316-4013-a77c-0fc0bcd8d7fd\" class=\"sk-toggleable__label sk-toggleable__label-arrow\">onehotencoder</label><div class=\"sk-toggleable__content\"><pre>[2, 6, 10]</pre></div></div></div><div class=\"sk-serial\"><div class=\"sk-item\"><div class=\"sk-estimator sk-toggleable\"><input class=\"sk-toggleable__control sk-hidden--visually\" id=\"913c6ad1-50b8-4ee0-89fe-463829a74130\" type=\"checkbox\" ><label for=\"913c6ad1-50b8-4ee0-89fe-463829a74130\" class=\"sk-toggleable__label sk-toggleable__label-arrow\">OneHotEncoder</label><div class=\"sk-toggleable__content\"><pre>OneHotEncoder(sparse=False)</pre></div></div></div></div></div></div><div class=\"sk-parallel-item\"><div class=\"sk-item\"><div class=\"sk-label-container\"><div class=\"sk-label sk-toggleable\"><input class=\"sk-toggleable__control sk-hidden--visually\" id=\"7db3240a-b0ec-4e20-92a1-f61235752912\" type=\"checkbox\" ><label for=\"7db3240a-b0ec-4e20-92a1-f61235752912\" class=\"sk-toggleable__label sk-toggleable__label-arrow\">ordinalencoder</label><div class=\"sk-toggleable__content\"><pre>[1, 8]</pre></div></div></div><div class=\"sk-serial\"><div class=\"sk-item\"><div class=\"sk-estimator sk-toggleable\"><input class=\"sk-toggleable__control sk-hidden--visually\" id=\"569543db-0eb3-4001-942f-d738492e9a9f\" type=\"checkbox\" ><label for=\"569543db-0eb3-4001-942f-d738492e9a9f\" class=\"sk-toggleable__label sk-toggleable__label-arrow\">OrdinalEncoder</label><div class=\"sk-toggleable__content\"><pre>OrdinalEncoder()</pre></div></div></div></div></div></div><div class=\"sk-parallel-item\"><div class=\"sk-item\"><div class=\"sk-label-container\"><div class=\"sk-label sk-toggleable\"><input class=\"sk-toggleable__control sk-hidden--visually\" id=\"c0a00e82-a55e-4a0f-a42f-5fed43556eae\" type=\"checkbox\" ><label for=\"c0a00e82-a55e-4a0f-a42f-5fed43556eae\" class=\"sk-toggleable__label sk-toggleable__label-arrow\">minmaxscaler</label><div class=\"sk-toggleable__content\"><pre>[0, 3, 4, 5, 7, 9]</pre></div></div></div><div class=\"sk-serial\"><div class=\"sk-item\"><div class=\"sk-estimator sk-toggleable\"><input class=\"sk-toggleable__control sk-hidden--visually\" id=\"32509ca9-0b16-43be-8f83-1dc68e82938c\" type=\"checkbox\" ><label for=\"32509ca9-0b16-43be-8f83-1dc68e82938c\" class=\"sk-toggleable__label sk-toggleable__label-arrow\">MinMaxScaler</label><div class=\"sk-toggleable__content\"><pre>MinMaxScaler()</pre></div></div></div></div></div></div><div class=\"sk-parallel-item\"><div class=\"sk-item\"><div class=\"sk-label-container\"><div class=\"sk-label sk-toggleable\"><input class=\"sk-toggleable__control sk-hidden--visually\" id=\"4fa7067d-58d5-4a87-bed7-03e1f0b25b28\" type=\"checkbox\" ><label for=\"4fa7067d-58d5-4a87-bed7-03e1f0b25b28\" class=\"sk-toggleable__label sk-toggleable__label-arrow\">remainder</label><div class=\"sk-toggleable__content\"><pre></pre></div></div></div><div class=\"sk-serial\"><div class=\"sk-item\"><div class=\"sk-estimator sk-toggleable\"><input class=\"sk-toggleable__control sk-hidden--visually\" id=\"bb0e46f5-c548-45c3-b23b-8ddd977f6c75\" type=\"checkbox\" ><label for=\"bb0e46f5-c548-45c3-b23b-8ddd977f6c75\" class=\"sk-toggleable__label sk-toggleable__label-arrow\">passthrough</label><div class=\"sk-toggleable__content\"><pre>passthrough</pre></div></div></div></div></div></div></div></div></div></div>"
            ],
            "text/plain": [
              "ColumnTransformer(remainder='passthrough',\n",
              "                  transformers=[('onehotencoder', OneHotEncoder(sparse=False),\n",
              "                                 [2, 6, 10]),\n",
              "                                ('ordinalencoder', OrdinalEncoder(), [1, 8]),\n",
              "                                ('minmaxscaler', MinMaxScaler(),\n",
              "                                 [0, 3, 4, 5, 7, 9])])"
            ]
          },
          "execution_count": 65,
          "metadata": {},
          "output_type": "execute_result"
        }
      ],
      "source": [
        "nomi_col=[2,6,10]\n",
        "ordi_col=[1,8]\n",
        "num_col=[0,3,4,5,7,9]\n",
        "trans = make_column_transformer((OneHotEncoder(sparse=False),nomi_col),\n",
        "                               (OrdinalEncoder(),ordi_col),\n",
        "                               (MinMaxScaler(),num_col),\n",
        "                                remainder='passthrough')\n",
        "set_config(display='diagram')\n",
        "trans"
      ]
    },
    {
      "cell_type": "code",
      "execution_count": null,
      "metadata": {
        "id": "nf2iyZPVx5Yp"
      },
      "outputs": [],
      "source": [
        "model1=SVC(kernel='rbf',gamma=1.4,C=1)\n",
        "model2=KNeighborsClassifier(weights='distance', n_neighbors=9,metric='manhattan')\n",
        "model3=RandomForestClassifier(n_estimators=350,criterion=\"entropy\",random_state=2022,bootstrap=True,max_features='auto',min_samples_leaf=2,min_samples_split=6)\n",
        "model4=XGBClassifier(max_features=3, n_estimators=85,min_child_weight=12,max_depth=7,learning_rate=0.3,gamma=0.0,colsample_bytree=0.7)\n",
        "model5=AdaBoostClassifier(n_estimators=200,learning_rate=0.05,random_state=101)\n",
        "\n",
        "voting = VotingClassifier(estimators = [('x1',model1), ('x2',model2),('x3',model3),('x4',model4),('x5',model5)],voting = 'hard',verbose=True)\n",
        "voting_pipe = make_pipeline(trans, voting)"
      ]
    },
    {
      "cell_type": "code",
      "execution_count": null,
      "metadata": {
        "id": "eRWmOi7nx5Yp",
        "outputId": "e1f6d075-cb59-4c3c-e016-a99473479364"
      },
      "outputs": [
        {
          "name": "stdout",
          "output_type": "stream",
          "text": [
            "[Voting] ....................... (1 of 5) Processing x1, total=   0.0s\n",
            "[Voting] ....................... (2 of 5) Processing x2, total=   0.0s\n",
            "[Voting] ....................... (3 of 5) Processing x3, total=   0.8s\n",
            "[21:56:30] WARNING: C:/Users/Administrator/workspace/xgboost-win64_release_1.6.0/src/learner.cc:627: \n",
            "Parameters: { \"max_features\" } might not be used.\n",
            "\n",
            "  This could be a false alarm, with some parameters getting used by language bindings but\n",
            "  then being mistakenly passed down to XGBoost core, or some parameter actually being used\n",
            "  but getting flagged wrongly here. Please open an issue if you find any such cases.\n",
            "\n",
            "\n",
            "[Voting] ....................... (4 of 5) Processing x4, total=   0.2s\n",
            "[Voting] ....................... (5 of 5) Processing x5, total=   0.5s\n"
          ]
        },
        {
          "data": {
            "text/html": [
              "<style>#sk-af3cc9b7-f52b-4b48-bfd9-88f7fd7bf613 {color: black;background-color: white;}#sk-af3cc9b7-f52b-4b48-bfd9-88f7fd7bf613 pre{padding: 0;}#sk-af3cc9b7-f52b-4b48-bfd9-88f7fd7bf613 div.sk-toggleable {background-color: white;}#sk-af3cc9b7-f52b-4b48-bfd9-88f7fd7bf613 label.sk-toggleable__label {cursor: pointer;display: block;width: 100%;margin-bottom: 0;padding: 0.3em;box-sizing: border-box;text-align: center;}#sk-af3cc9b7-f52b-4b48-bfd9-88f7fd7bf613 label.sk-toggleable__label-arrow:before {content: \"▸\";float: left;margin-right: 0.25em;color: #696969;}#sk-af3cc9b7-f52b-4b48-bfd9-88f7fd7bf613 label.sk-toggleable__label-arrow:hover:before {color: black;}#sk-af3cc9b7-f52b-4b48-bfd9-88f7fd7bf613 div.sk-estimator:hover label.sk-toggleable__label-arrow:before {color: black;}#sk-af3cc9b7-f52b-4b48-bfd9-88f7fd7bf613 div.sk-toggleable__content {max-height: 0;max-width: 0;overflow: hidden;text-align: left;background-color: #f0f8ff;}#sk-af3cc9b7-f52b-4b48-bfd9-88f7fd7bf613 div.sk-toggleable__content pre {margin: 0.2em;color: black;border-radius: 0.25em;background-color: #f0f8ff;}#sk-af3cc9b7-f52b-4b48-bfd9-88f7fd7bf613 input.sk-toggleable__control:checked~div.sk-toggleable__content {max-height: 200px;max-width: 100%;overflow: auto;}#sk-af3cc9b7-f52b-4b48-bfd9-88f7fd7bf613 input.sk-toggleable__control:checked~label.sk-toggleable__label-arrow:before {content: \"▾\";}#sk-af3cc9b7-f52b-4b48-bfd9-88f7fd7bf613 div.sk-estimator input.sk-toggleable__control:checked~label.sk-toggleable__label {background-color: #d4ebff;}#sk-af3cc9b7-f52b-4b48-bfd9-88f7fd7bf613 div.sk-label input.sk-toggleable__control:checked~label.sk-toggleable__label {background-color: #d4ebff;}#sk-af3cc9b7-f52b-4b48-bfd9-88f7fd7bf613 input.sk-hidden--visually {border: 0;clip: rect(1px 1px 1px 1px);clip: rect(1px, 1px, 1px, 1px);height: 1px;margin: -1px;overflow: hidden;padding: 0;position: absolute;width: 1px;}#sk-af3cc9b7-f52b-4b48-bfd9-88f7fd7bf613 div.sk-estimator {font-family: monospace;background-color: #f0f8ff;border: 1px dotted black;border-radius: 0.25em;box-sizing: border-box;margin-bottom: 0.5em;}#sk-af3cc9b7-f52b-4b48-bfd9-88f7fd7bf613 div.sk-estimator:hover {background-color: #d4ebff;}#sk-af3cc9b7-f52b-4b48-bfd9-88f7fd7bf613 div.sk-parallel-item::after {content: \"\";width: 100%;border-bottom: 1px solid gray;flex-grow: 1;}#sk-af3cc9b7-f52b-4b48-bfd9-88f7fd7bf613 div.sk-label:hover label.sk-toggleable__label {background-color: #d4ebff;}#sk-af3cc9b7-f52b-4b48-bfd9-88f7fd7bf613 div.sk-serial::before {content: \"\";position: absolute;border-left: 1px solid gray;box-sizing: border-box;top: 2em;bottom: 0;left: 50%;}#sk-af3cc9b7-f52b-4b48-bfd9-88f7fd7bf613 div.sk-serial {display: flex;flex-direction: column;align-items: center;background-color: white;padding-right: 0.2em;padding-left: 0.2em;}#sk-af3cc9b7-f52b-4b48-bfd9-88f7fd7bf613 div.sk-item {z-index: 1;}#sk-af3cc9b7-f52b-4b48-bfd9-88f7fd7bf613 div.sk-parallel {display: flex;align-items: stretch;justify-content: center;background-color: white;}#sk-af3cc9b7-f52b-4b48-bfd9-88f7fd7bf613 div.sk-parallel::before {content: \"\";position: absolute;border-left: 1px solid gray;box-sizing: border-box;top: 2em;bottom: 0;left: 50%;}#sk-af3cc9b7-f52b-4b48-bfd9-88f7fd7bf613 div.sk-parallel-item {display: flex;flex-direction: column;position: relative;background-color: white;}#sk-af3cc9b7-f52b-4b48-bfd9-88f7fd7bf613 div.sk-parallel-item:first-child::after {align-self: flex-end;width: 50%;}#sk-af3cc9b7-f52b-4b48-bfd9-88f7fd7bf613 div.sk-parallel-item:last-child::after {align-self: flex-start;width: 50%;}#sk-af3cc9b7-f52b-4b48-bfd9-88f7fd7bf613 div.sk-parallel-item:only-child::after {width: 0;}#sk-af3cc9b7-f52b-4b48-bfd9-88f7fd7bf613 div.sk-dashed-wrapped {border: 1px dashed gray;margin: 0 0.4em 0.5em 0.4em;box-sizing: border-box;padding-bottom: 0.4em;background-color: white;position: relative;}#sk-af3cc9b7-f52b-4b48-bfd9-88f7fd7bf613 div.sk-label label {font-family: monospace;font-weight: bold;background-color: white;display: inline-block;line-height: 1.2em;}#sk-af3cc9b7-f52b-4b48-bfd9-88f7fd7bf613 div.sk-label-container {position: relative;z-index: 2;text-align: center;}#sk-af3cc9b7-f52b-4b48-bfd9-88f7fd7bf613 div.sk-container {/* jupyter's `normalize.less` sets `[hidden] { display: none; }` but bootstrap.min.css set `[hidden] { display: none !important; }` so we also need the `!important` here to be able to override the default hidden behavior on the sphinx rendered scikit-learn.org. See: https://github.com/scikit-learn/scikit-learn/issues/21755 */display: inline-block !important;position: relative;}#sk-af3cc9b7-f52b-4b48-bfd9-88f7fd7bf613 div.sk-text-repr-fallback {display: none;}</style><div id=\"sk-af3cc9b7-f52b-4b48-bfd9-88f7fd7bf613\" class=\"sk-top-container\"><div class=\"sk-text-repr-fallback\"><pre>Pipeline(steps=[(&#x27;columntransformer&#x27;,\n",
              "                 ColumnTransformer(remainder=&#x27;passthrough&#x27;,\n",
              "                                   transformers=[(&#x27;onehotencoder&#x27;,\n",
              "                                                  OneHotEncoder(sparse=False),\n",
              "                                                  [2, 6, 10]),\n",
              "                                                 (&#x27;ordinalencoder&#x27;,\n",
              "                                                  OrdinalEncoder(), [1, 8]),\n",
              "                                                 (&#x27;minmaxscaler&#x27;,\n",
              "                                                  MinMaxScaler(),\n",
              "                                                  [0, 3, 4, 5, 7, 9])])),\n",
              "                (&#x27;votingclassifier&#x27;,\n",
              "                 VotingClassifier(estimators=[(&#x27;x1&#x27;, SVC(C=1, gamma=1.4)),\n",
              "                                              (&#x27;x2&#x27;,\n",
              "                                               KNeighborsClassifier(metric=&#x27;m...\n",
              "                                                             max_bin=None,\n",
              "                                                             max_cat_to_onehot=None,\n",
              "                                                             max_delta_step=None,\n",
              "                                                             max_depth=7,\n",
              "                                                             max_features=3,\n",
              "                                                             max_leaves=None,\n",
              "                                                             min_child_weight=12,\n",
              "                                                             missing=nan,\n",
              "                                                             monotone_constraints=None,\n",
              "                                                             n_estimators=85,\n",
              "                                                             n_jobs=None,\n",
              "                                                             num_parallel_tree=None,\n",
              "                                                             predictor=None,\n",
              "                                                             random_state=None,\n",
              "                                                             reg_alpha=None, ...)),\n",
              "                                              (&#x27;x5&#x27;,\n",
              "                                               AdaBoostClassifier(learning_rate=0.05,\n",
              "                                                                  n_estimators=200,\n",
              "                                                                  random_state=101))],\n",
              "                                  verbose=True))])</pre><b>Please rerun this cell to show the HTML repr or trust the notebook.</b></div><div class=\"sk-container\" hidden><div class=\"sk-item sk-dashed-wrapped\"><div class=\"sk-label-container\"><div class=\"sk-label sk-toggleable\"><input class=\"sk-toggleable__control sk-hidden--visually\" id=\"d62be9bf-ffe2-4441-909a-7d8a9f3332f6\" type=\"checkbox\" ><label for=\"d62be9bf-ffe2-4441-909a-7d8a9f3332f6\" class=\"sk-toggleable__label sk-toggleable__label-arrow\">Pipeline</label><div class=\"sk-toggleable__content\"><pre>Pipeline(steps=[(&#x27;columntransformer&#x27;,\n",
              "                 ColumnTransformer(remainder=&#x27;passthrough&#x27;,\n",
              "                                   transformers=[(&#x27;onehotencoder&#x27;,\n",
              "                                                  OneHotEncoder(sparse=False),\n",
              "                                                  [2, 6, 10]),\n",
              "                                                 (&#x27;ordinalencoder&#x27;,\n",
              "                                                  OrdinalEncoder(), [1, 8]),\n",
              "                                                 (&#x27;minmaxscaler&#x27;,\n",
              "                                                  MinMaxScaler(),\n",
              "                                                  [0, 3, 4, 5, 7, 9])])),\n",
              "                (&#x27;votingclassifier&#x27;,\n",
              "                 VotingClassifier(estimators=[(&#x27;x1&#x27;, SVC(C=1, gamma=1.4)),\n",
              "                                              (&#x27;x2&#x27;,\n",
              "                                               KNeighborsClassifier(metric=&#x27;m...\n",
              "                                                             max_bin=None,\n",
              "                                                             max_cat_to_onehot=None,\n",
              "                                                             max_delta_step=None,\n",
              "                                                             max_depth=7,\n",
              "                                                             max_features=3,\n",
              "                                                             max_leaves=None,\n",
              "                                                             min_child_weight=12,\n",
              "                                                             missing=nan,\n",
              "                                                             monotone_constraints=None,\n",
              "                                                             n_estimators=85,\n",
              "                                                             n_jobs=None,\n",
              "                                                             num_parallel_tree=None,\n",
              "                                                             predictor=None,\n",
              "                                                             random_state=None,\n",
              "                                                             reg_alpha=None, ...)),\n",
              "                                              (&#x27;x5&#x27;,\n",
              "                                               AdaBoostClassifier(learning_rate=0.05,\n",
              "                                                                  n_estimators=200,\n",
              "                                                                  random_state=101))],\n",
              "                                  verbose=True))])</pre></div></div></div><div class=\"sk-serial\"><div class=\"sk-item sk-dashed-wrapped\"><div class=\"sk-label-container\"><div class=\"sk-label sk-toggleable\"><input class=\"sk-toggleable__control sk-hidden--visually\" id=\"6f92ad89-bd6e-4148-9335-e16e396f5747\" type=\"checkbox\" ><label for=\"6f92ad89-bd6e-4148-9335-e16e396f5747\" class=\"sk-toggleable__label sk-toggleable__label-arrow\">columntransformer: ColumnTransformer</label><div class=\"sk-toggleable__content\"><pre>ColumnTransformer(remainder=&#x27;passthrough&#x27;,\n",
              "                  transformers=[(&#x27;onehotencoder&#x27;, OneHotEncoder(sparse=False),\n",
              "                                 [2, 6, 10]),\n",
              "                                (&#x27;ordinalencoder&#x27;, OrdinalEncoder(), [1, 8]),\n",
              "                                (&#x27;minmaxscaler&#x27;, MinMaxScaler(),\n",
              "                                 [0, 3, 4, 5, 7, 9])])</pre></div></div></div><div class=\"sk-parallel\"><div class=\"sk-parallel-item\"><div class=\"sk-item\"><div class=\"sk-label-container\"><div class=\"sk-label sk-toggleable\"><input class=\"sk-toggleable__control sk-hidden--visually\" id=\"247cd018-d106-46bb-ac6f-125e2a553491\" type=\"checkbox\" ><label for=\"247cd018-d106-46bb-ac6f-125e2a553491\" class=\"sk-toggleable__label sk-toggleable__label-arrow\">onehotencoder</label><div class=\"sk-toggleable__content\"><pre>[2, 6, 10]</pre></div></div></div><div class=\"sk-serial\"><div class=\"sk-item\"><div class=\"sk-estimator sk-toggleable\"><input class=\"sk-toggleable__control sk-hidden--visually\" id=\"f48c50de-b32a-4b25-8f79-d3de5ee976c2\" type=\"checkbox\" ><label for=\"f48c50de-b32a-4b25-8f79-d3de5ee976c2\" class=\"sk-toggleable__label sk-toggleable__label-arrow\">OneHotEncoder</label><div class=\"sk-toggleable__content\"><pre>OneHotEncoder(sparse=False)</pre></div></div></div></div></div></div><div class=\"sk-parallel-item\"><div class=\"sk-item\"><div class=\"sk-label-container\"><div class=\"sk-label sk-toggleable\"><input class=\"sk-toggleable__control sk-hidden--visually\" id=\"a9d59958-ef04-4c0c-8b11-aae1634af96c\" type=\"checkbox\" ><label for=\"a9d59958-ef04-4c0c-8b11-aae1634af96c\" class=\"sk-toggleable__label sk-toggleable__label-arrow\">ordinalencoder</label><div class=\"sk-toggleable__content\"><pre>[1, 8]</pre></div></div></div><div class=\"sk-serial\"><div class=\"sk-item\"><div class=\"sk-estimator sk-toggleable\"><input class=\"sk-toggleable__control sk-hidden--visually\" id=\"3053db9e-156f-431a-866f-7c363d8dd20a\" type=\"checkbox\" ><label for=\"3053db9e-156f-431a-866f-7c363d8dd20a\" class=\"sk-toggleable__label sk-toggleable__label-arrow\">OrdinalEncoder</label><div class=\"sk-toggleable__content\"><pre>OrdinalEncoder()</pre></div></div></div></div></div></div><div class=\"sk-parallel-item\"><div class=\"sk-item\"><div class=\"sk-label-container\"><div class=\"sk-label sk-toggleable\"><input class=\"sk-toggleable__control sk-hidden--visually\" id=\"6ff1680b-dbbc-497b-83d1-b4565b2a0c75\" type=\"checkbox\" ><label for=\"6ff1680b-dbbc-497b-83d1-b4565b2a0c75\" class=\"sk-toggleable__label sk-toggleable__label-arrow\">minmaxscaler</label><div class=\"sk-toggleable__content\"><pre>[0, 3, 4, 5, 7, 9]</pre></div></div></div><div class=\"sk-serial\"><div class=\"sk-item\"><div class=\"sk-estimator sk-toggleable\"><input class=\"sk-toggleable__control sk-hidden--visually\" id=\"f33de1d2-64f4-4fd0-9b43-aa293b8c82b3\" type=\"checkbox\" ><label for=\"f33de1d2-64f4-4fd0-9b43-aa293b8c82b3\" class=\"sk-toggleable__label sk-toggleable__label-arrow\">MinMaxScaler</label><div class=\"sk-toggleable__content\"><pre>MinMaxScaler()</pre></div></div></div></div></div></div><div class=\"sk-parallel-item\"><div class=\"sk-item\"><div class=\"sk-label-container\"><div class=\"sk-label sk-toggleable\"><input class=\"sk-toggleable__control sk-hidden--visually\" id=\"6c170094-62cc-4c05-8cef-127077cba3d6\" type=\"checkbox\" ><label for=\"6c170094-62cc-4c05-8cef-127077cba3d6\" class=\"sk-toggleable__label sk-toggleable__label-arrow\">remainder</label><div class=\"sk-toggleable__content\"><pre>[]</pre></div></div></div><div class=\"sk-serial\"><div class=\"sk-item\"><div class=\"sk-estimator sk-toggleable\"><input class=\"sk-toggleable__control sk-hidden--visually\" id=\"e063c5f9-60ad-4751-b1e7-867384b6c073\" type=\"checkbox\" ><label for=\"e063c5f9-60ad-4751-b1e7-867384b6c073\" class=\"sk-toggleable__label sk-toggleable__label-arrow\">passthrough</label><div class=\"sk-toggleable__content\"><pre>passthrough</pre></div></div></div></div></div></div></div></div><div class=\"sk-item sk-dashed-wrapped\"><div class=\"sk-label-container\"><div class=\"sk-label sk-toggleable\"><input class=\"sk-toggleable__control sk-hidden--visually\" id=\"4c898c1c-308a-4fa6-8a33-fb023b49f8db\" type=\"checkbox\" ><label for=\"4c898c1c-308a-4fa6-8a33-fb023b49f8db\" class=\"sk-toggleable__label sk-toggleable__label-arrow\">votingclassifier: VotingClassifier</label><div class=\"sk-toggleable__content\"><pre>VotingClassifier(estimators=[(&#x27;x1&#x27;, SVC(C=1, gamma=1.4)),\n",
              "                             (&#x27;x2&#x27;,\n",
              "                              KNeighborsClassifier(metric=&#x27;manhattan&#x27;,\n",
              "                                                   n_neighbors=9,\n",
              "                                                   weights=&#x27;distance&#x27;)),\n",
              "                             (&#x27;x3&#x27;,\n",
              "                              RandomForestClassifier(criterion=&#x27;entropy&#x27;,\n",
              "                                                     min_samples_leaf=2,\n",
              "                                                     min_samples_split=6,\n",
              "                                                     n_estimators=350,\n",
              "                                                     random_state=2022)),\n",
              "                             (&#x27;x4&#x27;,\n",
              "                              XGBClassifier(base_score=None, booster=None,\n",
              "                                            callbacks=None,\n",
              "                                            colsample_bylevel=None,\n",
              "                                            co...\n",
              "                                            learning_rate=0.3, max_bin=None,\n",
              "                                            max_cat_to_onehot=None,\n",
              "                                            max_delta_step=None, max_depth=7,\n",
              "                                            max_features=3, max_leaves=None,\n",
              "                                            min_child_weight=12, missing=nan,\n",
              "                                            monotone_constraints=None,\n",
              "                                            n_estimators=85, n_jobs=None,\n",
              "                                            num_parallel_tree=None,\n",
              "                                            predictor=None, random_state=None,\n",
              "                                            reg_alpha=None, ...)),\n",
              "                             (&#x27;x5&#x27;,\n",
              "                              AdaBoostClassifier(learning_rate=0.05,\n",
              "                                                 n_estimators=200,\n",
              "                                                 random_state=101))],\n",
              "                 verbose=True)</pre></div></div></div><div class=\"sk-parallel\"><div class=\"sk-parallel-item\"><div class=\"sk-item\"><div class=\"sk-label-container\"><div class=\"sk-label sk-toggleable\"><label>x1</label></div></div><div class=\"sk-serial\"><div class=\"sk-item\"><div class=\"sk-estimator sk-toggleable\"><input class=\"sk-toggleable__control sk-hidden--visually\" id=\"18d3af26-cf92-4d0c-a5a8-19177d827cc0\" type=\"checkbox\" ><label for=\"18d3af26-cf92-4d0c-a5a8-19177d827cc0\" class=\"sk-toggleable__label sk-toggleable__label-arrow\">SVC</label><div class=\"sk-toggleable__content\"><pre>SVC(C=1, gamma=1.4)</pre></div></div></div></div></div></div><div class=\"sk-parallel-item\"><div class=\"sk-item\"><div class=\"sk-label-container\"><div class=\"sk-label sk-toggleable\"><label>x2</label></div></div><div class=\"sk-serial\"><div class=\"sk-item\"><div class=\"sk-estimator sk-toggleable\"><input class=\"sk-toggleable__control sk-hidden--visually\" id=\"4abcbc00-0c83-44b6-898c-9a63d0e9e43f\" type=\"checkbox\" ><label for=\"4abcbc00-0c83-44b6-898c-9a63d0e9e43f\" class=\"sk-toggleable__label sk-toggleable__label-arrow\">KNeighborsClassifier</label><div class=\"sk-toggleable__content\"><pre>KNeighborsClassifier(metric=&#x27;manhattan&#x27;, n_neighbors=9, weights=&#x27;distance&#x27;)</pre></div></div></div></div></div></div><div class=\"sk-parallel-item\"><div class=\"sk-item\"><div class=\"sk-label-container\"><div class=\"sk-label sk-toggleable\"><label>x3</label></div></div><div class=\"sk-serial\"><div class=\"sk-item\"><div class=\"sk-estimator sk-toggleable\"><input class=\"sk-toggleable__control sk-hidden--visually\" id=\"624b4cc0-5087-4c92-a5d3-918e7745ae25\" type=\"checkbox\" ><label for=\"624b4cc0-5087-4c92-a5d3-918e7745ae25\" class=\"sk-toggleable__label sk-toggleable__label-arrow\">RandomForestClassifier</label><div class=\"sk-toggleable__content\"><pre>RandomForestClassifier(criterion=&#x27;entropy&#x27;, min_samples_leaf=2,\n",
              "                       min_samples_split=6, n_estimators=350,\n",
              "                       random_state=2022)</pre></div></div></div></div></div></div><div class=\"sk-parallel-item\"><div class=\"sk-item\"><div class=\"sk-label-container\"><div class=\"sk-label sk-toggleable\"><label>x4</label></div></div><div class=\"sk-serial\"><div class=\"sk-item\"><div class=\"sk-estimator sk-toggleable\"><input class=\"sk-toggleable__control sk-hidden--visually\" id=\"474dc9d4-27cc-4144-a351-d8c7cfc6c7c8\" type=\"checkbox\" ><label for=\"474dc9d4-27cc-4144-a351-d8c7cfc6c7c8\" class=\"sk-toggleable__label sk-toggleable__label-arrow\">XGBClassifier</label><div class=\"sk-toggleable__content\"><pre>XGBClassifier(base_score=None, booster=None, callbacks=None,\n",
              "              colsample_bylevel=None, colsample_bynode=None,\n",
              "              colsample_bytree=0.7, early_stopping_rounds=None,\n",
              "              enable_categorical=False, eval_metric=None, gamma=0.0,\n",
              "              gpu_id=None, grow_policy=None, importance_type=None,\n",
              "              interaction_constraints=None, learning_rate=0.3, max_bin=None,\n",
              "              max_cat_to_onehot=None, max_delta_step=None, max_depth=7,\n",
              "              max_features=3, max_leaves=None, min_child_weight=12, missing=nan,\n",
              "              monotone_constraints=None, n_estimators=85, n_jobs=None,\n",
              "              num_parallel_tree=None, predictor=None, random_state=None,\n",
              "              reg_alpha=None, ...)</pre></div></div></div></div></div></div><div class=\"sk-parallel-item\"><div class=\"sk-item\"><div class=\"sk-label-container\"><div class=\"sk-label sk-toggleable\"><label>x5</label></div></div><div class=\"sk-serial\"><div class=\"sk-item\"><div class=\"sk-estimator sk-toggleable\"><input class=\"sk-toggleable__control sk-hidden--visually\" id=\"689fff2a-9257-400e-bc58-0b4ea789b94a\" type=\"checkbox\" ><label for=\"689fff2a-9257-400e-bc58-0b4ea789b94a\" class=\"sk-toggleable__label sk-toggleable__label-arrow\">AdaBoostClassifier</label><div class=\"sk-toggleable__content\"><pre>AdaBoostClassifier(learning_rate=0.05, n_estimators=200, random_state=101)</pre></div></div></div></div></div></div></div></div></div></div></div></div>"
            ],
            "text/plain": [
              "Pipeline(steps=[('columntransformer',\n",
              "                 ColumnTransformer(remainder='passthrough',\n",
              "                                   transformers=[('onehotencoder',\n",
              "                                                  OneHotEncoder(sparse=False),\n",
              "                                                  [2, 6, 10]),\n",
              "                                                 ('ordinalencoder',\n",
              "                                                  OrdinalEncoder(), [1, 8]),\n",
              "                                                 ('minmaxscaler',\n",
              "                                                  MinMaxScaler(),\n",
              "                                                  [0, 3, 4, 5, 7, 9])])),\n",
              "                ('votingclassifier',\n",
              "                 VotingClassifier(estimators=[('x1', SVC(C=1, gamma=1.4)),\n",
              "                                              ('x2',\n",
              "                                               KNeighborsClassifier(metric='m...\n",
              "                                                             max_bin=None,\n",
              "                                                             max_cat_to_onehot=None,\n",
              "                                                             max_delta_step=None,\n",
              "                                                             max_depth=7,\n",
              "                                                             max_features=3,\n",
              "                                                             max_leaves=None,\n",
              "                                                             min_child_weight=12,\n",
              "                                                             missing=nan,\n",
              "                                                             monotone_constraints=None,\n",
              "                                                             n_estimators=85,\n",
              "                                                             n_jobs=None,\n",
              "                                                             num_parallel_tree=None,\n",
              "                                                             predictor=None,\n",
              "                                                             random_state=None,\n",
              "                                                             reg_alpha=None, ...)),\n",
              "                                              ('x5',\n",
              "                                               AdaBoostClassifier(learning_rate=0.05,\n",
              "                                                                  n_estimators=200,\n",
              "                                                                  random_state=101))],\n",
              "                                  verbose=True))])"
            ]
          },
          "execution_count": 67,
          "metadata": {},
          "output_type": "execute_result"
        }
      ],
      "source": [
        "voting_pipe.fit(xtrain,ytrain)"
      ]
    },
    {
      "cell_type": "code",
      "execution_count": null,
      "metadata": {
        "id": "iqiJS4zTx5Yq",
        "outputId": "ba87aaf4-5fb1-4bb5-9954-c210ca392155"
      },
      "outputs": [
        {
          "name": "stdout",
          "output_type": "stream",
          "text": [
            "0.8371212121212122\n"
          ]
        },
        {
          "data": {
            "text/plain": [
              "0.8369565217391305"
            ]
          },
          "execution_count": 68,
          "metadata": {},
          "output_type": "execute_result"
        }
      ],
      "source": [
        "print(roc_auc_score(voting_pipe.predict(xtest),ytest))\n",
        "accuracy_score(voting_pipe.predict(xtest),ytest)"
      ]
    },
    {
      "cell_type": "code",
      "execution_count": null,
      "metadata": {
        "id": "y-dsjoExjyW4"
      },
      "outputs": [],
      "source": [
        "yy=voting_pipe.predict(xtest)"
      ]
    },
    {
      "cell_type": "code",
      "execution_count": null,
      "metadata": {
        "id": "NYZCuXqkjyW5",
        "outputId": "dfb69555-167b-425a-969b-10af7a88c4f5"
      },
      "outputs": [
        {
          "data": {
            "text/plain": [
              "Counter({1: 48, 0: 44})"
            ]
          },
          "execution_count": 82,
          "metadata": {},
          "output_type": "execute_result"
        }
      ],
      "source": [
        "Counter(yy)"
      ]
    },
    {
      "cell_type": "code",
      "execution_count": null,
      "metadata": {
        "id": "aJ91MmK9jyW5"
      },
      "outputs": [],
      "source": [
        "import pickle"
      ]
    },
    {
      "cell_type": "code",
      "execution_count": null,
      "metadata": {
        "id": "Ay1mebSgjyW5"
      },
      "outputs": [],
      "source": [
        "with open('model.pkl', 'wb') as file:\n",
        "    pickle.dump(voting_pipe, file)"
      ]
    }
  ],
  "metadata": {
    "colab": {
      "provenance": []
    },
    "interpreter": {
      "hash": "42d9394dfc2277adc8e0ad12dd2a62b193216b34e55aef65ffd7fb2a6699a342"
    },
    "kernelspec": {
      "display_name": "Python 3.9.1 64-bit",
      "language": "python",
      "name": "python3"
    },
    "language_info": {
      "codemirror_mode": {
        "name": "ipython",
        "version": 3
      },
      "file_extension": ".py",
      "mimetype": "text/x-python",
      "name": "python",
      "nbconvert_exporter": "python",
      "pygments_lexer": "ipython3",
      "version": "3.9.1"
    },
    "orig_nbformat": 4
  },
  "nbformat": 4,
  "nbformat_minor": 0
}